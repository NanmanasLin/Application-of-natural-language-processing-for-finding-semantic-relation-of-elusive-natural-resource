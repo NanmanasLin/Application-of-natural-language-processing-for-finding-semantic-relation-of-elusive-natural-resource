{
 "cells": [
  {
   "cell_type": "code",
   "execution_count": 70,
   "metadata": {},
   "outputs": [],
   "source": [
    "INPUT_DIR = '/nrcan_p2/data/01_raw/20201221/doaj_extra_4/geosciences_redo/'\n",
    "OUTPUT_DIR = '/nrcan_p2/data/01_raw/20201221/doaj/geosciences/'\n",
    "STORE_DIR = '/nrcan_p2/data/01_raw/20201221/doaj_extra_4/geosciences_removed/'"
   ]
  },
  {
   "cell_type": "code",
   "execution_count": 48,
   "metadata": {},
   "outputs": [],
   "source": [
    "unfinished_file_file = 'unfinished_files_doaj_3.txt'\n",
    "with open(unfinished_file_file, 'r') as f:\n",
    "    unfinished_files = f.readlines()"
   ]
  },
  {
   "cell_type": "code",
   "execution_count": null,
   "metadata": {},
   "outputs": [],
   "source": []
  },
  {
   "cell_type": "code",
   "execution_count": 19,
   "metadata": {},
   "outputs": [
    {
     "data": {
      "text/plain": [
       "1165"
      ]
     },
     "execution_count": 19,
     "metadata": {},
     "output_type": "execute_result"
    }
   ],
   "source": [
    "len(unfinished_files)"
   ]
  },
  {
   "cell_type": "code",
   "execution_count": 29,
   "metadata": {},
   "outputs": [
    {
     "data": {
      "text/plain": [
       "7"
      ]
     },
     "execution_count": 29,
     "metadata": {},
     "output_type": "execute_result"
    }
   ],
   "source": [
    "len(unfinished_files)"
   ]
  },
  {
   "cell_type": "code",
   "execution_count": 20,
   "metadata": {},
   "outputs": [],
   "source": [
    "import pathlib"
   ]
  },
  {
   "cell_type": "code",
   "execution_count": 49,
   "metadata": {},
   "outputs": [
    {
     "data": {
      "text/plain": [
       "'geosciences/_2076-3263_8_8_308_pdf.pdf\\n'"
      ]
     },
     "metadata": {},
     "output_type": "display_data"
    },
    {
     "data": {
      "text/plain": [
       "['_2076-3263_8_8_308_pdf.pdf',\n",
       " '_documents_GPL1724cor_noSI.pdf.pdf',\n",
       " '_documents_GPL1802err_noSI.pdf.pdf',\n",
       " '_documents_GPL1825cor_noSI.pdf.pdf',\n",
       " '_documents_GPL1907cor_noSI.pdf.pdf',\n",
       " '_documents_GPL1922cor_noSI.pdf.pdf',\n",
       " '_documents_GPL1925cor_noSI.pdf.pdf']"
      ]
     },
     "execution_count": 49,
     "metadata": {},
     "output_type": "execute_result"
    }
   ],
   "source": [
    "display(unfinished_files[0])\n",
    "unfinished_files = [pathlib.Path(x.strip()).name for x in unfinished_files]\n",
    "unfinished_files"
   ]
  },
  {
   "cell_type": "code",
   "execution_count": 34,
   "metadata": {},
   "outputs": [
    {
     "data": {
      "text/plain": [
       "['geosciences/_2076-3263_8_8_308_pdf.pdf\\n',\n",
       " 'geochemical_perspective_letters/_documents_GPL1724cor_noSI.pdf.pdf\\n',\n",
       " 'geochemical_perspective_letters/_documents_GPL1802err_noSI.pdf.pdf\\n',\n",
       " 'geochemical_perspective_letters/_documents_GPL1825cor_noSI.pdf.pdf\\n',\n",
       " 'geochemical_perspective_letters/_documents_GPL1907cor_noSI.pdf.pdf\\n',\n",
       " 'geochemical_perspective_letters/_documents_GPL1922cor_noSI.pdf.pdf\\n',\n",
       " 'geochemical_perspective_letters/_documents_GPL1925cor_noSI.pdf.pdf\\n']"
      ]
     },
     "execution_count": 34,
     "metadata": {},
     "output_type": "execute_result"
    }
   ],
   "source": [
    "unfinished_files"
   ]
  },
  {
   "cell_type": "code",
   "execution_count": 35,
   "metadata": {},
   "outputs": [
    {
     "name": "stdout",
     "output_type": "stream",
     "text": [
      "_2076-3263_8_8_308_pdf.pdf geosciences\n",
      "_documents_GPL1724cor_noSI.pdf.pdf geochemical_perspective_letters\n",
      "_documents_GPL1802err_noSI.pdf.pdf geochemical_perspective_letters\n",
      "_documents_GPL1825cor_noSI.pdf.pdf geochemical_perspective_letters\n",
      "_documents_GPL1907cor_noSI.pdf.pdf geochemical_perspective_letters\n",
      "_documents_GPL1922cor_noSI.pdf.pdf geochemical_perspective_letters\n",
      "_documents_GPL1925cor_noSI.pdf.pdf geochemical_perspective_letters\n"
     ]
    },
    {
     "data": {
      "text/plain": [
       "defaultdict(list,\n",
       "            {'geosciences': ['_2076-3263_8_8_308_pdf.pdf'],\n",
       "             'geochemical_perspective_letters': ['_documents_GPL1724cor_noSI.pdf.pdf',\n",
       "              '_documents_GPL1802err_noSI.pdf.pdf',\n",
       "              '_documents_GPL1825cor_noSI.pdf.pdf',\n",
       "              '_documents_GPL1907cor_noSI.pdf.pdf',\n",
       "              '_documents_GPL1922cor_noSI.pdf.pdf',\n",
       "              '_documents_GPL1925cor_noSI.pdf.pdf']})"
      ]
     },
     "execution_count": 35,
     "metadata": {},
     "output_type": "execute_result"
    }
   ],
   "source": [
    "import pathlib\n",
    "from collections import defaultdict\n",
    "unfinished_files_name_map = defaultdict(list)\n",
    "for elem in unfinished_files:\n",
    "    elem = pathlib.Path(elem.strip())\n",
    "    name = elem.name\n",
    "    parent = elem.parent.name\n",
    "    print(name, parent)\n",
    "    unfinished_files_name_map[parent].append(name)\n",
    "    \n",
    "    \n",
    "unfinished_files_name_map"
   ]
  },
  {
   "cell_type": "code",
   "execution_count": 64,
   "metadata": {},
   "outputs": [],
   "source": [
    "unfinished_files = ['_2076-3263_8_8_308_pdf.pdf']\n",
    "# unfinished_files = ['_documents_GPL1724cor_noSI.pdf.pdf',\n",
    "#  '_documents_GPL1802err_noSI.pdf.pdf',\n",
    "#  '_documents_GPL1825cor_noSI.pdf.pdf',\n",
    "#  '_documents_GPL1907cor_noSI.pdf.pdf',\n",
    "#  '_documents_GPL1922cor_noSI.pdf.pdf',\n",
    "#  '_documents_GPL1925cor_noSI.pdf.pdf']"
   ]
  },
  {
   "cell_type": "code",
   "execution_count": 71,
   "metadata": {},
   "outputs": [
    {
     "name": "stdout",
     "output_type": "stream",
     "text": [
      "/nrcan_p2/data/01_raw/20201221/doaj/geosciences/_2076-3263_8_8_308_pdf.pdf -> /nrcan_p2/data/01_raw/20201221/doaj_extra_4/geosciences_removed/_2076-3263_8_8_308_pdf.pdf\n"
     ]
    }
   ],
   "source": [
    "for file in unfinished_files:\n",
    "    f = pathlib.Path(OUTPUT_DIR) / file\n",
    "    fout = pathlib.Path(STORE_DIR) / file\n",
    "    #print(f,'->',fout)\n",
    "    \n",
    "    if f.exists():\n",
    "        if not fout.exists():\n",
    "            print(f,'->',fout)\n",
    "            f.replace(fout)"
   ]
  },
  {
   "cell_type": "code",
   "execution_count": 74,
   "metadata": {},
   "outputs": [
    {
     "name": "stdout",
     "output_type": "stream",
     "text": [
      "still exists!\n"
     ]
    }
   ],
   "source": [
    "for file in unfinished_files:\n",
    "    f = pathlib.Path(OUTPUT_DIR) / file\n",
    "    if f.exists():\n",
    "        print('still exists!')"
   ]
  },
  {
   "cell_type": "code",
   "execution_count": 73,
   "metadata": {},
   "outputs": [
    {
     "name": "stdout",
     "output_type": "stream",
     "text": [
      "/nrcan_p2/data/01_raw/20201221/doaj_extra_4/geosciences_redo/_2076-3263_8_8_308_pdf.pdf -> /nrcan_p2/data/01_raw/20201221/doaj/geosciences/_2076-3263_8_8_308_pdf.pdf\n"
     ]
    }
   ],
   "source": [
    "for file in unfinished_files:\n",
    "    f = pathlib.Path(INPUT_DIR) / file\n",
    "    fout = pathlib.Path(OUTPUT_DIR) / file\n",
    "    \n",
    "    if not fout.exists():\n",
    "        if f.exists():\n",
    "            print(f,'->',fout)\n",
    "            f.replace(fout)"
   ]
  }
 ],
 "metadata": {
  "kernelspec": {
   "display_name": "Python 3",
   "language": "python",
   "name": "python3"
  },
  "language_info": {
   "codemirror_mode": {
    "name": "ipython",
    "version": 3
   },
   "file_extension": ".py",
   "mimetype": "text/x-python",
   "name": "python",
   "nbconvert_exporter": "python",
   "pygments_lexer": "ipython3",
   "version": "3.8.5"
  }
 },
 "nbformat": 4,
 "nbformat_minor": 4
}
