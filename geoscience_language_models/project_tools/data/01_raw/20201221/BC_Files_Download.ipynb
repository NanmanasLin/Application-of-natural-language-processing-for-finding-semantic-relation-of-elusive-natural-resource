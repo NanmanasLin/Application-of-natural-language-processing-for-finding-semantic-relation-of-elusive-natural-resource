{
 "cells": [
  {
   "cell_type": "markdown",
   "metadata": {},
   "source": [
    "# TOP British Columbia Geology Papers\n",
    "We will download the following paper repositories\n",
    "* GeoFile http://cmscontent.nrs.gov.bc.ca/geoscience/PublicationCatalogue/GeoFile/\n",
    "* GeologyExplorationMining http://cmscontent.nrs.gov.bc.ca/geoscience/PublicationCatalogue/GeologyExplorationMining/\n",
    "* GeoscienceBC http://cmscontent.nrs.gov.bc.ca/geoscience/PublicationCatalogue/GeoscienceBC/\n",
    "* Paper http://cmscontent.nrs.gov.bc.ca/geoscience/PublicationCatalogue/Paper/\n",
    "* Petrolium Geoscience Publications http://cmscontent.nrs.gov.bc.ca/geoscience/PublicationCatalogue/PetroleumGeosciencePublications/\n",
    "\n"
   ]
  },
  {
   "cell_type": "markdown",
   "metadata": {},
   "source": [
    "# Status:\n",
    "* GeoFile (Done)\n",
    "* GeologyExplorationMining Done)\n",
    "* GeoscienceBC (Done)\n",
    "* Paper (Done)\n",
    "* Petrolium Geoscience Publications (Done)"
   ]
  },
  {
   "cell_type": "code",
   "execution_count": 1,
   "metadata": {},
   "outputs": [],
   "source": [
    "import pandas as pd\n",
    "import numpy as np\n",
    "from os import listdir,environ,rename \n",
    "from sys import argv\n",
    "from os.path import isfile,join,basename\n",
    "from shutil import rmtree,move\n",
    "import glob\n",
    "from bs4 import BeautifulSoup\n",
    "import os\n",
    "from zipfile import ZipFile\n",
    "import requests\n",
    "from requests_html import HTMLSession,AsyncHTMLSession\n",
    "import json"
   ]
  },
  {
   "cell_type": "code",
   "execution_count": 2,
   "metadata": {},
   "outputs": [],
   "source": [
    "root_dir = \"/nrcan_p2\"\n",
    "data_dir = join(root_dir,\"data\")\n",
    "bc_root_dir=join(data_dir,\"01_raw\",\"20210108\",\"bc\")\n",
    "geofile_dir=join(bc_root_dir,\"geofile\")\n",
    "geology_exploration_mining_dir=join(bc_root_dir,\"geology_exploration_mining\")\n",
    "geoscience_bc_dir=join(bc_root_dir,\"geoscience_bc\")\n",
    "paper_dir=join(bc_root_dir,\"paper\")\n",
    "petrolium_geoscience_publications_dir=join(bc_root_dir,\"petrolium_geoscience_publications\")"
   ]
  },
  {
   "cell_type": "code",
   "execution_count": 3,
   "metadata": {},
   "outputs": [],
   "source": [
    "MAKE_DIRS=False\n",
    "GET_LINKS=False\n",
    "DOWNLOAD = False\n",
    "if MAKE_DIRS:\n",
    "    os.makedirs(geofile_dir)\n",
    "    os.mkdir(geology_exploration_mining_dir)\n",
    "    os.mkdir(geoscience_bc_dir)\n",
    "    os.mkdir(paper_dir)\n",
    "    os.mkdir(petrolium_geoscience_publications_dir)"
   ]
  },
  {
   "cell_type": "code",
   "execution_count": 4,
   "metadata": {},
   "outputs": [],
   "source": [
    "def get_parsed_content(url):\n",
    "    html_content = requests.get(url, verify=False).text\n",
    "    soup = BeautifulSoup(html_content, \"html.parser\")\n",
    "    return soup\n",
    "\n",
    "def download_articles(article_links,http_root,destination_dir,max_length=100):\n",
    "    for article_link in article_links:\n",
    "        r = requests.get(article_link,stream=True, verify=False)\n",
    "        chunk_size=10000000\n",
    "        article_name = article_link.replace(http_root,\"\").replace(\"/\",\"_\")\n",
    "        article_name = article_name[-1*max_length:]\n",
    "        with open (join(destination_dir,article_name),\"wb\") as f:\n",
    "            for chunk in r.iter_content(chunk_size):\n",
    "                f.write(chunk)\n",
    "\n",
    "def download_all_pdf(http_root,link_root,destination_dir):\n",
    "    content=get_parsed_content(f'{http_root}{link_root}')\n",
    "    article_links= []\n",
    "    for link in content.find_all('a', href=True):\n",
    "        if (href := link['href']).startswith(f'{link_root}') and \".pdf\" in href:\n",
    "            article_links.append(f'{http_root}{href}')\n",
    "    \n",
    "    download_articles(article_links,f'{http_root}{link_root}',destination_dir)\n",
    "    \n",
    "def get_files_count(directory,print_caption=None):\n",
    "    nb_files = len([name for name in os.listdir(directory) if os.path.isfile(directory +\"/\"+name)])\n",
    "    if print_caption:\n",
    "        print (f'{print_caption}: {nb_files}')\n",
    "    return nb_files"
   ]
  },
  {
   "cell_type": "code",
   "execution_count": 5,
   "metadata": {
    "scrolled": true
   },
   "outputs": [
    {
     "name": "stderr",
     "output_type": "stream",
     "text": [
      "C:\\Users\\nitro5\\AppData\\Local\\Packages\\PythonSoftwareFoundation.Python.3.9_qbz5n2kfra8p0\\LocalCache\\local-packages\\Python39\\site-packages\\urllib3\\connectionpool.py:1045: InsecureRequestWarning: Unverified HTTPS request is being made to host 'cmscontent.nrs.gov.bc.ca'. Adding certificate verification is strongly advised. See: https://urllib3.readthedocs.io/en/1.26.x/advanced-usage.html#ssl-warnings\n",
      "  warnings.warn(\n",
      "C:\\Users\\nitro5\\AppData\\Local\\Packages\\PythonSoftwareFoundation.Python.3.9_qbz5n2kfra8p0\\LocalCache\\local-packages\\Python39\\site-packages\\urllib3\\connectionpool.py:1045: InsecureRequestWarning: Unverified HTTPS request is being made to host 'cmscontent.nrs.gov.bc.ca'. Adding certificate verification is strongly advised. See: https://urllib3.readthedocs.io/en/1.26.x/advanced-usage.html#ssl-warnings\n",
      "  warnings.warn(\n"
     ]
    },
    {
     "ename": "FileNotFoundError",
     "evalue": "[Errno 2] No such file or directory: '/nrcan_p2\\\\data\\\\01_raw\\\\20210108\\\\bc\\\\geofile\\\\BCGS_GF1996-01.pdf'",
     "output_type": "error",
     "traceback": [
      "\u001b[1;31m---------------------------------------------------------------------------\u001b[0m",
      "\u001b[1;31mFileNotFoundError\u001b[0m                         Traceback (most recent call last)",
      "\u001b[1;32mc:\\Uni_Work_DLC\\Research\\geoscience_language_models\\project_tools\\data\\01_raw\\20201221\\BC_Files_Download.ipynb Cell 7\u001b[0m line \u001b[0;36m1\n\u001b[1;32m----> <a href='vscode-notebook-cell:/c%3A/Uni_Work_DLC/Research/geoscience_language_models/project_tools/data/01_raw/20201221/BC_Files_Download.ipynb#W6sZmlsZQ%3D%3D?line=0'>1</a>\u001b[0m download_all_pdf(\u001b[39m\"\u001b[39m\u001b[39mhttp://cmscontent.nrs.gov.bc.ca\u001b[39m\u001b[39m\"\u001b[39m,\u001b[39m\"\u001b[39m\u001b[39m/geoscience/PublicationCatalogue/GeoFile/\u001b[39m\u001b[39m\"\u001b[39m,geofile_dir)\n",
      "\u001b[1;32mc:\\Uni_Work_DLC\\Research\\geoscience_language_models\\project_tools\\data\\01_raw\\20201221\\BC_Files_Download.ipynb Cell 7\u001b[0m line \u001b[0;36m2\n\u001b[0;32m     <a href='vscode-notebook-cell:/c%3A/Uni_Work_DLC/Research/geoscience_language_models/project_tools/data/01_raw/20201221/BC_Files_Download.ipynb#W6sZmlsZQ%3D%3D?line=19'>20</a>\u001b[0m     \u001b[39mif\u001b[39;00m (href \u001b[39m:=\u001b[39m link[\u001b[39m'\u001b[39m\u001b[39mhref\u001b[39m\u001b[39m'\u001b[39m])\u001b[39m.\u001b[39mstartswith(\u001b[39mf\u001b[39m\u001b[39m'\u001b[39m\u001b[39m{\u001b[39;00mlink_root\u001b[39m}\u001b[39;00m\u001b[39m'\u001b[39m) \u001b[39mand\u001b[39;00m \u001b[39m\"\u001b[39m\u001b[39m.pdf\u001b[39m\u001b[39m\"\u001b[39m \u001b[39min\u001b[39;00m href:\n\u001b[0;32m     <a href='vscode-notebook-cell:/c%3A/Uni_Work_DLC/Research/geoscience_language_models/project_tools/data/01_raw/20201221/BC_Files_Download.ipynb#W6sZmlsZQ%3D%3D?line=20'>21</a>\u001b[0m         article_links\u001b[39m.\u001b[39mappend(\u001b[39mf\u001b[39m\u001b[39m'\u001b[39m\u001b[39m{\u001b[39;00mhttp_root\u001b[39m}\u001b[39;00m\u001b[39m{\u001b[39;00mhref\u001b[39m}\u001b[39;00m\u001b[39m'\u001b[39m)\n\u001b[1;32m---> <a href='vscode-notebook-cell:/c%3A/Uni_Work_DLC/Research/geoscience_language_models/project_tools/data/01_raw/20201221/BC_Files_Download.ipynb#W6sZmlsZQ%3D%3D?line=22'>23</a>\u001b[0m download_articles(article_links,\u001b[39mf\u001b[39;49m\u001b[39m'\u001b[39;49m\u001b[39m{\u001b[39;49;00mhttp_root\u001b[39m}\u001b[39;49;00m\u001b[39m{\u001b[39;49;00mlink_root\u001b[39m}\u001b[39;49;00m\u001b[39m'\u001b[39;49m,destination_dir)\n",
      "\u001b[1;32mc:\\Uni_Work_DLC\\Research\\geoscience_language_models\\project_tools\\data\\01_raw\\20201221\\BC_Files_Download.ipynb Cell 7\u001b[0m line \u001b[0;36m1\n\u001b[0;32m     <a href='vscode-notebook-cell:/c%3A/Uni_Work_DLC/Research/geoscience_language_models/project_tools/data/01_raw/20201221/BC_Files_Download.ipynb#W6sZmlsZQ%3D%3D?line=9'>10</a>\u001b[0m article_name \u001b[39m=\u001b[39m article_link\u001b[39m.\u001b[39mreplace(http_root,\u001b[39m\"\u001b[39m\u001b[39m\"\u001b[39m)\u001b[39m.\u001b[39mreplace(\u001b[39m\"\u001b[39m\u001b[39m/\u001b[39m\u001b[39m\"\u001b[39m,\u001b[39m\"\u001b[39m\u001b[39m_\u001b[39m\u001b[39m\"\u001b[39m)\n\u001b[0;32m     <a href='vscode-notebook-cell:/c%3A/Uni_Work_DLC/Research/geoscience_language_models/project_tools/data/01_raw/20201221/BC_Files_Download.ipynb#W6sZmlsZQ%3D%3D?line=10'>11</a>\u001b[0m article_name \u001b[39m=\u001b[39m article_name[\u001b[39m-\u001b[39m\u001b[39m1\u001b[39m\u001b[39m*\u001b[39mmax_length:]\n\u001b[1;32m---> <a href='vscode-notebook-cell:/c%3A/Uni_Work_DLC/Research/geoscience_language_models/project_tools/data/01_raw/20201221/BC_Files_Download.ipynb#W6sZmlsZQ%3D%3D?line=11'>12</a>\u001b[0m \u001b[39mwith\u001b[39;00m \u001b[39mopen\u001b[39;49m (join(destination_dir,article_name),\u001b[39m\"\u001b[39;49m\u001b[39mwb\u001b[39;49m\u001b[39m\"\u001b[39;49m) \u001b[39mas\u001b[39;00m f:\n\u001b[0;32m     <a href='vscode-notebook-cell:/c%3A/Uni_Work_DLC/Research/geoscience_language_models/project_tools/data/01_raw/20201221/BC_Files_Download.ipynb#W6sZmlsZQ%3D%3D?line=12'>13</a>\u001b[0m     \u001b[39mfor\u001b[39;00m chunk \u001b[39min\u001b[39;00m r\u001b[39m.\u001b[39miter_content(chunk_size):\n\u001b[0;32m     <a href='vscode-notebook-cell:/c%3A/Uni_Work_DLC/Research/geoscience_language_models/project_tools/data/01_raw/20201221/BC_Files_Download.ipynb#W6sZmlsZQ%3D%3D?line=13'>14</a>\u001b[0m         f\u001b[39m.\u001b[39mwrite(chunk)\n",
      "\u001b[1;31mFileNotFoundError\u001b[0m: [Errno 2] No such file or directory: '/nrcan_p2\\\\data\\\\01_raw\\\\20210108\\\\bc\\\\geofile\\\\BCGS_GF1996-01.pdf'"
     ]
    }
   ],
   "source": [
    "download_all_pdf(\"http://cmscontent.nrs.gov.bc.ca\",\"/geoscience/PublicationCatalogue/GeoFile/\",geofile_dir)"
   ]
  },
  {
   "cell_type": "code",
   "execution_count": 24,
   "metadata": {},
   "outputs": [],
   "source": [
    "download_all_pdf(\"http://cmscontent.nrs.gov.bc.ca\",\"/geoscience/PublicationCatalogue/GeologyExplorationMining/\",geology_exploration_mining_dir)"
   ]
  },
  {
   "cell_type": "code",
   "execution_count": 25,
   "metadata": {},
   "outputs": [],
   "source": [
    "download_all_pdf(\"http://cmscontent.nrs.gov.bc.ca\",\"/geoscience/PublicationCatalogue/GeoscienceBC/\",geoscience_bc_dir)"
   ]
  },
  {
   "cell_type": "code",
   "execution_count": 26,
   "metadata": {},
   "outputs": [],
   "source": [
    "download_all_pdf(\"http://cmscontent.nrs.gov.bc.ca\",\"/geoscience/PublicationCatalogue/Paper/\",paper_dir)"
   ]
  },
  {
   "cell_type": "code",
   "execution_count": 27,
   "metadata": {},
   "outputs": [],
   "source": [
    "download_all_pdf(\"http://cmscontent.nrs.gov.bc.ca\",\"/geoscience/PublicationCatalogue/PetroleumGeosciencePublications/\",petrolium_geoscience_publications_dir)"
   ]
  },
  {
   "cell_type": "code",
   "execution_count": 55,
   "metadata": {},
   "outputs": [
    {
     "name": "stdout",
     "output_type": "stream",
     "text": [
      "/nrcan_p2/data/01_raw/20210108/bc/geofile: 218\n",
      "/nrcan_p2/data/01_raw/20210108/bc/geology_exploration_mining: 164\n",
      "/nrcan_p2/data/01_raw/20210108/bc/geoscience_bc: 51\n",
      "/nrcan_p2/data/01_raw/20210108/bc/paper: 1622\n",
      "/nrcan_p2/data/01_raw/20210108/bc/petrolium_geoscience_publications: 218\n",
      "Total: 2273\n"
     ]
    }
   ],
   "source": [
    "total_files = 0\n",
    "for directory in [geofile_dir,geology_exploration_mining_dir,geoscience_bc_dir,paper_dir,petrolium_geoscience_publications_dir]:\n",
    "    total_files += get_files_count(directory,directory)\n",
    "print(f'Total: {total_files}')"
   ]
  },
  {
   "cell_type": "code",
   "execution_count": null,
   "metadata": {},
   "outputs": [],
   "source": []
  }
 ],
 "metadata": {
  "kernelspec": {
   "display_name": "Python 3",
   "language": "python",
   "name": "python3"
  },
  "language_info": {
   "codemirror_mode": {
    "name": "ipython",
    "version": 3
   },
   "file_extension": ".py",
   "mimetype": "text/x-python",
   "name": "python",
   "nbconvert_exporter": "python",
   "pygments_lexer": "ipython3",
   "version": "3.9.13"
  }
 },
 "nbformat": 4,
 "nbformat_minor": 4
}
