{
 "cells": [
  {
   "cell_type": "code",
   "execution_count": 3,
   "metadata": {},
   "outputs": [],
   "source": [
    "import pandas as pd\n",
    "from os import listdir,environ\n",
    "from sys import argv\n",
    "from os.path import isfile,join\n",
    "import os\n",
    "import zipfile"
   ]
  },
  {
   "cell_type": "code",
   "execution_count": 2,
   "metadata": {},
   "outputs": [],
   "source": [
    "root_dir = \"/nrcan_p2\"\n",
    "data_dir = join(root_dir,\"data\")\n",
    "geoscan_files_dir=join(data_dir,\"01_raw\",\"20201006\",\"geoscan\")\n",
    "raw_dir=join(geoscan_files_dir,\"raw\")"
   ]
  },
  {
   "cell_type": "code",
   "execution_count": 4,
   "metadata": {},
   "outputs": [],
   "source": [
    "onlyfiles = [f for f in listdir(raw_dir) if isfile(join(raw_dir, f))]"
   ]
  },
  {
   "cell_type": "code",
   "execution_count": 5,
   "metadata": {},
   "outputs": [],
   "source": [
    "def to_gb(size_in_bytes):\n",
    "    return size_in_bytes / 1073741824\n",
    "def print_mb_as_gbs(size_in_mbytes):\n",
    "    return f'{size_in_mbytes/1024:.0f} GB'\n"
   ]
  },
  {
   "cell_type": "code",
   "execution_count": 120,
   "metadata": {},
   "outputs": [],
   "source": [
    "files_by_size = dict()\n",
    "files_by_size[\"filename\"] = []\n",
    "files_by_size[\"type\"] = []\n",
    "files_by_size[\"size_mb\"] = []\n",
    "files_by_size[\"nb_files\"] = []\n",
    "files_by_size[\"contained_extensions\"] = []\n",
    "files_by_size[\"has_root_dir\"] = []\n",
    "files_by_size[\"txt_count\"] = []\n",
    "files_by_size[\"pdf_count\"] = []\n",
    "files_by_size[\"wp_count\"] = []\n",
    "files_by_size[\"has_pdf_dir\"] = []\n",
    "\n",
    "for item in onlyfiles:\n",
    "    file_type = item.split(\".\")[-1]\n",
    "    if file_type == \"zip\":\n",
    "        files_by_size[\"filename\"].append(item)\n",
    "        files_by_size[\"type\"].append(file_type)\n",
    "        files_by_size[\"size_mb\"].append(os.path.getsize(join(raw_dir,item))/1024/1024)\n",
    "        zip_file=zipfile.ZipFile(join(raw_dir,item))\n",
    "        min_len = 1000000\n",
    "        nb_files = 0\n",
    "        ext_count = {}\n",
    "        has_pdf_dir = False\n",
    "        for path in zip_file.namelist():\n",
    "            nb_files+=1\n",
    "            split_path = path.split(\"/\")\n",
    "            min_len = min(min_len,len(split_path))\n",
    "            extension = \"none\"\n",
    "            if split_path[0].lower() == 'pdf':\n",
    "                has_pdf_dir = True\n",
    "            if len(split_path[-1].split(\".\")) > 1:\n",
    "                extension = split_path[-1].split(\".\")[-1].lower()\n",
    "            \n",
    "            ext_count[extension] = ext_count[extension]+1 if extension in ext_count else 1\n",
    "                \n",
    "        files_by_size[\"has_pdf_dir\"].append(has_pdf_dir)\n",
    "        files_by_size[\"nb_files\"].append(nb_files)\n",
    "        files_by_size[\"txt_count\"].append(ext_count[\"txt\"] if \"txt\" in ext_count else 0)\n",
    "        files_by_size[\"pdf_count\"].append(ext_count[\"pdf\"] if \"pdf\" in ext_count else 0)\n",
    "        files_by_size[\"wp_count\"].append(ext_count[\"wp\"] if \"wp\" in ext_count else 0)\n",
    "        files_by_size[\"has_root_dir\"].append(True if min_len>1 else False)\n",
    "        files_by_size[\"contained_extensions\"].append(list(ext_count.keys()))   \n",
    "\n",
    "df= pd.DataFrame.from_dict(files_by_size)\n",
    "zip_df = df[df[\"type\"] == \"zip\"].copy()"
   ]
  },
  {
   "cell_type": "markdown",
   "metadata": {},
   "source": [
    "### Stats\n",
    "* 4873 zip files\n",
    "* 802 contains text files from these\n",
    "    * 724 contains txt and pdf\n",
    "        * From these 136 contain a PDF folder regrouping pdfs (My understanding one article), while 1 did not contain text\n",
    "    * 78 contains only text and no pdf\n",
    "* 4013 contain pdfs only and no text\n",
    "    * 3623 contains more then 1 pdf\n",
    "    * 390 contains only 1 pdf\n",
    "* 70 files contain more then 100 pdfs "
   ]
  },
  {
   "cell_type": "code",
   "execution_count": 94,
   "metadata": {},
   "outputs": [
    {
     "data": {
      "text/plain": [
       "4873"
      ]
     },
     "execution_count": 94,
     "metadata": {},
     "output_type": "execute_result"
    }
   ],
   "source": [
    "zip_df.shape[0]"
   ]
  },
  {
   "cell_type": "code",
   "execution_count": 95,
   "metadata": {
    "scrolled": true
   },
   "outputs": [
    {
     "data": {
      "text/plain": [
       "802"
      ]
     },
     "execution_count": 95,
     "metadata": {},
     "output_type": "execute_result"
    }
   ],
   "source": [
    "zip_df[(zip_df[\"txt_count\"] > 0)].shape[0]"
   ]
  },
  {
   "cell_type": "code",
   "execution_count": 88,
   "metadata": {
    "scrolled": true
   },
   "outputs": [
    {
     "data": {
      "text/plain": [
       "724"
      ]
     },
     "execution_count": 88,
     "metadata": {},
     "output_type": "execute_result"
    }
   ],
   "source": [
    "zip_df[(zip_df[\"txt_count\"] > 0) & (zip_df[\"pdf_count\"] > 0)].shape[0]"
   ]
  },
  {
   "cell_type": "code",
   "execution_count": 134,
   "metadata": {},
   "outputs": [
    {
     "data": {
      "text/plain": [
       "136"
      ]
     },
     "execution_count": 134,
     "metadata": {},
     "output_type": "execute_result"
    }
   ],
   "source": [
    "zip_df[(zip_df[\"has_pdf_dir\"] == True) &(zip_df[\"txt_count\"] > 0)].shape[0]"
   ]
  },
  {
   "cell_type": "code",
   "execution_count": 135,
   "metadata": {},
   "outputs": [
    {
     "data": {
      "text/plain": [
       "1"
      ]
     },
     "execution_count": 135,
     "metadata": {},
     "output_type": "execute_result"
    }
   ],
   "source": [
    "zip_df[(zip_df[\"has_pdf_dir\"] == True) &(zip_df[\"txt_count\"] == 0)].shape[0]"
   ]
  },
  {
   "cell_type": "code",
   "execution_count": 89,
   "metadata": {},
   "outputs": [
    {
     "data": {
      "text/plain": [
       "78"
      ]
     },
     "execution_count": 89,
     "metadata": {},
     "output_type": "execute_result"
    }
   ],
   "source": [
    "zip_df[(zip_df[\"txt_count\"] > 0) & (zip_df[\"pdf_count\"] == 0)].shape[0]"
   ]
  },
  {
   "cell_type": "code",
   "execution_count": 149,
   "metadata": {},
   "outputs": [
    {
     "data": {
      "text/plain": [
       "0"
      ]
     },
     "execution_count": 149,
     "metadata": {},
     "output_type": "execute_result"
    }
   ],
   "source": [
    "zip_df[((zip_df[\"pdf_count\"] == 0) & (zip_df[\"txt_count\"] == 0) ) & (zip_df[\"wp_count\"] > 0)].shape[0]"
   ]
  },
  {
   "cell_type": "code",
   "execution_count": 99,
   "metadata": {},
   "outputs": [
    {
     "data": {
      "text/plain": [
       "4013"
      ]
     },
     "execution_count": 99,
     "metadata": {},
     "output_type": "execute_result"
    }
   ],
   "source": [
    "zip_df[(zip_df[\"txt_count\"] == 0) & (zip_df[\"pdf_count\"] > 0)].shape[0]"
   ]
  },
  {
   "cell_type": "code",
   "execution_count": 100,
   "metadata": {},
   "outputs": [
    {
     "data": {
      "text/plain": [
       "3623"
      ]
     },
     "execution_count": 100,
     "metadata": {},
     "output_type": "execute_result"
    }
   ],
   "source": [
    "zip_df[(zip_df[\"txt_count\"] == 0) & (zip_df[\"pdf_count\"] > 1)].shape[0]"
   ]
  },
  {
   "cell_type": "code",
   "execution_count": 101,
   "metadata": {
    "scrolled": true
   },
   "outputs": [
    {
     "data": {
      "text/plain": [
       "390"
      ]
     },
     "execution_count": 101,
     "metadata": {},
     "output_type": "execute_result"
    }
   ],
   "source": [
    "zip_df[(zip_df[\"txt_count\"] == 0) & (zip_df[\"pdf_count\"] == 1)].shape[0]"
   ]
  },
  {
   "cell_type": "code",
   "execution_count": 114,
   "metadata": {},
   "outputs": [
    {
     "data": {
      "text/plain": [
       "70"
      ]
     },
     "execution_count": 114,
     "metadata": {},
     "output_type": "execute_result"
    }
   ],
   "source": [
    "zip_df[zip_df[\"pdf_count\"] > 100].shape[0]"
   ]
  },
  {
   "cell_type": "code",
   "execution_count": 69,
   "metadata": {
    "scrolled": true
   },
   "outputs": [
    {
     "data": {
      "text/html": [
       "<div>\n",
       "<style scoped>\n",
       "    .dataframe tbody tr th:only-of-type {\n",
       "        vertical-align: middle;\n",
       "    }\n",
       "\n",
       "    .dataframe tbody tr th {\n",
       "        vertical-align: top;\n",
       "    }\n",
       "\n",
       "    .dataframe thead th {\n",
       "        text-align: right;\n",
       "    }\n",
       "</style>\n",
       "<table border=\"1\" class=\"dataframe\">\n",
       "  <thead>\n",
       "    <tr style=\"text-align: right;\">\n",
       "      <th></th>\n",
       "      <th>size_mb</th>\n",
       "      <th>nb_files</th>\n",
       "      <th>txt_count</th>\n",
       "      <th>pdf_count</th>\n",
       "    </tr>\n",
       "  </thead>\n",
       "  <tbody>\n",
       "    <tr>\n",
       "      <th>count</th>\n",
       "      <td>4873.000000</td>\n",
       "      <td>4873.000000</td>\n",
       "      <td>4873.000000</td>\n",
       "      <td>4873.000000</td>\n",
       "    </tr>\n",
       "    <tr>\n",
       "      <th>mean</th>\n",
       "      <td>119.022828</td>\n",
       "      <td>108.767700</td>\n",
       "      <td>5.342910</td>\n",
       "      <td>11.654012</td>\n",
       "    </tr>\n",
       "    <tr>\n",
       "      <th>std</th>\n",
       "      <td>491.811752</td>\n",
       "      <td>953.723604</td>\n",
       "      <td>155.231344</td>\n",
       "      <td>115.349882</td>\n",
       "    </tr>\n",
       "    <tr>\n",
       "      <th>min</th>\n",
       "      <td>0.005001</td>\n",
       "      <td>1.000000</td>\n",
       "      <td>0.000000</td>\n",
       "      <td>0.000000</td>\n",
       "    </tr>\n",
       "    <tr>\n",
       "      <th>25%</th>\n",
       "      <td>10.565957</td>\n",
       "      <td>2.000000</td>\n",
       "      <td>0.000000</td>\n",
       "      <td>2.000000</td>\n",
       "    </tr>\n",
       "    <tr>\n",
       "      <th>50%</th>\n",
       "      <td>22.976173</td>\n",
       "      <td>3.000000</td>\n",
       "      <td>0.000000</td>\n",
       "      <td>2.000000</td>\n",
       "    </tr>\n",
       "    <tr>\n",
       "      <th>75%</th>\n",
       "      <td>58.592632</td>\n",
       "      <td>13.000000</td>\n",
       "      <td>0.000000</td>\n",
       "      <td>5.000000</td>\n",
       "    </tr>\n",
       "    <tr>\n",
       "      <th>max</th>\n",
       "      <td>9968.041075</td>\n",
       "      <td>24975.000000</td>\n",
       "      <td>10106.000000</td>\n",
       "      <td>6702.000000</td>\n",
       "    </tr>\n",
       "  </tbody>\n",
       "</table>\n",
       "</div>"
      ],
      "text/plain": [
       "           size_mb      nb_files     txt_count    pdf_count\n",
       "count  4873.000000   4873.000000   4873.000000  4873.000000\n",
       "mean    119.022828    108.767700      5.342910    11.654012\n",
       "std     491.811752    953.723604    155.231344   115.349882\n",
       "min       0.005001      1.000000      0.000000     0.000000\n",
       "25%      10.565957      2.000000      0.000000     2.000000\n",
       "50%      22.976173      3.000000      0.000000     2.000000\n",
       "75%      58.592632     13.000000      0.000000     5.000000\n",
       "max    9968.041075  24975.000000  10106.000000  6702.000000"
      ]
     },
     "execution_count": 69,
     "metadata": {},
     "output_type": "execute_result"
    }
   ],
   "source": [
    "df.describe()"
   ]
  },
  {
   "cell_type": "markdown",
   "metadata": {},
   "source": [
    "### Examples"
   ]
  },
  {
   "cell_type": "markdown",
   "metadata": {},
   "source": [
    "#### Text and pdf: 724 contains txt and pdf"
   ]
  },
  {
   "cell_type": "code",
   "execution_count": 108,
   "metadata": {
    "scrolled": true
   },
   "outputs": [
    {
     "data": {
      "text/html": [
       "<div>\n",
       "<style scoped>\n",
       "    .dataframe tbody tr th:only-of-type {\n",
       "        vertical-align: middle;\n",
       "    }\n",
       "\n",
       "    .dataframe tbody tr th {\n",
       "        vertical-align: top;\n",
       "    }\n",
       "\n",
       "    .dataframe thead th {\n",
       "        text-align: right;\n",
       "    }\n",
       "</style>\n",
       "<table border=\"1\" class=\"dataframe\">\n",
       "  <thead>\n",
       "    <tr style=\"text-align: right;\">\n",
       "      <th></th>\n",
       "      <th>filename</th>\n",
       "      <th>type</th>\n",
       "      <th>size_mb</th>\n",
       "      <th>nb_files</th>\n",
       "      <th>contained_extensions</th>\n",
       "      <th>has_root_dir</th>\n",
       "      <th>txt_count</th>\n",
       "      <th>pdf_count</th>\n",
       "      <th>wp_count</th>\n",
       "    </tr>\n",
       "  </thead>\n",
       "  <tbody>\n",
       "    <tr>\n",
       "      <th>8</th>\n",
       "      <td>8338.zip</td>\n",
       "      <td>zip</td>\n",
       "      <td>8.110393</td>\n",
       "      <td>2</td>\n",
       "      <td>[pdf, txt]</td>\n",
       "      <td>False</td>\n",
       "      <td>1</td>\n",
       "      <td>1</td>\n",
       "      <td>0</td>\n",
       "    </tr>\n",
       "    <tr>\n",
       "      <th>80</th>\n",
       "      <td>90183.zip</td>\n",
       "      <td>zip</td>\n",
       "      <td>3.946605</td>\n",
       "      <td>11</td>\n",
       "      <td>[none, wp, pdf, xls, txt]</td>\n",
       "      <td>True</td>\n",
       "      <td>1</td>\n",
       "      <td>1</td>\n",
       "      <td>4</td>\n",
       "    </tr>\n",
       "    <tr>\n",
       "      <th>1311</th>\n",
       "      <td>102460.zip</td>\n",
       "      <td>zip</td>\n",
       "      <td>345.484759</td>\n",
       "      <td>38</td>\n",
       "      <td>[txt, none, bin, exe, idx, log, pdx, pdf, bmp,...</td>\n",
       "      <td>False</td>\n",
       "      <td>8</td>\n",
       "      <td>14</td>\n",
       "      <td>0</td>\n",
       "    </tr>\n",
       "    <tr>\n",
       "      <th>1502</th>\n",
       "      <td>105577.zip</td>\n",
       "      <td>zip</td>\n",
       "      <td>168.612314</td>\n",
       "      <td>26</td>\n",
       "      <td>[ini, inf, txt, dmg, exe, pdf, bmp, ico]</td>\n",
       "      <td>False</td>\n",
       "      <td>8</td>\n",
       "      <td>11</td>\n",
       "      <td>0</td>\n",
       "    </tr>\n",
       "    <tr>\n",
       "      <th>1509</th>\n",
       "      <td>106037.zip</td>\n",
       "      <td>zip</td>\n",
       "      <td>73.121432</td>\n",
       "      <td>75</td>\n",
       "      <td>[txt, none, bin, exe, idx, pdx, pdf, bmp, ico,...</td>\n",
       "      <td>False</td>\n",
       "      <td>8</td>\n",
       "      <td>52</td>\n",
       "      <td>0</td>\n",
       "    </tr>\n",
       "  </tbody>\n",
       "</table>\n",
       "</div>"
      ],
      "text/plain": [
       "        filename type     size_mb  nb_files  \\\n",
       "8       8338.zip  zip    8.110393         2   \n",
       "80     90183.zip  zip    3.946605        11   \n",
       "1311  102460.zip  zip  345.484759        38   \n",
       "1502  105577.zip  zip  168.612314        26   \n",
       "1509  106037.zip  zip   73.121432        75   \n",
       "\n",
       "                                   contained_extensions  has_root_dir  \\\n",
       "8                                            [pdf, txt]         False   \n",
       "80                            [none, wp, pdf, xls, txt]          True   \n",
       "1311  [txt, none, bin, exe, idx, log, pdx, pdf, bmp,...         False   \n",
       "1502           [ini, inf, txt, dmg, exe, pdf, bmp, ico]         False   \n",
       "1509  [txt, none, bin, exe, idx, pdx, pdf, bmp, ico,...         False   \n",
       "\n",
       "      txt_count  pdf_count  wp_count  \n",
       "8             1          1         0  \n",
       "80            1          1         4  \n",
       "1311          8         14         0  \n",
       "1502          8         11         0  \n",
       "1509          8         52         0  "
      ]
     },
     "execution_count": 108,
     "metadata": {},
     "output_type": "execute_result"
    }
   ],
   "source": [
    "zip_df[(zip_df[\"txt_count\"] > 0) & (zip_df[\"pdf_count\"] > 0)].head()"
   ]
  },
  {
   "cell_type": "code",
   "execution_count": 109,
   "metadata": {},
   "outputs": [
    {
     "data": {
      "text/plain": [
       "['epbof_78_06_fr.pdf', 'epbof_78_06_fr_readme.txt']"
      ]
     },
     "execution_count": 109,
     "metadata": {},
     "output_type": "execute_result"
    }
   ],
   "source": [
    "zip_file=zipfile.ZipFile(join(raw_dir,'8338.zip'))\n",
    "zip_file.namelist()"
   ]
  },
  {
   "cell_type": "code",
   "execution_count": 137,
   "metadata": {},
   "outputs": [
    {
     "data": {
      "text/plain": [
       "['OF 2899/BLACKM55',\n",
       " 'OF 2899/BLACKM55.WP',\n",
       " 'OF 2899/MALLAO18',\n",
       " 'OF 2899/MALLAO18.WP',\n",
       " 'OF 2899/OF 2899 text_graphs.pdf',\n",
       " 'OF 2899/OFR',\n",
       " 'OF 2899/OFR2899.xls',\n",
       " 'OF 2899/PORCUG31',\n",
       " 'OF 2899/PORCUG31.WP',\n",
       " 'OF 2899/README.TXT',\n",
       " 'OF 2899/README.WP']"
      ]
     },
     "execution_count": 137,
     "metadata": {},
     "output_type": "execute_result"
    }
   ],
   "source": [
    "zip_file=zipfile.ZipFile(join(raw_dir,'90183.zip'))\n",
    "zip_file.namelist()"
   ]
  },
  {
   "cell_type": "code",
   "execution_count": 115,
   "metadata": {},
   "outputs": [
    {
     "data": {
      "text/plain": [
       "['readme.txt',\n",
       " 'APPS/MAC/',\n",
       " 'APPS/MAC/AcroReader51_ENU.bin',\n",
       " 'APPS/PC/',\n",
       " 'APPS/PC/AcroReader51_ENU_full.exe',\n",
       " 'APPS/',\n",
       " 'PDF/eg_31/',\n",
       " 'PDF/eg_31/index.idx',\n",
       " 'PDF/eg_31/index1.idx',\n",
       " 'PDF/eg_31.pdx',\n",
       " 'PDF/eg_31_01.pdf',\n",
       " 'PDF/eg_31_02.pdf',\n",
       " 'PDF/eg_31_03.pdf',\n",
       " 'PDF/eg_31_04.pdf',\n",
       " 'PDF/eg_31_05.pdf',\n",
       " 'PDF/eg_31_06.pdf',\n",
       " 'PDF/eg_31_07.pdf',\n",
       " 'PDF/eg_31_08.pdf',\n",
       " 'PDF/eg_31_09.pdf',\n",
       " 'PDF/eg_31_10a.pdf',\n",
       " 'PDF/eg_31_10b.pdf',\n",
       " 'PDF/eg_31_10c.pdf',\n",
       " 'PDF/eg_31_11.pdf',\n",
       " 'PDF/eg_31_12.pdf',\n",
       " 'PDF/eg_31_13.pdf',\n",
       " 'PDF/eg_31_14.pdf',\n",
       " 'PDF/eg_31_15.pdf',\n",
       " 'PDF/eg_31_16.pdf',\n",
       " 'PDF/eg_31_17.pdf',\n",
       " 'PDF/eg_31_18a.pdf',\n",
       " 'PDF/eg_31_18b.pdf',\n",
       " 'PDF/eg_31_19.pdf',\n",
       " 'PDF/eg_31_20.pdf',\n",
       " 'PDF/eg_31_21a.pdf',\n",
       " 'PDF/eg_31_21b.pdf',\n",
       " 'PDF/eg_31_22.pdf',\n",
       " 'PDF/eg_31_23.pdf',\n",
       " 'PDF/eg_31_24.pdf',\n",
       " 'PDF/eg_31_25.pdf',\n",
       " 'PDF/eg_31_26.pdf',\n",
       " 'PDF/eg_31_27.pdf',\n",
       " 'PDF/eg_31_28.pdf',\n",
       " 'PDF/eg_31_29.pdf',\n",
       " 'PDF/eg_31_30.pdf',\n",
       " 'PDF/eg_31_31.pdf',\n",
       " 'PDF/eg_31_32.pdf',\n",
       " 'PDF/eg_31_33.pdf',\n",
       " 'PDF/eg_31_34.pdf',\n",
       " 'PDF/eg_31_35.pdf',\n",
       " 'PDF/eg_31_36.pdf',\n",
       " 'PDF/eg_31_37.pdf',\n",
       " 'PDF/eg_31_38.pdf',\n",
       " 'PDF/eg_31_39.pdf',\n",
       " 'PDF/eg_31_40.pdf',\n",
       " 'PDF/eg_31_author index.pdf',\n",
       " 'PDF/eg_31_contents.pdf',\n",
       " 'PDF/eg_31_cover.pdf',\n",
       " 'PDF/eg_31_foreword.pdf',\n",
       " 'PDF/eg_31_introduction.pdf',\n",
       " 'PDF/eg_31_plates.pdf',\n",
       " 'PDF/eg_31_preface.pdf',\n",
       " 'PDF/eg_31_table of contents.pdf',\n",
       " 'PDF/',\n",
       " 'Adobe_Reader_attribution_e.txt',\n",
       " 'Adobe_Reader_attribution_f.txt',\n",
       " 'autocovr.bmp',\n",
       " 'autoplay.exe',\n",
       " 'autoplay.ico',\n",
       " 'autoplay.ini',\n",
       " 'autorun.inf',\n",
       " 'citation.txt',\n",
       " 'licence_e.txt',\n",
       " 'licence_f.txt',\n",
       " 'Lisez-moi.txt',\n",
       " 'metadata.txt']"
      ]
     },
     "execution_count": 115,
     "metadata": {},
     "output_type": "execute_result"
    }
   ],
   "source": [
    "zip_file=zipfile.ZipFile(join(raw_dir,'106037.zip'))\n",
    "zip_file.namelist()"
   ]
  },
  {
   "cell_type": "markdown",
   "metadata": {},
   "source": [
    "#### Text and pdf: 78 contains txt and pdf"
   ]
  },
  {
   "cell_type": "code",
   "execution_count": 102,
   "metadata": {},
   "outputs": [
    {
     "data": {
      "text/html": [
       "<div>\n",
       "<style scoped>\n",
       "    .dataframe tbody tr th:only-of-type {\n",
       "        vertical-align: middle;\n",
       "    }\n",
       "\n",
       "    .dataframe tbody tr th {\n",
       "        vertical-align: top;\n",
       "    }\n",
       "\n",
       "    .dataframe thead th {\n",
       "        text-align: right;\n",
       "    }\n",
       "</style>\n",
       "<table border=\"1\" class=\"dataframe\">\n",
       "  <thead>\n",
       "    <tr style=\"text-align: right;\">\n",
       "      <th></th>\n",
       "      <th>filename</th>\n",
       "      <th>type</th>\n",
       "      <th>size_mb</th>\n",
       "      <th>nb_files</th>\n",
       "      <th>contained_extensions</th>\n",
       "      <th>has_root_dir</th>\n",
       "      <th>txt_count</th>\n",
       "      <th>pdf_count</th>\n",
       "      <th>wp_count</th>\n",
       "    </tr>\n",
       "  </thead>\n",
       "  <tbody>\n",
       "    <tr>\n",
       "      <th>0</th>\n",
       "      <td>407.zip</td>\n",
       "      <td>zip</td>\n",
       "      <td>0.381922</td>\n",
       "      <td>18</td>\n",
       "      <td>[none, wp, xls, txt]</td>\n",
       "      <td>True</td>\n",
       "      <td>2</td>\n",
       "      <td>0</td>\n",
       "      <td>3</td>\n",
       "    </tr>\n",
       "    <tr>\n",
       "      <th>2617</th>\n",
       "      <td>130913.zip</td>\n",
       "      <td>zip</td>\n",
       "      <td>0.248765</td>\n",
       "      <td>3</td>\n",
       "      <td>[txt]</td>\n",
       "      <td>False</td>\n",
       "      <td>3</td>\n",
       "      <td>0</td>\n",
       "      <td>0</td>\n",
       "    </tr>\n",
       "    <tr>\n",
       "      <th>2674</th>\n",
       "      <td>133235.zip</td>\n",
       "      <td>zip</td>\n",
       "      <td>0.350342</td>\n",
       "      <td>5</td>\n",
       "      <td>[txt, exe, rme, dat]</td>\n",
       "      <td>False</td>\n",
       "      <td>2</td>\n",
       "      <td>0</td>\n",
       "      <td>0</td>\n",
       "    </tr>\n",
       "    <tr>\n",
       "      <th>2692</th>\n",
       "      <td>133472.zip</td>\n",
       "      <td>zip</td>\n",
       "      <td>58.592632</td>\n",
       "      <td>88</td>\n",
       "      <td>[sum, dat, dxf, none, cdr, shd, geo, pl, ntx, ...</td>\n",
       "      <td>False</td>\n",
       "      <td>2</td>\n",
       "      <td>0</td>\n",
       "      <td>0</td>\n",
       "    </tr>\n",
       "    <tr>\n",
       "      <th>2784</th>\n",
       "      <td>192430.zip</td>\n",
       "      <td>zip</td>\n",
       "      <td>0.272566</td>\n",
       "      <td>8</td>\n",
       "      <td>[f, doc, ps, txt, mdl, none, cmn]</td>\n",
       "      <td>False</td>\n",
       "      <td>1</td>\n",
       "      <td>0</td>\n",
       "      <td>0</td>\n",
       "    </tr>\n",
       "  </tbody>\n",
       "</table>\n",
       "</div>"
      ],
      "text/plain": [
       "        filename type    size_mb  nb_files  \\\n",
       "0        407.zip  zip   0.381922        18   \n",
       "2617  130913.zip  zip   0.248765         3   \n",
       "2674  133235.zip  zip   0.350342         5   \n",
       "2692  133472.zip  zip  58.592632        88   \n",
       "2784  192430.zip  zip   0.272566         8   \n",
       "\n",
       "                                   contained_extensions  has_root_dir  \\\n",
       "0                                  [none, wp, xls, txt]          True   \n",
       "2617                                              [txt]         False   \n",
       "2674                               [txt, exe, rme, dat]         False   \n",
       "2692  [sum, dat, dxf, none, cdr, shd, geo, pl, ntx, ...         False   \n",
       "2784                  [f, doc, ps, txt, mdl, none, cmn]         False   \n",
       "\n",
       "      txt_count  pdf_count  wp_count  \n",
       "0             2          0         3  \n",
       "2617          3          0         0  \n",
       "2674          2          0         0  \n",
       "2692          2          0         0  \n",
       "2784          1          0         0  "
      ]
     },
     "execution_count": 102,
     "metadata": {},
     "output_type": "execute_result"
    }
   ],
   "source": [
    "zip_df[(zip_df[\"txt_count\"] > 0) & (zip_df[\"pdf_count\"] == 0)].head()"
   ]
  },
  {
   "cell_type": "code",
   "execution_count": 106,
   "metadata": {},
   "outputs": [
    {
     "data": {
      "text/plain": [
       "['OF 2916/ELBOW7W5',\n",
       " 'OF 2916/FGAP9W5',\n",
       " 'OF 2916/HARMA3W5',\n",
       " 'OF 2916/HUNTE9W5',\n",
       " 'OF 2916/INDEX',\n",
       " 'OF 2916/JUMPI5W5',\n",
       " 'OF 2916/OF2916_TEXT.WP',\n",
       " 'OF 2916/OFR2916.xls',\n",
       " 'OF 2916/OFRSW.TXT',\n",
       " 'OF 2916/PANT10W5',\n",
       " 'OF 2916/partialtext',\n",
       " 'OF 2916/README.TXT',\n",
       " 'OF 2916/README.WP',\n",
       " 'OF 2916/SHEEP3W5',\n",
       " 'OF 2916/STIMS4W5',\n",
       " 'OF 2916/SULLI5W5',\n",
       " 'OF 2916/TITLE.WP',\n",
       " 'OF 2916/TURNE2W5']"
      ]
     },
     "execution_count": 106,
     "metadata": {},
     "output_type": "execute_result"
    }
   ],
   "source": [
    "zip_file=zipfile.ZipFile(join(raw_dir,'407.zip'))\n",
    "zip_file.namelist()"
   ]
  },
  {
   "cell_type": "code",
   "execution_count": 105,
   "metadata": {},
   "outputs": [
    {
     "data": {
      "text/plain": [
       "['CHEM.TXT', 'FIELD.TXT', 'INTRO.TXT']"
      ]
     },
     "execution_count": 105,
     "metadata": {},
     "output_type": "execute_result"
    }
   ],
   "source": [
    "zip_file=zipfile.ZipFile(join(raw_dir,'130913.zip'))\n",
    "zip_file.namelist()"
   ]
  },
  {
   "cell_type": "code",
   "execution_count": 107,
   "metadata": {
    "scrolled": true
   },
   "outputs": [
    {
     "data": {
      "text/plain": [
       "['sum/bsba_ss.sum',\n",
       " 'sum/bsbc_sw.sum',\n",
       " 'sum/bsbt_sw.sum',\n",
       " 'sum/bsom_ss.sum',\n",
       " 'sum/bsom_sw.sum',\n",
       " 'sum/bspe_ss.sum',\n",
       " 'sum/bspe_sw.sum',\n",
       " 'sum/bssc_ss.sum',\n",
       " 'sum/bstj_ss.sum',\n",
       " 'sum/bswy_ss.sum',\n",
       " 'dat/bsba_ss.dat',\n",
       " 'dat/bsbc_sw.dat',\n",
       " 'dat/bsbt_sw.dat',\n",
       " 'dat/bsom_ss.dat',\n",
       " 'dat/bsom_sw.dat',\n",
       " 'dat/bspe_ss.dat',\n",
       " 'dat/bspe_sw.dat',\n",
       " 'dat/bssc_ss.dat',\n",
       " 'dat/bstj_ss.dat',\n",
       " 'dat/bswy_ss.dat',\n",
       " 'dxf/bsba_ss.dxf',\n",
       " 'dxf/bsbc_sw.dxf',\n",
       " 'dxf/bsbt_sw.dxf',\n",
       " 'dxf/bsom_ss.dxf',\n",
       " 'dxf/bsom_sw.dxf',\n",
       " 'dxf/bspe_ss.dxf',\n",
       " 'dxf/bspe_sw.dxf',\n",
       " 'dxf/bssc_ss.dxf',\n",
       " 'dxf/bstj_ss.dxf',\n",
       " 'dxf/bswy_ss.dxf',\n",
       " 'dxf/NOTE_DXF',\n",
       " 'dxf_symbolized/bsba_ss-s.dxf',\n",
       " 'dxf_symbolized/bsbc_sw-s.dxf',\n",
       " 'dxf_symbolized/bsom_ss-s.dxf',\n",
       " 'dxf_symbolized/bsom_sw-s.dxf',\n",
       " 'dxf_symbolized/bspe_ss-s.cdr',\n",
       " 'dxf_symbolized/bspe_ss-s.dxf',\n",
       " 'dxf_symbolized/bspe_sw-s.cdr',\n",
       " 'dxf_symbolized/bspe_sw-s.dxf',\n",
       " 'dxf_symbolized/bssc_ss-s.dxf',\n",
       " 'dxf_symbolized/bstj_ss-s.dxf',\n",
       " 'dxf_symbolized/bswy_ss-s.dxf',\n",
       " 'etc/hatch.shd',\n",
       " 'geo/bsba_ss.geo',\n",
       " 'geo/bsbc_sw.geo',\n",
       " 'geo/bsbt_sw.geo',\n",
       " 'geo/bsom_ss.geo',\n",
       " 'geo/bsom_sw.geo',\n",
       " 'geo/bspe_ss.geo',\n",
       " 'geo/bspe_sw.geo',\n",
       " 'geo/bssc_ss.geo',\n",
       " 'geo/bstj_ss.geo',\n",
       " 'geo/bswy_ss.geo',\n",
       " 'geo/geo2ll.pl',\n",
       " 'geo/ntx2geo',\n",
       " 'ntx/bsba_ss.ntx',\n",
       " 'ntx/bsbc_sw.ntx',\n",
       " 'ntx/bsbt_sw.ntx',\n",
       " 'ntx/bsom_ss.ntx',\n",
       " 'ntx/bsom_sw.ntx',\n",
       " 'ntx/bspe_ss.ntx',\n",
       " 'ntx/bspe_sw.ntx',\n",
       " 'ntx/bssc_ss.ntx',\n",
       " 'ntx/bstj_ss.ntx',\n",
       " 'ntx/bswy_ss.ntx',\n",
       " 'ntx/legend.ntx',\n",
       " 'ntx/utm_versions/bsbc_sw_tm.ntx',\n",
       " 'ntx/utm_versions/bsbt_sw_tm.ntx',\n",
       " 'ntx/utm_versions/bsom_ss_um.ntx',\n",
       " 'ntx/utm_versions/bsom_sw_tm.ntx',\n",
       " 'ntx/utm_versions/bspe_ss_um.ntx',\n",
       " 'ntx/utm_versions/bssc_ss_um.ntx',\n",
       " 'ntx/utm_versions/bstj_ss_um.ntx',\n",
       " 'ntx/utm_versions/bswy_ss_um.ntx',\n",
       " 'ntx/utm_versions/legend_tm.ntx',\n",
       " 'asc/bsba_ss.asc',\n",
       " 'asc/bsbc_sw.asc',\n",
       " 'asc/bsbt_sw.asc',\n",
       " 'asc/bsom_ss.asc',\n",
       " 'asc/bsom_sw.asc',\n",
       " 'asc/bspe_ss.asc',\n",
       " 'asc/bspe_sw.asc',\n",
       " 'asc/bssc_ss.asc',\n",
       " 'asc/bstj_ss.asc',\n",
       " 'asc/bswy_ss.asc',\n",
       " 'OF2506.txt',\n",
       " 'OF2606.wp5',\n",
       " 'readme.txt']"
      ]
     },
     "execution_count": 107,
     "metadata": {},
     "output_type": "execute_result"
    }
   ],
   "source": [
    "zip_file=zipfile.ZipFile(join(raw_dir,'133472.zip'))\n",
    "zip_file.namelist()"
   ]
  },
  {
   "cell_type": "markdown",
   "metadata": {},
   "source": [
    "#### 3623 Contains more then 1 pdf and no text"
   ]
  },
  {
   "cell_type": "code",
   "execution_count": 151,
   "metadata": {
    "scrolled": true
   },
   "outputs": [
    {
     "data": {
      "text/html": [
       "<div>\n",
       "<style scoped>\n",
       "    .dataframe tbody tr th:only-of-type {\n",
       "        vertical-align: middle;\n",
       "    }\n",
       "\n",
       "    .dataframe tbody tr th {\n",
       "        vertical-align: top;\n",
       "    }\n",
       "\n",
       "    .dataframe thead th {\n",
       "        text-align: right;\n",
       "    }\n",
       "</style>\n",
       "<table border=\"1\" class=\"dataframe\">\n",
       "  <thead>\n",
       "    <tr style=\"text-align: right;\">\n",
       "      <th></th>\n",
       "      <th>filename</th>\n",
       "      <th>type</th>\n",
       "      <th>size_mb</th>\n",
       "      <th>nb_files</th>\n",
       "      <th>contained_extensions</th>\n",
       "      <th>has_root_dir</th>\n",
       "      <th>txt_count</th>\n",
       "      <th>pdf_count</th>\n",
       "      <th>wp_count</th>\n",
       "      <th>has_pdf_dir</th>\n",
       "    </tr>\n",
       "  </thead>\n",
       "  <tbody>\n",
       "    <tr>\n",
       "      <th>1</th>\n",
       "      <td>8288.zip</td>\n",
       "      <td>zip</td>\n",
       "      <td>18.371377</td>\n",
       "      <td>2</td>\n",
       "      <td>[pdf]</td>\n",
       "      <td>False</td>\n",
       "      <td>0</td>\n",
       "      <td>2</td>\n",
       "      <td>0</td>\n",
       "      <td>False</td>\n",
       "    </tr>\n",
       "    <tr>\n",
       "      <th>2</th>\n",
       "      <td>8315.zip</td>\n",
       "      <td>zip</td>\n",
       "      <td>5.093999</td>\n",
       "      <td>5</td>\n",
       "      <td>[pdf]</td>\n",
       "      <td>False</td>\n",
       "      <td>0</td>\n",
       "      <td>5</td>\n",
       "      <td>0</td>\n",
       "      <td>False</td>\n",
       "    </tr>\n",
       "    <tr>\n",
       "      <th>3</th>\n",
       "      <td>8320.zip</td>\n",
       "      <td>zip</td>\n",
       "      <td>16.997410</td>\n",
       "      <td>9</td>\n",
       "      <td>[pdf]</td>\n",
       "      <td>False</td>\n",
       "      <td>0</td>\n",
       "      <td>9</td>\n",
       "      <td>0</td>\n",
       "      <td>False</td>\n",
       "    </tr>\n",
       "    <tr>\n",
       "      <th>4</th>\n",
       "      <td>8331.zip</td>\n",
       "      <td>zip</td>\n",
       "      <td>11.165783</td>\n",
       "      <td>12</td>\n",
       "      <td>[pdf]</td>\n",
       "      <td>False</td>\n",
       "      <td>0</td>\n",
       "      <td>12</td>\n",
       "      <td>0</td>\n",
       "      <td>False</td>\n",
       "    </tr>\n",
       "    <tr>\n",
       "      <th>5</th>\n",
       "      <td>8332.zip</td>\n",
       "      <td>zip</td>\n",
       "      <td>57.183168</td>\n",
       "      <td>33</td>\n",
       "      <td>[pdf]</td>\n",
       "      <td>False</td>\n",
       "      <td>0</td>\n",
       "      <td>33</td>\n",
       "      <td>0</td>\n",
       "      <td>False</td>\n",
       "    </tr>\n",
       "  </tbody>\n",
       "</table>\n",
       "</div>"
      ],
      "text/plain": [
       "   filename type    size_mb  nb_files contained_extensions  has_root_dir  \\\n",
       "1  8288.zip  zip  18.371377         2                [pdf]         False   \n",
       "2  8315.zip  zip   5.093999         5                [pdf]         False   \n",
       "3  8320.zip  zip  16.997410         9                [pdf]         False   \n",
       "4  8331.zip  zip  11.165783        12                [pdf]         False   \n",
       "5  8332.zip  zip  57.183168        33                [pdf]         False   \n",
       "\n",
       "   txt_count  pdf_count  wp_count  has_pdf_dir  \n",
       "1          0          2         0        False  \n",
       "2          0          5         0        False  \n",
       "3          0          9         0        False  \n",
       "4          0         12         0        False  \n",
       "5          0         33         0        False  "
      ]
     },
     "execution_count": 151,
     "metadata": {},
     "output_type": "execute_result"
    }
   ],
   "source": [
    "zip_df[(zip_df[\"txt_count\"] == 0) & (zip_df[\"pdf_count\"] > 1)].head()"
   ]
  },
  {
   "cell_type": "code",
   "execution_count": 152,
   "metadata": {
    "scrolled": true
   },
   "outputs": [
    {
     "data": {
      "text/plain": [
       "['epb_gms_157.pdf',\n",
       " 'epb_gms_158.pdf',\n",
       " 'epb_gms_159.pdf',\n",
       " 'epb_gms_160.pdf',\n",
       " 'epb_gms_161.pdf']"
      ]
     },
     "execution_count": 152,
     "metadata": {},
     "output_type": "execute_result"
    }
   ],
   "source": [
    "zip_file=zipfile.ZipFile(join(raw_dir,'8315.zip'))\n",
    "zip_file.namelist()"
   ]
  },
  {
   "cell_type": "code",
   "execution_count": 153,
   "metadata": {},
   "outputs": [
    {
     "data": {
      "text/plain": [
       "['epbof_78-04_e_1978_fg01.pdf',\n",
       " 'epbof_78-04_e_1978_fg02.pdf',\n",
       " 'epbof_78-04_e_1978_fg03.pdf',\n",
       " 'epbof_78-04_e_1978_fg04.pdf',\n",
       " 'epbof_78-04_e_1978_fg04b.pdf',\n",
       " 'epbof_78-04_e_1978_fg05.pdf',\n",
       " 'epbof_78-04_e_1978_fg06.pdf',\n",
       " 'epbof_78-04_e_1978_fg07.pdf',\n",
       " 'epbof_78-04_e_1978_fg08.pdf',\n",
       " 'epbof_78-04_e_1978_fg09.pdf',\n",
       " 'epbof_78-04_e_1978_fg10.pdf',\n",
       " 'epbof_78-04_e_1978_fg10b.pdf',\n",
       " 'epbof_78-04_e_1978_fg11.pdf',\n",
       " 'epbof_78-04_e_1978_fg12.pdf',\n",
       " 'epbof_78-04_e_1978_fg13.pdf',\n",
       " 'epbof_78-04_e_1978_fg14.pdf',\n",
       " 'epbof_78-04_e_1978_fg15.pdf',\n",
       " 'epbof_78-04_e_1978_fg16.pdf',\n",
       " 'epbof_78-04_e_1978_fg17.pdf',\n",
       " 'epbof_78-04_e_1978_fg18.pdf',\n",
       " 'epbof_78-04_e_1978_fg19.pdf',\n",
       " 'epbof_78-04_e_1978_fg20.pdf',\n",
       " 'epbof_78-04_e_1978_fg21.pdf',\n",
       " 'epbof_78-04_e_1978_fg22.pdf',\n",
       " 'epbof_78-04_e_1978_fg23.pdf',\n",
       " 'epbof_78-04_e_1978_fg24.pdf',\n",
       " 'epbof_78-04_e_1978_fg25.pdf',\n",
       " 'epbof_78-04_e_1978_fg26.pdf',\n",
       " 'epbof_78-04_e_1978_fg27.pdf',\n",
       " 'epbof_78-04_e_1978_fg28.pdf',\n",
       " 'epbof_78-04_e_1978_fg29.pdf',\n",
       " 'epbof_78-04_e_1978_xs04c.pdf',\n",
       " 'epbof_78-04_e_1978_xs10c.pdf']"
      ]
     },
     "execution_count": 153,
     "metadata": {},
     "output_type": "execute_result"
    }
   ],
   "source": [
    "zip_file=zipfile.ZipFile(join(raw_dir,'8332.zip'))\n",
    "zip_file.namelist()"
   ]
  },
  {
   "cell_type": "markdown",
   "metadata": {},
   "source": [
    "#### 390 contains only 1 pdf"
   ]
  },
  {
   "cell_type": "code",
   "execution_count": 154,
   "metadata": {
    "scrolled": true
   },
   "outputs": [
    {
     "data": {
      "text/html": [
       "<div>\n",
       "<style scoped>\n",
       "    .dataframe tbody tr th:only-of-type {\n",
       "        vertical-align: middle;\n",
       "    }\n",
       "\n",
       "    .dataframe tbody tr th {\n",
       "        vertical-align: top;\n",
       "    }\n",
       "\n",
       "    .dataframe thead th {\n",
       "        text-align: right;\n",
       "    }\n",
       "</style>\n",
       "<table border=\"1\" class=\"dataframe\">\n",
       "  <thead>\n",
       "    <tr style=\"text-align: right;\">\n",
       "      <th></th>\n",
       "      <th>filename</th>\n",
       "      <th>type</th>\n",
       "      <th>size_mb</th>\n",
       "      <th>nb_files</th>\n",
       "      <th>contained_extensions</th>\n",
       "      <th>has_root_dir</th>\n",
       "      <th>txt_count</th>\n",
       "      <th>pdf_count</th>\n",
       "      <th>wp_count</th>\n",
       "      <th>has_pdf_dir</th>\n",
       "    </tr>\n",
       "  </thead>\n",
       "  <tbody>\n",
       "    <tr>\n",
       "      <th>1356</th>\n",
       "      <td>102564.zip</td>\n",
       "      <td>zip</td>\n",
       "      <td>15.179568</td>\n",
       "      <td>2</td>\n",
       "      <td>[pdf, tif]</td>\n",
       "      <td>False</td>\n",
       "      <td>0</td>\n",
       "      <td>1</td>\n",
       "      <td>0</td>\n",
       "      <td>False</td>\n",
       "    </tr>\n",
       "    <tr>\n",
       "      <th>1821</th>\n",
       "      <td>120017.zip</td>\n",
       "      <td>zip</td>\n",
       "      <td>4769.487562</td>\n",
       "      <td>10</td>\n",
       "      <td>[mp4, pdf, rtf]</td>\n",
       "      <td>False</td>\n",
       "      <td>0</td>\n",
       "      <td>1</td>\n",
       "      <td>0</td>\n",
       "      <td>False</td>\n",
       "    </tr>\n",
       "    <tr>\n",
       "      <th>2057</th>\n",
       "      <td>128140.zip</td>\n",
       "      <td>zip</td>\n",
       "      <td>10.991287</td>\n",
       "      <td>7</td>\n",
       "      <td>[pdf, asc, hdr, ngr, dos, exe]</td>\n",
       "      <td>False</td>\n",
       "      <td>0</td>\n",
       "      <td>1</td>\n",
       "      <td>0</td>\n",
       "      <td>False</td>\n",
       "    </tr>\n",
       "    <tr>\n",
       "      <th>2060</th>\n",
       "      <td>128150.zip</td>\n",
       "      <td>zip</td>\n",
       "      <td>0.511469</td>\n",
       "      <td>11</td>\n",
       "      <td>[c, d, pdf, exe, for, none]</td>\n",
       "      <td>False</td>\n",
       "      <td>0</td>\n",
       "      <td>1</td>\n",
       "      <td>0</td>\n",
       "      <td>False</td>\n",
       "    </tr>\n",
       "    <tr>\n",
       "      <th>2062</th>\n",
       "      <td>128154.zip</td>\n",
       "      <td>zip</td>\n",
       "      <td>3.373104</td>\n",
       "      <td>5</td>\n",
       "      <td>[log, pdf]</td>\n",
       "      <td>False</td>\n",
       "      <td>0</td>\n",
       "      <td>1</td>\n",
       "      <td>0</td>\n",
       "      <td>False</td>\n",
       "    </tr>\n",
       "  </tbody>\n",
       "</table>\n",
       "</div>"
      ],
      "text/plain": [
       "        filename type      size_mb  nb_files            contained_extensions  \\\n",
       "1356  102564.zip  zip    15.179568         2                      [pdf, tif]   \n",
       "1821  120017.zip  zip  4769.487562        10                 [mp4, pdf, rtf]   \n",
       "2057  128140.zip  zip    10.991287         7  [pdf, asc, hdr, ngr, dos, exe]   \n",
       "2060  128150.zip  zip     0.511469        11     [c, d, pdf, exe, for, none]   \n",
       "2062  128154.zip  zip     3.373104         5                      [log, pdf]   \n",
       "\n",
       "      has_root_dir  txt_count  pdf_count  wp_count  has_pdf_dir  \n",
       "1356         False          0          1         0        False  \n",
       "1821         False          0          1         0        False  \n",
       "2057         False          0          1         0        False  \n",
       "2060         False          0          1         0        False  \n",
       "2062         False          0          1         0        False  "
      ]
     },
     "execution_count": 154,
     "metadata": {},
     "output_type": "execute_result"
    }
   ],
   "source": [
    "zip_df[(zip_df[\"txt_count\"] == 0) & (zip_df[\"pdf_count\"] == 1)].head()"
   ]
  },
  {
   "cell_type": "code",
   "execution_count": 155,
   "metadata": {},
   "outputs": [
    {
     "data": {
      "text/plain": [
       "['pa_74-61.pdf', 'pa_74-61_fig_2.tif']"
      ]
     },
     "execution_count": 155,
     "metadata": {},
     "output_type": "execute_result"
    }
   ],
   "source": [
    "zip_file=zipfile.ZipFile(join(raw_dir,'102564.zip'))\n",
    "zip_file.namelist()"
   ]
  },
  {
   "cell_type": "code",
   "execution_count": 156,
   "metadata": {
    "scrolled": true
   },
   "outputs": [
    {
     "data": {
      "text/plain": [
       "['OF1079 T1-Introduction.mp4',\n",
       " 'OF1079 T2-Ellesmere I.-King Edward Pt to South Cape area.mp4',\n",
       " 'OF1079 T3-Ellesmere I.-South Cape to Cape Donninghausen.mp4',\n",
       " 'OF1079 T4-N. Kent I-Falk Pt to Cape Burgoyne, Devon I-Cape Derby to Cape Arundell.mp4',\n",
       " 'OF1079 T5-Devon I.-Cape Arundell to Head of Thomas Lee Inlet.mp4',\n",
       " 'OF1079 T6-Devon I.-Head of Thomas Lee Inlet to Sverdrup Inlet area.mp4',\n",
       " 'OF1079 T7-Devon I.-Brae Bay area to Cape Fitzroy.mp4',\n",
       " 'OF1079 T8-Coburg I..mp4',\n",
       " 'of_1079.pdf',\n",
       " 'readme_video_OF1079.rtf']"
      ]
     },
     "execution_count": 156,
     "metadata": {},
     "output_type": "execute_result"
    }
   ],
   "source": [
    "zip_file=zipfile.ZipFile(join(raw_dir,'120017.zip'))\n",
    "zip_file.namelist()"
   ]
  },
  {
   "cell_type": "code",
   "execution_count": 162,
   "metadata": {},
   "outputs": [
    {
     "data": {
      "text/plain": [
       "['ICE90C3.LOG', 'ICE90D3.LOG', 'of_2273.pdf', 'ICE90A3.LOG', 'ICE90B3.LOG']"
      ]
     },
     "execution_count": 162,
     "metadata": {},
     "output_type": "execute_result"
    }
   ],
   "source": [
    "zip_file=zipfile.ZipFile(join(raw_dir,'128154.zip'))\n",
    "zip_file.namelist()"
   ]
  },
  {
   "cell_type": "markdown",
   "metadata": {},
   "source": [
    "#### 70 files contain more then 100 pdfs "
   ]
  },
  {
   "cell_type": "code",
   "execution_count": 159,
   "metadata": {},
   "outputs": [
    {
     "data": {
      "text/html": [
       "<div>\n",
       "<style scoped>\n",
       "    .dataframe tbody tr th:only-of-type {\n",
       "        vertical-align: middle;\n",
       "    }\n",
       "\n",
       "    .dataframe tbody tr th {\n",
       "        vertical-align: top;\n",
       "    }\n",
       "\n",
       "    .dataframe thead th {\n",
       "        text-align: right;\n",
       "    }\n",
       "</style>\n",
       "<table border=\"1\" class=\"dataframe\">\n",
       "  <thead>\n",
       "    <tr style=\"text-align: right;\">\n",
       "      <th></th>\n",
       "      <th>filename</th>\n",
       "      <th>type</th>\n",
       "      <th>size_mb</th>\n",
       "      <th>nb_files</th>\n",
       "      <th>contained_extensions</th>\n",
       "      <th>has_root_dir</th>\n",
       "      <th>txt_count</th>\n",
       "      <th>pdf_count</th>\n",
       "      <th>wp_count</th>\n",
       "      <th>has_pdf_dir</th>\n",
       "    </tr>\n",
       "  </thead>\n",
       "  <tbody>\n",
       "    <tr>\n",
       "      <th>2182</th>\n",
       "      <td>129399.zip</td>\n",
       "      <td>zip</td>\n",
       "      <td>1944.482334</td>\n",
       "      <td>128</td>\n",
       "      <td>[pdf]</td>\n",
       "      <td>False</td>\n",
       "      <td>0</td>\n",
       "      <td>128</td>\n",
       "      <td>0</td>\n",
       "      <td>False</td>\n",
       "    </tr>\n",
       "    <tr>\n",
       "      <th>3019</th>\n",
       "      <td>209907.zip</td>\n",
       "      <td>zip</td>\n",
       "      <td>287.280622</td>\n",
       "      <td>1470</td>\n",
       "      <td>[none, pdf, wld, abt, cat, ddd, did, pdd, plc,...</td>\n",
       "      <td>False</td>\n",
       "      <td>15</td>\n",
       "      <td>654</td>\n",
       "      <td>0</td>\n",
       "      <td>False</td>\n",
       "    </tr>\n",
       "    <tr>\n",
       "      <th>3020</th>\n",
       "      <td>209908.zip</td>\n",
       "      <td>zip</td>\n",
       "      <td>416.651575</td>\n",
       "      <td>145</td>\n",
       "      <td>[pdf, db]</td>\n",
       "      <td>False</td>\n",
       "      <td>0</td>\n",
       "      <td>144</td>\n",
       "      <td>0</td>\n",
       "      <td>False</td>\n",
       "    </tr>\n",
       "    <tr>\n",
       "      <th>3025</th>\n",
       "      <td>209922.zip</td>\n",
       "      <td>zip</td>\n",
       "      <td>1016.084459</td>\n",
       "      <td>133</td>\n",
       "      <td>[pdf, db]</td>\n",
       "      <td>False</td>\n",
       "      <td>0</td>\n",
       "      <td>132</td>\n",
       "      <td>0</td>\n",
       "      <td>False</td>\n",
       "    </tr>\n",
       "    <tr>\n",
       "      <th>3152</th>\n",
       "      <td>211803.zip</td>\n",
       "      <td>zip</td>\n",
       "      <td>30.311357</td>\n",
       "      <td>152</td>\n",
       "      <td>[xls, pdf, txt]</td>\n",
       "      <td>False</td>\n",
       "      <td>1</td>\n",
       "      <td>130</td>\n",
       "      <td>0</td>\n",
       "      <td>False</td>\n",
       "    </tr>\n",
       "  </tbody>\n",
       "</table>\n",
       "</div>"
      ],
      "text/plain": [
       "        filename type      size_mb  nb_files  \\\n",
       "2182  129399.zip  zip  1944.482334       128   \n",
       "3019  209907.zip  zip   287.280622      1470   \n",
       "3020  209908.zip  zip   416.651575       145   \n",
       "3025  209922.zip  zip  1016.084459       133   \n",
       "3152  211803.zip  zip    30.311357       152   \n",
       "\n",
       "                                   contained_extensions  has_root_dir  \\\n",
       "2182                                              [pdf]         False   \n",
       "3019  [none, pdf, wld, abt, cat, ddd, did, pdd, plc,...         False   \n",
       "3020                                          [pdf, db]         False   \n",
       "3025                                          [pdf, db]         False   \n",
       "3152                                    [xls, pdf, txt]         False   \n",
       "\n",
       "      txt_count  pdf_count  wp_count  has_pdf_dir  \n",
       "2182          0        128         0        False  \n",
       "3019         15        654         0        False  \n",
       "3020          0        144         0        False  \n",
       "3025          0        132         0        False  \n",
       "3152          1        130         0        False  "
      ]
     },
     "execution_count": 159,
     "metadata": {},
     "output_type": "execute_result"
    }
   ],
   "source": [
    "zip_df[zip_df[\"pdf_count\"] > 100].head()"
   ]
  },
  {
   "cell_type": "code",
   "execution_count": 161,
   "metadata": {},
   "outputs": [
    {
     "data": {
      "text/plain": [
       "['OF_283_Bedford_Basin_Lines_304_to_end_of_line_Time_1536_to_1555.pdf',\n",
       " 'OF_283_Bedford_Basin_Lines_305_to_end_of_line.pdf',\n",
       " 'OF_283_Bedford_Basin_Lines_306_to_end_of_line_Time_1459.pdf',\n",
       " 'OF_283_Bedford_Basin_Lines_307_to_end_of_line_Time_1038_to_1047.pdf',\n",
       " 'OF_283_Bedford_Basin_Lines_308_to_end_of_line_Time_end_1058.pdf',\n",
       " 'OF_283_Bedford_Basin_Lines_309_to_end_of_line_Time_end_1110.pdf',\n",
       " 'OF_283_Bedford_Basin_Lines_310_to_end_of_line_Time_end_1120.pdf',\n",
       " 'OF_283_Bedford_Basin_Lines_311_to_end_of_line_Time_end_1131.pdf',\n",
       " 'OF_283_Bedford_Basin_Lines_312_to_end_of_line.pdf',\n",
       " 'OF_283_Bedford_Basin_Lines_313_to_end_of_line_Time_end_1453.pdf',\n",
       " 'OF_283_Bedford_Basin_Lines_314_to_end_of_line_Time_end_1440.pdf',\n",
       " 'OF_283_Bedford_Basin_Lines_315_to_end_of_line_Time_1414_to_1424.pdf',\n",
       " 'OF_283_Bedford_Basin_Lines_316_to_end_of_line_Time_end_1412.pdf',\n",
       " 'OF_283_Bedford_Basin_Lines_317_to_end_of_line_Time_1540_to_1527.pdf',\n",
       " 'OF_283_Bedford_Basin_Lines_318_to_end_of_line_Time_end_1539.pdf',\n",
       " 'OF_283_Bedford_Basin_Lines_319_to_end_of_line_Time_1541_to_1547.pdf',\n",
       " 'OF_283_Bedford_Basin_Lines_320_to_end_of_line_Time_1549_to_1557.pdf',\n",
       " 'OF_283_Bedford_Basin_Lines_321_to_end_of_line_Time_end_1623.pdf',\n",
       " 'OF_283_Bedford_Basin_Lines_322_to_end_of_line_Time_end_1633.pdf',\n",
       " 'OF_283_Bedford_Basin_Lines_323_to_end_of_line_Time_1635_1641.pdf',\n",
       " 'OF_283_Bedford_Basin_Lines_324_to_end_of_line_Time_1642_1650.pdf',\n",
       " 'OF_283_Bedford_Basin_Lines_325_to_end_of_line_Time_1913_1922.pdf',\n",
       " 'OF_283_Bedford_Basin_Lines_327_to_end_of_line.pdf',\n",
       " 'OF_283_Bedford_Basin_Lines_328_to_end_of_line_Time_Start_1848_.pdf',\n",
       " 'OF_283_Bedford_Basin_Lines_329_to_end_of_line_Time_1853_1858_.pdf',\n",
       " 'OF_283_Bedford_Basin_Lines_2001_to_end_of_line_Time_end_1841_.pdf',\n",
       " 'OF_283_Bedford_Basin_Lines_2002_to_end_of_line_Time_end_1824_.pdf',\n",
       " 'OF_283_Bedford_Basin_Lines_2003_to_end_of_line_Time_1801_1808_.pdf',\n",
       " 'OF_283_Bedford_Basin_Lines_2004_to_end_of_line_Time_1739_1851_.pdf',\n",
       " 'OF_283_Bedford_Basin_Lines_2005_to_end_of_line_Time_1728_1737_.pdf',\n",
       " 'OF_283_Bedford_Basin_Lines_2006_to_end_of_line_Time_1714_1724_.pdf',\n",
       " 'OF_283_Bedford_Basin_Lines_2007_to_end_of_line_Time_1702_1712_.pdf',\n",
       " 'OF_283_Bedford_Basin_Lines_2008_to_end_of_line_Time_1647_1700_.pdf',\n",
       " 'OF_283_Bedford_Basin_Lines_2009_to_end_of_line_Time_end_1341_.pdf',\n",
       " 'OF_283_Bedford_Basin_Lines_2010_to_end_of_line_Time_Start_1287.pdf',\n",
       " 'OF_283_Bedford_Basin_Lines_2010A_end_of_line_Time_end_1354.pdf',\n",
       " 'OF_283_Bedford_Basin_Lines_2011_end_of_line_Time_Start_1311.pdf',\n",
       " 'OF_283_Bedford_Basin_Lines_2012_end_of_line_Time_1257_1306.pdf',\n",
       " 'OF_283_Bedford_Basin_Lines_2013_end_of_line_Time_end_1704.pdf',\n",
       " 'OF_283_Bedford_Basin_Lines_2014_end_of_line_Time_1706_to_1713.pdf',\n",
       " 'OF_283_Bedford_Basin_Lines_2015_end_of_line.pdf',\n",
       " 'OF_283_Bedford_Basin_Lines_2016_end_of_line.pdf',\n",
       " 'OF_283_Bedford_Basin_Lines_2017_end_of_line_Time_Start_1817.pdf',\n",
       " 'OF_283_Bedford_Basin_Lines_2018_end_of_line_Time_end_1831.pdf',\n",
       " 'OF_283_Halifax_Harbour_Bottom_Survey_1974_Seismic_Reflection_Profiles.pdf',\n",
       " 'OF_283_Halifax_Harbour_Sept1974_Survey_for_Nova_Scotia_Dept_of_Develop.pdf',\n",
       " 'OF_283_Inner_Harbour_Lines_10_to_end_Time_1120_to_1140.pdf',\n",
       " 'OF_283_Inner_Harbour_Lines_11_to_end_Time_end_1756.pdf',\n",
       " 'OF_283_Inner_Harbour_Lines_12_to_end.pdf',\n",
       " 'OF_283_Inner_Harbour_Lines_13_to_end.pdf',\n",
       " 'OF_283_Inner_Harbour_Lines_14_to_19_end.pdf',\n",
       " 'OF_283_Inner_Harbour_Lines_14_to_end.pdf',\n",
       " 'OF_283_Inner_Harbour_Lines_15_to_end.pdf',\n",
       " 'OF_283_Inner_Harbour_Lines_16_to_end.pdf',\n",
       " 'OF_283_Inner_Harbour_Lines_17_to_end.pdf',\n",
       " 'OF_283_Inner_Harbour_Lines_18_to_end.pdf',\n",
       " 'OF_283_Inner_Harbour_Lines_19_to_end.pdf',\n",
       " 'OF_283_Inner_Harbour_Lines_19A_to_end.pdf',\n",
       " 'OF_283_Inner_Harbour_Lines_20_to_end.pdf',\n",
       " 'OF_283_Inner_Harbour_Lines_20A_to_end.pdf',\n",
       " 'OF_283_Inner_Harbour_Lines_21_to_end.pdf',\n",
       " 'OF_283_Inner_Harbour_Lines_22_to_end.pdf',\n",
       " 'OF_283_Inner_Harbour_Lines_23_to_end.pdf',\n",
       " 'OF_283_Inner_Harbour_Lines_24_to_end.pdf',\n",
       " 'OF_283_Inner_Harbour_Lines_25_to_end.pdf',\n",
       " 'OF_283_Inner_Harbour_Lines_25A_to_end.pdf',\n",
       " 'OF_283_Inner_Harbour_Lines_26_to_end.pdf',\n",
       " 'OF_283_Inner_Harbour_Lines_27_to_end.pdf',\n",
       " 'OF_283_Inner_Harbour_Lines_28_to_end.pdf',\n",
       " 'OF_283_Inner_Harbour_Lines_29_to_end.pdf',\n",
       " 'OF_283_Inner_Harbour_Lines_30_to_end.pdf',\n",
       " 'OF_283_Inner_Harbour_Lines_31_to_end.pdf',\n",
       " 'OF_283_Inner_Harbour_Lines_32_to_end.pdf',\n",
       " 'OF_283_Inner_Harbour_Lines_33_to_end.pdf',\n",
       " 'OF_283_Inner_Harbour_Lines_34_to_end.pdf',\n",
       " 'OF_283_Inner_Harbour_Lines_35_to_end.pdf',\n",
       " 'OF_283_Inner_Harbour_Lines_36_to_end.pdf',\n",
       " 'OF_283_Inner_Harbour_Lines_37_to_end.pdf',\n",
       " 'OF_283_Inner_Harbour_Lines_38_to_end.pdf',\n",
       " 'OF_283_Inner_Harbour_Lines_39_to_end.pdf',\n",
       " 'OF_283_Inner_Harbour_Lines_40_to_end.pdf',\n",
       " 'OF_283_Inner_Harbour_Lines_1014_to_end.pdf',\n",
       " 'OF_283_Inner_Harbour_Lines_1014_to_end_repeat.pdf',\n",
       " 'OF_283_Inner_Harbour_Lines_1015_to_end.pdf',\n",
       " 'OF_283_Inner_Harbour_Lines_1016_to_end1420.pdf',\n",
       " 'OF_283_Inner_Harbour_Lines_1017_to_end.pdf',\n",
       " 'OF_283_Inner_Harbour_Lines_1017A_to_end.pdf',\n",
       " 'OF_283_Inner_Harbour_Lines_1018 _to_end.pdf',\n",
       " 'OF_283_Inner_Harbour_Lines_1019 _to_end.pdf',\n",
       " 'OF_283_Inner_Harbour_Lines_1020 _to_end.pdf',\n",
       " 'OF_283_Inner_Harbour_Lines_1020B_to_end.pdf',\n",
       " 'OF_283_Inner_Harbour_Lines_1020B_to_end_cont.pdf',\n",
       " 'OF_283_Inner_Harbour_Lines_1020C_to_end.pdf',\n",
       " 'OF_283_Inner_Harbour_Lines_1021_to_end.pdf',\n",
       " 'OF_283_Inner_Harbour_Lines_1022_to_end.pdf',\n",
       " 'OF_283_Inner_Harbour_Lines_1022_to_end_another.pdf',\n",
       " 'OF_283_Inner_Harbour_Lines_1022_to_end_cont.pdf',\n",
       " 'OF_283_Inner_Harbour_Lines_1023_to_end.pdf',\n",
       " 'OF_283_Inner_Harbour_Lines_1024B_to_end.pdf',\n",
       " 'OF_283_Inner_Harbour_Lines_1024B_to_end_cont.pdf',\n",
       " 'OF_283_Inner_Harbour_Lines_TL1_TL2_10_to_40_1014_to_1024B.pdf',\n",
       " 'OF_283_Inner_Harbour_Lines_TL1_to_end_.pdf',\n",
       " 'OF_283_Inner_Harbour_Lines_TL2_to_end_.pdf',\n",
       " 'OF_283_Outer_Harbour_Lines_1_to_9_1001_to_1012.pdf',\n",
       " 'OF_283_Outer_Harbour_Lines_1_to_end.pdf',\n",
       " 'OF_283_Outer_Harbour_Lines_3_to_end.pdf',\n",
       " 'OF_283_Outer_Harbour_Lines_4_to_end.pdf',\n",
       " 'OF_283_Outer_Harbour_Lines_5_to_end.pdf',\n",
       " 'OF_283_Outer_Harbour_Lines_6_to_end.pdf',\n",
       " 'OF_283_Outer_Harbour_Lines_7_to_end.pdf',\n",
       " 'OF_283_Outer_Harbour_Lines_8_to_end.pdf',\n",
       " 'OF_283_Outer_Harbour_Lines_9_to_end.pdf',\n",
       " 'OF_283_Outer_Harbour_Lines_1001_to_end.pdf',\n",
       " 'OF_283_Outer_Harbour_Lines_1002_to_end.pdf',\n",
       " 'OF_283_Outer_Harbour_Lines_1003_to_end.pdf',\n",
       " 'OF_283_Outer_Harbour_Lines_1004_to_end.pdf',\n",
       " 'OF_283_Outer_Harbour_Lines_1005_to_end.pdf',\n",
       " 'OF_283_Outer_Harbour_Lines_1006_to_end.pdf',\n",
       " 'OF_283_Outer_Harbour_Lines_1006_to_end_cont.pdf',\n",
       " 'OF_283_Outer_Harbour_Lines_1007_to_end_cont.pdf',\n",
       " 'OF_283_Outer_Harbour_Lines_1009_to_end_cont.pdf',\n",
       " 'OF_283_Outer_Harbour_Lines_1010_to_end_cont.pdf',\n",
       " 'OF_283_Outer_Harbour_Lines_1011_to_end_cont.pdf',\n",
       " 'OF_283_Outer_Harbour_Lines_1012_to_end_cont.pdf',\n",
       " 'OF_283_Bedford_Basin_Lines_301_to_329_2001_to_2018.pdf',\n",
       " 'OF_283_Bedford_Basin_Lines_301_to_end_of_line.pdf',\n",
       " 'OF_283_Bedford_Basin_Lines_302_to_end_of_line_Time1611_to_1628.pdf',\n",
       " 'OF_283_Bedford_Basin_Lines_303_to_end_of_line.pdf']"
      ]
     },
     "execution_count": 161,
     "metadata": {},
     "output_type": "execute_result"
    }
   ],
   "source": [
    "zip_file=zipfile.ZipFile(join(raw_dir,'129399.zip'))\n",
    "zip_file.namelist()"
   ]
  },
  {
   "cell_type": "code",
   "execution_count": 160,
   "metadata": {},
   "outputs": [
    {
     "data": {
      "text/plain": [
       "['Appendix 7/Appendix 7 profiles.xls',\n",
       " 'Appendix 7/Appendix 7 regional.xls',\n",
       " 'Appendix 7/Appendix 7 title.xls',\n",
       " 'Appendix 10/Appendix 10 tables.pdf',\n",
       " 'Appendix 10/Appendix 10 title.PDF',\n",
       " 'Appendix 11/Al2 map.pdf',\n",
       " 'Appendix 11/Al2 stats.pdf',\n",
       " 'Appendix 11/Al63 map.pdf',\n",
       " 'Appendix 11/Al63 stats.pdf',\n",
       " 'Appendix 11/Appendix 11 Title.PDF',\n",
       " 'Appendix 11/As2 map.pdf',\n",
       " 'Appendix 11/As2 stats.pdf',\n",
       " 'Appendix 11/As63 map.pdf',\n",
       " 'Appendix 11/As63 stats.pdf',\n",
       " 'Appendix 11/Au63 map.pdf',\n",
       " 'Appendix 11/Au63 stats.pdf',\n",
       " 'Appendix 11/Ba2 map.pdf',\n",
       " 'Appendix 11/Ba2 stats.pdf',\n",
       " 'Appendix 11/Ba63 map.pdf',\n",
       " 'Appendix 11/Ba63 stats.pdf',\n",
       " 'Appendix 11/Ca2 map.pdf',\n",
       " 'Appendix 11/Ca2 stats.pdf',\n",
       " 'Appendix 11/Ca63 map.pdf',\n",
       " 'Appendix 11/Ca63 stats.pdf',\n",
       " 'Appendix 11/Co2 map.pdf',\n",
       " 'Appendix 11/Co2 stats.pdf',\n",
       " 'Appendix 11/Co63 map.pdf',\n",
       " 'Appendix 11/Co63 stats.pdf',\n",
       " 'Appendix 11/Cr2 map.pdf',\n",
       " 'Appendix 11/Cr2 stats.pdf',\n",
       " 'Appendix 11/Cr63 map.pdf',\n",
       " 'Appendix 11/Cr63 stats.pdf',\n",
       " 'Appendix 11/Cu2 map.pdf',\n",
       " 'Appendix 11/Cu2 stats.pdf',\n",
       " 'Appendix 11/Cu63 map.pdf',\n",
       " 'Appendix 11/Cu63 ststs.pdf',\n",
       " 'Appendix 11/Fe2 map.pdf',\n",
       " 'Appendix 11/Fe2 stats.pdf',\n",
       " 'Appendix 11/Fe63 map.pdf',\n",
       " 'Appendix 11/Fe63 stats.pdf',\n",
       " 'Appendix 11/Hg2 stats.pdf',\n",
       " 'Appendix 11/K2 map.pdf',\n",
       " 'Appendix 11/K2 stats.pdf',\n",
       " 'Appendix 11/K63 map.pdf',\n",
       " 'Appendix 11/K63 stats.pdf',\n",
       " 'Appendix 11/La2 stats.pdf',\n",
       " 'Appendix 11/La63 map.pdf',\n",
       " 'Appendix 11/La63 stats.pdf',\n",
       " 'Appendix 11/Mg2 map.pdf',\n",
       " 'Appendix 11/Mg2 stats.pdf',\n",
       " 'Appendix 11/Mg63 map.pdf',\n",
       " 'Appendix 11/Mg63 stats.pdf',\n",
       " 'Appendix 11/Mn2 map.pdf',\n",
       " 'Appendix 11/Mn2 stats.pdf',\n",
       " 'Appendix 11/Mn63 map.pdf',\n",
       " 'Appendix 11/Mn63 stats.pdf',\n",
       " 'Appendix 11/Mo2 stats.pdf',\n",
       " 'Appendix 11/Na2 map.pdf',\n",
       " 'Appendix 11/Na2 stats.pdf',\n",
       " 'Appendix 11/Ni2 map.pdf',\n",
       " 'Appendix 11/Ni2 stats.pdf',\n",
       " 'Appendix 11/Ni63 map.pdf',\n",
       " 'Appendix 11/Ni63 stats.pdf',\n",
       " 'Appendix 11/P63 map.pdf',\n",
       " 'Appendix 11/P63 stats.pdf',\n",
       " 'Appendix 11/Pb2 map.pdf',\n",
       " 'Appendix 11/Pb2 stats.pdf',\n",
       " 'Appendix 11/Pb63 map.pdf',\n",
       " 'Appendix 11/Pb63 stats.pdf',\n",
       " 'Appendix 11/Sc2 map.pdf',\n",
       " 'Appendix 11/Sc2 stats.pdf',\n",
       " 'Appendix 11/Sc63 map.pdf',\n",
       " 'Appendix 11/Sc63 stats.pdf',\n",
       " 'Appendix 11/Sr2 map.pdf',\n",
       " 'Appendix 11/Sr2 stats.pdf',\n",
       " 'Appendix 11/Sr63 map.pdf',\n",
       " 'Appendix 11/Sr63 stats.pdf',\n",
       " 'Appendix 11/Ti2 map.pdf',\n",
       " 'Appendix 11/Ti2 stats.pdf',\n",
       " 'Appendix 11/Ti63 map.pdf',\n",
       " 'Appendix 11/Ti63 stats.pdf',\n",
       " 'Appendix 11/V2 map.pdf',\n",
       " 'Appendix 11/V2 stats.pdf',\n",
       " 'Appendix 11/V63 map.pdf',\n",
       " 'Appendix 11/V63 stats.pdf',\n",
       " 'Appendix 11/Zn2 map.pdf',\n",
       " 'Appendix 11/Zn2 stats.pdf',\n",
       " 'Appendix 11/Zn63 map.pdf',\n",
       " 'Appendix 11/Zn63 stats.pdf',\n",
       " 'Appendix 12/Appendix 12 title.PDF',\n",
       " 'Appendix 12/Pit 2 63um.PDF',\n",
       " 'Appendix 12/Pit 2 correlation.PDF',\n",
       " 'Appendix 12/Pit 3 correlation.PDF',\n",
       " 'Appendix 12/Pit1 63um.PDF',\n",
       " 'Appendix 12/Pit1 correlation.PDF',\n",
       " 'Appendix 12/Pit2 2um.PDF',\n",
       " 'Appendix 12/Pit3 2um.PDF',\n",
       " 'Appendix 12/Pit3 63um.PDF',\n",
       " 'Appendix 13/Appendix 13 Title.PDF',\n",
       " 'Appendix 13/Dominant clast proportions.pdf',\n",
       " 'Appendix 13/Dubawnt arkosic sandstone.pdf',\n",
       " 'Appendix 13/Dubawnt volcanics.pdf',\n",
       " 'Appendix 13/Metasediments.pdf',\n",
       " 'Appendix 13/Metavolcanics.pdf',\n",
       " 'Appendix 13/Total Dubawnt.pdf',\n",
       " 'Appendix 13/Total greenstone.pdf',\n",
       " 'Appendix 13/Total Plutonics.pdf',\n",
       " 'Appendix 14/Appendix 14 Title.PDF',\n",
       " 'Appendix 14/Combined dominant lithologies.pdf',\n",
       " 'Appendix 14/Esker dominant lithologies.pdf',\n",
       " 'Appendix 2/Appendix 2 profile descriptions.xls',\n",
       " 'Appendix 2/Appendix 2 Sample descriptions.xls',\n",
       " 'Appendix 2/Appendix 2 Title.xls',\n",
       " 'Appendix 3/Appendix 3 title.xls',\n",
       " 'Appendix 3/Appendix Esker descriptions.xls',\n",
       " 'Appendix 4/Appendix 4 clay data.xls',\n",
       " 'Appendix 4/Appendix 4 title.xls',\n",
       " 'Appendix 5/Appendix 5 data.xls',\n",
       " 'Appendix 5/Appendix 5 title.xls',\n",
       " 'Appendix 6/Appendix 6 data.xls',\n",
       " 'Appendix 6/Appendix 6 title.xls',\n",
       " 'Report.pdf',\n",
       " 'Appendix 8/Appendix 8 title.xls',\n",
       " 'Appendix 8/Appendix Esker Lithology.xls',\n",
       " 'Appendix 8/Appendix Till Lithology.xls',\n",
       " 'Appendix 9/Appendix 9 title.xls',\n",
       " 'Appendix 9/Appendix 9a Summary.xls',\n",
       " 'Appendix 9/Appendix 9b Tabling data.PDF',\n",
       " 'Appendix 9/Appendix 9c Weights.PDF',\n",
       " 'Appendix 9/Appendix 9d Descriptions.PDF',\n",
       " 'Appendix 9/visgrains.pdf',\n",
       " 'Figures/Figure 1.pdf',\n",
       " 'Figures/Figure 10.pdf',\n",
       " 'Figures/Figure 11.pdf',\n",
       " 'Figures/Figure 12.PDF',\n",
       " 'Figures/Figure 14.pdf',\n",
       " 'Figures/Figure 15.pdf',\n",
       " 'Figures/Figure 2.pdf',\n",
       " 'Figures/Figure 3 .pdf',\n",
       " 'Figures/Figure 4.pdf',\n",
       " 'Figures/Figure 5 .pdf',\n",
       " 'Figures/Figure 6.pdf',\n",
       " 'Figures/Figure 7.pdf',\n",
       " 'Figures/Figure 8 .pdf',\n",
       " 'Figures/Figure 9.pdf',\n",
       " 'Tables/Table 1.PDF',\n",
       " 'Tables/Table 2.PDF',\n",
       " 'Tables/Table 3.PDF',\n",
       " 'Tables/Table 4.pdf',\n",
       " 'Readme.txt',\n",
       " 'Appendix 1/Appendix 1 Data.xls',\n",
       " 'Appendix 1/Appendix 1 title.xls']"
      ]
     },
     "execution_count": 160,
     "metadata": {},
     "output_type": "execute_result"
    }
   ],
   "source": [
    "zip_file=zipfile.ZipFile(join(raw_dir,'211803.zip'))\n",
    "zip_file.namelist()"
   ]
  },
  {
   "cell_type": "code",
   "execution_count": 164,
   "metadata": {},
   "outputs": [
    {
     "name": "stdout",
     "output_type": "stream",
     "text": [
      "Filesystem                                                                                                                                               Type      Size  Used Avail Use% Mounted on\n",
      "overlay                                                                                                                                                  overlay   1.8T 1004G  667G  61% /\n",
      "tmpfs                                                                                                                                                    tmpfs      64M     0   64M   0% /dev\n",
      "tmpfs                                                                                                                                                    tmpfs     252G     0  252G   0% /sys/fs/cgroup\n",
      "/dev/mapper/vg00-root                                                                                                                                    ext4      439G   12G  405G   3% /opt/borgy\n",
      "/dev/sdc2                                                                                                                                                ext4      1.8T 1004G  667G  61% /etc/group\n",
      "192.168.186.30:/491e3474-8382-4437-a68b-18414701dec2/account/096e5737-0f0e-49fe-b101-1c2a060329e2/data/445097cf-cb16-4e71-95aa-114256b20a35/branch/empty nfs       163T  163T     0 100% /nrcan_p2/workspace\n",
      "192.168.186.30:/491e3474-8382-4437-a68b-18414701dec2/account/096e5737-0f0e-49fe-b101-1c2a060329e2/data/20a29fc4-19fd-483f-bfdb-690f8aacfa3d/branch/empty nfs       163T  163T     0 100% /nrcan_p2/data\n",
      "tmpfs                                                                                                                                                    tmpfs     252G     0  252G   0% /dev/shm\n",
      "tmpfs                                                                                                                                                    tmpfs     252G   12K  252G   1% /proc/driver/nvidia\n",
      "tmpfs                                                                                                                                                    tmpfs     252G  4.0K  252G   1% /etc/nvidia/nvidia-application-profiles-rc.d\n",
      "tmpfs                                                                                                                                                    tmpfs      51G  7.6M   51G   1% /run/nvidia-persistenced/socket\n",
      "udev                                                                                                                                                     devtmpfs  252G     0  252G   0% /dev/nvidia1\n",
      "tmpfs                                                                                                                                                    tmpfs     252G     0  252G   0% /proc/acpi\n",
      "tmpfs                                                                                                                                                    tmpfs     252G     0  252G   0% /proc/scsi\n",
      "tmpfs                                                                                                                                                    tmpfs     252G     0  252G   0% /sys/firmware\n"
     ]
    }
   ],
   "source": [
    "%%bash\n",
    "df -Th"
   ]
  },
  {
   "cell_type": "code",
   "execution_count": null,
   "metadata": {},
   "outputs": [],
   "source": []
  }
 ],
 "metadata": {
  "kernelspec": {
   "display_name": "Python 3",
   "language": "python",
   "name": "python3"
  },
  "language_info": {
   "codemirror_mode": {
    "name": "ipython",
    "version": 3
   },
   "file_extension": ".py",
   "mimetype": "text/x-python",
   "name": "python",
   "nbconvert_exporter": "python",
   "pygments_lexer": "ipython3",
   "version": "3.8.5"
  }
 },
 "nbformat": 4,
 "nbformat_minor": 4
}
