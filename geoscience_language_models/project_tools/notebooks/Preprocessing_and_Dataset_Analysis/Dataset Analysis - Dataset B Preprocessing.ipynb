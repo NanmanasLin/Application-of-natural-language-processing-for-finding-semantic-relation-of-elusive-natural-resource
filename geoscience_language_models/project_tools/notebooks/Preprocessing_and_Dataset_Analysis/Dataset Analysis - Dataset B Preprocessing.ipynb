{
 "cells": [
  {
   "cell_type": "markdown",
   "id": "incorporated-continent",
   "metadata": {},
   "source": [
    "# Dataset Analysis - Dataset B\n",
    "Copyright (C) 2021 ServiceNow, Inc.\n",
    "\n",
    "This notebook applies the preprocessing cleaning pipeline (v1) to Dataset B, investigating the effect of the various pipeline steps."
   ]
  },
  {
   "cell_type": "code",
   "execution_count": 1,
   "id": "married-criticism",
   "metadata": {},
   "outputs": [],
   "source": [
    "import pathlib\n",
    "import pandas as pd\n",
    "import re"
   ]
  },
  {
   "cell_type": "code",
   "execution_count": 2,
   "id": "wireless-feature",
   "metadata": {},
   "outputs": [],
   "source": [
    "%load_ext autoreload\n",
    "%autoreload 2"
   ]
  },
  {
   "cell_type": "code",
   "execution_count": 3,
   "id": "sensitive-indian",
   "metadata": {},
   "outputs": [
    {
     "data": {
      "text/plain": [
       "'bc__geofile__BCGS_GF1996-01'"
      ]
     },
     "execution_count": 3,
     "metadata": {},
     "output_type": "execute_result"
    }
   ],
   "source": [
    "PDF_DIR = '/nrcan_p2/data/01_raw/20210108'\n",
    "\n",
    "#pdfs = [x for x in pathlib.Path(PDF_DIR).glob('**/*.pdf')]\n",
    "pdfs = [x for x in pathlib.Path(PDF_DIR).rglob('*.pdf')]\n",
    "pdfs_rel = [pdf.relative_to(PDF_DIR) for pdf in pdfs]\n",
    "pdfs_rel[0]\n",
    "pdfs_base = [pathlib.Path(re.sub('/', '__', str(pdf))).stem for pdf in pdfs_rel]\n",
    "pdfs_base[0]"
   ]
  },
  {
   "cell_type": "code",
   "execution_count": 4,
   "id": "innocent-projection",
   "metadata": {},
   "outputs": [
    {
     "data": {
      "text/html": [
       "<div>\n",
       "<style scoped>\n",
       "    .dataframe tbody tr th:only-of-type {\n",
       "        vertical-align: middle;\n",
       "    }\n",
       "\n",
       "    .dataframe tbody tr th {\n",
       "        vertical-align: top;\n",
       "    }\n",
       "\n",
       "    .dataframe thead th {\n",
       "        text-align: right;\n",
       "    }\n",
       "</style>\n",
       "<table border=\"1\" class=\"dataframe\">\n",
       "  <thead>\n",
       "    <tr style=\"text-align: right;\">\n",
       "      <th></th>\n",
       "      <th>file</th>\n",
       "      <th>base</th>\n",
       "    </tr>\n",
       "  </thead>\n",
       "  <tbody>\n",
       "    <tr>\n",
       "      <th>0</th>\n",
       "      <td>/nrcan_p2/data/01_raw/20210108/bc/geofile/BCGS...</td>\n",
       "      <td>bc__geofile__BCGS_GF1996-01</td>\n",
       "    </tr>\n",
       "    <tr>\n",
       "      <th>1</th>\n",
       "      <td>/nrcan_p2/data/01_raw/20210108/bc/geofile/BCGS...</td>\n",
       "      <td>bc__geofile__BCGS_GF1997-01</td>\n",
       "    </tr>\n",
       "    <tr>\n",
       "      <th>2</th>\n",
       "      <td>/nrcan_p2/data/01_raw/20210108/bc/geofile/BCGS...</td>\n",
       "      <td>bc__geofile__BCGS_GF1997-02</td>\n",
       "    </tr>\n",
       "    <tr>\n",
       "      <th>3</th>\n",
       "      <td>/nrcan_p2/data/01_raw/20210108/bc/geofile/BCGS...</td>\n",
       "      <td>bc__geofile__BCGS_GF1998-01</td>\n",
       "    </tr>\n",
       "    <tr>\n",
       "      <th>4</th>\n",
       "      <td>/nrcan_p2/data/01_raw/20210108/bc/geofile/BCGS...</td>\n",
       "      <td>bc__geofile__BCGS_GF1998-02</td>\n",
       "    </tr>\n",
       "    <tr>\n",
       "      <th>...</th>\n",
       "      <td>...</td>\n",
       "      <td>...</td>\n",
       "    </tr>\n",
       "    <tr>\n",
       "      <th>13893</th>\n",
       "      <td>/nrcan_p2/data/01_raw/20210108/ontario/lists/s...</td>\n",
       "      <td>ontario__lists__sv04-01</td>\n",
       "    </tr>\n",
       "    <tr>\n",
       "      <th>13894</th>\n",
       "      <td>/nrcan_p2/data/01_raw/20210108/ontario/lists/S...</td>\n",
       "      <td>ontario__lists__SV04-02</td>\n",
       "    </tr>\n",
       "    <tr>\n",
       "      <th>13895</th>\n",
       "      <td>/nrcan_p2/data/01_raw/20210108/ontario/lists/S...</td>\n",
       "      <td>ontario__lists__SV05</td>\n",
       "    </tr>\n",
       "    <tr>\n",
       "      <th>13896</th>\n",
       "      <td>/nrcan_p2/data/01_raw/20210108/ontario/lists/S...</td>\n",
       "      <td>ontario__lists__SV06</td>\n",
       "    </tr>\n",
       "    <tr>\n",
       "      <th>13897</th>\n",
       "      <td>/nrcan_p2/data/01_raw/20210108/ontario/lists/v...</td>\n",
       "      <td>ontario__lists__vc09</td>\n",
       "    </tr>\n",
       "  </tbody>\n",
       "</table>\n",
       "<p>13898 rows × 2 columns</p>\n",
       "</div>"
      ],
      "text/plain": [
       "                                                    file  \\\n",
       "0      /nrcan_p2/data/01_raw/20210108/bc/geofile/BCGS...   \n",
       "1      /nrcan_p2/data/01_raw/20210108/bc/geofile/BCGS...   \n",
       "2      /nrcan_p2/data/01_raw/20210108/bc/geofile/BCGS...   \n",
       "3      /nrcan_p2/data/01_raw/20210108/bc/geofile/BCGS...   \n",
       "4      /nrcan_p2/data/01_raw/20210108/bc/geofile/BCGS...   \n",
       "...                                                  ...   \n",
       "13893  /nrcan_p2/data/01_raw/20210108/ontario/lists/s...   \n",
       "13894  /nrcan_p2/data/01_raw/20210108/ontario/lists/S...   \n",
       "13895  /nrcan_p2/data/01_raw/20210108/ontario/lists/S...   \n",
       "13896  /nrcan_p2/data/01_raw/20210108/ontario/lists/S...   \n",
       "13897  /nrcan_p2/data/01_raw/20210108/ontario/lists/v...   \n",
       "\n",
       "                              base  \n",
       "0      bc__geofile__BCGS_GF1996-01  \n",
       "1      bc__geofile__BCGS_GF1997-01  \n",
       "2      bc__geofile__BCGS_GF1997-02  \n",
       "3      bc__geofile__BCGS_GF1998-01  \n",
       "4      bc__geofile__BCGS_GF1998-02  \n",
       "...                            ...  \n",
       "13893      ontario__lists__sv04-01  \n",
       "13894      ontario__lists__SV04-02  \n",
       "13895         ontario__lists__SV05  \n",
       "13896         ontario__lists__SV06  \n",
       "13897         ontario__lists__vc09  \n",
       "\n",
       "[13898 rows x 2 columns]"
      ]
     },
     "execution_count": 4,
     "metadata": {},
     "output_type": "execute_result"
    }
   ],
   "source": [
    "pdfs_df = pd.DataFrame({'file': pdfs, 'base': pdfs_base})\n",
    "pdfs_df"
   ]
  },
  {
   "cell_type": "code",
   "execution_count": 5,
   "id": "pending-groove",
   "metadata": {},
   "outputs": [],
   "source": [
    "CSV_DIR = '/nrcan_p2/data/02_intermediate/20210108'\n",
    "\n",
    "csvs = [x for x in pathlib.Path(CSV_DIR).rglob('*.csv')]"
   ]
  },
  {
   "cell_type": "code",
   "execution_count": 6,
   "id": "forty-astrology",
   "metadata": {},
   "outputs": [
    {
     "data": {
      "text/plain": [
       "13545"
      ]
     },
     "execution_count": 6,
     "metadata": {},
     "output_type": "execute_result"
    }
   ],
   "source": [
    "len(csvs)"
   ]
  },
  {
   "cell_type": "code",
   "execution_count": 7,
   "id": "relative-plane",
   "metadata": {},
   "outputs": [
    {
     "data": {
      "text/html": [
       "<div>\n",
       "<style scoped>\n",
       "    .dataframe tbody tr th:only-of-type {\n",
       "        vertical-align: middle;\n",
       "    }\n",
       "\n",
       "    .dataframe tbody tr th {\n",
       "        vertical-align: top;\n",
       "    }\n",
       "\n",
       "    .dataframe thead th {\n",
       "        text-align: right;\n",
       "    }\n",
       "</style>\n",
       "<table border=\"1\" class=\"dataframe\">\n",
       "  <thead>\n",
       "    <tr style=\"text-align: right;\">\n",
       "      <th></th>\n",
       "      <th>file</th>\n",
       "    </tr>\n",
       "  </thead>\n",
       "  <tbody>\n",
       "    <tr>\n",
       "      <th>0</th>\n",
       "      <td>/nrcan_p2/data/02_intermediate/20210108/bc__ge...</td>\n",
       "    </tr>\n",
       "    <tr>\n",
       "      <th>1</th>\n",
       "      <td>/nrcan_p2/data/02_intermediate/20210108/bc__ge...</td>\n",
       "    </tr>\n",
       "    <tr>\n",
       "      <th>2</th>\n",
       "      <td>/nrcan_p2/data/02_intermediate/20210108/bc__ge...</td>\n",
       "    </tr>\n",
       "    <tr>\n",
       "      <th>3</th>\n",
       "      <td>/nrcan_p2/data/02_intermediate/20210108/bc__ge...</td>\n",
       "    </tr>\n",
       "    <tr>\n",
       "      <th>4</th>\n",
       "      <td>/nrcan_p2/data/02_intermediate/20210108/bc__ge...</td>\n",
       "    </tr>\n",
       "    <tr>\n",
       "      <th>...</th>\n",
       "      <td>...</td>\n",
       "    </tr>\n",
       "    <tr>\n",
       "      <th>13540</th>\n",
       "      <td>/nrcan_p2/data/02_intermediate/20210108/ontari...</td>\n",
       "    </tr>\n",
       "    <tr>\n",
       "      <th>13541</th>\n",
       "      <td>/nrcan_p2/data/02_intermediate/20210108/ontari...</td>\n",
       "    </tr>\n",
       "    <tr>\n",
       "      <th>13542</th>\n",
       "      <td>/nrcan_p2/data/02_intermediate/20210108/ontari...</td>\n",
       "    </tr>\n",
       "    <tr>\n",
       "      <th>13543</th>\n",
       "      <td>/nrcan_p2/data/02_intermediate/20210108/ontari...</td>\n",
       "    </tr>\n",
       "    <tr>\n",
       "      <th>13544</th>\n",
       "      <td>/nrcan_p2/data/02_intermediate/20210108/ontari...</td>\n",
       "    </tr>\n",
       "  </tbody>\n",
       "</table>\n",
       "<p>13545 rows × 1 columns</p>\n",
       "</div>"
      ],
      "text/plain": [
       "                                                    file\n",
       "0      /nrcan_p2/data/02_intermediate/20210108/bc__ge...\n",
       "1      /nrcan_p2/data/02_intermediate/20210108/bc__ge...\n",
       "2      /nrcan_p2/data/02_intermediate/20210108/bc__ge...\n",
       "3      /nrcan_p2/data/02_intermediate/20210108/bc__ge...\n",
       "4      /nrcan_p2/data/02_intermediate/20210108/bc__ge...\n",
       "...                                                  ...\n",
       "13540  /nrcan_p2/data/02_intermediate/20210108/ontari...\n",
       "13541  /nrcan_p2/data/02_intermediate/20210108/ontari...\n",
       "13542  /nrcan_p2/data/02_intermediate/20210108/ontari...\n",
       "13543  /nrcan_p2/data/02_intermediate/20210108/ontari...\n",
       "13544  /nrcan_p2/data/02_intermediate/20210108/ontari...\n",
       "\n",
       "[13545 rows x 1 columns]"
      ]
     },
     "execution_count": 7,
     "metadata": {},
     "output_type": "execute_result"
    }
   ],
   "source": [
    "csvs_df = pd.DataFrame({'file': csvs})\n",
    "csvs_df"
   ]
  },
  {
   "cell_type": "code",
   "execution_count": 8,
   "id": "positive-reception",
   "metadata": {},
   "outputs": [],
   "source": [
    "csvs_df['rel'] = csvs_df.file.apply(lambda x: x.relative_to(CSV_DIR))\n",
    "csvs_df['base'] = csvs_df.rel.apply(lambda x: pathlib.Path(pathlib.Path(x.stem).stem).stem) #.stem for csv in csvs_rel]"
   ]
  },
  {
   "cell_type": "code",
   "execution_count": 9,
   "id": "rising-liverpool",
   "metadata": {},
   "outputs": [
    {
     "data": {
      "text/html": [
       "<div>\n",
       "<style scoped>\n",
       "    .dataframe tbody tr th:only-of-type {\n",
       "        vertical-align: middle;\n",
       "    }\n",
       "\n",
       "    .dataframe tbody tr th {\n",
       "        vertical-align: top;\n",
       "    }\n",
       "\n",
       "    .dataframe thead th {\n",
       "        text-align: right;\n",
       "    }\n",
       "</style>\n",
       "<table border=\"1\" class=\"dataframe\">\n",
       "  <thead>\n",
       "    <tr style=\"text-align: right;\">\n",
       "      <th></th>\n",
       "      <th>file</th>\n",
       "      <th>rel</th>\n",
       "      <th>base</th>\n",
       "    </tr>\n",
       "  </thead>\n",
       "  <tbody>\n",
       "    <tr>\n",
       "      <th>0</th>\n",
       "      <td>/nrcan_p2/data/02_intermediate/20210108/bc__ge...</td>\n",
       "      <td>bc__geofile__BCGS_GF1996-01.pdfminer_split.txt...</td>\n",
       "      <td>bc__geofile__BCGS_GF1996-01</td>\n",
       "    </tr>\n",
       "    <tr>\n",
       "      <th>1</th>\n",
       "      <td>/nrcan_p2/data/02_intermediate/20210108/bc__ge...</td>\n",
       "      <td>bc__geofile__BCGS_GF1997-01.pdfminer_split.txt...</td>\n",
       "      <td>bc__geofile__BCGS_GF1997-01</td>\n",
       "    </tr>\n",
       "    <tr>\n",
       "      <th>2</th>\n",
       "      <td>/nrcan_p2/data/02_intermediate/20210108/bc__ge...</td>\n",
       "      <td>bc__geofile__BCGS_GF1997-02.pdfminer_split.txt...</td>\n",
       "      <td>bc__geofile__BCGS_GF1997-02</td>\n",
       "    </tr>\n",
       "    <tr>\n",
       "      <th>3</th>\n",
       "      <td>/nrcan_p2/data/02_intermediate/20210108/bc__ge...</td>\n",
       "      <td>bc__geofile__BCGS_GF1998-01.pdfminer_split.txt...</td>\n",
       "      <td>bc__geofile__BCGS_GF1998-01</td>\n",
       "    </tr>\n",
       "    <tr>\n",
       "      <th>4</th>\n",
       "      <td>/nrcan_p2/data/02_intermediate/20210108/bc__ge...</td>\n",
       "      <td>bc__geofile__BCGS_GF1998-02.pdfminer_split.txt...</td>\n",
       "      <td>bc__geofile__BCGS_GF1998-02</td>\n",
       "    </tr>\n",
       "    <tr>\n",
       "      <th>...</th>\n",
       "      <td>...</td>\n",
       "      <td>...</td>\n",
       "      <td>...</td>\n",
       "    </tr>\n",
       "    <tr>\n",
       "      <th>13540</th>\n",
       "      <td>/nrcan_p2/data/02_intermediate/20210108/ontari...</td>\n",
       "      <td>ontario__lists__ARIP105.pdfminer_split.txt.csv</td>\n",
       "      <td>ontario__lists__ARIP105</td>\n",
       "    </tr>\n",
       "    <tr>\n",
       "      <th>13541</th>\n",
       "      <td>/nrcan_p2/data/02_intermediate/20210108/ontari...</td>\n",
       "      <td>ontario__lists__OFR5467.pdfminer_split.txt.csv</td>\n",
       "      <td>ontario__lists__OFR5467</td>\n",
       "    </tr>\n",
       "    <tr>\n",
       "      <th>13542</th>\n",
       "      <td>/nrcan_p2/data/02_intermediate/20210108/ontari...</td>\n",
       "      <td>ontario__lists__OFR5479.pdfminer_split.txt.csv</td>\n",
       "      <td>ontario__lists__OFR5479</td>\n",
       "    </tr>\n",
       "    <tr>\n",
       "      <th>13543</th>\n",
       "      <td>/nrcan_p2/data/02_intermediate/20210108/ontari...</td>\n",
       "      <td>ontario__lists__ofr5997.pdfminer_split.txt.csv</td>\n",
       "      <td>ontario__lists__ofr5997</td>\n",
       "    </tr>\n",
       "    <tr>\n",
       "      <th>13544</th>\n",
       "      <td>/nrcan_p2/data/02_intermediate/20210108/ontari...</td>\n",
       "      <td>ontario__lists__ARIP132.pdfminer_split.txt.csv</td>\n",
       "      <td>ontario__lists__ARIP132</td>\n",
       "    </tr>\n",
       "  </tbody>\n",
       "</table>\n",
       "<p>13545 rows × 3 columns</p>\n",
       "</div>"
      ],
      "text/plain": [
       "                                                    file  \\\n",
       "0      /nrcan_p2/data/02_intermediate/20210108/bc__ge...   \n",
       "1      /nrcan_p2/data/02_intermediate/20210108/bc__ge...   \n",
       "2      /nrcan_p2/data/02_intermediate/20210108/bc__ge...   \n",
       "3      /nrcan_p2/data/02_intermediate/20210108/bc__ge...   \n",
       "4      /nrcan_p2/data/02_intermediate/20210108/bc__ge...   \n",
       "...                                                  ...   \n",
       "13540  /nrcan_p2/data/02_intermediate/20210108/ontari...   \n",
       "13541  /nrcan_p2/data/02_intermediate/20210108/ontari...   \n",
       "13542  /nrcan_p2/data/02_intermediate/20210108/ontari...   \n",
       "13543  /nrcan_p2/data/02_intermediate/20210108/ontari...   \n",
       "13544  /nrcan_p2/data/02_intermediate/20210108/ontari...   \n",
       "\n",
       "                                                     rel  \\\n",
       "0      bc__geofile__BCGS_GF1996-01.pdfminer_split.txt...   \n",
       "1      bc__geofile__BCGS_GF1997-01.pdfminer_split.txt...   \n",
       "2      bc__geofile__BCGS_GF1997-02.pdfminer_split.txt...   \n",
       "3      bc__geofile__BCGS_GF1998-01.pdfminer_split.txt...   \n",
       "4      bc__geofile__BCGS_GF1998-02.pdfminer_split.txt...   \n",
       "...                                                  ...   \n",
       "13540     ontario__lists__ARIP105.pdfminer_split.txt.csv   \n",
       "13541     ontario__lists__OFR5467.pdfminer_split.txt.csv   \n",
       "13542     ontario__lists__OFR5479.pdfminer_split.txt.csv   \n",
       "13543     ontario__lists__ofr5997.pdfminer_split.txt.csv   \n",
       "13544     ontario__lists__ARIP132.pdfminer_split.txt.csv   \n",
       "\n",
       "                              base  \n",
       "0      bc__geofile__BCGS_GF1996-01  \n",
       "1      bc__geofile__BCGS_GF1997-01  \n",
       "2      bc__geofile__BCGS_GF1997-02  \n",
       "3      bc__geofile__BCGS_GF1998-01  \n",
       "4      bc__geofile__BCGS_GF1998-02  \n",
       "...                            ...  \n",
       "13540      ontario__lists__ARIP105  \n",
       "13541      ontario__lists__OFR5467  \n",
       "13542      ontario__lists__OFR5479  \n",
       "13543      ontario__lists__ofr5997  \n",
       "13544      ontario__lists__ARIP132  \n",
       "\n",
       "[13545 rows x 3 columns]"
      ]
     },
     "execution_count": 9,
     "metadata": {},
     "output_type": "execute_result"
    }
   ],
   "source": [
    "csvs_df"
   ]
  },
  {
   "cell_type": "code",
   "execution_count": 10,
   "id": "rolled-baseball",
   "metadata": {},
   "outputs": [],
   "source": [
    "csvs_df['folder'] = csvs_df.file.apply(lambda x: x.parent / '/'.join(x.stem.split('__')[:-1]))"
   ]
  },
  {
   "cell_type": "code",
   "execution_count": 11,
   "id": "fifty-lobby",
   "metadata": {},
   "outputs": [],
   "source": [
    "files_df = pd.merge(csvs_df, pdfs_df, on='base', how='left', suffixes=('', '_pdf'))"
   ]
  },
  {
   "cell_type": "code",
   "execution_count": 12,
   "id": "unique-remainder",
   "metadata": {},
   "outputs": [
    {
     "data": {
      "text/plain": [
       "/nrcan_p2/data/02_intermediate/20210108/ontario/lists                           10372\n",
       "/nrcan_p2/data/02_intermediate/20210108/bc/paper                                 1614\n",
       "/nrcan_p2/data/02_intermediate/20210108/alberta                                   918\n",
       "/nrcan_p2/data/02_intermediate/20210108/bc/geofile                                217\n",
       "/nrcan_p2/data/02_intermediate/20210108/bc/petrolium_geoscience_publications      209\n",
       "/nrcan_p2/data/02_intermediate/20210108/bc/geology_exploration_mining             164\n",
       "/nrcan_p2/data/02_intermediate/20210108/bc/geoscience_bc                           51\n",
       "Name: folder, dtype: int64"
      ]
     },
     "execution_count": 12,
     "metadata": {},
     "output_type": "execute_result"
    }
   ],
   "source": [
    "files_df.folder.value_counts()"
   ]
  },
  {
   "cell_type": "code",
   "execution_count": 13,
   "id": "supreme-people",
   "metadata": {},
   "outputs": [
    {
     "data": {
      "text/html": [
       "<div>\n",
       "<style scoped>\n",
       "    .dataframe tbody tr th:only-of-type {\n",
       "        vertical-align: middle;\n",
       "    }\n",
       "\n",
       "    .dataframe tbody tr th {\n",
       "        vertical-align: top;\n",
       "    }\n",
       "\n",
       "    .dataframe thead th {\n",
       "        text-align: right;\n",
       "    }\n",
       "</style>\n",
       "<table border=\"1\" class=\"dataframe\">\n",
       "  <thead>\n",
       "    <tr style=\"text-align: right;\">\n",
       "      <th></th>\n",
       "      <th>file</th>\n",
       "      <th>rel</th>\n",
       "      <th>base</th>\n",
       "      <th>folder</th>\n",
       "      <th>file_pdf</th>\n",
       "    </tr>\n",
       "  </thead>\n",
       "  <tbody>\n",
       "    <tr>\n",
       "      <th>1883</th>\n",
       "      <td>/nrcan_p2/data/02_intermediate/20210108/albert...</td>\n",
       "      <td>alberta__document_ESR_ESR_1966_02.pdfminer_spl...</td>\n",
       "      <td>alberta__document_ESR_ESR_1966_02</td>\n",
       "      <td>/nrcan_p2/data/02_intermediate/20210108/alberta</td>\n",
       "      <td>/nrcan_p2/data/01_raw/20210108/alberta/documen...</td>\n",
       "    </tr>\n",
       "    <tr>\n",
       "      <th>5600</th>\n",
       "      <td>/nrcan_p2/data/02_intermediate/20210108/albert...</td>\n",
       "      <td>alberta__document_OFR_OFR_2012_01.pdfminer_spl...</td>\n",
       "      <td>alberta__document_OFR_OFR_2012_01</td>\n",
       "      <td>/nrcan_p2/data/02_intermediate/20210108/alberta</td>\n",
       "      <td>/nrcan_p2/data/01_raw/20210108/alberta/documen...</td>\n",
       "    </tr>\n",
       "    <tr>\n",
       "      <th>2879</th>\n",
       "      <td>/nrcan_p2/data/02_intermediate/20210108/albert...</td>\n",
       "      <td>alberta__document_REP_REP_48.pdfminer_split.tx...</td>\n",
       "      <td>alberta__document_REP_REP_48</td>\n",
       "      <td>/nrcan_p2/data/02_intermediate/20210108/alberta</td>\n",
       "      <td>/nrcan_p2/data/01_raw/20210108/alberta/documen...</td>\n",
       "    </tr>\n",
       "    <tr>\n",
       "      <th>1659</th>\n",
       "      <td>/nrcan_p2/data/02_intermediate/20210108/albert...</td>\n",
       "      <td>alberta__document_ESR_ESR_1966_06.pdfminer_spl...</td>\n",
       "      <td>alberta__document_ESR_ESR_1966_06</td>\n",
       "      <td>/nrcan_p2/data/02_intermediate/20210108/alberta</td>\n",
       "      <td>/nrcan_p2/data/01_raw/20210108/alberta/documen...</td>\n",
       "    </tr>\n",
       "    <tr>\n",
       "      <th>766</th>\n",
       "      <td>/nrcan_p2/data/02_intermediate/20210108/albert...</td>\n",
       "      <td>alberta__document_OFR_OFR_1973_25.pdfminer_spl...</td>\n",
       "      <td>alberta__document_OFR_OFR_1973_25</td>\n",
       "      <td>/nrcan_p2/data/02_intermediate/20210108/alberta</td>\n",
       "      <td>/nrcan_p2/data/01_raw/20210108/alberta/documen...</td>\n",
       "    </tr>\n",
       "    <tr>\n",
       "      <th>...</th>\n",
       "      <td>...</td>\n",
       "      <td>...</td>\n",
       "      <td>...</td>\n",
       "      <td>...</td>\n",
       "      <td>...</td>\n",
       "    </tr>\n",
       "    <tr>\n",
       "      <th>3994</th>\n",
       "      <td>/nrcan_p2/data/02_intermediate/20210108/ontari...</td>\n",
       "      <td>ontario__lists__MRD076.pdfminer_split.txt.csv</td>\n",
       "      <td>ontario__lists__MRD076</td>\n",
       "      <td>/nrcan_p2/data/02_intermediate/20210108/ontari...</td>\n",
       "      <td>/nrcan_p2/data/01_raw/20210108/ontario/lists/M...</td>\n",
       "    </tr>\n",
       "    <tr>\n",
       "      <th>3059</th>\n",
       "      <td>/nrcan_p2/data/02_intermediate/20210108/ontari...</td>\n",
       "      <td>ontario__lists__m1934A.pdfminer_split.txt.csv</td>\n",
       "      <td>ontario__lists__m1934A</td>\n",
       "      <td>/nrcan_p2/data/02_intermediate/20210108/ontari...</td>\n",
       "      <td>/nrcan_p2/data/01_raw/20210108/ontario/lists/m...</td>\n",
       "    </tr>\n",
       "    <tr>\n",
       "      <th>3947</th>\n",
       "      <td>/nrcan_p2/data/02_intermediate/20210108/ontari...</td>\n",
       "      <td>ontario__lists__m81724.pdfminer_split.txt.csv</td>\n",
       "      <td>ontario__lists__m81724</td>\n",
       "      <td>/nrcan_p2/data/02_intermediate/20210108/ontari...</td>\n",
       "      <td>/nrcan_p2/data/01_raw/20210108/ontario/lists/m...</td>\n",
       "    </tr>\n",
       "    <tr>\n",
       "      <th>3443</th>\n",
       "      <td>/nrcan_p2/data/02_intermediate/20210108/ontari...</td>\n",
       "      <td>ontario__lists__gdif610.pdfminer_split.txt.csv</td>\n",
       "      <td>ontario__lists__gdif610</td>\n",
       "      <td>/nrcan_p2/data/02_intermediate/20210108/ontari...</td>\n",
       "      <td>/nrcan_p2/data/01_raw/20210108/ontario/lists/g...</td>\n",
       "    </tr>\n",
       "    <tr>\n",
       "      <th>13005</th>\n",
       "      <td>/nrcan_p2/data/02_intermediate/20210108/ontari...</td>\n",
       "      <td>ontario__lists__m60245.pdfminer_split.txt.csv</td>\n",
       "      <td>ontario__lists__m60245</td>\n",
       "      <td>/nrcan_p2/data/02_intermediate/20210108/ontari...</td>\n",
       "      <td>/nrcan_p2/data/01_raw/20210108/ontario/lists/m...</td>\n",
       "    </tr>\n",
       "  </tbody>\n",
       "</table>\n",
       "<p>350 rows × 5 columns</p>\n",
       "</div>"
      ],
      "text/plain": [
       "                                                    file  \\\n",
       "1883   /nrcan_p2/data/02_intermediate/20210108/albert...   \n",
       "5600   /nrcan_p2/data/02_intermediate/20210108/albert...   \n",
       "2879   /nrcan_p2/data/02_intermediate/20210108/albert...   \n",
       "1659   /nrcan_p2/data/02_intermediate/20210108/albert...   \n",
       "766    /nrcan_p2/data/02_intermediate/20210108/albert...   \n",
       "...                                                  ...   \n",
       "3994   /nrcan_p2/data/02_intermediate/20210108/ontari...   \n",
       "3059   /nrcan_p2/data/02_intermediate/20210108/ontari...   \n",
       "3947   /nrcan_p2/data/02_intermediate/20210108/ontari...   \n",
       "3443   /nrcan_p2/data/02_intermediate/20210108/ontari...   \n",
       "13005  /nrcan_p2/data/02_intermediate/20210108/ontari...   \n",
       "\n",
       "                                                     rel  \\\n",
       "1883   alberta__document_ESR_ESR_1966_02.pdfminer_spl...   \n",
       "5600   alberta__document_OFR_OFR_2012_01.pdfminer_spl...   \n",
       "2879   alberta__document_REP_REP_48.pdfminer_split.tx...   \n",
       "1659   alberta__document_ESR_ESR_1966_06.pdfminer_spl...   \n",
       "766    alberta__document_OFR_OFR_1973_25.pdfminer_spl...   \n",
       "...                                                  ...   \n",
       "3994       ontario__lists__MRD076.pdfminer_split.txt.csv   \n",
       "3059       ontario__lists__m1934A.pdfminer_split.txt.csv   \n",
       "3947       ontario__lists__m81724.pdfminer_split.txt.csv   \n",
       "3443      ontario__lists__gdif610.pdfminer_split.txt.csv   \n",
       "13005      ontario__lists__m60245.pdfminer_split.txt.csv   \n",
       "\n",
       "                                    base  \\\n",
       "1883   alberta__document_ESR_ESR_1966_02   \n",
       "5600   alberta__document_OFR_OFR_2012_01   \n",
       "2879        alberta__document_REP_REP_48   \n",
       "1659   alberta__document_ESR_ESR_1966_06   \n",
       "766    alberta__document_OFR_OFR_1973_25   \n",
       "...                                  ...   \n",
       "3994              ontario__lists__MRD076   \n",
       "3059              ontario__lists__m1934A   \n",
       "3947              ontario__lists__m81724   \n",
       "3443             ontario__lists__gdif610   \n",
       "13005             ontario__lists__m60245   \n",
       "\n",
       "                                                  folder  \\\n",
       "1883     /nrcan_p2/data/02_intermediate/20210108/alberta   \n",
       "5600     /nrcan_p2/data/02_intermediate/20210108/alberta   \n",
       "2879     /nrcan_p2/data/02_intermediate/20210108/alberta   \n",
       "1659     /nrcan_p2/data/02_intermediate/20210108/alberta   \n",
       "766      /nrcan_p2/data/02_intermediate/20210108/alberta   \n",
       "...                                                  ...   \n",
       "3994   /nrcan_p2/data/02_intermediate/20210108/ontari...   \n",
       "3059   /nrcan_p2/data/02_intermediate/20210108/ontari...   \n",
       "3947   /nrcan_p2/data/02_intermediate/20210108/ontari...   \n",
       "3443   /nrcan_p2/data/02_intermediate/20210108/ontari...   \n",
       "13005  /nrcan_p2/data/02_intermediate/20210108/ontari...   \n",
       "\n",
       "                                                file_pdf  \n",
       "1883   /nrcan_p2/data/01_raw/20210108/alberta/documen...  \n",
       "5600   /nrcan_p2/data/01_raw/20210108/alberta/documen...  \n",
       "2879   /nrcan_p2/data/01_raw/20210108/alberta/documen...  \n",
       "1659   /nrcan_p2/data/01_raw/20210108/alberta/documen...  \n",
       "766    /nrcan_p2/data/01_raw/20210108/alberta/documen...  \n",
       "...                                                  ...  \n",
       "3994   /nrcan_p2/data/01_raw/20210108/ontario/lists/M...  \n",
       "3059   /nrcan_p2/data/01_raw/20210108/ontario/lists/m...  \n",
       "3947   /nrcan_p2/data/01_raw/20210108/ontario/lists/m...  \n",
       "3443   /nrcan_p2/data/01_raw/20210108/ontario/lists/g...  \n",
       "13005  /nrcan_p2/data/01_raw/20210108/ontario/lists/m...  \n",
       "\n",
       "[350 rows x 5 columns]"
      ]
     },
     "execution_count": 13,
     "metadata": {},
     "output_type": "execute_result"
    }
   ],
   "source": [
    "sample_df = files_df.groupby('folder').sample(50)\n",
    "sample_df"
   ]
  },
  {
   "cell_type": "code",
   "execution_count": 37,
   "id": "revised-storm",
   "metadata": {},
   "outputs": [
    {
     "data": {
      "text/plain": [
       "350"
      ]
     },
     "execution_count": 37,
     "metadata": {},
     "output_type": "execute_result"
    }
   ],
   "source": [
    "sample_df.file.nunique()"
   ]
  },
  {
   "cell_type": "code",
   "execution_count": 14,
   "id": "recent-archive",
   "metadata": {},
   "outputs": [],
   "source": [
    "sample_df.to_csv('sample_dataset_b_50.csv')"
   ]
  },
  {
   "cell_type": "code",
   "execution_count": 1,
   "id": "coupled-administration",
   "metadata": {},
   "outputs": [],
   "source": [
    "import pandas as pd\n",
    "sample_df = pd.read_csv('sample_dataset_b_50.csv')"
   ]
  },
  {
   "cell_type": "markdown",
   "id": "sensitive-abuse",
   "metadata": {},
   "source": [
    "## PDFs"
   ]
  },
  {
   "cell_type": "code",
   "execution_count": 3,
   "id": "forty-gazette",
   "metadata": {},
   "outputs": [
    {
     "name": "stderr",
     "output_type": "stream",
     "text": [
      "/opt/conda/lib/python3.8/site-packages/IPython/core/interactiveshell.py:3146: DtypeWarning: Columns (7) have mixed types.Specify dtype option on import or set low_memory=False.\n",
      "  has_raised = await self.run_ast_nodes(code_ast.body, cell_name,\n"
     ]
    },
    {
     "data": {
      "text/html": [
       "<div>\n",
       "<style scoped>\n",
       "    .dataframe tbody tr th:only-of-type {\n",
       "        vertical-align: middle;\n",
       "    }\n",
       "\n",
       "    .dataframe tbody tr th {\n",
       "        vertical-align: top;\n",
       "    }\n",
       "\n",
       "    .dataframe thead th {\n",
       "        text-align: right;\n",
       "    }\n",
       "</style>\n",
       "<table border=\"1\" class=\"dataframe\">\n",
       "  <thead>\n",
       "    <tr style=\"text-align: right;\">\n",
       "      <th></th>\n",
       "      <th>Unnamed: 0</th>\n",
       "      <th>obj_type</th>\n",
       "      <th>pg</th>\n",
       "      <th>pos_x0</th>\n",
       "      <th>pos_y0</th>\n",
       "      <th>pos_x1</th>\n",
       "      <th>pos_y1</th>\n",
       "      <th>text</th>\n",
       "      <th>file</th>\n",
       "    </tr>\n",
       "  </thead>\n",
       "  <tbody>\n",
       "    <tr>\n",
       "      <th>0</th>\n",
       "      <td>0</td>\n",
       "      <td>&lt;class 'pdfminer.layout.LTFigure'&gt;</td>\n",
       "      <td>0.0</td>\n",
       "      <td>0.00000</td>\n",
       "      <td>90.000</td>\n",
       "      <td>432.00000</td>\n",
       "      <td>792.00000</td>\n",
       "      <td>NaN</td>\n",
       "      <td>/nrcan_p2/data/02_intermediate/20210108/albert...</td>\n",
       "    </tr>\n",
       "    <tr>\n",
       "      <th>1</th>\n",
       "      <td>1</td>\n",
       "      <td>&lt;class 'pdfminer.layout.LTFigure'&gt;</td>\n",
       "      <td>1.0</td>\n",
       "      <td>0.00000</td>\n",
       "      <td>90.000</td>\n",
       "      <td>432.00000</td>\n",
       "      <td>792.00000</td>\n",
       "      <td>NaN</td>\n",
       "      <td>/nrcan_p2/data/02_intermediate/20210108/albert...</td>\n",
       "    </tr>\n",
       "    <tr>\n",
       "      <th>2</th>\n",
       "      <td>2</td>\n",
       "      <td>&lt;class 'pdfminer.layout.LTFigure'&gt;</td>\n",
       "      <td>2.0</td>\n",
       "      <td>0.00000</td>\n",
       "      <td>90.000</td>\n",
       "      <td>432.00000</td>\n",
       "      <td>792.00000</td>\n",
       "      <td>NaN</td>\n",
       "      <td>/nrcan_p2/data/02_intermediate/20210108/albert...</td>\n",
       "    </tr>\n",
       "    <tr>\n",
       "      <th>3</th>\n",
       "      <td>3</td>\n",
       "      <td>&lt;class 'pdfminer.layout.LTFigure'&gt;</td>\n",
       "      <td>3.0</td>\n",
       "      <td>0.00000</td>\n",
       "      <td>90.000</td>\n",
       "      <td>432.00000</td>\n",
       "      <td>792.00000</td>\n",
       "      <td>NaN</td>\n",
       "      <td>/nrcan_p2/data/02_intermediate/20210108/albert...</td>\n",
       "    </tr>\n",
       "    <tr>\n",
       "      <th>4</th>\n",
       "      <td>4</td>\n",
       "      <td>&lt;class 'pdfminer.layout.LTFigure'&gt;</td>\n",
       "      <td>4.0</td>\n",
       "      <td>0.00000</td>\n",
       "      <td>90.000</td>\n",
       "      <td>432.00000</td>\n",
       "      <td>792.00000</td>\n",
       "      <td>NaN</td>\n",
       "      <td>/nrcan_p2/data/02_intermediate/20210108/albert...</td>\n",
       "    </tr>\n",
       "    <tr>\n",
       "      <th>...</th>\n",
       "      <td>...</td>\n",
       "      <td>...</td>\n",
       "      <td>...</td>\n",
       "      <td>...</td>\n",
       "      <td>...</td>\n",
       "      <td>...</td>\n",
       "      <td>...</td>\n",
       "      <td>...</td>\n",
       "      <td>...</td>\n",
       "    </tr>\n",
       "    <tr>\n",
       "      <th>7242</th>\n",
       "      <td>7242</td>\n",
       "      <td>&lt;class 'pdfminer.layout.LTTextBoxHorizontal'&gt;</td>\n",
       "      <td>137.0</td>\n",
       "      <td>1033.74081</td>\n",
       "      <td>197.649</td>\n",
       "      <td>1251.20025</td>\n",
       "      <td>252.82900</td>\n",
       "      <td>TOWNSHIP  AREA \\n( M a p A - 3) \\nA.  FILES  I...</td>\n",
       "      <td>/nrcan_p2/data/02_intermediate/20210108/ontari...</td>\n",
       "    </tr>\n",
       "    <tr>\n",
       "      <th>7243</th>\n",
       "      <td>7243</td>\n",
       "      <td>&lt;class 'pdfminer.layout.LTTextBoxHorizontal'&gt;</td>\n",
       "      <td>137.0</td>\n",
       "      <td>1048.32000</td>\n",
       "      <td>162.837</td>\n",
       "      <td>1253.09259</td>\n",
       "      <td>173.24100</td>\n",
       "      <td>SEE  MAP  LEGENDS  ON  BACK  COVER  OF \\n</td>\n",
       "      <td>/nrcan_p2/data/02_intermediate/20210108/ontari...</td>\n",
       "    </tr>\n",
       "    <tr>\n",
       "      <th>7244</th>\n",
       "      <td>7244</td>\n",
       "      <td>&lt;class 'pdfminer.layout.LTTextBoxHorizontal'&gt;</td>\n",
       "      <td>137.0</td>\n",
       "      <td>1093.32045</td>\n",
       "      <td>148.257</td>\n",
       "      <td>1206.77742</td>\n",
       "      <td>158.66100</td>\n",
       "      <td>ACCOMPANYING  TEXT \\n</td>\n",
       "      <td>/nrcan_p2/data/02_intermediate/20210108/ontari...</td>\n",
       "    </tr>\n",
       "    <tr>\n",
       "      <th>7245</th>\n",
       "      <td>7245</td>\n",
       "      <td>&lt;class 'pdfminer.layout.LTFigure'&gt;</td>\n",
       "      <td>137.0</td>\n",
       "      <td>0.00000</td>\n",
       "      <td>-0.060</td>\n",
       "      <td>1845.60000</td>\n",
       "      <td>1700.10000</td>\n",
       "      <td>NaN</td>\n",
       "      <td>/nrcan_p2/data/02_intermediate/20210108/ontari...</td>\n",
       "    </tr>\n",
       "    <tr>\n",
       "      <th>0</th>\n",
       "      <td>0</td>\n",
       "      <td>&lt;class 'pdfminer.layout.LTFigure'&gt;</td>\n",
       "      <td>0.0</td>\n",
       "      <td>0.00000</td>\n",
       "      <td>221.760</td>\n",
       "      <td>3111.26428</td>\n",
       "      <td>1970.35228</td>\n",
       "      <td>NaN</td>\n",
       "      <td>/nrcan_p2/data/02_intermediate/20210108/ontari...</td>\n",
       "    </tr>\n",
       "  </tbody>\n",
       "</table>\n",
       "<p>8385460 rows × 9 columns</p>\n",
       "</div>"
      ],
      "text/plain": [
       "     Unnamed: 0                                       obj_type     pg  \\\n",
       "0             0             <class 'pdfminer.layout.LTFigure'>    0.0   \n",
       "1             1             <class 'pdfminer.layout.LTFigure'>    1.0   \n",
       "2             2             <class 'pdfminer.layout.LTFigure'>    2.0   \n",
       "3             3             <class 'pdfminer.layout.LTFigure'>    3.0   \n",
       "4             4             <class 'pdfminer.layout.LTFigure'>    4.0   \n",
       "...         ...                                            ...    ...   \n",
       "7242       7242  <class 'pdfminer.layout.LTTextBoxHorizontal'>  137.0   \n",
       "7243       7243  <class 'pdfminer.layout.LTTextBoxHorizontal'>  137.0   \n",
       "7244       7244  <class 'pdfminer.layout.LTTextBoxHorizontal'>  137.0   \n",
       "7245       7245             <class 'pdfminer.layout.LTFigure'>  137.0   \n",
       "0             0             <class 'pdfminer.layout.LTFigure'>    0.0   \n",
       "\n",
       "          pos_x0   pos_y0      pos_x1      pos_y1  \\\n",
       "0        0.00000   90.000   432.00000   792.00000   \n",
       "1        0.00000   90.000   432.00000   792.00000   \n",
       "2        0.00000   90.000   432.00000   792.00000   \n",
       "3        0.00000   90.000   432.00000   792.00000   \n",
       "4        0.00000   90.000   432.00000   792.00000   \n",
       "...          ...      ...         ...         ...   \n",
       "7242  1033.74081  197.649  1251.20025   252.82900   \n",
       "7243  1048.32000  162.837  1253.09259   173.24100   \n",
       "7244  1093.32045  148.257  1206.77742   158.66100   \n",
       "7245     0.00000   -0.060  1845.60000  1700.10000   \n",
       "0        0.00000  221.760  3111.26428  1970.35228   \n",
       "\n",
       "                                                   text  \\\n",
       "0                                                   NaN   \n",
       "1                                                   NaN   \n",
       "2                                                   NaN   \n",
       "3                                                   NaN   \n",
       "4                                                   NaN   \n",
       "...                                                 ...   \n",
       "7242  TOWNSHIP  AREA \\n( M a p A - 3) \\nA.  FILES  I...   \n",
       "7243          SEE  MAP  LEGENDS  ON  BACK  COVER  OF \\n   \n",
       "7244                              ACCOMPANYING  TEXT \\n   \n",
       "7245                                                NaN   \n",
       "0                                                   NaN   \n",
       "\n",
       "                                                   file  \n",
       "0     /nrcan_p2/data/02_intermediate/20210108/albert...  \n",
       "1     /nrcan_p2/data/02_intermediate/20210108/albert...  \n",
       "2     /nrcan_p2/data/02_intermediate/20210108/albert...  \n",
       "3     /nrcan_p2/data/02_intermediate/20210108/albert...  \n",
       "4     /nrcan_p2/data/02_intermediate/20210108/albert...  \n",
       "...                                                 ...  \n",
       "7242  /nrcan_p2/data/02_intermediate/20210108/ontari...  \n",
       "7243  /nrcan_p2/data/02_intermediate/20210108/ontari...  \n",
       "7244  /nrcan_p2/data/02_intermediate/20210108/ontari...  \n",
       "7245  /nrcan_p2/data/02_intermediate/20210108/ontari...  \n",
       "0     /nrcan_p2/data/02_intermediate/20210108/ontari...  \n",
       "\n",
       "[8385460 rows x 9 columns]"
      ]
     },
     "execution_count": 3,
     "metadata": {},
     "output_type": "execute_result"
    }
   ],
   "source": [
    "dfs = []\n",
    "for irow, row in sample_df.iterrows(): #sample_df.groupby('folder').sample(3).iterrows():\n",
    "    #print(irow, row)\n",
    "    pdf_file = row.file_pdf\n",
    "    csv_file = row.file\n",
    "    #print(pdf_file)\n",
    "    #print(csv_file)\n",
    "    dfs.append(pd.read_csv(csv_file))\n",
    "    #! cp pdf_file .\n",
    "    #break\n",
    "dfs = pd.concat(dfs)\n",
    "dfs"
   ]
  },
  {
   "cell_type": "markdown",
   "id": "painful-emergency",
   "metadata": {},
   "source": [
    "## Number of files, pages, docs etc."
   ]
  },
  {
   "cell_type": "code",
   "execution_count": 12,
   "id": "saved-acrobat",
   "metadata": {},
   "outputs": [
    {
     "name": "stdout",
     "output_type": "stream",
     "text": [
      "Number of pages overall:\n",
      "13458\n",
      "Number of documents overall:\n",
      "343\n"
     ]
    }
   ],
   "source": [
    "print('Number of pages overall:')\n",
    "print(dfs.groupby(['file', 'pg']).ngroups)\n",
    "\n",
    "print('Number of documents overall:')\n",
    "print(dfs.groupby('file').ngroups)\n",
    "\n",
    "#print('Number of entries overall:')\n",
    "#print(df.groupby('id1').ngroups)"
   ]
  },
  {
   "cell_type": "code",
   "execution_count": 14,
   "id": "compact-carry",
   "metadata": {},
   "outputs": [
    {
     "data": {
      "text/plain": [
       "Text(0.5, 1.0, 'Number of pages per pdf')"
      ]
     },
     "execution_count": 14,
     "metadata": {},
     "output_type": "execute_result"
    },
    {
     "data": {
      "image/png": "[encoded data removed]",
      "text/plain": [
       "<Figure size 720x288 with 1 Axes>"
      ]
     },
     "metadata": {
      "needs_background": "light"
     },
     "output_type": "display_data"
    }
   ],
   "source": [
    "v = dfs[['file', 'pg']].groupby(['file']).pg.nunique()\n",
    "import matplotlib.pyplot as plt\n",
    "v.plot.hist(bins=50, figsize=(10,4))\n",
    "plt.xlabel('No. pages')\n",
    "plt.ylabel('No. pdfs')\n",
    "plt.title('Number of pages per pdf')"
   ]
  },
  {
   "cell_type": "code",
   "execution_count": 15,
   "id": "burning-richardson",
   "metadata": {},
   "outputs": [
    {
     "data": {
      "text/plain": [
       "Text(0.5, 1.0, 'Number of pages per pdf')"
      ]
     },
     "execution_count": 15,
     "metadata": {},
     "output_type": "execute_result"
    },
    {
     "data": {
      "image/png": "[encoded data removed]",
      "text/plain": [
       "<Figure size 720x288 with 1 Axes>"
      ]
     },
     "metadata": {
      "needs_background": "light"
     },
     "output_type": "display_data"
    }
   ],
   "source": [
    "import matplotlib.pyplot as plt\n",
    "v.plot.hist(bins=50, figsize=(10,4))\n",
    "plt.yscale('log')\n",
    "plt.xlabel('No. pages')\n",
    "plt.ylabel('No. pdfs')\n",
    "plt.title('Number of pages per pdf')"
   ]
  },
  {
   "cell_type": "code",
   "execution_count": 17,
   "id": "romance-shoulder",
   "metadata": {},
   "outputs": [
    {
     "data": {
      "text/html": [
       "<div>\n",
       "<style scoped>\n",
       "    .dataframe tbody tr th:only-of-type {\n",
       "        vertical-align: middle;\n",
       "    }\n",
       "\n",
       "    .dataframe tbody tr th {\n",
       "        vertical-align: top;\n",
       "    }\n",
       "\n",
       "    .dataframe thead th {\n",
       "        text-align: right;\n",
       "    }\n",
       "</style>\n",
       "<table border=\"1\" class=\"dataframe\">\n",
       "  <thead>\n",
       "    <tr style=\"text-align: right;\">\n",
       "      <th></th>\n",
       "      <th>pg</th>\n",
       "    </tr>\n",
       "  </thead>\n",
       "  <tbody>\n",
       "    <tr>\n",
       "      <th>count</th>\n",
       "      <td>343.000000</td>\n",
       "    </tr>\n",
       "    <tr>\n",
       "      <th>mean</th>\n",
       "      <td>39.236152</td>\n",
       "    </tr>\n",
       "    <tr>\n",
       "      <th>std</th>\n",
       "      <td>88.132341</td>\n",
       "    </tr>\n",
       "    <tr>\n",
       "      <th>min</th>\n",
       "      <td>1.000000</td>\n",
       "    </tr>\n",
       "    <tr>\n",
       "      <th>0%</th>\n",
       "      <td>1.000000</td>\n",
       "    </tr>\n",
       "    <tr>\n",
       "      <th>1%</th>\n",
       "      <td>1.000000</td>\n",
       "    </tr>\n",
       "    <tr>\n",
       "      <th>10%</th>\n",
       "      <td>1.000000</td>\n",
       "    </tr>\n",
       "    <tr>\n",
       "      <th>20%</th>\n",
       "      <td>3.000000</td>\n",
       "    </tr>\n",
       "    <tr>\n",
       "      <th>25%</th>\n",
       "      <td>4.000000</td>\n",
       "    </tr>\n",
       "    <tr>\n",
       "      <th>30%</th>\n",
       "      <td>6.000000</td>\n",
       "    </tr>\n",
       "    <tr>\n",
       "      <th>40%</th>\n",
       "      <td>8.000000</td>\n",
       "    </tr>\n",
       "    <tr>\n",
       "      <th>50%</th>\n",
       "      <td>10.000000</td>\n",
       "    </tr>\n",
       "    <tr>\n",
       "      <th>60%</th>\n",
       "      <td>14.200000</td>\n",
       "    </tr>\n",
       "    <tr>\n",
       "      <th>70%</th>\n",
       "      <td>22.000000</td>\n",
       "    </tr>\n",
       "    <tr>\n",
       "      <th>80%</th>\n",
       "      <td>42.000000</td>\n",
       "    </tr>\n",
       "    <tr>\n",
       "      <th>90%</th>\n",
       "      <td>97.600000</td>\n",
       "    </tr>\n",
       "    <tr>\n",
       "      <th>99%</th>\n",
       "      <td>494.640000</td>\n",
       "    </tr>\n",
       "    <tr>\n",
       "      <th>100%</th>\n",
       "      <td>717.000000</td>\n",
       "    </tr>\n",
       "    <tr>\n",
       "      <th>max</th>\n",
       "      <td>717.000000</td>\n",
       "    </tr>\n",
       "  </tbody>\n",
       "</table>\n",
       "</div>"
      ],
      "text/plain": [
       "               pg\n",
       "count  343.000000\n",
       "mean    39.236152\n",
       "std     88.132341\n",
       "min      1.000000\n",
       "0%       1.000000\n",
       "1%       1.000000\n",
       "10%      1.000000\n",
       "20%      3.000000\n",
       "25%      4.000000\n",
       "30%      6.000000\n",
       "40%      8.000000\n",
       "50%     10.000000\n",
       "60%     14.200000\n",
       "70%     22.000000\n",
       "80%     42.000000\n",
       "90%     97.600000\n",
       "99%    494.640000\n",
       "100%   717.000000\n",
       "max    717.000000"
      ]
     },
     "execution_count": 17,
     "metadata": {},
     "output_type": "execute_result"
    }
   ],
   "source": [
    "percentiles = [0, 0.01,0.1,0.2,0.25,0.3,0.4,0.5,0.6,0.7,0.8,0.9,0.99, 1]\n",
    "v.describe(percentiles=percentiles).to_frame()"
   ]
  },
  {
   "cell_type": "markdown",
   "id": "crazy-hobby",
   "metadata": {},
   "source": [
    "**analysis** (remember thisis a sample) there documents in this dataset are shorter overall than the nrcan docs (median down from 32 -> 10 pg)\n",
    "The max number of pg/file is also lower 1599 -> 717."
   ]
  },
  {
   "cell_type": "code",
   "execution_count": 32,
   "id": "intellectual-joyce",
   "metadata": {},
   "outputs": [
    {
     "data": {
      "text/plain": [
       "(8002752, 15)"
      ]
     },
     "execution_count": 32,
     "metadata": {},
     "output_type": "execute_result"
    }
   ],
   "source": [
    "dfs[dfs.text.isnull()].shape"
   ]
  },
  {
   "cell_type": "code",
   "execution_count": 33,
   "id": "seventh-capture",
   "metadata": {},
   "outputs": [],
   "source": [
    "dfs = dfs[~dfs.text.isnull()]"
   ]
  },
  {
   "cell_type": "code",
   "execution_count": 35,
   "id": "formed-still",
   "metadata": {},
   "outputs": [
    {
     "data": {
      "text/plain": [
       "Text(0.5, 1.0, 'Number of pages per pdf')"
      ]
     },
     "execution_count": 35,
     "metadata": {},
     "output_type": "execute_result"
    },
    {
     "data": {
      "image/png": "[encoded data removed]",
      "text/plain": [
       "<Figure size 720x288 with 1 Axes>"
      ]
     },
     "metadata": {
      "needs_background": "light"
     },
     "output_type": "display_data"
    }
   ],
   "source": [
    "v = dfs[['file', 'pg']].groupby(['file']).pg.nunique()\n",
    "import matplotlib.pyplot as plt\n",
    "v.plot.hist(bins=50, figsize=(10,4))\n",
    "plt.yscale('log')\n",
    "plt.xlabel('No. pages')\n",
    "plt.ylabel('No. pdfs')\n",
    "plt.title('Number of pages per pdf')"
   ]
  },
  {
   "cell_type": "code",
   "execution_count": 36,
   "id": "excessive-prior",
   "metadata": {},
   "outputs": [
    {
     "data": {
      "text/html": [
       "<div>\n",
       "<style scoped>\n",
       "    .dataframe tbody tr th:only-of-type {\n",
       "        vertical-align: middle;\n",
       "    }\n",
       "\n",
       "    .dataframe tbody tr th {\n",
       "        vertical-align: top;\n",
       "    }\n",
       "\n",
       "    .dataframe thead th {\n",
       "        text-align: right;\n",
       "    }\n",
       "</style>\n",
       "<table border=\"1\" class=\"dataframe\">\n",
       "  <thead>\n",
       "    <tr style=\"text-align: right;\">\n",
       "      <th></th>\n",
       "      <th>pg</th>\n",
       "    </tr>\n",
       "  </thead>\n",
       "  <tbody>\n",
       "    <tr>\n",
       "      <th>count</th>\n",
       "      <td>292.000000</td>\n",
       "    </tr>\n",
       "    <tr>\n",
       "      <th>mean</th>\n",
       "      <td>36.400685</td>\n",
       "    </tr>\n",
       "    <tr>\n",
       "      <th>std</th>\n",
       "      <td>88.671914</td>\n",
       "    </tr>\n",
       "    <tr>\n",
       "      <th>min</th>\n",
       "      <td>1.000000</td>\n",
       "    </tr>\n",
       "    <tr>\n",
       "      <th>0%</th>\n",
       "      <td>1.000000</td>\n",
       "    </tr>\n",
       "    <tr>\n",
       "      <th>1%</th>\n",
       "      <td>1.000000</td>\n",
       "    </tr>\n",
       "    <tr>\n",
       "      <th>10%</th>\n",
       "      <td>1.000000</td>\n",
       "    </tr>\n",
       "    <tr>\n",
       "      <th>20%</th>\n",
       "      <td>3.000000</td>\n",
       "    </tr>\n",
       "    <tr>\n",
       "      <th>25%</th>\n",
       "      <td>4.000000</td>\n",
       "    </tr>\n",
       "    <tr>\n",
       "      <th>30%</th>\n",
       "      <td>6.000000</td>\n",
       "    </tr>\n",
       "    <tr>\n",
       "      <th>40%</th>\n",
       "      <td>8.000000</td>\n",
       "    </tr>\n",
       "    <tr>\n",
       "      <th>50%</th>\n",
       "      <td>9.500000</td>\n",
       "    </tr>\n",
       "    <tr>\n",
       "      <th>60%</th>\n",
       "      <td>12.000000</td>\n",
       "    </tr>\n",
       "    <tr>\n",
       "      <th>70%</th>\n",
       "      <td>17.000000</td>\n",
       "    </tr>\n",
       "    <tr>\n",
       "      <th>80%</th>\n",
       "      <td>32.000000</td>\n",
       "    </tr>\n",
       "    <tr>\n",
       "      <th>90%</th>\n",
       "      <td>96.000000</td>\n",
       "    </tr>\n",
       "    <tr>\n",
       "      <th>99%</th>\n",
       "      <td>505.110000</td>\n",
       "    </tr>\n",
       "    <tr>\n",
       "      <th>100%</th>\n",
       "      <td>698.000000</td>\n",
       "    </tr>\n",
       "    <tr>\n",
       "      <th>max</th>\n",
       "      <td>698.000000</td>\n",
       "    </tr>\n",
       "  </tbody>\n",
       "</table>\n",
       "</div>"
      ],
      "text/plain": [
       "               pg\n",
       "count  292.000000\n",
       "mean    36.400685\n",
       "std     88.671914\n",
       "min      1.000000\n",
       "0%       1.000000\n",
       "1%       1.000000\n",
       "10%      1.000000\n",
       "20%      3.000000\n",
       "25%      4.000000\n",
       "30%      6.000000\n",
       "40%      8.000000\n",
       "50%      9.500000\n",
       "60%     12.000000\n",
       "70%     17.000000\n",
       "80%     32.000000\n",
       "90%     96.000000\n",
       "99%    505.110000\n",
       "100%   698.000000\n",
       "max    698.000000"
      ]
     },
     "execution_count": 36,
     "metadata": {},
     "output_type": "execute_result"
    }
   ],
   "source": [
    "percentiles = [0, 0.01,0.1,0.2,0.25,0.3,0.4,0.5,0.6,0.7,0.8,0.9,0.99, 1]\n",
    "v.describe(percentiles=percentiles).to_frame()"
   ]
  },
  {
   "cell_type": "code",
   "execution_count": 38,
   "id": "vietnamese-carpet",
   "metadata": {},
   "outputs": [
    {
     "data": {
      "text/plain": [
       "0.8538011695906432"
      ]
     },
     "execution_count": 38,
     "metadata": {},
     "output_type": "execute_result"
    }
   ],
   "source": [
    "292/342"
   ]
  },
  {
   "cell_type": "markdown",
   "id": "alert-union",
   "metadata": {},
   "source": [
    "**analysis** note that we went from 342 -> 292 documents (15% loss)"
   ]
  },
  {
   "cell_type": "markdown",
   "id": "eligible-attribute",
   "metadata": {},
   "source": [
    "## Width/height"
   ]
  },
  {
   "cell_type": "code",
   "execution_count": 18,
   "id": "cognitive-receiver",
   "metadata": {},
   "outputs": [
    {
     "name": "stdout",
     "output_type": "stream",
     "text": [
      "...height\n"
     ]
    }
   ],
   "source": [
    "dfs['width'] = dfs.pos_x1 - dfs.pos_x0\n",
    "print('...height')\n",
    "dfs['height'] = dfs.pos_y1 - dfs.pos_y0"
   ]
  },
  {
   "cell_type": "code",
   "execution_count": 19,
   "id": "conditional-contract",
   "metadata": {},
   "outputs": [
    {
     "data": {
      "text/plain": [
       "[None]"
      ]
     },
     "execution_count": 19,
     "metadata": {},
     "output_type": "execute_result"
    },
    {
     "data": {
      "image/png": "[encoded data removed]",
      "text/plain": [
       "<Figure size 720x360 with 1 Axes>"
      ]
     },
     "metadata": {
      "needs_background": "light"
     },
     "output_type": "display_data"
    }
   ],
   "source": [
    "import seaborn as sns\n",
    "import matplotlib.pyplot as plt\n",
    "plt.figure(figsize=(10,5))\n",
    "sns.histplot(data=dfs, x='width', label='width', bins=20)\n",
    "#sns.lineplot(data=dim_dist, x='perc', y='height', label='height', marker='o', markersize=4)\n",
    "plt.title('Distribution of width of textboxes')\n",
    "#plt.legend()\n",
    "#plt.ylabel('pixels')\n",
    "plt.gca().set(yscale='log')"
   ]
  },
  {
   "cell_type": "code",
   "execution_count": 20,
   "id": "handed-hometown",
   "metadata": {},
   "outputs": [
    {
     "data": {
      "text/plain": [
       "[None]"
      ]
     },
     "execution_count": 20,
     "metadata": {},
     "output_type": "execute_result"
    },
    {
     "data": {
      "image/png": "[encoded data removed]",
      "text/plain": [
       "<Figure size 720x360 with 1 Axes>"
      ]
     },
     "metadata": {
      "needs_background": "light"
     },
     "output_type": "display_data"
    }
   ],
   "source": [
    "import seaborn as sns\n",
    "import matplotlib.pyplot as plt\n",
    "plt.figure(figsize=(10,5))\n",
    "sns.histplot(data=dfs, x='height', label='width', bins=20)\n",
    "#sns.lineplot(data=dim_dist, x='perc', y='height', label='height', marker='o', markersize=4)\n",
    "plt.title('Distribution of height of textboxes')\n",
    "#plt.legend()\n",
    "#plt.ylabel('pixels')\n",
    "plt.gca().set(yscale='log')"
   ]
  },
  {
   "cell_type": "markdown",
   "id": "unusual-crossing",
   "metadata": {},
   "source": [
    "## N chars"
   ]
  },
  {
   "cell_type": "code",
   "execution_count": 22,
   "id": "indie-judge",
   "metadata": {},
   "outputs": [],
   "source": [
    "dfs['nchars_stripped'] = dfs.text.str.strip().str.len()"
   ]
  },
  {
   "cell_type": "code",
   "execution_count": 23,
   "id": "rocky-affairs",
   "metadata": {},
   "outputs": [
    {
     "data": {
      "text/plain": [
       "[None]"
      ]
     },
     "execution_count": 23,
     "metadata": {},
     "output_type": "execute_result"
    },
    {
     "data": {
      "image/png": "[encoded data removed]",
      "text/plain": [
       "<Figure size 720x360 with 1 Axes>"
      ]
     },
     "metadata": {
      "needs_background": "light"
     },
     "output_type": "display_data"
    }
   ],
   "source": [
    "import seaborn as sns\n",
    "import matplotlib.pyplot as plt\n",
    "plt.figure(figsize=(10,5))\n",
    "sns.histplot(data=dfs, x='nchars_stripped', label='nchars_stripped', bins=20)\n",
    "#sns.lineplot(data=dim_dist, x='perc', y='height', label='height', marker='o', markersize=4)\n",
    "plt.title('Distribution of nchars')\n",
    "#plt.legend()\n",
    "#plt.ylabel('pixels')\n",
    "plt.gca().set(yscale='log')"
   ]
  },
  {
   "cell_type": "code",
   "execution_count": 24,
   "id": "eligible-struggle",
   "metadata": {},
   "outputs": [
    {
     "data": {
      "text/html": [
       "<div>\n",
       "<style scoped>\n",
       "    .dataframe tbody tr th:only-of-type {\n",
       "        vertical-align: middle;\n",
       "    }\n",
       "\n",
       "    .dataframe tbody tr th {\n",
       "        vertical-align: top;\n",
       "    }\n",
       "\n",
       "    .dataframe thead th {\n",
       "        text-align: right;\n",
       "    }\n",
       "</style>\n",
       "<table border=\"1\" class=\"dataframe\">\n",
       "  <thead>\n",
       "    <tr style=\"text-align: right;\">\n",
       "      <th></th>\n",
       "      <th>Unnamed: 0</th>\n",
       "      <th>obj_type</th>\n",
       "      <th>pg</th>\n",
       "      <th>pos_x0</th>\n",
       "      <th>pos_y0</th>\n",
       "      <th>pos_x1</th>\n",
       "      <th>pos_y1</th>\n",
       "      <th>text</th>\n",
       "      <th>file</th>\n",
       "      <th>width</th>\n",
       "      <th>height</th>\n",
       "      <th>nchars_stripped</th>\n",
       "    </tr>\n",
       "  </thead>\n",
       "  <tbody>\n",
       "    <tr>\n",
       "      <th>61</th>\n",
       "      <td>61</td>\n",
       "      <td>&lt;class 'pdfminer.layout.LTTextBoxHorizontal'&gt;</td>\n",
       "      <td>0.0</td>\n",
       "      <td>1367.31398</td>\n",
       "      <td>164.318419</td>\n",
       "      <td>2257.096942</td>\n",
       "      <td>366.750622</td>\n",
       "      <td>(cid:84)(cid:104)(cid:101)(cid:32)(cid:114)(ci...</td>\n",
       "      <td>/nrcan_p2/data/02_intermediate/20210108/bc__pe...</td>\n",
       "      <td>889.782962</td>\n",
       "      <td>202.432202</td>\n",
       "      <td>16516.0</td>\n",
       "    </tr>\n",
       "  </tbody>\n",
       "</table>\n",
       "</div>"
      ],
      "text/plain": [
       "   Unnamed: 0                                       obj_type   pg      pos_x0  \\\n",
       "61         61  <class 'pdfminer.layout.LTTextBoxHorizontal'>  0.0  1367.31398   \n",
       "\n",
       "        pos_y0       pos_x1      pos_y1  \\\n",
       "61  164.318419  2257.096942  366.750622   \n",
       "\n",
       "                                                 text  \\\n",
       "61  (cid:84)(cid:104)(cid:101)(cid:32)(cid:114)(ci...   \n",
       "\n",
       "                                                 file       width      height  \\\n",
       "61  /nrcan_p2/data/02_intermediate/20210108/bc__pe...  889.782962  202.432202   \n",
       "\n",
       "    nchars_stripped  \n",
       "61          16516.0  "
      ]
     },
     "execution_count": 24,
     "metadata": {},
     "output_type": "execute_result"
    }
   ],
   "source": [
    "dfs[dfs.nchars_stripped > 15000]"
   ]
  },
  {
   "cell_type": "markdown",
   "id": "metropolitan-sweet",
   "metadata": {},
   "source": [
    "**analyiss** looks like it definitely needs the CID removal"
   ]
  },
  {
   "cell_type": "code",
   "execution_count": 27,
   "id": "forty-surgery",
   "metadata": {},
   "outputs": [
    {
     "name": "stdout",
     "output_type": "stream",
     "text": [
      "/nrcan_p2/workspace/sraimondo/nrcan_p2\n"
     ]
    }
   ],
   "source": [
    "import pathlib\n",
    "REPO_DIR = pathlib.Path(__name__).parent.absolute().parent\n",
    "print(REPO_DIR)\n",
    "\n",
    "import sys\n",
    "sys.path.append(str(REPO_DIR))"
   ]
  },
  {
   "cell_type": "code",
   "execution_count": 163,
   "id": "collected-parameter",
   "metadata": {},
   "outputs": [],
   "source": [
    "from nrcan_p2.data_processing.pipelines import BASE_PIPELINE, SIMPLE_PIPELINE_GLOVE_3, SIMPLE_PIPELINE_BERT_3, POSTPIPE_GLOVE, POSTPIPE_BERT_SPACY"
   ]
  },
  {
   "cell_type": "code",
   "execution_count": 29,
   "id": "other-judges",
   "metadata": {},
   "outputs": [
    {
     "data": {
      "text/plain": [
       "[<function nrcan_p2.data_processing.preprocessing_dfcol.rm_dbl_space(dfcol)>,\n",
       " <function nrcan_p2.data_processing.preprocessing_dfcol.rm_cid(dfcol)>,\n",
       " <function nrcan_p2.data_processing.preprocessing_dfcol.convert_to_ascii(dfcol)>,\n",
       " <function nrcan_p2.data_processing.preprocessing_dfcol.rm_nonprintable(dfcol)>,\n",
       " <function nrcan_p2.data_processing.preprocessing_df_filter.filter_no_letter(df, col)>,\n",
       " <function nrcan_p2.data_processing.preprocessing_dfcol.rm_word_all_punct(dfcol)>,\n",
       " <function nrcan_p2.data_processing.preprocessing_dfcol.rm_newline_hyphenation(dfcol)>,\n",
       " <function nrcan_p2.data_processing.preprocessing_dfcol.rm_beg_end_word_punct(dfcol)>,\n",
       " <function nrcan_p2.data_processing.preprocessing_dfcol.rm_punct_mid_punct(dfcol)>,\n",
       " <function nrcan_p2.data_processing.preprocessing_dfcol.strip_space(dfcol)>,\n",
       " <function nrcan_p2.data_processing.preprocessing_df_filter.filter_l2_word(df, col)>,\n",
       " <function nrcan_p2.data_processing.preprocessing_df_filter.filter_l4_letter(df, col)>,\n",
       " <function nrcan_p2.data_processing.preprocessing_dfcol.rm_mid_word_punct(dfcol)>,\n",
       " <function nrcan_p2.data_processing.preprocessing_dfcol.rm_non_textual_punct(dfcol)>,\n",
       " <function nrcan_p2.data_processing.preprocessing_dfcol.rm_newline(dfcol)>,\n",
       " <function nrcan_p2.data_processing.preprocessing_dfcol.merge_words(dfcol, en_dict=<enchant.Dict object at 0x7f634df12550>)>,\n",
       " <function nrcan_p2.data_processing.preprocessing_df_filter.filter_no_real_words_g3letter(df, col, en_dict=<enchant.Dict object at 0x7f633b41d640>)>]"
      ]
     },
     "execution_count": 29,
     "metadata": {},
     "output_type": "execute_result"
    }
   ],
   "source": [
    "BASE_PIPELINE"
   ]
  },
  {
   "cell_type": "code",
   "execution_count": 30,
   "id": "emerging-composite",
   "metadata": {},
   "outputs": [],
   "source": [
    "dfs['text_-1'] = dfs['text']"
   ]
  },
  {
   "cell_type": "code",
   "execution_count": 39,
   "id": "sustained-joyce",
   "metadata": {},
   "outputs": [
    {
     "name": "stderr",
     "output_type": "stream",
     "text": [
      "<ipython-input-39-5265fbf7f38a>:2: SettingWithCopyWarning: \n",
      "A value is trying to be set on a copy of a slice from a DataFrame.\n",
      "Try using .loc[row_indexer,col_indexer] = value instead\n",
      "\n",
      "See the caveats in the documentation: https://pandas.pydata.org/pandas-docs/stable/user_guide/indexing.html#returning-a-view-versus-a-copy\n",
      "  dfs[f'text_{i}'] = BASE_PIPELINE[i](dfs[f'text_{i-1}'])\n"
     ]
    }
   ],
   "source": [
    "for i in range(0,4):\n",
    "    dfs[f'text_{i}'] = BASE_PIPELINE[i](dfs[f'text_{i-1}'])"
   ]
  },
  {
   "cell_type": "code",
   "execution_count": 41,
   "id": "normal-designer",
   "metadata": {},
   "outputs": [
    {
     "name": "stderr",
     "output_type": "stream",
     "text": [
      "<ipython-input-41-a579087aa93b>:2: SettingWithCopyWarning: \n",
      "A value is trying to be set on a copy of a slice from a DataFrame.\n",
      "Try using .loc[row_indexer,col_indexer] = value instead\n",
      "\n",
      "See the caveats in the documentation: https://pandas.pydata.org/pandas-docs/stable/user_guide/indexing.html#returning-a-view-versus-a-copy\n",
      "  dfs[f'nchars_{i}'] = dfs[f'text_{i}'].str.len()\n"
     ]
    }
   ],
   "source": [
    "i = 3\n",
    "dfs[f'nchars_{i}'] = dfs[f'text_{i}'].str.len()"
   ]
  },
  {
   "cell_type": "code",
   "execution_count": 43,
   "id": "mediterranean-genesis",
   "metadata": {},
   "outputs": [
    {
     "data": {
      "text/plain": [
       "[None]"
      ]
     },
     "execution_count": 43,
     "metadata": {},
     "output_type": "execute_result"
    },
    {
     "data": {
      "image/png": "[encoded data removed]",
      "text/plain": [
       "<Figure size 720x360 with 1 Axes>"
      ]
     },
     "metadata": {
      "needs_background": "light"
     },
     "output_type": "display_data"
    }
   ],
   "source": [
    "import seaborn as sns\n",
    "import matplotlib.pyplot as plt\n",
    "plt.figure(figsize=(10,5))\n",
    "sns.histplot(data=dfs, x=f'nchars_{i}', bins=20)\n",
    "#sns.lineplot(data=dim_dist, x='perc', y='height', label='height', marker='o', markersize=4)\n",
    "plt.title('Distribution of nchars')\n",
    "#plt.legend()\n",
    "#plt.ylabel('pixels')\n",
    "plt.gca().set(yscale='log')"
   ]
  },
  {
   "cell_type": "code",
   "execution_count": 44,
   "id": "infrared-setup",
   "metadata": {},
   "outputs": [
    {
     "data": {
      "text/html": [
       "<div>\n",
       "<style scoped>\n",
       "    .dataframe tbody tr th:only-of-type {\n",
       "        vertical-align: middle;\n",
       "    }\n",
       "\n",
       "    .dataframe tbody tr th {\n",
       "        vertical-align: top;\n",
       "    }\n",
       "\n",
       "    .dataframe thead th {\n",
       "        text-align: right;\n",
       "    }\n",
       "</style>\n",
       "<table border=\"1\" class=\"dataframe\">\n",
       "  <thead>\n",
       "    <tr style=\"text-align: right;\">\n",
       "      <th></th>\n",
       "      <th>Unnamed: 0</th>\n",
       "      <th>obj_type</th>\n",
       "      <th>pg</th>\n",
       "      <th>pos_x0</th>\n",
       "      <th>pos_y0</th>\n",
       "      <th>pos_x1</th>\n",
       "      <th>pos_y1</th>\n",
       "      <th>text</th>\n",
       "      <th>file</th>\n",
       "      <th>width</th>\n",
       "      <th>height</th>\n",
       "      <th>nchars_stripped</th>\n",
       "      <th>text_-1</th>\n",
       "      <th>text_0</th>\n",
       "      <th>text_1</th>\n",
       "      <th>text_2</th>\n",
       "      <th>text_3</th>\n",
       "      <th>nchars_3</th>\n",
       "    </tr>\n",
       "  </thead>\n",
       "  <tbody>\n",
       "    <tr>\n",
       "      <th>23</th>\n",
       "      <td>23</td>\n",
       "      <td>&lt;class 'pdfminer.layout.LTTextBoxHorizontal'&gt;</td>\n",
       "      <td>3.0</td>\n",
       "      <td>72.000000</td>\n",
       "      <td>115.116000</td>\n",
       "      <td>542.520000</td>\n",
       "      <td>722.730360</td>\n",
       "      <td>Contents \\nAcknowledgements .....................</td>\n",
       "      <td>/nrcan_p2/data/02_intermediate/20210108/albert...</td>\n",
       "      <td>470.520000</td>\n",
       "      <td>607.614360</td>\n",
       "      <td>6594.0</td>\n",
       "      <td>Contents \\nAcknowledgements .....................</td>\n",
       "      <td>Contents \\nAcknowledgements .....................</td>\n",
       "      <td>Contents \\nAcknowledgements .....................</td>\n",
       "      <td>Contents \\nAcknowledgements .....................</td>\n",
       "      <td>Contents \\nAcknowledgements .....................</td>\n",
       "      <td>6565</td>\n",
       "    </tr>\n",
       "    <tr>\n",
       "      <th>96</th>\n",
       "      <td>96</td>\n",
       "      <td>&lt;class 'pdfminer.layout.LTTextBoxHorizontal'&gt;</td>\n",
       "      <td>5.0</td>\n",
       "      <td>71.989000</td>\n",
       "      <td>77.125300</td>\n",
       "      <td>539.016000</td>\n",
       "      <td>722.428300</td>\n",
       "      <td>Contents\\nForeword ..............................</td>\n",
       "      <td>/nrcan_p2/data/02_intermediate/20210108/albert...</td>\n",
       "      <td>467.027000</td>\n",
       "      <td>645.303000</td>\n",
       "      <td>6182.0</td>\n",
       "      <td>Contents\\nForeword ..............................</td>\n",
       "      <td>Contents\\nForeword ..............................</td>\n",
       "      <td>Contents\\nForeword ..............................</td>\n",
       "      <td>Contents\\nForeword ..............................</td>\n",
       "      <td>Contents\\nForeword ..............................</td>\n",
       "      <td>6134</td>\n",
       "    </tr>\n",
       "    <tr>\n",
       "      <th>105</th>\n",
       "      <td>105</td>\n",
       "      <td>&lt;class 'pdfminer.layout.LTTextBoxHorizontal'&gt;</td>\n",
       "      <td>6.0</td>\n",
       "      <td>71.879000</td>\n",
       "      <td>75.396000</td>\n",
       "      <td>536.002000</td>\n",
       "      <td>723.450000</td>\n",
       "      <td>6  Bedrock Topography and Buried Channels  ......</td>\n",
       "      <td>/nrcan_p2/data/02_intermediate/20210108/albert...</td>\n",
       "      <td>464.123000</td>\n",
       "      <td>648.054000</td>\n",
       "      <td>6316.0</td>\n",
       "      <td>6  Bedrock Topography and Buried Channels  ......</td>\n",
       "      <td>6 Bedrock Topography and Buried Channels ........</td>\n",
       "      <td>6 Bedrock Topography and Buried Channels ........</td>\n",
       "      <td>6 Bedrock Topography and Buried Channels ........</td>\n",
       "      <td>6 Bedrock Topography and Buried Channels ........</td>\n",
       "      <td>6261</td>\n",
       "    </tr>\n",
       "    <tr>\n",
       "      <th>82</th>\n",
       "      <td>82</td>\n",
       "      <td>&lt;class 'pdfminer.layout.LTTextBoxHorizontal'&gt;</td>\n",
       "      <td>3.0</td>\n",
       "      <td>71.998000</td>\n",
       "      <td>77.125300</td>\n",
       "      <td>539.304300</td>\n",
       "      <td>722.428300</td>\n",
       "      <td>Contents \\nAcknowledgments ......................</td>\n",
       "      <td>/nrcan_p2/data/02_intermediate/20210108/albert...</td>\n",
       "      <td>467.306300</td>\n",
       "      <td>645.303000</td>\n",
       "      <td>6177.0</td>\n",
       "      <td>Contents \\nAcknowledgments ......................</td>\n",
       "      <td>Contents \\nAcknowledgments ......................</td>\n",
       "      <td>Contents \\nAcknowledgments ......................</td>\n",
       "      <td>Contents \\nAcknowledgments ......................</td>\n",
       "      <td>Contents \\nAcknowledgments ......................</td>\n",
       "      <td>6133</td>\n",
       "    </tr>\n",
       "    <tr>\n",
       "      <th>152</th>\n",
       "      <td>152</td>\n",
       "      <td>&lt;class 'pdfminer.layout.LTTextBoxHorizontal'&gt;</td>\n",
       "      <td>4.0</td>\n",
       "      <td>117.140000</td>\n",
       "      <td>77.664000</td>\n",
       "      <td>551.555140</td>\n",
       "      <td>680.860000</td>\n",
       "      <td>Table of Contents ...............................</td>\n",
       "      <td>/nrcan_p2/data/02_intermediate/20210108/bc__ge...</td>\n",
       "      <td>434.415140</td>\n",
       "      <td>603.196000</td>\n",
       "      <td>5900.0</td>\n",
       "      <td>Table of Contents ...............................</td>\n",
       "      <td>Table of Contents ...............................</td>\n",
       "      <td>Table of Contents ...............................</td>\n",
       "      <td>Table of Contents ...............................</td>\n",
       "      <td>Table of Contents ...............................</td>\n",
       "      <td>5907</td>\n",
       "    </tr>\n",
       "    <tr>\n",
       "      <th>157</th>\n",
       "      <td>157</td>\n",
       "      <td>&lt;class 'pdfminer.layout.LTTextBoxHorizontal'&gt;</td>\n",
       "      <td>5.0</td>\n",
       "      <td>63.024000</td>\n",
       "      <td>75.264000</td>\n",
       "      <td>496.995040</td>\n",
       "      <td>710.380000</td>\n",
       "      <td>E04 - Sediment-hosted Cu-Ag-Co ..................</td>\n",
       "      <td>/nrcan_p2/data/02_intermediate/20210108/bc__ge...</td>\n",
       "      <td>433.971040</td>\n",
       "      <td>635.116000</td>\n",
       "      <td>5978.0</td>\n",
       "      <td>E04 - Sediment-hosted Cu-Ag-Co ..................</td>\n",
       "      <td>E04 - Sediment-hosted Cu-Ag-Co ..................</td>\n",
       "      <td>E04 - Sediment-hosted Cu-Ag-Co ..................</td>\n",
       "      <td>E04 - Sediment-hosted Cu-Ag-Co ..................</td>\n",
       "      <td>E04 - Sediment-hosted Cu-Ag-Co ..................</td>\n",
       "      <td>5980</td>\n",
       "    </tr>\n",
       "    <tr>\n",
       "      <th>161</th>\n",
       "      <td>161</td>\n",
       "      <td>&lt;class 'pdfminer.layout.LTTextBoxHorizontal'&gt;</td>\n",
       "      <td>6.0</td>\n",
       "      <td>117.140000</td>\n",
       "      <td>75.264000</td>\n",
       "      <td>551.115040</td>\n",
       "      <td>710.380000</td>\n",
       "      <td>I05 - Polymetallic Veins Ag-Pb-ZnAu ............</td>\n",
       "      <td>/nrcan_p2/data/02_intermediate/20210108/bc__ge...</td>\n",
       "      <td>433.975040</td>\n",
       "      <td>635.116000</td>\n",
       "      <td>6065.0</td>\n",
       "      <td>I05 - Polymetallic Veins Ag-Pb-ZnAu ............</td>\n",
       "      <td>I05 - Polymetallic Veins Ag-Pb-ZnAu ............</td>\n",
       "      <td>I05 - Polymetallic Veins Ag-Pb-ZnAu ............</td>\n",
       "      <td>I05 - Polymetallic Veins Ag-Pb-ZnAu .............</td>\n",
       "      <td>I05 - Polymetallic Veins Ag-Pb-ZnAu .............</td>\n",
       "      <td>6068</td>\n",
       "    </tr>\n",
       "    <tr>\n",
       "      <th>164</th>\n",
       "      <td>164</td>\n",
       "      <td>&lt;class 'pdfminer.layout.LTTextBoxHorizontal'&gt;</td>\n",
       "      <td>7.0</td>\n",
       "      <td>63.024000</td>\n",
       "      <td>91.224000</td>\n",
       "      <td>496.995040</td>\n",
       "      <td>710.380000</td>\n",
       "      <td>N01 - Carbonatite-Associated Deposits:Magmatic...</td>\n",
       "      <td>/nrcan_p2/data/02_intermediate/20210108/bc__ge...</td>\n",
       "      <td>433.971040</td>\n",
       "      <td>619.156000</td>\n",
       "      <td>5734.0</td>\n",
       "      <td>N01 - Carbonatite-Associated Deposits:Magmatic...</td>\n",
       "      <td>N01 - Carbonatite-Associated Deposits:Magmatic...</td>\n",
       "      <td>N01 - Carbonatite-Associated Deposits:Magmatic...</td>\n",
       "      <td>N01 - Carbonatite-Associated Deposits:Magmatic...</td>\n",
       "      <td>N01 - Carbonatite-Associated Deposits:Magmatic...</td>\n",
       "      <td>5732</td>\n",
       "    </tr>\n",
       "    <tr>\n",
       "      <th>43</th>\n",
       "      <td>43</td>\n",
       "      <td>&lt;class 'pdfminer.layout.LTTextBoxHorizontal'&gt;</td>\n",
       "      <td>0.0</td>\n",
       "      <td>147.515300</td>\n",
       "      <td>1317.975600</td>\n",
       "      <td>1445.017500</td>\n",
       "      <td>2465.036300</td>\n",
       "      <td>Introduction\\nIntroduction\\nIn an area extendi...</td>\n",
       "      <td>/nrcan_p2/data/02_intermediate/20210108/bc__ge...</td>\n",
       "      <td>1297.502200</td>\n",
       "      <td>1147.060700</td>\n",
       "      <td>5419.0</td>\n",
       "      <td>Introduction\\nIntroduction\\nIn an area extendi...</td>\n",
       "      <td>Introduction\\nIntroduction\\nIn an area extendi...</td>\n",
       "      <td>Introduction\\nIntroduction\\nIn an area extendi...</td>\n",
       "      <td>Introduction\\nIntroduction\\nIn an area extendi...</td>\n",
       "      <td>Introduction\\nIntroduction\\nIn an area extendi...</td>\n",
       "      <td>5378</td>\n",
       "    </tr>\n",
       "    <tr>\n",
       "      <th>346</th>\n",
       "      <td>346</td>\n",
       "      <td>&lt;class 'pdfminer.layout.LTTextBoxHorizontal'&gt;</td>\n",
       "      <td>5.0</td>\n",
       "      <td>63.840000</td>\n",
       "      <td>65.643960</td>\n",
       "      <td>548.255040</td>\n",
       "      <td>672.767040</td>\n",
       "      <td>Report prepared for .............................</td>\n",
       "      <td>/nrcan_p2/data/02_intermediate/20210108/bc__ge...</td>\n",
       "      <td>484.415040</td>\n",
       "      <td>607.123080</td>\n",
       "      <td>5920.0</td>\n",
       "      <td>Report prepared for .............................</td>\n",
       "      <td>Report prepared for .............................</td>\n",
       "      <td>Report prepared for .............................</td>\n",
       "      <td>Report prepared for .............................</td>\n",
       "      <td>Report prepared for .............................</td>\n",
       "      <td>5922</td>\n",
       "    </tr>\n",
       "    <tr>\n",
       "      <th>376</th>\n",
       "      <td>376</td>\n",
       "      <td>&lt;class 'pdfminer.layout.LTTextBoxHorizontal'&gt;</td>\n",
       "      <td>7.0</td>\n",
       "      <td>127.680000</td>\n",
       "      <td>217.115520</td>\n",
       "      <td>548.255040</td>\n",
       "      <td>709.247040</td>\n",
       "      <td>Porphyry Cu-Au WSM using geochemical data leve...</td>\n",
       "      <td>/nrcan_p2/data/02_intermediate/20210108/bc__ge...</td>\n",
       "      <td>420.575040</td>\n",
       "      <td>492.131520</td>\n",
       "      <td>5185.0</td>\n",
       "      <td>Porphyry Cu-Au WSM using geochemical data leve...</td>\n",
       "      <td>Porphyry Cu-Au WSM using geochemical data leve...</td>\n",
       "      <td>Porphyry Cu-Au WSM using geochemical data leve...</td>\n",
       "      <td>Porphyry Cu-Au WSM using geochemical data leve...</td>\n",
       "      <td>Porphyry Cu-Au WSM using geochemical data leve...</td>\n",
       "      <td>5187</td>\n",
       "    </tr>\n",
       "    <tr>\n",
       "      <th>1201</th>\n",
       "      <td>1201</td>\n",
       "      <td>&lt;class 'pdfminer.layout.LTTextBoxVertical'&gt;</td>\n",
       "      <td>2.0</td>\n",
       "      <td>62.895648</td>\n",
       "      <td>147.991269</td>\n",
       "      <td>524.105211</td>\n",
       "      <td>717.242192</td>\n",
       "      <td>siliceous argillite, siltstone and chert. Rece...</td>\n",
       "      <td>/nrcan_p2/data/02_intermediate/20210108/bc__pa...</td>\n",
       "      <td>461.209563</td>\n",
       "      <td>569.250923</td>\n",
       "      <td>6181.0</td>\n",
       "      <td>siliceous argillite, siltstone and chert. Rece...</td>\n",
       "      <td>siliceous argillite, siltstone and chert. Rece...</td>\n",
       "      <td>siliceous argillite, siltstone and chert. Rece...</td>\n",
       "      <td>siliceous argillite, siltstone and chert. Rece...</td>\n",
       "      <td>siliceous argillite, siltstone and chert. Rece...</td>\n",
       "      <td>6182</td>\n",
       "    </tr>\n",
       "    <tr>\n",
       "      <th>46</th>\n",
       "      <td>46</td>\n",
       "      <td>&lt;class 'pdfminer.layout.LTTextBoxHorizontal'&gt;</td>\n",
       "      <td>6.0</td>\n",
       "      <td>72.000000</td>\n",
       "      <td>85.332564</td>\n",
       "      <td>509.216112</td>\n",
       "      <td>669.856080</td>\n",
       "      <td>Abstract.........................................</td>\n",
       "      <td>/nrcan_p2/data/02_intermediate/20210108/ontari...</td>\n",
       "      <td>437.216112</td>\n",
       "      <td>584.523516</td>\n",
       "      <td>5777.0</td>\n",
       "      <td>Abstract.........................................</td>\n",
       "      <td>Abstract.........................................</td>\n",
       "      <td>Abstract.........................................</td>\n",
       "      <td>Abstract.........................................</td>\n",
       "      <td>Abstract.........................................</td>\n",
       "      <td>5778</td>\n",
       "    </tr>\n",
       "    <tr>\n",
       "      <th>50</th>\n",
       "      <td>50</td>\n",
       "      <td>&lt;class 'pdfminer.layout.LTTextBoxHorizontal'&gt;</td>\n",
       "      <td>8.0</td>\n",
       "      <td>72.003096</td>\n",
       "      <td>75.857668</td>\n",
       "      <td>509.214228</td>\n",
       "      <td>721.935976</td>\n",
       "      <td>Huronian Supergroup (Units 10 to 17) ............</td>\n",
       "      <td>/nrcan_p2/data/02_intermediate/20210108/ontari...</td>\n",
       "      <td>437.211132</td>\n",
       "      <td>646.078308</td>\n",
       "      <td>6140.0</td>\n",
       "      <td>Huronian Supergroup (Units 10 to 17) ............</td>\n",
       "      <td>Huronian Supergroup (Units 10 to 17) ............</td>\n",
       "      <td>Huronian Supergroup (Units 10 to 17) ............</td>\n",
       "      <td>Huronian Supergroup (Units 10 to 17) ............</td>\n",
       "      <td>Huronian Supergroup (Units 10 to 17) ............</td>\n",
       "      <td>6120</td>\n",
       "    </tr>\n",
       "  </tbody>\n",
       "</table>\n",
       "</div>"
      ],
      "text/plain": [
       "     Unnamed: 0                                       obj_type   pg  \\\n",
       "23           23  <class 'pdfminer.layout.LTTextBoxHorizontal'>  3.0   \n",
       "96           96  <class 'pdfminer.layout.LTTextBoxHorizontal'>  5.0   \n",
       "105         105  <class 'pdfminer.layout.LTTextBoxHorizontal'>  6.0   \n",
       "82           82  <class 'pdfminer.layout.LTTextBoxHorizontal'>  3.0   \n",
       "152         152  <class 'pdfminer.layout.LTTextBoxHorizontal'>  4.0   \n",
       "157         157  <class 'pdfminer.layout.LTTextBoxHorizontal'>  5.0   \n",
       "161         161  <class 'pdfminer.layout.LTTextBoxHorizontal'>  6.0   \n",
       "164         164  <class 'pdfminer.layout.LTTextBoxHorizontal'>  7.0   \n",
       "43           43  <class 'pdfminer.layout.LTTextBoxHorizontal'>  0.0   \n",
       "346         346  <class 'pdfminer.layout.LTTextBoxHorizontal'>  5.0   \n",
       "376         376  <class 'pdfminer.layout.LTTextBoxHorizontal'>  7.0   \n",
       "1201       1201    <class 'pdfminer.layout.LTTextBoxVertical'>  2.0   \n",
       "46           46  <class 'pdfminer.layout.LTTextBoxHorizontal'>  6.0   \n",
       "50           50  <class 'pdfminer.layout.LTTextBoxHorizontal'>  8.0   \n",
       "\n",
       "          pos_x0       pos_y0       pos_x1       pos_y1  \\\n",
       "23     72.000000   115.116000   542.520000   722.730360   \n",
       "96     71.989000    77.125300   539.016000   722.428300   \n",
       "105    71.879000    75.396000   536.002000   723.450000   \n",
       "82     71.998000    77.125300   539.304300   722.428300   \n",
       "152   117.140000    77.664000   551.555140   680.860000   \n",
       "157    63.024000    75.264000   496.995040   710.380000   \n",
       "161   117.140000    75.264000   551.115040   710.380000   \n",
       "164    63.024000    91.224000   496.995040   710.380000   \n",
       "43    147.515300  1317.975600  1445.017500  2465.036300   \n",
       "346    63.840000    65.643960   548.255040   672.767040   \n",
       "376   127.680000   217.115520   548.255040   709.247040   \n",
       "1201   62.895648   147.991269   524.105211   717.242192   \n",
       "46     72.000000    85.332564   509.216112   669.856080   \n",
       "50     72.003096    75.857668   509.214228   721.935976   \n",
       "\n",
       "                                                   text  \\\n",
       "23    Contents \\nAcknowledgements .....................   \n",
       "96    Contents\\nForeword ..............................   \n",
       "105   6  Bedrock Topography and Buried Channels  ......   \n",
       "82    Contents \\nAcknowledgments ......................   \n",
       "152   Table of Contents ...............................   \n",
       "157   E04 - Sediment-hosted Cu-Ag-Co ..................   \n",
       "161   I05 - Polymetallic Veins Ag-Pb-ZnAu ............   \n",
       "164   N01 - Carbonatite-Associated Deposits:Magmatic...   \n",
       "43    Introduction\\nIntroduction\\nIn an area extendi...   \n",
       "346   Report prepared for .............................   \n",
       "376   Porphyry Cu-Au WSM using geochemical data leve...   \n",
       "1201  siliceous argillite, siltstone and chert. Rece...   \n",
       "46    Abstract.........................................   \n",
       "50    Huronian Supergroup (Units 10 to 17) ............   \n",
       "\n",
       "                                                   file        width  \\\n",
       "23    /nrcan_p2/data/02_intermediate/20210108/albert...   470.520000   \n",
       "96    /nrcan_p2/data/02_intermediate/20210108/albert...   467.027000   \n",
       "105   /nrcan_p2/data/02_intermediate/20210108/albert...   464.123000   \n",
       "82    /nrcan_p2/data/02_intermediate/20210108/albert...   467.306300   \n",
       "152   /nrcan_p2/data/02_intermediate/20210108/bc__ge...   434.415140   \n",
       "157   /nrcan_p2/data/02_intermediate/20210108/bc__ge...   433.971040   \n",
       "161   /nrcan_p2/data/02_intermediate/20210108/bc__ge...   433.975040   \n",
       "164   /nrcan_p2/data/02_intermediate/20210108/bc__ge...   433.971040   \n",
       "43    /nrcan_p2/data/02_intermediate/20210108/bc__ge...  1297.502200   \n",
       "346   /nrcan_p2/data/02_intermediate/20210108/bc__ge...   484.415040   \n",
       "376   /nrcan_p2/data/02_intermediate/20210108/bc__ge...   420.575040   \n",
       "1201  /nrcan_p2/data/02_intermediate/20210108/bc__pa...   461.209563   \n",
       "46    /nrcan_p2/data/02_intermediate/20210108/ontari...   437.216112   \n",
       "50    /nrcan_p2/data/02_intermediate/20210108/ontari...   437.211132   \n",
       "\n",
       "           height  nchars_stripped  \\\n",
       "23     607.614360           6594.0   \n",
       "96     645.303000           6182.0   \n",
       "105    648.054000           6316.0   \n",
       "82     645.303000           6177.0   \n",
       "152    603.196000           5900.0   \n",
       "157    635.116000           5978.0   \n",
       "161    635.116000           6065.0   \n",
       "164    619.156000           5734.0   \n",
       "43    1147.060700           5419.0   \n",
       "346    607.123080           5920.0   \n",
       "376    492.131520           5185.0   \n",
       "1201   569.250923           6181.0   \n",
       "46     584.523516           5777.0   \n",
       "50     646.078308           6140.0   \n",
       "\n",
       "                                                text_-1  \\\n",
       "23    Contents \\nAcknowledgements .....................   \n",
       "96    Contents\\nForeword ..............................   \n",
       "105   6  Bedrock Topography and Buried Channels  ......   \n",
       "82    Contents \\nAcknowledgments ......................   \n",
       "152   Table of Contents ...............................   \n",
       "157   E04 - Sediment-hosted Cu-Ag-Co ..................   \n",
       "161   I05 - Polymetallic Veins Ag-Pb-ZnAu ............   \n",
       "164   N01 - Carbonatite-Associated Deposits:Magmatic...   \n",
       "43    Introduction\\nIntroduction\\nIn an area extendi...   \n",
       "346   Report prepared for .............................   \n",
       "376   Porphyry Cu-Au WSM using geochemical data leve...   \n",
       "1201  siliceous argillite, siltstone and chert. Rece...   \n",
       "46    Abstract.........................................   \n",
       "50    Huronian Supergroup (Units 10 to 17) ............   \n",
       "\n",
       "                                                 text_0  \\\n",
       "23    Contents \\nAcknowledgements .....................   \n",
       "96    Contents\\nForeword ..............................   \n",
       "105   6 Bedrock Topography and Buried Channels ........   \n",
       "82    Contents \\nAcknowledgments ......................   \n",
       "152   Table of Contents ...............................   \n",
       "157   E04 - Sediment-hosted Cu-Ag-Co ..................   \n",
       "161   I05 - Polymetallic Veins Ag-Pb-ZnAu ............   \n",
       "164   N01 - Carbonatite-Associated Deposits:Magmatic...   \n",
       "43    Introduction\\nIntroduction\\nIn an area extendi...   \n",
       "346   Report prepared for .............................   \n",
       "376   Porphyry Cu-Au WSM using geochemical data leve...   \n",
       "1201  siliceous argillite, siltstone and chert. Rece...   \n",
       "46    Abstract.........................................   \n",
       "50    Huronian Supergroup (Units 10 to 17) ............   \n",
       "\n",
       "                                                 text_1  \\\n",
       "23    Contents \\nAcknowledgements .....................   \n",
       "96    Contents\\nForeword ..............................   \n",
       "105   6 Bedrock Topography and Buried Channels ........   \n",
       "82    Contents \\nAcknowledgments ......................   \n",
       "152   Table of Contents ...............................   \n",
       "157   E04 - Sediment-hosted Cu-Ag-Co ..................   \n",
       "161   I05 - Polymetallic Veins Ag-Pb-ZnAu ............   \n",
       "164   N01 - Carbonatite-Associated Deposits:Magmatic...   \n",
       "43    Introduction\\nIntroduction\\nIn an area extendi...   \n",
       "346   Report prepared for .............................   \n",
       "376   Porphyry Cu-Au WSM using geochemical data leve...   \n",
       "1201  siliceous argillite, siltstone and chert. Rece...   \n",
       "46    Abstract.........................................   \n",
       "50    Huronian Supergroup (Units 10 to 17) ............   \n",
       "\n",
       "                                                 text_2  \\\n",
       "23    Contents \\nAcknowledgements .....................   \n",
       "96    Contents\\nForeword ..............................   \n",
       "105   6 Bedrock Topography and Buried Channels ........   \n",
       "82    Contents \\nAcknowledgments ......................   \n",
       "152   Table of Contents ...............................   \n",
       "157   E04 - Sediment-hosted Cu-Ag-Co ..................   \n",
       "161   I05 - Polymetallic Veins Ag-Pb-ZnAu .............   \n",
       "164   N01 - Carbonatite-Associated Deposits:Magmatic...   \n",
       "43    Introduction\\nIntroduction\\nIn an area extendi...   \n",
       "346   Report prepared for .............................   \n",
       "376   Porphyry Cu-Au WSM using geochemical data leve...   \n",
       "1201  siliceous argillite, siltstone and chert. Rece...   \n",
       "46    Abstract.........................................   \n",
       "50    Huronian Supergroup (Units 10 to 17) ............   \n",
       "\n",
       "                                                 text_3  nchars_3  \n",
       "23    Contents \\nAcknowledgements .....................      6565  \n",
       "96    Contents\\nForeword ..............................      6134  \n",
       "105   6 Bedrock Topography and Buried Channels ........      6261  \n",
       "82    Contents \\nAcknowledgments ......................      6133  \n",
       "152   Table of Contents ...............................      5907  \n",
       "157   E04 - Sediment-hosted Cu-Ag-Co ..................      5980  \n",
       "161   I05 - Polymetallic Veins Ag-Pb-ZnAu .............      6068  \n",
       "164   N01 - Carbonatite-Associated Deposits:Magmatic...      5732  \n",
       "43    Introduction\\nIntroduction\\nIn an area extendi...      5378  \n",
       "346   Report prepared for .............................      5922  \n",
       "376   Porphyry Cu-Au WSM using geochemical data leve...      5187  \n",
       "1201  siliceous argillite, siltstone and chert. Rece...      6182  \n",
       "46    Abstract.........................................      5778  \n",
       "50    Huronian Supergroup (Units 10 to 17) ............      6120  "
      ]
     },
     "execution_count": 44,
     "metadata": {},
     "output_type": "execute_result"
    }
   ],
   "source": [
    "dfs[dfs[f'nchars_{i}'] > 5000]"
   ]
  },
  {
   "cell_type": "code",
   "execution_count": 47,
   "id": "smart-transaction",
   "metadata": {},
   "outputs": [],
   "source": [
    "dfs = dfs.reset_index(drop=True)"
   ]
  },
  {
   "cell_type": "code",
   "execution_count": 52,
   "id": "arabic-jersey",
   "metadata": {},
   "outputs": [
    {
     "data": {
      "text/plain": [
       "<function nrcan_p2.data_processing.preprocessing_df_filter.filter_no_letter(df, col)>"
      ]
     },
     "execution_count": 52,
     "metadata": {},
     "output_type": "execute_result"
    }
   ],
   "source": [
    "BASE_PIPELINE[i]"
   ]
  },
  {
   "cell_type": "code",
   "execution_count": null,
   "id": "funded-milwaukee",
   "metadata": {},
   "outputs": [],
   "source": [
    "for i in range(4):\n",
    "    dfs[f'text_{i}'] = BASE_PIPELINE[i](dfs[f'text_{i-1}'])"
   ]
  },
  {
   "cell_type": "code",
   "execution_count": 50,
   "id": "respiratory-dress",
   "metadata": {},
   "outputs": [],
   "source": [
    "i = 4\n",
    "dfs_filtered = BASE_PIPELINE[i](dfs, f'text_{i-1}')"
   ]
  },
  {
   "cell_type": "code",
   "execution_count": 51,
   "id": "working-elder",
   "metadata": {},
   "outputs": [
    {
     "data": {
      "text/html": [
       "<div>\n",
       "<style scoped>\n",
       "    .dataframe tbody tr th:only-of-type {\n",
       "        vertical-align: middle;\n",
       "    }\n",
       "\n",
       "    .dataframe tbody tr th {\n",
       "        vertical-align: top;\n",
       "    }\n",
       "\n",
       "    .dataframe thead th {\n",
       "        text-align: right;\n",
       "    }\n",
       "</style>\n",
       "<table border=\"1\" class=\"dataframe\">\n",
       "  <thead>\n",
       "    <tr style=\"text-align: right;\">\n",
       "      <th></th>\n",
       "      <th>text_3</th>\n",
       "    </tr>\n",
       "  </thead>\n",
       "  <tbody>\n",
       "    <tr>\n",
       "      <th>178098</th>\n",
       "      <td>14.5\\n</td>\n",
       "    </tr>\n",
       "    <tr>\n",
       "      <th>251624</th>\n",
       "      <td>17' \\n</td>\n",
       "    </tr>\n",
       "    <tr>\n",
       "      <th>294164</th>\n",
       "      <td>3 \\n3 \\n8 5 \\n</td>\n",
       "    </tr>\n",
       "    <tr>\n",
       "      <th>366641</th>\n",
       "      <td>. .. . \\n</td>\n",
       "    </tr>\n",
       "    <tr>\n",
       "      <th>195094</th>\n",
       "      <td>1992\\n1992\\n</td>\n",
       "    </tr>\n",
       "    <tr>\n",
       "      <th>44711</th>\n",
       "      <td>60\\n</td>\n",
       "    </tr>\n",
       "    <tr>\n",
       "      <th>172881</th>\n",
       "      <td>1 3 2 \\n</td>\n",
       "    </tr>\n",
       "    <tr>\n",
       "      <th>75633</th>\n",
       "      <td>0.3\\n</td>\n",
       "    </tr>\n",
       "    <tr>\n",
       "      <th>139168</th>\n",
       "      <td>1999\\n</td>\n",
       "    </tr>\n",
       "    <tr>\n",
       "      <th>357558</th>\n",
       "      <td>1939: \\n</td>\n",
       "    </tr>\n",
       "    <tr>\n",
       "      <th>145591</th>\n",
       "      <td>160\\n</td>\n",
       "    </tr>\n",
       "    <tr>\n",
       "      <th>98334</th>\n",
       "      <td>1051\\n1053\\n</td>\n",
       "    </tr>\n",
       "    <tr>\n",
       "      <th>92676</th>\n",
       "      <td>2414\\n</td>\n",
       "    </tr>\n",
       "    <tr>\n",
       "      <th>69184</th>\n",
       "      <td>5.40\\n</td>\n",
       "    </tr>\n",
       "    <tr>\n",
       "      <th>153258</th>\n",
       "      <td>67 \\n</td>\n",
       "    </tr>\n",
       "    <tr>\n",
       "      <th>104003</th>\n",
       "      <td>1144\\n</td>\n",
       "    </tr>\n",
       "    <tr>\n",
       "      <th>75325</th>\n",
       "      <td>0.5\\n</td>\n",
       "    </tr>\n",
       "    <tr>\n",
       "      <th>322258</th>\n",
       "      <td>\\n</td>\n",
       "    </tr>\n",
       "    <tr>\n",
       "      <th>141471</th>\n",
       "      <td>2.56\\n</td>\n",
       "    </tr>\n",
       "    <tr>\n",
       "      <th>681</th>\n",
       "      <td>12.97\\n11.60\\n10.64\\n14.93\\n11.68\\n9.60\\n15.14...</td>\n",
       "    </tr>\n",
       "  </tbody>\n",
       "</table>\n",
       "</div>"
      ],
      "text/plain": [
       "                                                   text_3\n",
       "178098                                             14.5\\n\n",
       "251624                                             17' \\n\n",
       "294164                                     3 \\n3 \\n8 5 \\n\n",
       "366641                                          . .. . \\n\n",
       "195094                                       1992\\n1992\\n\n",
       "44711                                                60\\n\n",
       "172881                                           1 3 2 \\n\n",
       "75633                                               0.3\\n\n",
       "139168                                             1999\\n\n",
       "357558                                           1939: \\n\n",
       "145591                                              160\\n\n",
       "98334                                        1051\\n1053\\n\n",
       "92676                                              2414\\n\n",
       "69184                                              5.40\\n\n",
       "153258                                              67 \\n\n",
       "104003                                             1144\\n\n",
       "75325                                               0.5\\n\n",
       "322258                                                 \\n\n",
       "141471                                             2.56\\n\n",
       "681     12.97\\n11.60\\n10.64\\n14.93\\n11.68\\n9.60\\n15.14..."
      ]
     },
     "execution_count": 51,
     "metadata": {},
     "output_type": "execute_result"
    }
   ],
   "source": [
    "res = dfs[~dfs.index.isin(dfs_filtered.index)].sample(20)\n",
    "res[[f'text_{i-1}']]"
   ]
  },
  {
   "cell_type": "code",
   "execution_count": 55,
   "id": "pretty-niger",
   "metadata": {},
   "outputs": [
    {
     "name": "stdout",
     "output_type": "stream",
     "text": [
      "(382708, 19)\n",
      "(265777, 19)\n",
      "0.30553581320484546\n"
     ]
    }
   ],
   "source": [
    "print(dfs.shape)\n",
    "print(dfs_filtered.shape)\n",
    "print(1- dfs_filtered.shape[0]/dfs.shape[0])"
   ]
  },
  {
   "cell_type": "code",
   "execution_count": 61,
   "id": "consistent-portable",
   "metadata": {},
   "outputs": [],
   "source": [
    "dfs = dfs_filtered"
   ]
  },
  {
   "cell_type": "code",
   "execution_count": 64,
   "id": "moved-taylor",
   "metadata": {},
   "outputs": [
    {
     "data": {
      "text/plain": [
       "(265777, 20)"
      ]
     },
     "execution_count": 64,
     "metadata": {},
     "output_type": "execute_result"
    }
   ],
   "source": [
    "dfs.shape"
   ]
  },
  {
   "cell_type": "markdown",
   "id": "wanted-durham",
   "metadata": {},
   "source": [
    "**analysis** this removed 30% of the boxes (Which is almost the same as nrcan)"
   ]
  },
  {
   "cell_type": "code",
   "execution_count": 56,
   "id": "grand-holder",
   "metadata": {},
   "outputs": [
    {
     "data": {
      "text/plain": [
       "<function nrcan_p2.data_processing.preprocessing_dfcol.rm_word_all_punct(dfcol)>"
      ]
     },
     "execution_count": 56,
     "metadata": {},
     "output_type": "execute_result"
    }
   ],
   "source": [
    "i = 5\n",
    "BASE_PIPELINE[i]"
   ]
  },
  {
   "cell_type": "code",
   "execution_count": 62,
   "id": "starting-ideal",
   "metadata": {},
   "outputs": [],
   "source": [
    "for i in range(5,6):\n",
    "    dfs[f'text_{i}'] = BASE_PIPELINE[i](dfs[f'text_{i-2}'])"
   ]
  },
  {
   "cell_type": "code",
   "execution_count": 63,
   "id": "negative-russia",
   "metadata": {},
   "outputs": [
    {
     "name": "stdout",
     "output_type": "stream",
     "text": [
      "(46561, 20)\n"
     ]
    },
    {
     "data": {
      "text/html": [
       "<div>\n",
       "<style scoped>\n",
       "    .dataframe tbody tr th:only-of-type {\n",
       "        vertical-align: middle;\n",
       "    }\n",
       "\n",
       "    .dataframe tbody tr th {\n",
       "        vertical-align: top;\n",
       "    }\n",
       "\n",
       "    .dataframe thead th {\n",
       "        text-align: right;\n",
       "    }\n",
       "</style>\n",
       "<table border=\"1\" class=\"dataframe\">\n",
       "  <thead>\n",
       "    <tr style=\"text-align: right;\">\n",
       "      <th></th>\n",
       "      <th>text_3</th>\n",
       "      <th>text_5</th>\n",
       "    </tr>\n",
       "  </thead>\n",
       "  <tbody>\n",
       "    <tr>\n",
       "      <th>192512</th>\n",
       "      <td>SILVER. CATHERINE. \\n82F16W . . . . . . . \\n</td>\n",
       "      <td>SILVER. CATHERINE. \\n82F16W        \\n</td>\n",
       "    </tr>\n",
       "    <tr>\n",
       "      <th>349311</th>\n",
       "      <td>est regie par les conditions decrites sur cett...</td>\n",
       "      <td>est regie par les conditions decrites sur cett...</td>\n",
       "    </tr>\n",
       "    <tr>\n",
       "      <th>297449</th>\n",
       "      <td>. l i l y \\n</td>\n",
       "      <td>l i l y \\n</td>\n",
       "    </tr>\n",
       "    <tr>\n",
       "      <th>81935</th>\n",
       "      <td>S\\n#\\n</td>\n",
       "      <td>S\\n\\n</td>\n",
       "    </tr>\n",
       "    <tr>\n",
       "      <th>258482</th>\n",
       "      <td>ACCESS: By old Cariboo highway north from Ques...</td>\n",
       "      <td>ACCESS: By old Cariboo highway north from Ques...</td>\n",
       "    </tr>\n",
       "    <tr>\n",
       "      <th>34984</th>\n",
       "      <td>%\\nU\\n</td>\n",
       "      <td>\\nU\\n</td>\n",
       "    </tr>\n",
       "    <tr>\n",
       "      <th>151165</th>\n",
       "      <td>Boundary Mining Association *\\n</td>\n",
       "      <td>Boundary Mining Association \\n</td>\n",
       "    </tr>\n",
       "    <tr>\n",
       "      <th>30453</th>\n",
       "      <td>%\\nU\\n</td>\n",
       "      <td>\\nU\\n</td>\n",
       "    </tr>\n",
       "    <tr>\n",
       "      <th>32879</th>\n",
       "      <td>%\\nU\\n</td>\n",
       "      <td>\\nU\\n</td>\n",
       "    </tr>\n",
       "    <tr>\n",
       "      <th>26989</th>\n",
       "      <td>%\\nU %U\\n%\\nU\\nU\\n%\\n</td>\n",
       "      <td>\\nU %U\\n\\nU\\nU\\n\\n</td>\n",
       "    </tr>\n",
       "    <tr>\n",
       "      <th>357928</th>\n",
       "      <td>roits d'auteur : Le contenu est protege par le...</td>\n",
       "      <td>roits d'auteur  Le contenu est protege par les...</td>\n",
       "    </tr>\n",
       "    <tr>\n",
       "      <th>37611</th>\n",
       "      <td>%\\nU\\n%\\nU\\n</td>\n",
       "      <td>\\nU\\n\\nU\\n</td>\n",
       "    </tr>\n",
       "    <tr>\n",
       "      <th>21368</th>\n",
       "      <td>#\\nS\\n#\\nS\\n94D965094\\n</td>\n",
       "      <td>\\nS\\n\\nS\\n94D965094\\n</td>\n",
       "    </tr>\n",
       "    <tr>\n",
       "      <th>82055</th>\n",
       "      <td>S#S\\n#\\n</td>\n",
       "      <td>S#S\\n\\n</td>\n",
       "    </tr>\n",
       "    <tr>\n",
       "      <th>27264</th>\n",
       "      <td>%\\nU\\n</td>\n",
       "      <td>\\nU\\n</td>\n",
       "    </tr>\n",
       "    <tr>\n",
       "      <th>32441</th>\n",
       "      <td>%\\nU\\n</td>\n",
       "      <td>\\nU\\n</td>\n",
       "    </tr>\n",
       "    <tr>\n",
       "      <th>244494</th>\n",
       "      <td>Cu . Mo ........... 220 \\nHg ....................</td>\n",
       "      <td>Cu  Mo  220 \\nHg  220 \\n</td>\n",
       "    </tr>\n",
       "    <tr>\n",
       "      <th>315033</th>\n",
       "      <td>Lower medium-grained Groundhog-Gunanoot \\nsand...</td>\n",
       "      <td>Lower medium-grained Groundhog-Gunanoot \\nsand...</td>\n",
       "    </tr>\n",
       "    <tr>\n",
       "      <th>39535</th>\n",
       "      <td>#\\nS\\n</td>\n",
       "      <td>\\nS\\n</td>\n",
       "    </tr>\n",
       "    <tr>\n",
       "      <th>259453</th>\n",
       "      <td>337,056 N i c k e l - c o p p e r COncentrateS...</td>\n",
       "      <td>337,056 N i c k e l  c o p p e r COncentrateS,...</td>\n",
       "    </tr>\n",
       "  </tbody>\n",
       "</table>\n",
       "</div>"
      ],
      "text/plain": [
       "                                                   text_3  \\\n",
       "192512       SILVER. CATHERINE. \\n82F16W . . . . . . . \\n   \n",
       "349311  est regie par les conditions decrites sur cett...   \n",
       "297449                                       . l i l y \\n   \n",
       "81935                                              S\\n#\\n   \n",
       "258482  ACCESS: By old Cariboo highway north from Ques...   \n",
       "34984                                              %\\nU\\n   \n",
       "151165                    Boundary Mining Association *\\n   \n",
       "30453                                              %\\nU\\n   \n",
       "32879                                              %\\nU\\n   \n",
       "26989                               %\\nU %U\\n%\\nU\\nU\\n%\\n   \n",
       "357928  roits d'auteur : Le contenu est protege par le...   \n",
       "37611                                        %\\nU\\n%\\nU\\n   \n",
       "21368                             #\\nS\\n#\\nS\\n94D965094\\n   \n",
       "82055                                            S#S\\n#\\n   \n",
       "27264                                              %\\nU\\n   \n",
       "32441                                              %\\nU\\n   \n",
       "244494  Cu . Mo ........... 220 \\nHg ....................   \n",
       "315033  Lower medium-grained Groundhog-Gunanoot \\nsand...   \n",
       "39535                                              #\\nS\\n   \n",
       "259453  337,056 N i c k e l - c o p p e r COncentrateS...   \n",
       "\n",
       "                                                   text_5  \n",
       "192512              SILVER. CATHERINE. \\n82F16W        \\n  \n",
       "349311  est regie par les conditions decrites sur cett...  \n",
       "297449                                         l i l y \\n  \n",
       "81935                                               S\\n\\n  \n",
       "258482  ACCESS: By old Cariboo highway north from Ques...  \n",
       "34984                                               \\nU\\n  \n",
       "151165                     Boundary Mining Association \\n  \n",
       "30453                                               \\nU\\n  \n",
       "32879                                               \\nU\\n  \n",
       "26989                                  \\nU %U\\n\\nU\\nU\\n\\n  \n",
       "357928  roits d'auteur  Le contenu est protege par les...  \n",
       "37611                                          \\nU\\n\\nU\\n  \n",
       "21368                               \\nS\\n\\nS\\n94D965094\\n  \n",
       "82055                                             S#S\\n\\n  \n",
       "27264                                               \\nU\\n  \n",
       "32441                                               \\nU\\n  \n",
       "244494                           Cu  Mo  220 \\nHg  220 \\n  \n",
       "315033  Lower medium-grained Groundhog-Gunanoot \\nsand...  \n",
       "39535                                               \\nS\\n  \n",
       "259453  337,056 N i c k e l  c o p p e r COncentrateS,...  "
      ]
     },
     "execution_count": 63,
     "metadata": {},
     "output_type": "execute_result"
    }
   ],
   "source": [
    "last_i = i-2\n",
    "res = dfs[dfs[f'text_{last_i}'] != dfs[f'text_{i}']]\n",
    "print(res.shape)\n",
    "res = res.sample(20)\n",
    "res[[f'text_{last_i}', f'text_{i}']]"
   ]
  },
  {
   "cell_type": "code",
   "execution_count": 66,
   "id": "constant-local",
   "metadata": {},
   "outputs": [
    {
     "data": {
      "text/plain": [
       "0.17518822170466217"
      ]
     },
     "execution_count": 66,
     "metadata": {},
     "output_type": "execute_result"
    }
   ],
   "source": [
    "46561/dfs.shape[0]"
   ]
  },
  {
   "cell_type": "code",
   "execution_count": 67,
   "id": "adjustable-involvement",
   "metadata": {},
   "outputs": [
    {
     "name": "stdout",
     "output_type": "stream",
     "text": [
      "number of characters overall pre:\n",
      "number of characters overall post:\n",
      "25097653 24517649 0.9768901100035131 0.023109889996486888\n"
     ]
    }
   ],
   "source": [
    "print('number of characters overall pre:')\n",
    "a = dfs[f'text_{i-2}'].str.len().sum()\n",
    "print('number of characters overall post:')\n",
    "b = dfs[f'text_{i}'].str.len().sum()\n",
    "print(a, b, b/a, 1-b/a)"
   ]
  },
  {
   "cell_type": "markdown",
   "id": "prepared-bracket",
   "metadata": {},
   "source": [
    "**analysis** this affected 67k rows (17%), and they look reasonable, about 2% of the text (about the same as nrcan)"
   ]
  },
  {
   "cell_type": "code",
   "execution_count": 69,
   "id": "excellent-bible",
   "metadata": {},
   "outputs": [
    {
     "data": {
      "text/plain": [
       "[<function nrcan_p2.data_processing.preprocessing_dfcol.rm_newline_hyphenation(dfcol)>,\n",
       " <function nrcan_p2.data_processing.preprocessing_dfcol.rm_beg_end_word_punct(dfcol)>,\n",
       " <function nrcan_p2.data_processing.preprocessing_dfcol.rm_punct_mid_punct(dfcol)>,\n",
       " <function nrcan_p2.data_processing.preprocessing_dfcol.strip_space(dfcol)>,\n",
       " <function nrcan_p2.data_processing.preprocessing_df_filter.filter_l2_word(df, col)>,\n",
       " <function nrcan_p2.data_processing.preprocessing_df_filter.filter_l4_letter(df, col)>,\n",
       " <function nrcan_p2.data_processing.preprocessing_dfcol.rm_mid_word_punct(dfcol)>,\n",
       " <function nrcan_p2.data_processing.preprocessing_dfcol.rm_non_textual_punct(dfcol)>,\n",
       " <function nrcan_p2.data_processing.preprocessing_dfcol.rm_newline(dfcol)>,\n",
       " <function nrcan_p2.data_processing.preprocessing_dfcol.merge_words(dfcol, en_dict=<enchant.Dict object at 0x7f634df12550>)>,\n",
       " <function nrcan_p2.data_processing.preprocessing_df_filter.filter_no_real_words_g3letter(df, col, en_dict=<enchant.Dict object at 0x7f633b41d640>)>]"
      ]
     },
     "execution_count": 69,
     "metadata": {},
     "output_type": "execute_result"
    }
   ],
   "source": [
    "BASE_PIPELINE[6:]"
   ]
  },
  {
   "cell_type": "code",
   "execution_count": 70,
   "id": "packed-kazakhstan",
   "metadata": {},
   "outputs": [],
   "source": [
    "for i in range(6,10):\n",
    "    dfs[f'text_{i}'] = BASE_PIPELINE[i](dfs[f'text_{i-1}'])"
   ]
  },
  {
   "cell_type": "code",
   "execution_count": 71,
   "id": "functioning-harrison",
   "metadata": {},
   "outputs": [],
   "source": [
    "dfs.to_parquet(f'/nrcan_p2/data/02_intermediate/20210119/dataset_b_{i}.parquet')"
   ]
  },
  {
   "cell_type": "code",
   "execution_count": 113,
   "id": "offensive-boston",
   "metadata": {},
   "outputs": [],
   "source": [
    "import pandas as pd\n",
    "dfs = pd.read_parquet(f'/nrcan_p2/data/02_intermediate/20210119/dataset_b_9.parquet')"
   ]
  },
  {
   "cell_type": "code",
   "execution_count": 79,
   "id": "daily-marketing",
   "metadata": {},
   "outputs": [
    {
     "data": {
      "text/plain": [
       "0.03505194204163641"
      ]
     },
     "execution_count": 79,
     "metadata": {},
     "output_type": "execute_result"
    }
   ],
   "source": [
    "9316/dfs.shape[0]"
   ]
  },
  {
   "cell_type": "code",
   "execution_count": 76,
   "id": "southern-firmware",
   "metadata": {},
   "outputs": [
    {
     "data": {
      "text/plain": [
       "(9316, 24)"
      ]
     },
     "metadata": {},
     "output_type": "display_data"
    },
    {
     "data": {
      "text/html": [
       "<div>\n",
       "<style scoped>\n",
       "    .dataframe tbody tr th:only-of-type {\n",
       "        vertical-align: middle;\n",
       "    }\n",
       "\n",
       "    .dataframe tbody tr th {\n",
       "        vertical-align: top;\n",
       "    }\n",
       "\n",
       "    .dataframe thead th {\n",
       "        text-align: right;\n",
       "    }\n",
       "</style>\n",
       "<table border=\"1\" class=\"dataframe\">\n",
       "  <thead>\n",
       "    <tr style=\"text-align: right;\">\n",
       "      <th></th>\n",
       "      <th>text_5</th>\n",
       "      <th>text_6</th>\n",
       "    </tr>\n",
       "  </thead>\n",
       "  <tbody>\n",
       "    <tr>\n",
       "      <th>188038</th>\n",
       "      <td>found in barite within a limestone for- \\nmati...</td>\n",
       "      <td>found in barite within a limestone formation. ...</td>\n",
       "    </tr>\n",
       "    <tr>\n",
       "      <th>140258</th>\n",
       "      <td>The dormant Blackdome gold-silver mine of J-Pa...</td>\n",
       "      <td>The dormant Blackdome gold-silver mine of J-Pa...</td>\n",
       "    </tr>\n",
       "    <tr>\n",
       "      <th>320841</th>\n",
       "      <td>and desorption data from 2004 and 2006 (Figure...</td>\n",
       "      <td>and desorption data from 2004 and 2006 (Figure...</td>\n",
       "    </tr>\n",
       "    <tr>\n",
       "      <th>321604</th>\n",
       "      <td>An alternative approach that uses water chemis...</td>\n",
       "      <td>An alternative approach that uses water chemis...</td>\n",
       "    </tr>\n",
       "    <tr>\n",
       "      <th>193113</th>\n",
       "      <td>Serengeti Resources Inc continued to delineate...</td>\n",
       "      <td>Serengeti Resources Inc continued to delineate...</td>\n",
       "    </tr>\n",
       "    <tr>\n",
       "      <th>319439</th>\n",
       "      <td>The target areas were classified into moderate...</td>\n",
       "      <td>The target areas were classified into moderate...</td>\n",
       "    </tr>\n",
       "    <tr>\n",
       "      <th>310185</th>\n",
       "      <td>Comparison of the broad lithological compositi...</td>\n",
       "      <td>Comparison of the broad lithological compositi...</td>\n",
       "    </tr>\n",
       "    <tr>\n",
       "      <th>131660</th>\n",
       "      <td>The Sulphurets district, 60 km northwest of St...</td>\n",
       "      <td>The Sulphurets district, 60 km northwest of St...</td>\n",
       "    </tr>\n",
       "    <tr>\n",
       "      <th>269828</th>\n",
       "      <td>GAMSBY RIVER STOCK (UNIT EGM)\\nThe Gamsby Rive...</td>\n",
       "      <td>GAMSBY RIVER STOCK (UNIT EGM)\\nThe Gamsby Rive...</td>\n",
       "    </tr>\n",
       "    <tr>\n",
       "      <th>311303</th>\n",
       "      <td>The burning characteristics of high-rank low-v...</td>\n",
       "      <td>The burning characteristics of high-rank low-v...</td>\n",
       "    </tr>\n",
       "  </tbody>\n",
       "</table>\n",
       "</div>"
      ],
      "text/plain": [
       "                                                   text_5  \\\n",
       "188038  found in barite within a limestone for- \\nmati...   \n",
       "140258  The dormant Blackdome gold-silver mine of J-Pa...   \n",
       "320841  and desorption data from 2004 and 2006 (Figure...   \n",
       "321604  An alternative approach that uses water chemis...   \n",
       "193113  Serengeti Resources Inc continued to delineate...   \n",
       "319439  The target areas were classified into moderate...   \n",
       "310185  Comparison of the broad lithological compositi...   \n",
       "131660  The Sulphurets district, 60 km northwest of St...   \n",
       "269828  GAMSBY RIVER STOCK (UNIT EGM)\\nThe Gamsby Rive...   \n",
       "311303  The burning characteristics of high-rank low-v...   \n",
       "\n",
       "                                                   text_6  \n",
       "188038  found in barite within a limestone formation. ...  \n",
       "140258  The dormant Blackdome gold-silver mine of J-Pa...  \n",
       "320841  and desorption data from 2004 and 2006 (Figure...  \n",
       "321604  An alternative approach that uses water chemis...  \n",
       "193113  Serengeti Resources Inc continued to delineate...  \n",
       "319439  The target areas were classified into moderate...  \n",
       "310185  Comparison of the broad lithological compositi...  \n",
       "131660  The Sulphurets district, 60 km northwest of St...  \n",
       "269828  GAMSBY RIVER STOCK (UNIT EGM)\\nThe Gamsby Rive...  \n",
       "311303  The burning characteristics of high-rank low-v...  "
      ]
     },
     "metadata": {},
     "output_type": "display_data"
    },
    {
     "data": {
      "text/plain": [
       "array(['found in barite within a limestone for- \\nmation. The claim is underlain by a northeasterly trending Jurassic \\npyroclastic-sedimentary sequence. \\n',\n",
       "       'found in barite within a limestone formation. The claim is underlain by a northeasterly trending Jurassic \\npyroclastic-sedimentary sequence. \\n'],\n",
       "      dtype=object)"
      ]
     },
     "metadata": {},
     "output_type": "display_data"
    }
   ],
   "source": [
    "i = 6\n",
    "last_i = i-1\n",
    "res = dfs[dfs[f'text_{last_i}'] != dfs[f'text_{i}']]\n",
    "display(res.shape)\n",
    "res = res.sample(10)\n",
    "display(res[[f'text_{last_i}', f'text_{i}']])\n",
    "\n",
    "display(res[[f'text_{last_i}', f'text_{i}']].iloc[0].values)"
   ]
  },
  {
   "cell_type": "markdown",
   "id": "ideal-appendix",
   "metadata": {},
   "source": [
    "**analysis** 9k rows affected by the hyphenation (3%)"
   ]
  },
  {
   "cell_type": "code",
   "execution_count": 80,
   "id": "unlikely-conviction",
   "metadata": {},
   "outputs": [
    {
     "data": {
      "text/plain": [
       "(9508, 24)"
      ]
     },
     "metadata": {},
     "output_type": "display_data"
    },
    {
     "data": {
      "text/html": [
       "<div>\n",
       "<style scoped>\n",
       "    .dataframe tbody tr th:only-of-type {\n",
       "        vertical-align: middle;\n",
       "    }\n",
       "\n",
       "    .dataframe tbody tr th {\n",
       "        vertical-align: top;\n",
       "    }\n",
       "\n",
       "    .dataframe thead th {\n",
       "        text-align: right;\n",
       "    }\n",
       "</style>\n",
       "<table border=\"1\" class=\"dataframe\">\n",
       "  <thead>\n",
       "    <tr style=\"text-align: right;\">\n",
       "      <th></th>\n",
       "      <th>text_6</th>\n",
       "      <th>text_7</th>\n",
       "    </tr>\n",
       "  </thead>\n",
       "  <tbody>\n",
       "    <tr>\n",
       "      <th>154578</th>\n",
       "      <td>)I \\nSOo \\n</td>\n",
       "      <td>I \\nSOo \\n</td>\n",
       "    </tr>\n",
       "    <tr>\n",
       "      <th>346642</th>\n",
       "      <td>0-  o  0  g*\\n</td>\n",
       "      <td>0-  o  0  g\\n</td>\n",
       "    </tr>\n",
       "    <tr>\n",
       "      <th>376133</th>\n",
       "      <td>-MDI #KP0160 \\n-MDI #KP0161 \\n</td>\n",
       "      <td>MDI #KP0160 \\n-MDI #KP0161 \\n</td>\n",
       "    </tr>\n",
       "    <tr>\n",
       "      <th>356713</th>\n",
       "      <td>One olivine diabase dike about 80 feet thick i...</td>\n",
       "      <td>One olivine diabase dike about 80 feet thick i...</td>\n",
       "    </tr>\n",
       "    <tr>\n",
       "      <th>349950</th>\n",
       "      <td>S C^ en x*\\n</td>\n",
       "      <td>S C en x\\n</td>\n",
       "    </tr>\n",
       "    <tr>\n",
       "      <th>18285</th>\n",
       "      <td>&gt;A@ AJD= A F JA JE= =?H II  &gt;AHJ= EI &gt;AE C =...</td>\n",
       "      <td>&gt;A AJD A F JA JE =?H II  &gt;AHJ EI &gt;AE C =IIAI...</td>\n",
       "    </tr>\n",
       "    <tr>\n",
       "      <th>345161</th>\n",
       "      <td>-J -4.0 \\n</td>\n",
       "      <td>J -4.0 \\n</td>\n",
       "    </tr>\n",
       "    <tr>\n",
       "      <th>188057</th>\n",
       "      <td>(94C/3W) \\nThree kilometres northeast of the H...</td>\n",
       "      <td>(94C/3W) \\nThree kilometres northeast of the H...</td>\n",
       "    </tr>\n",
       "    <tr>\n",
       "      <th>268061</th>\n",
       "      <td>The Tommy and Ted veins are the best ex plored...</td>\n",
       "      <td>The Tommy and Ted veins are the best ex plored...</td>\n",
       "    </tr>\n",
       "    <tr>\n",
       "      <th>354754</th>\n",
       "      <td>H2O-\\n</td>\n",
       "      <td>H2O\\n</td>\n",
       "    </tr>\n",
       "  </tbody>\n",
       "</table>\n",
       "</div>"
      ],
      "text/plain": [
       "                                                   text_6  \\\n",
       "154578                                        )I \\nSOo \\n   \n",
       "346642                                     0-  o  0  g*\\n   \n",
       "376133                     -MDI #KP0160 \\n-MDI #KP0161 \\n   \n",
       "356713  One olivine diabase dike about 80 feet thick i...   \n",
       "349950                                       S C^ en x*\\n   \n",
       "18285     >A@ AJD= A F JA JE= =?H II  >AHJ= EI >AE C =...   \n",
       "345161                                         -J -4.0 \\n   \n",
       "188057  (94C/3W) \\nThree kilometres northeast of the H...   \n",
       "268061  The Tommy and Ted veins are the best ex plored...   \n",
       "354754                                             H2O-\\n   \n",
       "\n",
       "                                                   text_7  \n",
       "154578                                         I \\nSOo \\n  \n",
       "346642                                      0-  o  0  g\\n  \n",
       "376133                      MDI #KP0160 \\n-MDI #KP0161 \\n  \n",
       "356713  One olivine diabase dike about 80 feet thick i...  \n",
       "349950                                         S C en x\\n  \n",
       "18285     >A AJD A F JA JE =?H II  >AHJ EI >AE C =IIAI...  \n",
       "345161                                          J -4.0 \\n  \n",
       "188057  (94C/3W) \\nThree kilometres northeast of the H...  \n",
       "268061  The Tommy and Ted veins are the best ex plored...  \n",
       "354754                                              H2O\\n  "
      ]
     },
     "metadata": {},
     "output_type": "display_data"
    },
    {
     "data": {
      "text/plain": [
       "array([')I \\nSOo \\n', 'I \\nSOo \\n'], dtype=object)"
      ]
     },
     "metadata": {},
     "output_type": "display_data"
    }
   ],
   "source": [
    "i = 7\n",
    "last_i = i-1\n",
    "res = dfs[dfs[f'text_{last_i}'] != dfs[f'text_{i}']]\n",
    "display(res.shape)\n",
    "res = res.sample(10)\n",
    "display(res[[f'text_{last_i}', f'text_{i}']])\n",
    "\n",
    "display(res[[f'text_{last_i}', f'text_{i}']].iloc[0].values)"
   ]
  },
  {
   "cell_type": "code",
   "execution_count": null,
   "id": "quality-velvet",
   "metadata": {},
   "outputs": [],
   "source": [
    "**analysis** affects 9.5k rows about 3%"
   ]
  },
  {
   "cell_type": "code",
   "execution_count": 83,
   "id": "removable-external",
   "metadata": {},
   "outputs": [
    {
     "name": "stderr",
     "output_type": "stream",
     "text": [
      "<ipython-input-83-2a0d32b83fb2>:3: FutureWarning: The default value of regex will change from True to False in a future version.\n",
      "  res_all = dfs[dfs[f'text_{last_i}'].str.replace(' +', ' ') != dfs[f'text_{i}']]\n"
     ]
    },
    {
     "data": {
      "text/plain": [
       "(2733, 24)"
      ]
     },
     "metadata": {},
     "output_type": "display_data"
    },
    {
     "data": {
      "text/html": [
       "<div>\n",
       "<style scoped>\n",
       "    .dataframe tbody tr th:only-of-type {\n",
       "        vertical-align: middle;\n",
       "    }\n",
       "\n",
       "    .dataframe tbody tr th {\n",
       "        vertical-align: top;\n",
       "    }\n",
       "\n",
       "    .dataframe thead th {\n",
       "        text-align: right;\n",
       "    }\n",
       "</style>\n",
       "<table border=\"1\" class=\"dataframe\">\n",
       "  <thead>\n",
       "    <tr style=\"text-align: right;\">\n",
       "      <th></th>\n",
       "      <th>text_7</th>\n",
       "      <th>text_8</th>\n",
       "    </tr>\n",
       "  </thead>\n",
       "  <tbody>\n",
       "    <tr>\n",
       "      <th>352459</th>\n",
       "      <td>inks to Other Web Sites: This Content may cont...</td>\n",
       "      <td>inks to Other Web Sites: This Content may cont...</td>\n",
       "    </tr>\n",
       "    <tr>\n",
       "      <th>278789</th>\n",
       "      <td>P.T. Bobrowsky, G.E.M. Hall and S.J. Cook (ed....</td>\n",
       "      <td>P.T. Bobrowsky, G.E.M. Hall and S.J. Cook (ed....</td>\n",
       "    </tr>\n",
       "    <tr>\n",
       "      <th>340751</th>\n",
       "      <td>INTRODUCTION.....................................</td>\n",
       "      <td>INTRODUCTION.. 3 \\n</td>\n",
       "    </tr>\n",
       "    <tr>\n",
       "      <th>491</th>\n",
       "      <td>Richardson, R.N.W. DiLabio and K.A. Richardson...</td>\n",
       "      <td>Richardson, R.N.W. DiLabio and K.A. Richardson...</td>\n",
       "    </tr>\n",
       "    <tr>\n",
       "      <th>270831</th>\n",
       "      <td>subsurface fugitive gas leakage in an area tha...</td>\n",
       "      <td>subsurface fugitive gas leakage in an area tha...</td>\n",
       "    </tr>\n",
       "    <tr>\n",
       "      <th>310697</th>\n",
       "      <td>Qualitative interpretation of potential field ...</td>\n",
       "      <td>Qualitative interpretation of potential field ...</td>\n",
       "    </tr>\n",
       "    <tr>\n",
       "      <th>278754</th>\n",
       "      <td>http://www.empr.gov.bc.ca/Mining/Geoscience/Pu...</td>\n",
       "      <td>http:/www.empr.gov.bc.ca/Mining/Geoscience/Pub...</td>\n",
       "    </tr>\n",
       "    <tr>\n",
       "      <th>312351</th>\n",
       "      <td>Simandl, G.J., Paradis, S. and Birkett, T. (19...</td>\n",
       "      <td>Simandl, G.J., Paradis, S. and Birkett, T. (19...</td>\n",
       "    </tr>\n",
       "    <tr>\n",
       "      <th>193740</th>\n",
       "      <td>Highlights.......................................</td>\n",
       "      <td>Highlights.. 25\\nExploration and Production Tr...</td>\n",
       "    </tr>\n",
       "    <tr>\n",
       "      <th>325012</th>\n",
       "      <td>JPT website, (2008): http://updates.spe.org/in...</td>\n",
       "      <td>JPT website, (2008): http:/updates.spe.org/ind...</td>\n",
       "    </tr>\n",
       "  </tbody>\n",
       "</table>\n",
       "</div>"
      ],
      "text/plain": [
       "                                                   text_7  \\\n",
       "352459  inks to Other Web Sites: This Content may cont...   \n",
       "278789  P.T. Bobrowsky, G.E.M. Hall and S.J. Cook (ed....   \n",
       "340751  INTRODUCTION.....................................   \n",
       "491     Richardson, R.N.W. DiLabio and K.A. Richardson...   \n",
       "270831  subsurface fugitive gas leakage in an area tha...   \n",
       "310697  Qualitative interpretation of potential field ...   \n",
       "278754  http://www.empr.gov.bc.ca/Mining/Geoscience/Pu...   \n",
       "312351  Simandl, G.J., Paradis, S. and Birkett, T. (19...   \n",
       "193740  Highlights.......................................   \n",
       "325012  JPT website, (2008): http://updates.spe.org/in...   \n",
       "\n",
       "                                                   text_8  \n",
       "352459  inks to Other Web Sites: This Content may cont...  \n",
       "278789  P.T. Bobrowsky, G.E.M. Hall and S.J. Cook (ed....  \n",
       "340751                                INTRODUCTION.. 3 \\n  \n",
       "491     Richardson, R.N.W. DiLabio and K.A. Richardson...  \n",
       "270831  subsurface fugitive gas leakage in an area tha...  \n",
       "310697  Qualitative interpretation of potential field ...  \n",
       "278754  http:/www.empr.gov.bc.ca/Mining/Geoscience/Pub...  \n",
       "312351  Simandl, G.J., Paradis, S. and Birkett, T. (19...  \n",
       "193740  Highlights.. 25\\nExploration and Production Tr...  \n",
       "325012  JPT website, (2008): http:/updates.spe.org/ind...  "
      ]
     },
     "metadata": {},
     "output_type": "display_data"
    },
    {
     "data": {
      "text/plain": [
       "array(['inks to Other Web Sites: This Content may contain links, to Web sites that are not operated by MNDMF. \\nLinked Web sites may not be available in French. MNDMF neither endorses nor assumes any responsibility \\nfor the safety, accuracy or availability of linked Web sites or the information contained on them. The linked \\nWeb sites, their operation and content are the responsibility of the person or entity for which they were \\ncreated or maintained (the \"Owner\"). Both your use of a linked Web site, and your right to use or reproduce \\ninformation or materials from a linked Web site, are subject to the terms of use governing that particular \\nWeb site. Any comments or inquiries regarding a linked Web site must be directed to its Owner. \\n',\n",
       "       'inks to Other Web Sites: This Content may contain links, to Web sites that are not operated by MNDMF. \\nLinked Web sites may not be available in French. MNDMF neither endorses nor assumes any responsibility \\nfor the safety, accuracy or availability of linked Web sites or the information contained on them. The linked \\nWeb sites, their operation and content are the responsibility of the person or entity for which they were \\ncreated or maintained (the \"Owner\". Both your use of a linked Web site, and your right to use or reproduce \\ninformation or materials from a linked Web site, are subject to the terms of use governing that particular \\nWeb site. Any comments or inquiries regarding a linked Web site must be directed to its Owner. \\n'],\n",
       "      dtype=object)"
      ]
     },
     "metadata": {},
     "output_type": "display_data"
    }
   ],
   "source": [
    "i = 8\n",
    "last_i = i-1\n",
    "res_all = dfs[dfs[f'text_{last_i}'].str.replace(' +', ' ') != dfs[f'text_{i}']]\n",
    "display(res_all.shape)\n",
    "res = res_all.sample(10)\n",
    "display(res[[f'text_{last_i}', f'text_{i}']])\n",
    "\n",
    "display(res[[f'text_{last_i}', f'text_{i}']].iloc[0].values)"
   ]
  },
  {
   "cell_type": "code",
   "execution_count": 91,
   "id": "framed-trial",
   "metadata": {},
   "outputs": [
    {
     "data": {
      "text/html": [
       "<div>\n",
       "<style scoped>\n",
       "    .dataframe tbody tr th:only-of-type {\n",
       "        vertical-align: middle;\n",
       "    }\n",
       "\n",
       "    .dataframe tbody tr th {\n",
       "        vertical-align: top;\n",
       "    }\n",
       "\n",
       "    .dataframe thead th {\n",
       "        text-align: right;\n",
       "    }\n",
       "</style>\n",
       "<table border=\"1\" class=\"dataframe\">\n",
       "  <thead>\n",
       "    <tr style=\"text-align: right;\">\n",
       "      <th></th>\n",
       "      <th>text_7</th>\n",
       "      <th>text_8</th>\n",
       "    </tr>\n",
       "  </thead>\n",
       "  <tbody>\n",
       "    <tr>\n",
       "      <th>272800</th>\n",
       "      <td>Mackay, M.L., Leeder, R.L., Giroux, L., Dexter...</td>\n",
       "      <td>Mackay, M.L., Leeder, R.L., Giroux, L., Dexter...</td>\n",
       "    </tr>\n",
       "    <tr>\n",
       "      <th>310686</th>\n",
       "      <td>Quaternary GeoloGy and aGGreGate potential of ...</td>\n",
       "      <td>Quaternary GeoloGy and aGGreGate potential of ...</td>\n",
       "    </tr>\n",
       "    <tr>\n",
       "      <th>360915</th>\n",
       "      <td>inks to Other Web Sites: This Content may cont...</td>\n",
       "      <td>inks to Other Web Sites: This Content may cont...</td>\n",
       "    </tr>\n",
       "    <tr>\n",
       "      <th>347884</th>\n",
       "      <td>M.  f*^'''-\"*'*'m \\n</td>\n",
       "      <td>M. f*'m \\n</td>\n",
       "    </tr>\n",
       "    <tr>\n",
       "      <th>297</th>\n",
       "      <td>Compared with the Sweet Grass Hills, ultrapota...</td>\n",
       "      <td>Compared with the Sweet Grass Hills, ultrapota...</td>\n",
       "    </tr>\n",
       "    <tr>\n",
       "      <th>292046</th>\n",
       "      <td>At the low e l e v a t i on s i te (77-1) with...</td>\n",
       "      <td>At the low e l e v a t i on s i te (77-1) with...</td>\n",
       "    </tr>\n",
       "    <tr>\n",
       "      <th>376886</th>\n",
       "      <td>SEE PAGE 14-1 ...NOTES, FOR ITEMS LISTED BY NU...</td>\n",
       "      <td>SEE PAGE 14-1 ..NOTES, FOR ITEMS LISTED BY NUM...</td>\n",
       "    </tr>\n",
       "    <tr>\n",
       "      <th>325017</th>\n",
       "      <td>Southern Methodist University Geothermal Labor...</td>\n",
       "      <td>Southern Methodist University Geothermal Labor...</td>\n",
       "    </tr>\n",
       "    <tr>\n",
       "      <th>90153</th>\n",
       "      <td>Appendices, including datafiles, for this GeoF...</td>\n",
       "      <td>Appendices, including datafiles, for this GeoF...</td>\n",
       "    </tr>\n",
       "    <tr>\n",
       "      <th>312530</th>\n",
       "      <td>Peters, K.E., and Cassa, M.R., 1994, Applied S...</td>\n",
       "      <td>Peters, K.E., and Cassa, M.R., 1994, Applied S...</td>\n",
       "    </tr>\n",
       "  </tbody>\n",
       "</table>\n",
       "</div>"
      ],
      "text/plain": [
       "                                                   text_7  \\\n",
       "272800  Mackay, M.L., Leeder, R.L., Giroux, L., Dexter...   \n",
       "310686  Quaternary GeoloGy and aGGreGate potential of ...   \n",
       "360915  inks to Other Web Sites: This Content may cont...   \n",
       "347884                               M.  f*^'''-\"*'*'m \\n   \n",
       "297     Compared with the Sweet Grass Hills, ultrapota...   \n",
       "292046  At the low e l e v a t i on s i te (77-1) with...   \n",
       "376886  SEE PAGE 14-1 ...NOTES, FOR ITEMS LISTED BY NU...   \n",
       "325017  Southern Methodist University Geothermal Labor...   \n",
       "90153   Appendices, including datafiles, for this GeoF...   \n",
       "312530  Peters, K.E., and Cassa, M.R., 1994, Applied S...   \n",
       "\n",
       "                                                   text_8  \n",
       "272800  Mackay, M.L., Leeder, R.L., Giroux, L., Dexter...  \n",
       "310686  Quaternary GeoloGy and aGGreGate potential of ...  \n",
       "360915  inks to Other Web Sites: This Content may cont...  \n",
       "347884                                         M. f*'m \\n  \n",
       "297     Compared with the Sweet Grass Hills, ultrapota...  \n",
       "292046  At the low e l e v a t i on s i te (77-1) with...  \n",
       "376886  SEE PAGE 14-1 ..NOTES, FOR ITEMS LISTED BY NUM...  \n",
       "325017  Southern Methodist University Geothermal Labor...  \n",
       "90153   Appendices, including datafiles, for this GeoF...  \n",
       "312530  Peters, K.E., and Cassa, M.R., 1994, Applied S...  "
      ]
     },
     "execution_count": 91,
     "metadata": {},
     "output_type": "execute_result"
    }
   ],
   "source": [
    "res_all.sample(10)[[f'text_{last_i}', f'text_{i}']]"
   ]
  },
  {
   "cell_type": "code",
   "execution_count": 96,
   "id": "tested-preference",
   "metadata": {},
   "outputs": [
    {
     "data": {
      "text/html": [
       "<div>\n",
       "<style scoped>\n",
       "    .dataframe tbody tr th:only-of-type {\n",
       "        vertical-align: middle;\n",
       "    }\n",
       "\n",
       "    .dataframe tbody tr th {\n",
       "        vertical-align: top;\n",
       "    }\n",
       "\n",
       "    .dataframe thead th {\n",
       "        text-align: right;\n",
       "    }\n",
       "</style>\n",
       "<table border=\"1\" class=\"dataframe\">\n",
       "  <thead>\n",
       "    <tr style=\"text-align: right;\">\n",
       "      <th></th>\n",
       "      <th>text_7</th>\n",
       "      <th>text_8</th>\n",
       "    </tr>\n",
       "  </thead>\n",
       "  <tbody>\n",
       "    <tr>\n",
       "      <th>236383</th>\n",
       "      <td>The Belcourt-Saxon joint venture project of th...</td>\n",
       "      <td>The Belcourt-Saxon joint venture project of th...</td>\n",
       "    </tr>\n",
       "    <tr>\n",
       "      <th>153436</th>\n",
       "      <td>Ltd.). 1220, One Bentall Centre, Vancouver 1. ...</td>\n",
       "      <td>Ltd.. 1220, One Bentall Centre, Vancouver 1. \\...</td>\n",
       "    </tr>\n",
       "    <tr>\n",
       "      <th>345387</th>\n",
       "      <td>s \\n\\^,,-8^\"  MMR\\n</td>\n",
       "      <td>s \\n\\-8^\" MMR\\n</td>\n",
       "    </tr>\n",
       "    <tr>\n",
       "      <th>315005</th>\n",
       "      <td>Petrographic Summary.............................</td>\n",
       "      <td>Petrographic Summary..7 \\n</td>\n",
       "    </tr>\n",
       "    <tr>\n",
       "      <th>339293</th>\n",
       "      <td>inks to Other Web Sites: This Content may cont...</td>\n",
       "      <td>inks to Other Web Sites: This Content may cont...</td>\n",
       "    </tr>\n",
       "    <tr>\n",
       "      <th>13084</th>\n",
       "      <td>The base of the arkosic member may be used to ...</td>\n",
       "      <td>The base of the arkosic member may be used to ...</td>\n",
       "    </tr>\n",
       "    <tr>\n",
       "      <th>314349</th>\n",
       "      <td>O'Connell, S.C. (1994): Geological history of ...</td>\n",
       "      <td>O'Connell, S.C. (1994): Geological history of ...</td>\n",
       "    </tr>\n",
       "    <tr>\n",
       "      <th>365063</th>\n",
       "      <td>V \\n1\\n7 \\n1 \\n 7 \\n\\n/..L.\\n-1  7-\\n/l l7\\n7 \\n</td>\n",
       "      <td>V \\n1\\n7 \\n1 \\n 7 \\n\\n/.L.\\n-1 7-\\n/l l7\\n7 \\n</td>\n",
       "    </tr>\n",
       "    <tr>\n",
       "      <th>19154</th>\n",
       "      <td>geological subsurface models for geotechnical ...</td>\n",
       "      <td>geological subsurface models for geotechnical ...</td>\n",
       "    </tr>\n",
       "    <tr>\n",
       "      <th>18239</th>\n",
       "      <td>@EBEA BH ?+=&gt;A AJ  \\n</td>\n",
       "      <td>@EBEA BH ?&gt;A AJ \\n</td>\n",
       "    </tr>\n",
       "  </tbody>\n",
       "</table>\n",
       "</div>"
      ],
      "text/plain": [
       "                                                   text_7  \\\n",
       "236383  The Belcourt-Saxon joint venture project of th...   \n",
       "153436  Ltd.). 1220, One Bentall Centre, Vancouver 1. ...   \n",
       "345387                                s \\n\\^,,-8^\"  MMR\\n   \n",
       "315005  Petrographic Summary.............................   \n",
       "339293  inks to Other Web Sites: This Content may cont...   \n",
       "13084   The base of the arkosic member may be used to ...   \n",
       "314349  O'Connell, S.C. (1994): Geological history of ...   \n",
       "365063   V \\n1\\n7 \\n1 \\n 7 \\n\\n/..L.\\n-1  7-\\n/l l7\\n7 \\n   \n",
       "19154   geological subsurface models for geotechnical ...   \n",
       "18239                               @EBEA BH ?+=>A AJ  \\n   \n",
       "\n",
       "                                                   text_8  \n",
       "236383  The Belcourt-Saxon joint venture project of th...  \n",
       "153436  Ltd.. 1220, One Bentall Centre, Vancouver 1. \\...  \n",
       "345387                                    s \\n\\-8^\" MMR\\n  \n",
       "315005                         Petrographic Summary..7 \\n  \n",
       "339293  inks to Other Web Sites: This Content may cont...  \n",
       "13084   The base of the arkosic member may be used to ...  \n",
       "314349  O'Connell, S.C. (1994): Geological history of ...  \n",
       "365063     V \\n1\\n7 \\n1 \\n 7 \\n\\n/.L.\\n-1 7-\\n/l l7\\n7 \\n  \n",
       "19154   geological subsurface models for geotechnical ...  \n",
       "18239                                  @EBEA BH ?>A AJ \\n  "
      ]
     },
     "execution_count": 96,
     "metadata": {},
     "output_type": "execute_result"
    }
   ],
   "source": [
    "res_all.sample(10)[[f'text_{last_i}', f'text_{i}']]"
   ]
  },
  {
   "cell_type": "markdown",
   "id": "yellow-acting",
   "metadata": {},
   "source": [
    "**analysis** This is the mistake: \"(Nb+Ta)>=2Ti)\" -> \"(Nb + Ta)=2Ti\"\n",
    "    (the \"Owner\") -> (the \"Owner\"."
   ]
  },
  {
   "cell_type": "code",
   "execution_count": 101,
   "id": "reverse-triple",
   "metadata": {},
   "outputs": [
    {
     "data": {
      "text/plain": [
       "<function nrcan_p2.data_processing.preprocessing_dfcol.strip_space(dfcol)>"
      ]
     },
     "execution_count": 101,
     "metadata": {},
     "output_type": "execute_result"
    }
   ],
   "source": [
    "BASE_PIPELINE[9]"
   ]
  },
  {
   "cell_type": "code",
   "execution_count": 100,
   "id": "apparent-headline",
   "metadata": {},
   "outputs": [
    {
     "data": {
      "text/plain": [
       "(265752, 24)"
      ]
     },
     "metadata": {},
     "output_type": "display_data"
    },
    {
     "data": {
      "text/html": [
       "<div>\n",
       "<style scoped>\n",
       "    .dataframe tbody tr th:only-of-type {\n",
       "        vertical-align: middle;\n",
       "    }\n",
       "\n",
       "    .dataframe tbody tr th {\n",
       "        vertical-align: top;\n",
       "    }\n",
       "\n",
       "    .dataframe thead th {\n",
       "        text-align: right;\n",
       "    }\n",
       "</style>\n",
       "<table border=\"1\" class=\"dataframe\">\n",
       "  <thead>\n",
       "    <tr style=\"text-align: right;\">\n",
       "      <th></th>\n",
       "      <th>text_8</th>\n",
       "      <th>text_9</th>\n",
       "    </tr>\n",
       "  </thead>\n",
       "  <tbody>\n",
       "    <tr>\n",
       "      <th>319740</th>\n",
       "      <td>Zone II shows consistently elevated values (&gt;...</td>\n",
       "      <td>Zone II shows consistently elevated values (&gt;1...</td>\n",
       "    </tr>\n",
       "    <tr>\n",
       "      <th>24226</th>\n",
       "      <td>\\nU\\n</td>\n",
       "      <td>\\nU\\n</td>\n",
       "    </tr>\n",
       "    <tr>\n",
       "      <th>261687</th>\n",
       "      <td>Sayward\\n</td>\n",
       "      <td>Sayward\\n</td>\n",
       "    </tr>\n",
       "    <tr>\n",
       "      <th>192993</th>\n",
       "      <td>Au \\n</td>\n",
       "      <td>Au \\n</td>\n",
       "    </tr>\n",
       "    <tr>\n",
       "      <th>31852</th>\n",
       "      <td>\\nU\\n</td>\n",
       "      <td>\\nU\\n</td>\n",
       "    </tr>\n",
       "    <tr>\n",
       "      <th>262239</th>\n",
       "      <td>geol; geochem\\n</td>\n",
       "      <td>geol; geochem\\n</td>\n",
       "    </tr>\n",
       "    <tr>\n",
       "      <th>312502</th>\n",
       "      <td>The next step in this project is to apply one-...</td>\n",
       "      <td>The next step in this project is to apply one-...</td>\n",
       "    </tr>\n",
       "    <tr>\n",
       "      <th>19279</th>\n",
       "      <td>Summary\\nTo-date limited work has been complet...</td>\n",
       "      <td>Summary\\nTo-date limited work has been complet...</td>\n",
       "    </tr>\n",
       "    <tr>\n",
       "      <th>41652</th>\n",
       "      <td>Element concentrations for each sample are the...</td>\n",
       "      <td>Element concentrations for each sample are the...</td>\n",
       "    </tr>\n",
       "    <tr>\n",
       "      <th>36294</th>\n",
       "      <td>\\nU\\n</td>\n",
       "      <td>\\nU\\n</td>\n",
       "    </tr>\n",
       "  </tbody>\n",
       "</table>\n",
       "</div>"
      ],
      "text/plain": [
       "                                                   text_8  \\\n",
       "319740   Zone II shows consistently elevated values (>...   \n",
       "24226                                               \\nU\\n   \n",
       "261687                                          Sayward\\n   \n",
       "192993                                              Au \\n   \n",
       "31852                                               \\nU\\n   \n",
       "262239                                    geol; geochem\\n   \n",
       "312502  The next step in this project is to apply one-...   \n",
       "19279   Summary\\nTo-date limited work has been complet...   \n",
       "41652   Element concentrations for each sample are the...   \n",
       "36294                                               \\nU\\n   \n",
       "\n",
       "                                                   text_9  \n",
       "319740  Zone II shows consistently elevated values (>1...  \n",
       "24226                                               \\nU\\n  \n",
       "261687                                          Sayward\\n  \n",
       "192993                                              Au \\n  \n",
       "31852                                               \\nU\\n  \n",
       "262239                                    geol; geochem\\n  \n",
       "312502  The next step in this project is to apply one-...  \n",
       "19279   Summary\\nTo-date limited work has been complet...  \n",
       "41652   Element concentrations for each sample are the...  \n",
       "36294                                               \\nU\\n  "
      ]
     },
     "metadata": {},
     "output_type": "display_data"
    },
    {
     "data": {
      "text/plain": [
       "array([' Zone II shows consistently elevated values (>1370 \\nohm-m, purples). These values suggest sand or gravel \\nand are interpreted to have high potential for granular \\nmaterial. \\n',\n",
       "       'Zone II shows consistently elevated values (>1370 \\nohm-m, purples). These values suggest sand or gravel \\nand are interpreted to have high potential for granular \\nmaterial. \\n'],\n",
       "      dtype=object)"
      ]
     },
     "metadata": {},
     "output_type": "display_data"
    }
   ],
   "source": [
    "i = 9\n",
    "last_i = i-1\n",
    "res_all = dfs[dfs[f'text_{last_i}'].str.strip() != dfs[f'text_{i}']]\n",
    "display(res_all.shape)\n",
    "res = res_all.sample(10)\n",
    "display(res[[f'text_{last_i}', f'text_{i}']])\n",
    "\n",
    "display(res[[f'text_{last_i}', f'text_{i}']].iloc[0].values)"
   ]
  },
  {
   "cell_type": "code",
   "execution_count": 103,
   "id": "jewish-frost",
   "metadata": {},
   "outputs": [
    {
     "data": {
      "text/plain": [
       "[<function nrcan_p2.data_processing.preprocessing_dfcol.strip_space(dfcol)>,\n",
       " <function nrcan_p2.data_processing.preprocessing_df_filter.filter_l2_word(df, col)>,\n",
       " <function nrcan_p2.data_processing.preprocessing_df_filter.filter_l4_letter(df, col)>,\n",
       " <function nrcan_p2.data_processing.preprocessing_dfcol.rm_mid_word_punct(dfcol)>,\n",
       " <function nrcan_p2.data_processing.preprocessing_dfcol.rm_non_textual_punct(dfcol)>,\n",
       " <function nrcan_p2.data_processing.preprocessing_dfcol.rm_newline(dfcol)>,\n",
       " <function nrcan_p2.data_processing.preprocessing_dfcol.merge_words(dfcol, en_dict=<enchant.Dict object at 0x7f634df12550>)>,\n",
       " <function nrcan_p2.data_processing.preprocessing_df_filter.filter_no_real_words_g3letter(df, col, en_dict=<enchant.Dict object at 0x7f633b41d640>)>]"
      ]
     },
     "execution_count": 103,
     "metadata": {},
     "output_type": "execute_result"
    }
   ],
   "source": [
    "BASE_PIPELINE[9:]"
   ]
  },
  {
   "cell_type": "code",
   "execution_count": 114,
   "id": "suited-strength",
   "metadata": {},
   "outputs": [],
   "source": [
    "i = 10\n",
    "dfs_filtered = BASE_PIPELINE[i](dfs, f'text_{i-1}')"
   ]
  },
  {
   "cell_type": "code",
   "execution_count": 105,
   "id": "broadband-boost",
   "metadata": {},
   "outputs": [
    {
     "data": {
      "text/html": [
       "<div>\n",
       "<style scoped>\n",
       "    .dataframe tbody tr th:only-of-type {\n",
       "        vertical-align: middle;\n",
       "    }\n",
       "\n",
       "    .dataframe tbody tr th {\n",
       "        vertical-align: top;\n",
       "    }\n",
       "\n",
       "    .dataframe thead th {\n",
       "        text-align: right;\n",
       "    }\n",
       "</style>\n",
       "<table border=\"1\" class=\"dataframe\">\n",
       "  <thead>\n",
       "    <tr style=\"text-align: right;\">\n",
       "      <th></th>\n",
       "      <th>text_9</th>\n",
       "    </tr>\n",
       "  </thead>\n",
       "  <tbody>\n",
       "    <tr>\n",
       "      <th>176104</th>\n",
       "      <td>Cassiar \\n</td>\n",
       "    </tr>\n",
       "    <tr>\n",
       "      <th>298052</th>\n",
       "      <td>These \\n</td>\n",
       "    </tr>\n",
       "    <tr>\n",
       "      <th>49290</th>\n",
       "      <td>A\\n</td>\n",
       "    </tr>\n",
       "    <tr>\n",
       "      <th>49608</th>\n",
       "      <td>C\\n</td>\n",
       "    </tr>\n",
       "    <tr>\n",
       "      <th>26657</th>\n",
       "      <td>\\nU\\n</td>\n",
       "    </tr>\n",
       "    <tr>\n",
       "      <th>85894</th>\n",
       "      <td>5890000m.N\\n</td>\n",
       "    </tr>\n",
       "    <tr>\n",
       "      <th>44769</th>\n",
       "      <td>Al\\n</td>\n",
       "    </tr>\n",
       "    <tr>\n",
       "      <th>5534</th>\n",
       "      <td>Silt\\n</td>\n",
       "    </tr>\n",
       "    <tr>\n",
       "      <th>120780</th>\n",
       "      <td>83E83E\\n</td>\n",
       "    </tr>\n",
       "    <tr>\n",
       "      <th>54409</th>\n",
       "      <td>T\\n</td>\n",
       "    </tr>\n",
       "    <tr>\n",
       "      <th>27242</th>\n",
       "      <td>\\nU\\n</td>\n",
       "    </tr>\n",
       "    <tr>\n",
       "      <th>41435</th>\n",
       "      <td>FORM \\n</td>\n",
       "    </tr>\n",
       "    <tr>\n",
       "      <th>66456</th>\n",
       "      <td>103F09\\n</td>\n",
       "    </tr>\n",
       "    <tr>\n",
       "      <th>85893</th>\n",
       "      <td>53o15'\\n</td>\n",
       "    </tr>\n",
       "    <tr>\n",
       "      <th>219275</th>\n",
       "      <td>Centre, \\n</td>\n",
       "    </tr>\n",
       "    <tr>\n",
       "      <th>66474</th>\n",
       "      <td>103F08\\n</td>\n",
       "    </tr>\n",
       "    <tr>\n",
       "      <th>33796</th>\n",
       "      <td>\\nU\\n</td>\n",
       "    </tr>\n",
       "    <tr>\n",
       "      <th>64484</th>\n",
       "      <td>Ejowra\\n</td>\n",
       "    </tr>\n",
       "    <tr>\n",
       "      <th>296532</th>\n",
       "      <td>resulting \\n</td>\n",
       "    </tr>\n",
       "    <tr>\n",
       "      <th>40517</th>\n",
       "      <td>\\nS\\n</td>\n",
       "    </tr>\n",
       "  </tbody>\n",
       "</table>\n",
       "</div>"
      ],
      "text/plain": [
       "              text_9\n",
       "176104    Cassiar \\n\n",
       "298052      These \\n\n",
       "49290            A\\n\n",
       "49608            C\\n\n",
       "26657          \\nU\\n\n",
       "85894   5890000m.N\\n\n",
       "44769           Al\\n\n",
       "5534          Silt\\n\n",
       "120780      83E83E\\n\n",
       "54409            T\\n\n",
       "27242          \\nU\\n\n",
       "41435        FORM \\n\n",
       "66456       103F09\\n\n",
       "85893       53o15'\\n\n",
       "219275    Centre, \\n\n",
       "66474       103F08\\n\n",
       "33796          \\nU\\n\n",
       "64484       Ejowra\\n\n",
       "296532  resulting \\n\n",
       "40517          \\nS\\n"
      ]
     },
     "execution_count": 105,
     "metadata": {},
     "output_type": "execute_result"
    }
   ],
   "source": [
    "res = dfs[~dfs.index.isin(dfs_filtered.index)].sample(20)\n",
    "res[[f'text_{i-1}']]"
   ]
  },
  {
   "cell_type": "code",
   "execution_count": 106,
   "id": "activated-brake",
   "metadata": {},
   "outputs": [
    {
     "name": "stdout",
     "output_type": "stream",
     "text": [
      "(265777, 24)\n",
      "(184935, 24)\n",
      "0.30417229481858854\n"
     ]
    }
   ],
   "source": [
    "print(dfs.shape)\n",
    "print(dfs_filtered.shape)\n",
    "print(1- dfs_filtered.shape[0]/dfs.shape[0])"
   ]
  },
  {
   "cell_type": "code",
   "execution_count": 115,
   "id": "antique-asthma",
   "metadata": {},
   "outputs": [],
   "source": [
    "dfs = dfs_filtered"
   ]
  },
  {
   "cell_type": "markdown",
   "id": "traditional-problem",
   "metadata": {},
   "source": [
    "**analysis** This removed 30% of the boxes!(vs 25%)"
   ]
  },
  {
   "cell_type": "code",
   "execution_count": 116,
   "id": "alien-franklin",
   "metadata": {},
   "outputs": [],
   "source": [
    "i = 11\n",
    "dfs_filtered = BASE_PIPELINE[i](dfs, f'text_{i-2}')"
   ]
  },
  {
   "cell_type": "code",
   "execution_count": 117,
   "id": "stuffed-stream",
   "metadata": {},
   "outputs": [
    {
     "data": {
      "text/html": [
       "<div>\n",
       "<style scoped>\n",
       "    .dataframe tbody tr th:only-of-type {\n",
       "        vertical-align: middle;\n",
       "    }\n",
       "\n",
       "    .dataframe tbody tr th {\n",
       "        vertical-align: top;\n",
       "    }\n",
       "\n",
       "    .dataframe thead th {\n",
       "        text-align: right;\n",
       "    }\n",
       "</style>\n",
       "<table border=\"1\" class=\"dataframe\">\n",
       "  <thead>\n",
       "    <tr style=\"text-align: right;\">\n",
       "      <th></th>\n",
       "      <th>text_9</th>\n",
       "    </tr>\n",
       "  </thead>\n",
       "  <tbody>\n",
       "    <tr>\n",
       "      <th>349375</th>\n",
       "      <td>O 0\\n</td>\n",
       "    </tr>\n",
       "    <tr>\n",
       "      <th>14511</th>\n",
       "      <td>p\\ng\\n</td>\n",
       "    </tr>\n",
       "    <tr>\n",
       "      <th>85798</th>\n",
       "      <td>S\\nS\\n\\n\\n</td>\n",
       "    </tr>\n",
       "    <tr>\n",
       "      <th>372542</th>\n",
       "      <td>b\\nt\\n</td>\n",
       "    </tr>\n",
       "    <tr>\n",
       "      <th>17634</th>\n",
       "      <td>6 A\\n</td>\n",
       "    </tr>\n",
       "    <tr>\n",
       "      <th>262460</th>\n",
       "      <td>V i \\n</td>\n",
       "    </tr>\n",
       "    <tr>\n",
       "      <th>96392</th>\n",
       "      <td>n 3\\n</td>\n",
       "    </tr>\n",
       "    <tr>\n",
       "      <th>139097</th>\n",
       "      <td>R i\\n</td>\n",
       "    </tr>\n",
       "    <tr>\n",
       "      <th>31659</th>\n",
       "      <td>\\nU\\nU\\n\\n</td>\n",
       "    </tr>\n",
       "    <tr>\n",
       "      <th>134485</th>\n",
       "      <td>D\\nD\\n</td>\n",
       "    </tr>\n",
       "    <tr>\n",
       "      <th>319011</th>\n",
       "      <td>X\\nX\\n</td>\n",
       "    </tr>\n",
       "    <tr>\n",
       "      <th>368236</th>\n",
       "      <td>i f\\n</td>\n",
       "    </tr>\n",
       "    <tr>\n",
       "      <th>22268</th>\n",
       "      <td>\\nU\\nU\\n\\n</td>\n",
       "    </tr>\n",
       "    <tr>\n",
       "      <th>309979</th>\n",
       "      <td>A B\\n</td>\n",
       "    </tr>\n",
       "    <tr>\n",
       "      <th>315132</th>\n",
       "      <td>C o\\n</td>\n",
       "    </tr>\n",
       "    <tr>\n",
       "      <th>290586</th>\n",
       "      <td>i s \\n</td>\n",
       "    </tr>\n",
       "    <tr>\n",
       "      <th>270529</th>\n",
       "      <td>R R\\n</td>\n",
       "    </tr>\n",
       "    <tr>\n",
       "      <th>365039</th>\n",
       "      <td>H\\nI\\n</td>\n",
       "    </tr>\n",
       "    <tr>\n",
       "      <th>15072</th>\n",
       "      <td>k\\nk\\n</td>\n",
       "    </tr>\n",
       "    <tr>\n",
       "      <th>360435</th>\n",
       "      <td>O j\\n</td>\n",
       "    </tr>\n",
       "  </tbody>\n",
       "</table>\n",
       "</div>"
      ],
      "text/plain": [
       "            text_9\n",
       "349375       O 0\\n\n",
       "14511       p\\ng\\n\n",
       "85798   S\\nS\\n\\n\\n\n",
       "372542      b\\nt\\n\n",
       "17634        6 A\\n\n",
       "262460      V i \\n\n",
       "96392        n 3\\n\n",
       "139097       R i\\n\n",
       "31659   \\nU\\nU\\n\\n\n",
       "134485      D\\nD\\n\n",
       "319011      X\\nX\\n\n",
       "368236       i f\\n\n",
       "22268   \\nU\\nU\\n\\n\n",
       "309979       A B\\n\n",
       "315132       C o\\n\n",
       "290586      i s \\n\n",
       "270529       R R\\n\n",
       "365039      H\\nI\\n\n",
       "15072       k\\nk\\n\n",
       "360435       O j\\n"
      ]
     },
     "execution_count": 117,
     "metadata": {},
     "output_type": "execute_result"
    }
   ],
   "source": [
    "res = dfs[~dfs.index.isin(dfs_filtered.index)].sample(20)\n",
    "res[[f'text_{i-2}']]"
   ]
  },
  {
   "cell_type": "code",
   "execution_count": 118,
   "id": "functional-invention",
   "metadata": {},
   "outputs": [
    {
     "name": "stdout",
     "output_type": "stream",
     "text": [
      "(184935, 24)\n",
      "(184119, 24)\n",
      "0.004412361099845885\n"
     ]
    }
   ],
   "source": [
    "print(dfs.shape)\n",
    "print(dfs_filtered.shape)\n",
    "print(1- dfs_filtered.shape[0]/dfs.shape[0])"
   ]
  },
  {
   "cell_type": "markdown",
   "id": "twenty-persian",
   "metadata": {},
   "source": [
    "**analysis** this removed only 0.4% of boxes (far fewer than NRCan)"
   ]
  },
  {
   "cell_type": "code",
   "execution_count": 120,
   "id": "eastern-queens",
   "metadata": {},
   "outputs": [
    {
     "data": {
      "text/plain": [
       "[<function nrcan_p2.data_processing.preprocessing_df_filter.filter_l4_letter(df, col)>,\n",
       " <function nrcan_p2.data_processing.preprocessing_dfcol.rm_mid_word_punct(dfcol)>,\n",
       " <function nrcan_p2.data_processing.preprocessing_dfcol.rm_non_textual_punct(dfcol)>,\n",
       " <function nrcan_p2.data_processing.preprocessing_dfcol.rm_newline(dfcol)>,\n",
       " <function nrcan_p2.data_processing.preprocessing_dfcol.merge_words(dfcol, en_dict=<enchant.Dict object at 0x7f634df12550>)>,\n",
       " <function nrcan_p2.data_processing.preprocessing_df_filter.filter_no_real_words_g3letter(df, col, en_dict=<enchant.Dict object at 0x7f633b41d640>)>]"
      ]
     },
     "execution_count": 120,
     "metadata": {},
     "output_type": "execute_result"
    }
   ],
   "source": [
    "BASE_PIPELINE[11:]"
   ]
  },
  {
   "cell_type": "code",
   "execution_count": 123,
   "id": "experimental-guinea",
   "metadata": {},
   "outputs": [
    {
     "data": {
      "text/plain": [
       "Index(['Unnamed: 0', 'obj_type', 'pg', 'pos_x0', 'pos_y0', 'pos_x1', 'pos_y1',\n",
       "       'text', 'file', 'width', 'height', 'nchars_stripped', 'text_-1',\n",
       "       'text_0', 'text_1', 'text_2', 'text_3', 'nchars_3', 'letter_count',\n",
       "       'text_5', 'text_6', 'text_7', 'text_8', 'text_9'],\n",
       "      dtype='object')"
      ]
     },
     "execution_count": 123,
     "metadata": {},
     "output_type": "execute_result"
    }
   ],
   "source": [
    "dfs.columns"
   ]
  },
  {
   "cell_type": "code",
   "execution_count": 124,
   "id": "worldwide-prague",
   "metadata": {},
   "outputs": [],
   "source": [
    "i = 12\n",
    "dfs[f'text_{i}'] = BASE_PIPELINE[i](dfs[f'text_9'])"
   ]
  },
  {
   "cell_type": "code",
   "execution_count": 125,
   "id": "rotary-genius",
   "metadata": {},
   "outputs": [],
   "source": [
    "for i in range(13,16):\n",
    "    dfs[f'text_{i}'] = BASE_PIPELINE[i](dfs[f'text_{i-1}'])"
   ]
  },
  {
   "cell_type": "code",
   "execution_count": 127,
   "id": "dental-google",
   "metadata": {},
   "outputs": [
    {
     "data": {
      "text/plain": [
       "(21293, 28)"
      ]
     },
     "metadata": {},
     "output_type": "display_data"
    },
    {
     "data": {
      "text/html": [
       "<div>\n",
       "<style scoped>\n",
       "    .dataframe tbody tr th:only-of-type {\n",
       "        vertical-align: middle;\n",
       "    }\n",
       "\n",
       "    .dataframe tbody tr th {\n",
       "        vertical-align: top;\n",
       "    }\n",
       "\n",
       "    .dataframe thead th {\n",
       "        text-align: right;\n",
       "    }\n",
       "</style>\n",
       "<table border=\"1\" class=\"dataframe\">\n",
       "  <thead>\n",
       "    <tr style=\"text-align: right;\">\n",
       "      <th></th>\n",
       "      <th>text_9</th>\n",
       "      <th>text_12</th>\n",
       "    </tr>\n",
       "  </thead>\n",
       "  <tbody>\n",
       "    <tr>\n",
       "      <th>136965</th>\n",
       "      <td>W_ppm Method\\n</td>\n",
       "      <td>Wppm Method\\n</td>\n",
       "    </tr>\n",
       "    <tr>\n",
       "      <th>201217</th>\n",
       "      <td>Springer zone has not yet been developed, but ...</td>\n",
       "      <td>Springer zone has not yet been developed, but ...</td>\n",
       "    </tr>\n",
       "    <tr>\n",
       "      <th>320566</th>\n",
       "      <td>Hoy, T. 1975: Geology of a Tertiary sedimentar...</td>\n",
       "      <td>Hoy, T. 1975: Geology of a Tertiary sedimentar...</td>\n",
       "    </tr>\n",
       "    <tr>\n",
       "      <th>330455</th>\n",
       "      <td>The Lower Halfway D oil pool is on the downthr...</td>\n",
       "      <td>The Lower Halfway D oil pool is on the downthr...</td>\n",
       "    </tr>\n",
       "    <tr>\n",
       "      <th>304282</th>\n",
       "      <td>of \\nthe cliff-forming Middle Cambrian Cathedr...</td>\n",
       "      <td>of \\nthe cliff-forming Middle Cambrian Cathedr...</td>\n",
       "    </tr>\n",
       "    <tr>\n",
       "      <th>11707</th>\n",
       "      <td>(mg/L)\\n&lt;0.080\\n0.036\\n0.021\\n</td>\n",
       "      <td>(mgL)\\n&lt;0.080\\n0.036\\n0.021\\n</td>\n",
       "    </tr>\n",
       "    <tr>\n",
       "      <th>308856</th>\n",
       "      <td>Ward, J.E. \\nWard, J.E. \\nWard, J.E. \\nBaynham...</td>\n",
       "      <td>Ward, J.E. \\nWard, J.E. \\nWard, J.E. \\nBaynham...</td>\n",
       "    </tr>\n",
       "    <tr>\n",
       "      <th>178567</th>\n",
       "      <td>\\nFigure 11. Diamond drilling on the Dewdney T...</td>\n",
       "      <td>\\nFigure 11. Diamond drilling on the Dewdney T...</td>\n",
       "    </tr>\n",
       "    <tr>\n",
       "      <th>231119</th>\n",
       "      <td>478 MARMOT.g4D/lOE \\n</td>\n",
       "      <td>478 MARMOT.g4DlOE \\n</td>\n",
       "    </tr>\n",
       "    <tr>\n",
       "      <th>295461</th>\n",
       "      <td>BC Min is ter of Mines (1916b): Fido; BC Min i...</td>\n",
       "      <td>BC Min is ter of Mines (1916b: Fido; BC Min is...</td>\n",
       "    </tr>\n",
       "  </tbody>\n",
       "</table>\n",
       "</div>"
      ],
      "text/plain": [
       "                                                   text_9  \\\n",
       "136965                                     W_ppm Method\\n   \n",
       "201217  Springer zone has not yet been developed, but ...   \n",
       "320566  Hoy, T. 1975: Geology of a Tertiary sedimentar...   \n",
       "330455  The Lower Halfway D oil pool is on the downthr...   \n",
       "304282  of \\nthe cliff-forming Middle Cambrian Cathedr...   \n",
       "11707                      (mg/L)\\n<0.080\\n0.036\\n0.021\\n   \n",
       "308856  Ward, J.E. \\nWard, J.E. \\nWard, J.E. \\nBaynham...   \n",
       "178567  \\nFigure 11. Diamond drilling on the Dewdney T...   \n",
       "231119                              478 MARMOT.g4D/lOE \\n   \n",
       "295461  BC Min is ter of Mines (1916b): Fido; BC Min i...   \n",
       "\n",
       "                                                  text_12  \n",
       "136965                                      Wppm Method\\n  \n",
       "201217  Springer zone has not yet been developed, but ...  \n",
       "320566  Hoy, T. 1975: Geology of a Tertiary sedimentar...  \n",
       "330455  The Lower Halfway D oil pool is on the downthr...  \n",
       "304282  of \\nthe cliff-forming Middle Cambrian Cathedr...  \n",
       "11707                       (mgL)\\n<0.080\\n0.036\\n0.021\\n  \n",
       "308856  Ward, J.E. \\nWard, J.E. \\nWard, J.E. \\nBaynham...  \n",
       "178567  \\nFigure 11. Diamond drilling on the Dewdney T...  \n",
       "231119                               478 MARMOT.g4DlOE \\n  \n",
       "295461  BC Min is ter of Mines (1916b: Fido; BC Min is...  "
      ]
     },
     "metadata": {},
     "output_type": "display_data"
    },
    {
     "data": {
      "text/plain": [
       "array(['W_ppm Method\\n', 'Wppm Method\\n'], dtype=object)"
      ]
     },
     "metadata": {},
     "output_type": "display_data"
    }
   ],
   "source": [
    "i = 12\n",
    "last_i = 9\n",
    "res_all = dfs[dfs[f'text_{last_i}'] != dfs[f'text_{i}']]\n",
    "display(res_all.shape)\n",
    "res = res_all.sample(10)\n",
    "display(res[[f'text_{last_i}', f'text_{i}']])\n",
    "\n",
    "display(res[[f'text_{last_i}', f'text_{i}']].iloc[0].values)"
   ]
  },
  {
   "cell_type": "code",
   "execution_count": 128,
   "id": "appreciated-woman",
   "metadata": {},
   "outputs": [
    {
     "data": {
      "text/plain": [
       "array(['of \\nthe cliff-forming Middle Cambrian Cathedral Formation \\n(Table 3-5-l) which ranges from 240 to 580 metres in thickness. The magnesite \\nto buff \\nc&wed, weathering buff to rusty. At the Baymag deposit, \\nthe main pit contains very pure white magnesite. Several \\nother magnesite beds were mapped in the area by Leech \\n(1966b), and those opposite the mine, on the flanks of Mount \\nBmssilof, were studied in detail by Godfrey (1969). \\n',\n",
       "       'of \\nthe cliff-forming Middle Cambrian Cathedral Formation \\n(Table 3-5-l) which ranges from 240 to 580 metres in thickness. The magnesite \\nto buff \\ncwed, weathering buff to rusty. At the Baymag deposit, \\nthe main pit contains very pure white magnesite. Several \\nother magnesite beds were mapped in the area by Leech \\n(1966b, and those opposite the mine, on the flanks of Mount \\nBmssilof, were studied in detail by Godfrey (1969). \\n'],\n",
       "      dtype=object)"
      ]
     },
     "metadata": {},
     "output_type": "display_data"
    }
   ],
   "source": [
    "display(res[[f'text_{last_i}', f'text_{i}']].iloc[4].values)"
   ]
  },
  {
   "cell_type": "code",
   "execution_count": null,
   "id": "engaging-center",
   "metadata": {},
   "outputs": [],
   "source": [
    "**analysis** I should probably fix this regex: (1966b), -> (1966b,"
   ]
  },
  {
   "cell_type": "code",
   "execution_count": 129,
   "id": "available-attitude",
   "metadata": {},
   "outputs": [
    {
     "data": {
      "text/plain": [
       "(57945, 28)"
      ]
     },
     "metadata": {},
     "output_type": "display_data"
    },
    {
     "data": {
      "text/html": [
       "<div>\n",
       "<style scoped>\n",
       "    .dataframe tbody tr th:only-of-type {\n",
       "        vertical-align: middle;\n",
       "    }\n",
       "\n",
       "    .dataframe tbody tr th {\n",
       "        vertical-align: top;\n",
       "    }\n",
       "\n",
       "    .dataframe thead th {\n",
       "        text-align: right;\n",
       "    }\n",
       "</style>\n",
       "<table border=\"1\" class=\"dataframe\">\n",
       "  <thead>\n",
       "    <tr style=\"text-align: right;\">\n",
       "      <th></th>\n",
       "      <th>text_12</th>\n",
       "      <th>text_13</th>\n",
       "    </tr>\n",
       "  </thead>\n",
       "  <tbody>\n",
       "    <tr>\n",
       "      <th>380682</th>\n",
       "      <td>\"Mining Briefs; Uchi Gold Mine tonnage. \\n</td>\n",
       "      <td>Mining Briefs; Uchi Gold Mine tonnage. \\n</td>\n",
       "    </tr>\n",
       "    <tr>\n",
       "      <th>8165</th>\n",
       "      <td>EUBAGS Special Report 098 (June 2002) 308\\n</td>\n",
       "      <td>EUBAGS Special Report 098 June 2002 308\\n</td>\n",
       "    </tr>\n",
       "    <tr>\n",
       "      <th>179176</th>\n",
       "      <td>are both zinc oxides (weathered zones) and zin...</td>\n",
       "      <td>are both zinc oxides weathered zones and zinc ...</td>\n",
       "    </tr>\n",
       "    <tr>\n",
       "      <th>251743</th>\n",
       "      <td>CLAIMS: DISPATCHER (Lot \\n</td>\n",
       "      <td>CLAIMS: DISPATCHER Lot \\n</td>\n",
       "    </tr>\n",
       "    <tr>\n",
       "      <th>19286</th>\n",
       "      <td>Brodaric, B., Paul, D., St-Onge, M.R., and Har...</td>\n",
       "      <td>Brodaric, B., Paul, D., St-Onge, M.R., and Har...</td>\n",
       "    </tr>\n",
       "    <tr>\n",
       "      <th>144923</th>\n",
       "      <td>The coal measures at Willow Creek occur within...</td>\n",
       "      <td>The coal measures at Willow Creek occur within...</td>\n",
       "    </tr>\n",
       "    <tr>\n",
       "      <th>290527</th>\n",
       "      <td>Distances of v a r i o u s d e p o s i t s \\nm...</td>\n",
       "      <td>Distances of v a r i o u s d e p o s i t s \\nm...</td>\n",
       "    </tr>\n",
       "    <tr>\n",
       "      <th>225694</th>\n",
       "      <td>Figure F) \\n</td>\n",
       "      <td>Figure F \\n</td>\n",
       "    </tr>\n",
       "    <tr>\n",
       "      <th>312517</th>\n",
       "      <td>Asgar-Deen, M., 2003, Stratigraphy, Sedimentol...</td>\n",
       "      <td>Asgar-Deen, M., 2003, Stratigraphy, Sedimentol...</td>\n",
       "    </tr>\n",
       "    <tr>\n",
       "      <th>234296</th>\n",
       "      <td>(093N.067, \\n068, 077, 078) \\n093A 121 \\n</td>\n",
       "      <td>093N.067, \\n068, 077, 078 \\n093A 121 \\n</td>\n",
       "    </tr>\n",
       "  </tbody>\n",
       "</table>\n",
       "</div>"
      ],
      "text/plain": [
       "                                                  text_12  \\\n",
       "380682         \"Mining Briefs; Uchi Gold Mine tonnage. \\n   \n",
       "8165          EUBAGS Special Report 098 (June 2002) 308\\n   \n",
       "179176  are both zinc oxides (weathered zones) and zin...   \n",
       "251743                         CLAIMS: DISPATCHER (Lot \\n   \n",
       "19286   Brodaric, B., Paul, D., St-Onge, M.R., and Har...   \n",
       "144923  The coal measures at Willow Creek occur within...   \n",
       "290527  Distances of v a r i o u s d e p o s i t s \\nm...   \n",
       "225694                                       Figure F) \\n   \n",
       "312517  Asgar-Deen, M., 2003, Stratigraphy, Sedimentol...   \n",
       "234296          (093N.067, \\n068, 077, 078) \\n093A 121 \\n   \n",
       "\n",
       "                                                  text_13  \n",
       "380682          Mining Briefs; Uchi Gold Mine tonnage. \\n  \n",
       "8165            EUBAGS Special Report 098 June 2002 308\\n  \n",
       "179176  are both zinc oxides weathered zones and zinc ...  \n",
       "251743                          CLAIMS: DISPATCHER Lot \\n  \n",
       "19286   Brodaric, B., Paul, D., St-Onge, M.R., and Har...  \n",
       "144923  The coal measures at Willow Creek occur within...  \n",
       "290527  Distances of v a r i o u s d e p o s i t s \\nm...  \n",
       "225694                                        Figure F \\n  \n",
       "312517  Asgar-Deen, M., 2003, Stratigraphy, Sedimentol...  \n",
       "234296            093N.067, \\n068, 077, 078 \\n093A 121 \\n  "
      ]
     },
     "metadata": {},
     "output_type": "display_data"
    },
    {
     "data": {
      "text/plain": [
       "array(['\"Mining Briefs; Uchi Gold Mine tonnage. \\n',\n",
       "       'Mining Briefs; Uchi Gold Mine tonnage. \\n'], dtype=object)"
      ]
     },
     "metadata": {},
     "output_type": "display_data"
    }
   ],
   "source": [
    "i = 13\n",
    "last_i = i-1\n",
    "res_all = dfs[dfs[f'text_{last_i}'] != dfs[f'text_{i}']]\n",
    "display(res_all.shape)\n",
    "res = res_all.sample(10)\n",
    "display(res[[f'text_{last_i}', f'text_{i}']])\n",
    "\n",
    "display(res[[f'text_{last_i}', f'text_{i}']].iloc[0].values)"
   ]
  },
  {
   "cell_type": "markdown",
   "id": "residential-hamilton",
   "metadata": {},
   "source": [
    "**analysis** \"M -> M, this looks problematic"
   ]
  },
  {
   "cell_type": "code",
   "execution_count": 132,
   "id": "desperate-sigma",
   "metadata": {},
   "outputs": [
    {
     "data": {
      "text/plain": [
       "<function nrcan_p2.data_processing.preprocessing_dfcol.rm_newline(dfcol)>"
      ]
     },
     "execution_count": 132,
     "metadata": {},
     "output_type": "execute_result"
    }
   ],
   "source": [
    "BASE_PIPELINE[14]"
   ]
  },
  {
   "cell_type": "code",
   "execution_count": 131,
   "id": "placed-mills",
   "metadata": {},
   "outputs": [
    {
     "data": {
      "text/plain": [
       "(184931, 28)"
      ]
     },
     "metadata": {},
     "output_type": "display_data"
    },
    {
     "data": {
      "text/html": [
       "<div>\n",
       "<style scoped>\n",
       "    .dataframe tbody tr th:only-of-type {\n",
       "        vertical-align: middle;\n",
       "    }\n",
       "\n",
       "    .dataframe tbody tr th {\n",
       "        vertical-align: top;\n",
       "    }\n",
       "\n",
       "    .dataframe thead th {\n",
       "        text-align: right;\n",
       "    }\n",
       "</style>\n",
       "<table border=\"1\" class=\"dataframe\">\n",
       "  <thead>\n",
       "    <tr style=\"text-align: right;\">\n",
       "      <th></th>\n",
       "      <th>text_13</th>\n",
       "      <th>text_14</th>\n",
       "    </tr>\n",
       "  </thead>\n",
       "  <tbody>\n",
       "    <tr>\n",
       "      <th>181716</th>\n",
       "      <td>CLAIMS: \\nOWNERS: \\nOPERATOR: \\n</td>\n",
       "      <td>CLAIMS: OWNERS: OPERATOR:</td>\n",
       "    </tr>\n",
       "    <tr>\n",
       "      <th>179023</th>\n",
       "      <td>082FNE115, \\n117 \\n</td>\n",
       "      <td>082FNE115, 117</td>\n",
       "    </tr>\n",
       "    <tr>\n",
       "      <th>179251</th>\n",
       "      <td>Figures \\nE-1 \\n</td>\n",
       "      <td>Figures E-1</td>\n",
       "    </tr>\n",
       "    <tr>\n",
       "      <th>157555</th>\n",
       "      <td>Report 3524. \\n</td>\n",
       "      <td>Report 3524.</td>\n",
       "    </tr>\n",
       "    <tr>\n",
       "      <th>259150</th>\n",
       "      <td>Balmer No. I South Mine.-Arnold Webster, overm...</td>\n",
       "      <td>Balmer No. I South Mine.-Arnold Webster, overm...</td>\n",
       "    </tr>\n",
       "    <tr>\n",
       "      <th>324137</th>\n",
       "      <td>94 H 14\\n94 H 14\\n94-H-14\\n94-H-14\\n</td>\n",
       "      <td>94 H 14 94 H 14 94-H-14 94-H-14</td>\n",
       "    </tr>\n",
       "    <tr>\n",
       "      <th>300120</th>\n",
       "      <td>for Olympic \\n Dam \\n</td>\n",
       "      <td>for Olympic Dam</td>\n",
       "    </tr>\n",
       "    <tr>\n",
       "      <th>286132</th>\n",
       "      <td>Geo log i cal Field work 2006, Pa per 2007-1\\n</td>\n",
       "      <td>Geo log i cal Field work 2006, Pa per 2007-1</td>\n",
       "    </tr>\n",
       "    <tr>\n",
       "      <th>187965</th>\n",
       "      <td>SEABEE Fig. \\n</td>\n",
       "      <td>SEABEE Fig.</td>\n",
       "    </tr>\n",
       "    <tr>\n",
       "      <th>225919</th>\n",
       "      <td>including the key \\n</td>\n",
       "      <td>including the key</td>\n",
       "    </tr>\n",
       "  </tbody>\n",
       "</table>\n",
       "</div>"
      ],
      "text/plain": [
       "                                                  text_13  \\\n",
       "181716                   CLAIMS: \\nOWNERS: \\nOPERATOR: \\n   \n",
       "179023                                082FNE115, \\n117 \\n   \n",
       "179251                                   Figures \\nE-1 \\n   \n",
       "157555                                    Report 3524. \\n   \n",
       "259150  Balmer No. I South Mine.-Arnold Webster, overm...   \n",
       "324137               94 H 14\\n94 H 14\\n94-H-14\\n94-H-14\\n   \n",
       "300120                              for Olympic \\n Dam \\n   \n",
       "286132     Geo log i cal Field work 2006, Pa per 2007-1\\n   \n",
       "187965                                     SEABEE Fig. \\n   \n",
       "225919                               including the key \\n   \n",
       "\n",
       "                                                  text_14  \n",
       "181716                         CLAIMS: OWNERS: OPERATOR:   \n",
       "179023                                    082FNE115, 117   \n",
       "179251                                       Figures E-1   \n",
       "157555                                      Report 3524.   \n",
       "259150  Balmer No. I South Mine.-Arnold Webster, overm...  \n",
       "324137                   94 H 14 94 H 14 94-H-14 94-H-14   \n",
       "300120                                   for Olympic Dam   \n",
       "286132      Geo log i cal Field work 2006, Pa per 2007-1   \n",
       "187965                                       SEABEE Fig.   \n",
       "225919                                 including the key   "
      ]
     },
     "metadata": {},
     "output_type": "display_data"
    },
    {
     "data": {
      "text/plain": [
       "array(['CLAIMS: \\nOWNERS: \\nOPERATOR: \\n', 'CLAIMS: OWNERS: OPERATOR: '],\n",
       "      dtype=object)"
      ]
     },
     "metadata": {},
     "output_type": "display_data"
    }
   ],
   "source": [
    "i = 14\n",
    "last_i = i-1\n",
    "res_all = dfs[dfs[f'text_{last_i}'] != dfs[f'text_{i}']]\n",
    "display(res_all.shape)\n",
    "res = res_all.sample(10)\n",
    "display(res[[f'text_{last_i}', f'text_{i}']])\n",
    "\n",
    "display(res[[f'text_{last_i}', f'text_{i}']].iloc[0].values)"
   ]
  },
  {
   "cell_type": "code",
   "execution_count": 134,
   "id": "grave-closer",
   "metadata": {},
   "outputs": [
    {
     "data": {
      "text/plain": [
       "<function nrcan_p2.data_processing.preprocessing_dfcol.merge_words(dfcol, en_dict=<enchant.Dict object at 0x7f634df12550>)>"
      ]
     },
     "execution_count": 134,
     "metadata": {},
     "output_type": "execute_result"
    }
   ],
   "source": [
    "BASE_PIPELINE[15]"
   ]
  },
  {
   "cell_type": "code",
   "execution_count": 135,
   "id": "dangerous-treat",
   "metadata": {},
   "outputs": [
    {
     "data": {
      "text/plain": [
       "(19551, 28)"
      ]
     },
     "metadata": {},
     "output_type": "display_data"
    },
    {
     "data": {
      "text/html": [
       "<div>\n",
       "<style scoped>\n",
       "    .dataframe tbody tr th:only-of-type {\n",
       "        vertical-align: middle;\n",
       "    }\n",
       "\n",
       "    .dataframe tbody tr th {\n",
       "        vertical-align: top;\n",
       "    }\n",
       "\n",
       "    .dataframe thead th {\n",
       "        text-align: right;\n",
       "    }\n",
       "</style>\n",
       "<table border=\"1\" class=\"dataframe\">\n",
       "  <thead>\n",
       "    <tr style=\"text-align: right;\">\n",
       "      <th></th>\n",
       "      <th>text_14</th>\n",
       "      <th>text_15</th>\n",
       "    </tr>\n",
       "  </thead>\n",
       "  <tbody>\n",
       "    <tr>\n",
       "      <th>40771</th>\n",
       "      <td>S SS S</td>\n",
       "      <td>SSS S</td>\n",
       "    </tr>\n",
       "    <tr>\n",
       "      <th>13228</th>\n",
       "      <td>phragmoides sp. A but is treated as a separate...</td>\n",
       "      <td>phragmoides sp. Abut is treated as a separate ...</td>\n",
       "    </tr>\n",
       "    <tr>\n",
       "      <th>340458</th>\n",
       "      <td>PREC AMBRIAN GEOLOGY</td>\n",
       "      <td>PRECAMBRIAN GEOLOGY</td>\n",
       "    </tr>\n",
       "    <tr>\n",
       "      <th>286703</th>\n",
       "      <td>t h e Eocene v o l c a n i c r o s ot t h e Tu...</td>\n",
       "      <td>the Eocene volcanic r o sot the Tu Ia men bas ...</td>\n",
       "    </tr>\n",
       "    <tr>\n",
       "      <th>219959</th>\n",
       "      <td>and 45; from existing access road t o</td>\n",
       "      <td>and 45; from existing access road to</td>\n",
       "    </tr>\n",
       "    <tr>\n",
       "      <th>191770</th>\n",
       "      <td>M.82E13W M. 93F6 M.93Li14W M. 9 3 N i l l W</td>\n",
       "      <td>M.82E13W M. 93F6 M.93Li14W M. 9 3 Nil l W</td>\n",
       "    </tr>\n",
       "    <tr>\n",
       "      <th>297113</th>\n",
       "      <td>During the summer of 1977, approximately 120 s...</td>\n",
       "      <td>During the summer of 1977, approximately 120 s...</td>\n",
       "    </tr>\n",
       "    <tr>\n",
       "      <th>301590</th>\n",
       "      <td>bee analyzed. Complete U-Pb analytic.,1 employ...</td>\n",
       "      <td>bee analyzed. Complete U-Pb analytic.,1 employ...</td>\n",
       "    </tr>\n",
       "    <tr>\n",
       "      <th>337052</th>\n",
       "      <td>Contour interval is two metres net Doig B oil ...</td>\n",
       "      <td>Contour interval is two metres net Doig Boil p...</td>\n",
       "    </tr>\n",
       "    <tr>\n",
       "      <th>86172</th>\n",
       "      <td>S S</td>\n",
       "      <td>SS</td>\n",
       "    </tr>\n",
       "  </tbody>\n",
       "</table>\n",
       "</div>"
      ],
      "text/plain": [
       "                                                  text_14  \\\n",
       "40771                                             S SS S    \n",
       "13228   phragmoides sp. A but is treated as a separate...   \n",
       "340458                              PREC AMBRIAN GEOLOGY    \n",
       "286703  t h e Eocene v o l c a n i c r o s ot t h e Tu...   \n",
       "219959             and 45; from existing access road t o    \n",
       "191770       M.82E13W M. 93F6 M.93Li14W M. 9 3 N i l l W    \n",
       "297113  During the summer of 1977, approximately 120 s...   \n",
       "301590  bee analyzed. Complete U-Pb analytic.,1 employ...   \n",
       "337052  Contour interval is two metres net Doig B oil ...   \n",
       "86172                                                S S    \n",
       "\n",
       "                                                  text_15  \n",
       "40771                                               SSS S  \n",
       "13228   phragmoides sp. Abut is treated as a separate ...  \n",
       "340458                                PRECAMBRIAN GEOLOGY  \n",
       "286703  the Eocene volcanic r o sot the Tu Ia men bas ...  \n",
       "219959               and 45; from existing access road to  \n",
       "191770          M.82E13W M. 93F6 M.93Li14W M. 9 3 Nil l W  \n",
       "297113  During the summer of 1977, approximately 120 s...  \n",
       "301590  bee analyzed. Complete U-Pb analytic.,1 employ...  \n",
       "337052  Contour interval is two metres net Doig Boil p...  \n",
       "86172                                                  SS  "
      ]
     },
     "metadata": {},
     "output_type": "display_data"
    },
    {
     "data": {
      "text/plain": [
       "array([' S SS S ', 'SSS S'], dtype=object)"
      ]
     },
     "metadata": {},
     "output_type": "display_data"
    }
   ],
   "source": [
    "i = 15\n",
    "last_i = i-1\n",
    "res_all = dfs[dfs[f'text_{last_i}'].str.strip() != dfs[f'text_{i}']]\n",
    "display(res_all.shape)\n",
    "res = res_all.sample(10)\n",
    "display(res[[f'text_{last_i}', f'text_{i}']])\n",
    "\n",
    "display(res[[f'text_{last_i}', f'text_{i}']].iloc[0].values)"
   ]
  },
  {
   "cell_type": "code",
   "execution_count": 137,
   "id": "chemical-constraint",
   "metadata": {},
   "outputs": [
    {
     "data": {
      "text/plain": [
       "array(['t h e Eocene v o l c a n i c r o s ot t h e Tu I a m e n bas I n. i s placed near the boundary ',\n",
       "       'the Eocene volcanic r o sot the Tu Ia men bas I n. is placed near the boundary'],\n",
       "      dtype=object)"
      ]
     },
     "metadata": {},
     "output_type": "display_data"
    }
   ],
   "source": [
    "display(res[[f'text_{last_i}', f'text_{i}']].iloc[3].values)"
   ]
  },
  {
   "cell_type": "code",
   "execution_count": 138,
   "id": "active-clear",
   "metadata": {},
   "outputs": [
    {
     "data": {
      "text/plain": [
       "<function nrcan_p2.data_processing.preprocessing_df_filter.filter_no_real_words_g3letter(df, col, en_dict=<enchant.Dict object at 0x7f633b41d640>)>"
      ]
     },
     "execution_count": 138,
     "metadata": {},
     "output_type": "execute_result"
    }
   ],
   "source": [
    "BASE_PIPELINE[16]"
   ]
  },
  {
   "cell_type": "code",
   "execution_count": 139,
   "id": "transparent-model",
   "metadata": {},
   "outputs": [],
   "source": [
    "i = 16\n",
    "dfs_filtered = BASE_PIPELINE[i](dfs, f'text_{i-1}')"
   ]
  },
  {
   "cell_type": "code",
   "execution_count": 140,
   "id": "primary-sussex",
   "metadata": {},
   "outputs": [
    {
     "data": {
      "text/html": [
       "<div>\n",
       "<style scoped>\n",
       "    .dataframe tbody tr th:only-of-type {\n",
       "        vertical-align: middle;\n",
       "    }\n",
       "\n",
       "    .dataframe tbody tr th {\n",
       "        vertical-align: top;\n",
       "    }\n",
       "\n",
       "    .dataframe thead th {\n",
       "        text-align: right;\n",
       "    }\n",
       "</style>\n",
       "<table border=\"1\" class=\"dataframe\">\n",
       "  <thead>\n",
       "    <tr style=\"text-align: right;\">\n",
       "      <th></th>\n",
       "      <th>text_15</th>\n",
       "    </tr>\n",
       "  </thead>\n",
       "  <tbody>\n",
       "    <tr>\n",
       "      <th>23446</th>\n",
       "      <td>U U</td>\n",
       "    </tr>\n",
       "    <tr>\n",
       "      <th>34680</th>\n",
       "      <td>U U</td>\n",
       "    </tr>\n",
       "    <tr>\n",
       "      <th>258842</th>\n",
       "      <td>I RP and WS. I RP and WS.</td>\n",
       "    </tr>\n",
       "    <tr>\n",
       "      <th>217978</th>\n",
       "      <td>Fig. C, No. IO</td>\n",
       "    </tr>\n",
       "    <tr>\n",
       "      <th>152379</th>\n",
       "      <td>COX, Box 1165, Fabens.Texas79838.</td>\n",
       "    </tr>\n",
       "    <tr>\n",
       "      <th>221350</th>\n",
       "      <td>R, RB 936-27 Long.</td>\n",
       "    </tr>\n",
       "    <tr>\n",
       "      <th>288536</th>\n",
       "      <td>in a fine-grained matrix.</td>\n",
       "    </tr>\n",
       "    <tr>\n",
       "      <th>200267</th>\n",
       "      <td>Cu, Au</td>\n",
       "    </tr>\n",
       "    <tr>\n",
       "      <th>349940</th>\n",
       "      <td>3 4-1co o 0x:</td>\n",
       "    </tr>\n",
       "    <tr>\n",
       "      <th>366524</th>\n",
       "      <td>07 o</td>\n",
       "    </tr>\n",
       "    <tr>\n",
       "      <th>162037</th>\n",
       "      <td>1971, p.</td>\n",
       "    </tr>\n",
       "    <tr>\n",
       "      <th>328666</th>\n",
       "      <td>TD 1365.5m</td>\n",
       "    </tr>\n",
       "    <tr>\n",
       "      <th>174968</th>\n",
       "      <td>MAMMOTH. 82Fi6W</td>\n",
       "    </tr>\n",
       "    <tr>\n",
       "      <th>81163</th>\n",
       "      <td>T SSS T T</td>\n",
       "    </tr>\n",
       "    <tr>\n",
       "      <th>216476</th>\n",
       "      <td>Street, Vancouver.</td>\n",
       "    </tr>\n",
       "    <tr>\n",
       "      <th>31395</th>\n",
       "      <td>U U</td>\n",
       "    </tr>\n",
       "    <tr>\n",
       "      <th>219353</th>\n",
       "      <td>CLAIMS: OWNER:</td>\n",
       "    </tr>\n",
       "    <tr>\n",
       "      <th>20282</th>\n",
       "      <td>S 94E963152 S 94E961170</td>\n",
       "    </tr>\n",
       "    <tr>\n",
       "      <th>30973</th>\n",
       "      <td>U U</td>\n",
       "    </tr>\n",
       "    <tr>\n",
       "      <th>382046</th>\n",
       "      <td>Nunes, P.D. Thurston, P.C.</td>\n",
       "    </tr>\n",
       "  </tbody>\n",
       "</table>\n",
       "</div>"
      ],
      "text/plain": [
       "                                  text_15\n",
       "23446                                 U U\n",
       "34680                                 U U\n",
       "258842          I RP and WS. I RP and WS.\n",
       "217978                     Fig. C, No. IO\n",
       "152379  COX, Box 1165, Fabens.Texas79838.\n",
       "221350                 R, RB 936-27 Long.\n",
       "288536          in a fine-grained matrix.\n",
       "200267                             Cu, Au\n",
       "349940                      3 4-1co o 0x:\n",
       "366524                               07 o\n",
       "162037                           1971, p.\n",
       "328666                         TD 1365.5m\n",
       "174968                    MAMMOTH. 82Fi6W\n",
       "81163                           T SSS T T\n",
       "216476                 Street, Vancouver.\n",
       "31395                                 U U\n",
       "219353                     CLAIMS: OWNER:\n",
       "20282             S 94E963152 S 94E961170\n",
       "30973                                 U U\n",
       "382046         Nunes, P.D. Thurston, P.C."
      ]
     },
     "execution_count": 140,
     "metadata": {},
     "output_type": "execute_result"
    }
   ],
   "source": [
    "res = dfs[~dfs.index.isin(dfs_filtered.index)].sample(20)\n",
    "res[[f'text_{i-1}']]"
   ]
  },
  {
   "cell_type": "code",
   "execution_count": 141,
   "id": "global-forge",
   "metadata": {},
   "outputs": [
    {
     "name": "stdout",
     "output_type": "stream",
     "text": [
      "(184935, 32)\n",
      "(134823, 32)\n",
      "0.27097088166112415\n"
     ]
    }
   ],
   "source": [
    "print(dfs.shape)\n",
    "print(dfs_filtered.shape)\n",
    "print(1- dfs_filtered.shape[0]/dfs.shape[0])"
   ]
  },
  {
   "cell_type": "code",
   "execution_count": 145,
   "id": "looking-intellectual",
   "metadata": {},
   "outputs": [],
   "source": [
    "dfs = dfs_filtered"
   ]
  },
  {
   "cell_type": "markdown",
   "id": "spare-collins",
   "metadata": {},
   "source": [
    "**analysis** this filter actually removed 27% of the documents"
   ]
  },
  {
   "cell_type": "markdown",
   "id": "liberal-buyer",
   "metadata": {},
   "source": [
    "## Glove, specifically"
   ]
  },
  {
   "cell_type": "code",
   "execution_count": 148,
   "id": "double-andrews",
   "metadata": {},
   "outputs": [
    {
     "data": {
      "text/plain": [
       "[<function nrcan_p2.data_processing.preprocessing_dfcol.tokenize_spacy_lg(dfcol)>,\n",
       " <function nrcan_p2.data_processing.preprocessing_dfcol.rm_stopwords_spacy(dfcol)>]"
      ]
     },
     "execution_count": 148,
     "metadata": {},
     "output_type": "execute_result"
    }
   ],
   "source": [
    "SIMPLE_PIPELINE_GLOVE_3[17:]"
   ]
  },
  {
   "cell_type": "code",
   "execution_count": 149,
   "id": "embedded-toner",
   "metadata": {},
   "outputs": [],
   "source": [
    "dfs_glove = dfs"
   ]
  },
  {
   "cell_type": "code",
   "execution_count": 152,
   "id": "specific-recipe",
   "metadata": {},
   "outputs": [
    {
     "data": {
      "text/plain": [
       "Index(['Unnamed: 0', 'obj_type', 'pg', 'pos_x0', 'pos_y0', 'pos_x1', 'pos_y1',\n",
       "       'text', 'file', 'width', 'height', 'nchars_stripped', 'text_-1',\n",
       "       'text_0', 'text_1', 'text_2', 'text_3', 'nchars_3', 'letter_count',\n",
       "       'text_5', 'text_6', 'text_7', 'text_8', 'text_9', 'text_12', 'text_13',\n",
       "       'text_14', 'text_15', 'is_enchant_word', 'word_char_num',\n",
       "       'is_enchant_word_and_g3l', 'any_enchant_word_and_g3l'],\n",
       "      dtype='object')"
      ]
     },
     "execution_count": 152,
     "metadata": {},
     "output_type": "execute_result"
    }
   ],
   "source": [
    "dfs_glove.columns"
   ]
  },
  {
   "cell_type": "code",
   "execution_count": 154,
   "id": "meaning-civilization",
   "metadata": {},
   "outputs": [
    {
     "name": "stderr",
     "output_type": "stream",
     "text": [
      "<ipython-input-154-316d9d9e945c>:2: SettingWithCopyWarning: \n",
      "A value is trying to be set on a copy of a slice from a DataFrame.\n",
      "Try using .loc[row_indexer,col_indexer] = value instead\n",
      "\n",
      "See the caveats in the documentation: https://pandas.pydata.org/pandas-docs/stable/user_guide/indexing.html#returning-a-view-versus-a-copy\n",
      "  dfs_glove[f'text_{i}'] = SIMPLE_PIPELINE_GLOVE_3[i](dfs_glove[f'text_{i-2}'])\n"
     ]
    }
   ],
   "source": [
    "for i in range(17,18):\n",
    "    dfs_glove[f'text_{i}'] = SIMPLE_PIPELINE_GLOVE_3[i](dfs_glove[f'text_{i-2}'])"
   ]
  },
  {
   "cell_type": "code",
   "execution_count": 155,
   "id": "arabic-vintage",
   "metadata": {},
   "outputs": [
    {
     "name": "stderr",
     "output_type": "stream",
     "text": [
      "<ipython-input-155-3a7151bed0cf>:2: SettingWithCopyWarning: \n",
      "A value is trying to be set on a copy of a slice from a DataFrame.\n",
      "Try using .loc[row_indexer,col_indexer] = value instead\n",
      "\n",
      "See the caveats in the documentation: https://pandas.pydata.org/pandas-docs/stable/user_guide/indexing.html#returning-a-view-versus-a-copy\n",
      "  dfs_glove[f'text_{i}'] = SIMPLE_PIPELINE_GLOVE_3[i](dfs_glove[f'text_{i-1}'])\n"
     ]
    }
   ],
   "source": [
    "for i in range(18,19):\n",
    "    dfs_glove[f'text_{i}'] = SIMPLE_PIPELINE_GLOVE_3[i](dfs_glove[f'text_{i-1}'])"
   ]
  },
  {
   "cell_type": "code",
   "execution_count": 156,
   "id": "corrected-posting",
   "metadata": {},
   "outputs": [
    {
     "data": {
      "text/plain": [
       "(89745, 34)"
      ]
     },
     "metadata": {},
     "output_type": "display_data"
    },
    {
     "data": {
      "text/html": [
       "<div>\n",
       "<style scoped>\n",
       "    .dataframe tbody tr th:only-of-type {\n",
       "        vertical-align: middle;\n",
       "    }\n",
       "\n",
       "    .dataframe tbody tr th {\n",
       "        vertical-align: top;\n",
       "    }\n",
       "\n",
       "    .dataframe thead th {\n",
       "        text-align: right;\n",
       "    }\n",
       "</style>\n",
       "<table border=\"1\" class=\"dataframe\">\n",
       "  <thead>\n",
       "    <tr style=\"text-align: right;\">\n",
       "      <th></th>\n",
       "      <th>text_15</th>\n",
       "      <th>text_17</th>\n",
       "    </tr>\n",
       "  </thead>\n",
       "  <tbody>\n",
       "    <tr>\n",
       "      <th>278673</th>\n",
       "      <td>Aario, R., Peuraniemi, V., 1992. Glacial dispe...</td>\n",
       "      <td>Aario , R. , Peuraniemi , V. , 1992 . Glacial ...</td>\n",
       "    </tr>\n",
       "    <tr>\n",
       "      <th>275057</th>\n",
       "      <td>samples at every site; and</td>\n",
       "      <td>samples at every site ; and</td>\n",
       "    </tr>\n",
       "    <tr>\n",
       "      <th>321347</th>\n",
       "      <td>Kelvin mean radius of pore m surface tension N...</td>\n",
       "      <td>Kelvin mean radius of pore m surface tension N...</td>\n",
       "    </tr>\n",
       "    <tr>\n",
       "      <th>177831</th>\n",
       "      <td>The Hillsbar Aggregate Project as proposed in ...</td>\n",
       "      <td>The Hillsbar Aggregate Project as proposed in ...</td>\n",
       "    </tr>\n",
       "    <tr>\n",
       "      <th>244097</th>\n",
       "      <td>SILVER STANDARD MINE 55 127 S.W. Northwestern ...</td>\n",
       "      <td>SILVER STANDARD MINE 55 127 S.W. Northwestern ...</td>\n",
       "    </tr>\n",
       "    <tr>\n",
       "      <th>222388</th>\n",
       "      <td>Fig. D, No. 66 Lat. 55O 24 Long. OMINECA M.D. ...</td>\n",
       "      <td>Fig . D , No . 66 Lat . 55O 24 Long . OMINECA ...</td>\n",
       "    </tr>\n",
       "    <tr>\n",
       "      <th>61585</th>\n",
       "      <td>British Columbia Ministry of Energy, Mines and...</td>\n",
       "      <td>British Columbia Ministry of Energy , Mines an...</td>\n",
       "    </tr>\n",
       "    <tr>\n",
       "      <th>55319</th>\n",
       "      <td>SSOCIATED DEPOSIT TYPES: Sn K06, Mo K07 and Pb...</td>\n",
       "      <td>SSOCIATED DEPOSIT TYPES : Sn K06 , Mo K07 and ...</td>\n",
       "    </tr>\n",
       "    <tr>\n",
       "      <th>356917</th>\n",
       "      <td>Beaumont Gold Mines Limited, p. 42.</td>\n",
       "      <td>Beaumont Gold Mines Limited , p. 42 .</td>\n",
       "    </tr>\n",
       "    <tr>\n",
       "      <th>319841</th>\n",
       "      <td>Levson, V.M., Ferbey, T., Hickin, A., Bednarsk...</td>\n",
       "      <td>Levson , V.M. , Ferbey , T. , Hickin , A. , Be...</td>\n",
       "    </tr>\n",
       "  </tbody>\n",
       "</table>\n",
       "</div>"
      ],
      "text/plain": [
       "                                                  text_15  \\\n",
       "278673  Aario, R., Peuraniemi, V., 1992. Glacial dispe...   \n",
       "275057                         samples at every site; and   \n",
       "321347  Kelvin mean radius of pore m surface tension N...   \n",
       "177831  The Hillsbar Aggregate Project as proposed in ...   \n",
       "244097  SILVER STANDARD MINE 55 127 S.W. Northwestern ...   \n",
       "222388  Fig. D, No. 66 Lat. 55O 24 Long. OMINECA M.D. ...   \n",
       "61585   British Columbia Ministry of Energy, Mines and...   \n",
       "55319   SSOCIATED DEPOSIT TYPES: Sn K06, Mo K07 and Pb...   \n",
       "356917                Beaumont Gold Mines Limited, p. 42.   \n",
       "319841  Levson, V.M., Ferbey, T., Hickin, A., Bednarsk...   \n",
       "\n",
       "                                                  text_17  \n",
       "278673  Aario , R. , Peuraniemi , V. , 1992 . Glacial ...  \n",
       "275057                        samples at every site ; and  \n",
       "321347  Kelvin mean radius of pore m surface tension N...  \n",
       "177831  The Hillsbar Aggregate Project as proposed in ...  \n",
       "244097  SILVER STANDARD MINE 55 127 S.W. Northwestern ...  \n",
       "222388  Fig . D , No . 66 Lat . 55O 24 Long . OMINECA ...  \n",
       "61585   British Columbia Ministry of Energy , Mines an...  \n",
       "55319   SSOCIATED DEPOSIT TYPES : Sn K06 , Mo K07 and ...  \n",
       "356917              Beaumont Gold Mines Limited , p. 42 .  \n",
       "319841  Levson , V.M. , Ferbey , T. , Hickin , A. , Be...  "
      ]
     },
     "metadata": {},
     "output_type": "display_data"
    },
    {
     "data": {
      "text/plain": [
       "array(['Aario, R., Peuraniemi, V., 1992. Glacial dispersal of till constituents in morainic landforms of different',\n",
       "       'Aario , R. , Peuraniemi , V. , 1992 . Glacial dispersal of till constituents in morainic landforms of different'],\n",
       "      dtype=object)"
      ]
     },
     "metadata": {},
     "output_type": "display_data"
    }
   ],
   "source": [
    "i = 17\n",
    "last_i = i-2\n",
    "res_all = dfs[dfs[f'text_{last_i}'].str.strip() != dfs[f'text_{i}']]\n",
    "display(res_all.shape)\n",
    "res = res_all.sample(10)\n",
    "display(res[[f'text_{last_i}', f'text_{i}']])\n",
    "\n",
    "display(res[[f'text_{last_i}', f'text_{i}']].iloc[0].values)"
   ]
  },
  {
   "cell_type": "markdown",
   "id": "adapted-wallace",
   "metadata": {},
   "source": [
    "**analysis** 89k rows affected. Note that R., -> R. , (properly handled) (more of a case for removal of some of stages 12, 10, 13)"
   ]
  },
  {
   "cell_type": "code",
   "execution_count": 159,
   "id": "asian-style",
   "metadata": {},
   "outputs": [
    {
     "data": {
      "text/plain": [
       "(134823, 34)"
      ]
     },
     "execution_count": 159,
     "metadata": {},
     "output_type": "execute_result"
    }
   ],
   "source": [
    "dfs.shape"
   ]
  },
  {
   "cell_type": "code",
   "execution_count": 157,
   "id": "heard-trading",
   "metadata": {},
   "outputs": [
    {
     "data": {
      "text/plain": [
       "(86273, 34)"
      ]
     },
     "metadata": {},
     "output_type": "display_data"
    },
    {
     "data": {
      "text/html": [
       "<div>\n",
       "<style scoped>\n",
       "    .dataframe tbody tr th:only-of-type {\n",
       "        vertical-align: middle;\n",
       "    }\n",
       "\n",
       "    .dataframe tbody tr th {\n",
       "        vertical-align: top;\n",
       "    }\n",
       "\n",
       "    .dataframe thead th {\n",
       "        text-align: right;\n",
       "    }\n",
       "</style>\n",
       "<table border=\"1\" class=\"dataframe\">\n",
       "  <thead>\n",
       "    <tr style=\"text-align: right;\">\n",
       "      <th></th>\n",
       "      <th>text_17</th>\n",
       "      <th>text_18</th>\n",
       "    </tr>\n",
       "  </thead>\n",
       "  <tbody>\n",
       "    <tr>\n",
       "      <th>47333</th>\n",
       "      <td>Columbia Geological Survey mineral deposit pro...</td>\n",
       "      <td>Columbia Geological Survey mineral deposit pro...</td>\n",
       "    </tr>\n",
       "    <tr>\n",
       "      <th>246446</th>\n",
       "      <td>ACCESS : Byroad from Kitsault , a distance of ...</td>\n",
       "      <td>ACCESS : Byroad Kitsault , distance 2 miles . ...</td>\n",
       "    </tr>\n",
       "    <tr>\n",
       "      <th>182231</th>\n",
       "      <td>WORK DONE : Road construction and sampling . R...</td>\n",
       "      <td>WORK : Road construction sampling . REFERENCES...</td>\n",
       "    </tr>\n",
       "    <tr>\n",
       "      <th>146504</th>\n",
       "      <td>Exploration for gold in the Greenwood area has...</td>\n",
       "      <td>Exploration gold Greenwood area active ongoing...</td>\n",
       "    </tr>\n",
       "    <tr>\n",
       "      <th>242969</th>\n",
       "      <td>HCC of medium - volatile bituminous rank is be...</td>\n",
       "      <td>HCC medium - volatile bituminous rank mined Lo...</td>\n",
       "    </tr>\n",
       "    <tr>\n",
       "      <th>221501</th>\n",
       "      <td>intruded by an irregular stock of porphyritic ...</td>\n",
       "      <td>intruded irregular stock porphyritic rhyolite ...</td>\n",
       "    </tr>\n",
       "    <tr>\n",
       "      <th>162332</th>\n",
       "      <td>of 3,800 and 5,000 feet on the</td>\n",
       "      <td>3,800 5,000 feet</td>\n",
       "    </tr>\n",
       "    <tr>\n",
       "      <th>310549</th>\n",
       "      <td>A gamma - ray spectroscopic log across the out...</td>\n",
       "      <td>gamma - ray spectroscopic log outcrop defines...</td>\n",
       "    </tr>\n",
       "    <tr>\n",
       "      <th>194509</th>\n",
       "      <td>Doublestar Resources Limited acquired Falconbr...</td>\n",
       "      <td>Doublestar Resources Limited acquired Falconbr...</td>\n",
       "    </tr>\n",
       "    <tr>\n",
       "      <th>52514</th>\n",
       "      <td>by Andre Panteleyev1</td>\n",
       "      <td>Andre Panteleyev1</td>\n",
       "    </tr>\n",
       "  </tbody>\n",
       "</table>\n",
       "</div>"
      ],
      "text/plain": [
       "                                                  text_17  \\\n",
       "47333   Columbia Geological Survey mineral deposit pro...   \n",
       "246446  ACCESS : Byroad from Kitsault , a distance of ...   \n",
       "182231  WORK DONE : Road construction and sampling . R...   \n",
       "146504  Exploration for gold in the Greenwood area has...   \n",
       "242969  HCC of medium - volatile bituminous rank is be...   \n",
       "221501  intruded by an irregular stock of porphyritic ...   \n",
       "162332                     of 3,800 and 5,000 feet on the   \n",
       "310549  A gamma - ray spectroscopic log across the out...   \n",
       "194509  Doublestar Resources Limited acquired Falconbr...   \n",
       "52514                                by Andre Panteleyev1   \n",
       "\n",
       "                                                  text_18  \n",
       "47333   Columbia Geological Survey mineral deposit pro...  \n",
       "246446  ACCESS : Byroad Kitsault , distance 2 miles . ...  \n",
       "182231  WORK : Road construction sampling . REFERENCES...  \n",
       "146504  Exploration gold Greenwood area active ongoing...  \n",
       "242969  HCC medium - volatile bituminous rank mined Lo...  \n",
       "221501  intruded irregular stock porphyritic rhyolite ...  \n",
       "162332                                  3,800 5,000 feet   \n",
       "310549   gamma - ray spectroscopic log outcrop defines...  \n",
       "194509  Doublestar Resources Limited acquired Falconbr...  \n",
       "52514                                   Andre Panteleyev1  "
      ]
     },
     "metadata": {},
     "output_type": "display_data"
    },
    {
     "data": {
      "text/plain": [
       "array(['Columbia Geological Survey mineral deposit profile published on website , 5 p.',\n",
       "       'Columbia Geological Survey mineral deposit profile published website , 5 p.'],\n",
       "      dtype=object)"
      ]
     },
     "metadata": {},
     "output_type": "display_data"
    }
   ],
   "source": [
    "i = 18\n",
    "last_i = i-1\n",
    "res_all = dfs[dfs[f'text_{last_i}'].str.strip() != dfs[f'text_{i}']]\n",
    "display(res_all.shape)\n",
    "res = res_all.sample(10)\n",
    "display(res[[f'text_{last_i}', f'text_{i}']])\n",
    "\n",
    "display(res[[f'text_{last_i}', f'text_{i}']].iloc[0].values)"
   ]
  },
  {
   "cell_type": "code",
   "execution_count": null,
   "id": "desperate-minute",
   "metadata": {},
   "outputs": [],
   "source": [
    "**analysis** stopword removal affects only 86k /134k rows, seems reasonable. "
   ]
  },
  {
   "cell_type": "code",
   "execution_count": 164,
   "id": "directed-neutral",
   "metadata": {},
   "outputs": [
    {
     "data": {
      "text/plain": [
       "[<function nrcan_p2.data_processing.preprocessing_str.rm_punct(text: str)>,\n",
       " <function nrcan_p2.data_processing.preprocessing_str.lower(text: str)>,\n",
       " <function nrcan_p2.data_processing.preprocessing_str.rm_newline(text: str)>]"
      ]
     },
     "execution_count": 164,
     "metadata": {},
     "output_type": "execute_result"
    }
   ],
   "source": [
    "POSTPIPE_GLOVE"
   ]
  },
  {
   "cell_type": "code",
   "execution_count": 165,
   "id": "younger-christian",
   "metadata": {},
   "outputs": [
    {
     "name": "stderr",
     "output_type": "stream",
     "text": [
      "<ipython-input-165-bf7627eab799>:1: SettingWithCopyWarning: \n",
      "A value is trying to be set on a copy of a slice from a DataFrame.\n",
      "Try using .loc[row_indexer,col_indexer] = value instead\n",
      "\n",
      "See the caveats in the documentation: https://pandas.pydata.org/pandas-docs/stable/user_guide/indexing.html#returning-a-view-versus-a-copy\n",
      "  dfs['text_POST'] = dfs.text_18 + ' '\n"
     ]
    },
    {
     "data": {
      "text/plain": [
       "file\n",
       "/nrcan_p2/data/02_intermediate/20210108/alberta__document_BUL_BUL_002.pdfminer_split.txt        PROVINCE ALBERTA RESEARCH COUNCIL ALBERTA GEOL...\n",
       "/nrcan_p2/data/02_intermediate/20210108/alberta__document_ESR_ESR_2006_05.pdfminer_split.txt    EUBAGS Earth Sciences Report 2006 - 05 Subsurf...\n",
       "/nrcan_p2/data/02_intermediate/20210108/alberta__document_INF_INF_124.pdfminer_split.txt        Information Series 124 Alberta Geological Surv...\n",
       "/nrcan_p2/data/02_intermediate/20210108/alberta__document_OFR_OFR_2011_09.pdfminer_split.txt    ERCBAGS Open File Report 2011 - 09 Inorganic W...\n",
       "/nrcan_p2/data/02_intermediate/20210108/alberta__document_OFR_OFR_2011_13.pdfminer_split.txt    ERCBAGS Open File Report 2011 - 13 Subsurface ...\n",
       "                                                                                                                      ...                        \n",
       "/nrcan_p2/data/02_intermediate/20210108/ontario__lists__p0171.pdfminer_split.txt                 TERMS GOVERN USE DOCUMENT  use Ontario Geolog...\n",
       "/nrcan_p2/data/02_intermediate/20210108/ontario__lists__p0266-rev.pdfminer_split.txt             TERMS GOVERN USE PRODUCT  use electronic info...\n",
       "/nrcan_p2/data/02_intermediate/20210108/ontario__lists__p0359.pdfminer_split.txt                 TERMS GOVERN USE DOCUMENT  use Ontario Geolog...\n",
       "/nrcan_p2/data/02_intermediate/20210108/ontario__lists__p0366.pdfminer_split.txt                 TERMS GOVERN USE DOCUMENT  use Ontario Geolog...\n",
       "/nrcan_p2/data/02_intermediate/20210108/ontario__lists__p3288.pdfminer_split.txt                 TERMS GOVERN USE DOCUMENT  use Ontario Geolog...\n",
       "Name: text_POST, Length: 289, dtype: object"
      ]
     },
     "execution_count": 165,
     "metadata": {},
     "output_type": "execute_result"
    }
   ],
   "source": [
    "dfs['text_POST'] = dfs.text_18 + ' '\n",
    "merged_dfs = dfs.groupby('file').text_POST.sum()\n",
    "merged_dfs"
   ]
  },
  {
   "cell_type": "code",
   "execution_count": 166,
   "id": "informal-kenya",
   "metadata": {},
   "outputs": [],
   "source": [
    "merged_dfs = merged_dfs.to_frame()"
   ]
  },
  {
   "cell_type": "code",
   "execution_count": 167,
   "id": "extra-documentation",
   "metadata": {},
   "outputs": [
    {
     "data": {
      "text/html": [
       "<div>\n",
       "<style scoped>\n",
       "    .dataframe tbody tr th:only-of-type {\n",
       "        vertical-align: middle;\n",
       "    }\n",
       "\n",
       "    .dataframe tbody tr th {\n",
       "        vertical-align: top;\n",
       "    }\n",
       "\n",
       "    .dataframe thead th {\n",
       "        text-align: right;\n",
       "    }\n",
       "</style>\n",
       "<table border=\"1\" class=\"dataframe\">\n",
       "  <thead>\n",
       "    <tr style=\"text-align: right;\">\n",
       "      <th></th>\n",
       "      <th>text_POST</th>\n",
       "    </tr>\n",
       "    <tr>\n",
       "      <th>file</th>\n",
       "      <th></th>\n",
       "    </tr>\n",
       "  </thead>\n",
       "  <tbody>\n",
       "    <tr>\n",
       "      <th>/nrcan_p2/data/02_intermediate/20210108/alberta__document_BUL_BUL_002.pdfminer_split.txt</th>\n",
       "      <td>PROVINCE ALBERTA RESEARCH COUNCIL ALBERTA GEOL...</td>\n",
       "    </tr>\n",
       "    <tr>\n",
       "      <th>/nrcan_p2/data/02_intermediate/20210108/alberta__document_ESR_ESR_2006_05.pdfminer_split.txt</th>\n",
       "      <td>EUBAGS Earth Sciences Report 2006 - 05 Subsurf...</td>\n",
       "    </tr>\n",
       "    <tr>\n",
       "      <th>/nrcan_p2/data/02_intermediate/20210108/alberta__document_INF_INF_124.pdfminer_split.txt</th>\n",
       "      <td>Information Series 124 Alberta Geological Surv...</td>\n",
       "    </tr>\n",
       "    <tr>\n",
       "      <th>/nrcan_p2/data/02_intermediate/20210108/alberta__document_OFR_OFR_2011_09.pdfminer_split.txt</th>\n",
       "      <td>ERCBAGS Open File Report 2011 - 09 Inorganic W...</td>\n",
       "    </tr>\n",
       "    <tr>\n",
       "      <th>/nrcan_p2/data/02_intermediate/20210108/alberta__document_OFR_OFR_2011_13.pdfminer_split.txt</th>\n",
       "      <td>ERCBAGS Open File Report 2011 - 13 Subsurface ...</td>\n",
       "    </tr>\n",
       "    <tr>\n",
       "      <th>...</th>\n",
       "      <td>...</td>\n",
       "    </tr>\n",
       "    <tr>\n",
       "      <th>/nrcan_p2/data/02_intermediate/20210108/ontario__lists__p0171.pdfminer_split.txt</th>\n",
       "      <td>TERMS GOVERN USE DOCUMENT  use Ontario Geolog...</td>\n",
       "    </tr>\n",
       "    <tr>\n",
       "      <th>/nrcan_p2/data/02_intermediate/20210108/ontario__lists__p0266-rev.pdfminer_split.txt</th>\n",
       "      <td>TERMS GOVERN USE PRODUCT  use electronic info...</td>\n",
       "    </tr>\n",
       "    <tr>\n",
       "      <th>/nrcan_p2/data/02_intermediate/20210108/ontario__lists__p0359.pdfminer_split.txt</th>\n",
       "      <td>TERMS GOVERN USE DOCUMENT  use Ontario Geolog...</td>\n",
       "    </tr>\n",
       "    <tr>\n",
       "      <th>/nrcan_p2/data/02_intermediate/20210108/ontario__lists__p0366.pdfminer_split.txt</th>\n",
       "      <td>TERMS GOVERN USE DOCUMENT  use Ontario Geolog...</td>\n",
       "    </tr>\n",
       "    <tr>\n",
       "      <th>/nrcan_p2/data/02_intermediate/20210108/ontario__lists__p3288.pdfminer_split.txt</th>\n",
       "      <td>TERMS GOVERN USE DOCUMENT  use Ontario Geolog...</td>\n",
       "    </tr>\n",
       "  </tbody>\n",
       "</table>\n",
       "<p>289 rows × 1 columns</p>\n",
       "</div>"
      ],
      "text/plain": [
       "                                                                                            text_POST\n",
       "file                                                                                                 \n",
       "/nrcan_p2/data/02_intermediate/20210108/alberta...  PROVINCE ALBERTA RESEARCH COUNCIL ALBERTA GEOL...\n",
       "/nrcan_p2/data/02_intermediate/20210108/alberta...  EUBAGS Earth Sciences Report 2006 - 05 Subsurf...\n",
       "/nrcan_p2/data/02_intermediate/20210108/alberta...  Information Series 124 Alberta Geological Surv...\n",
       "/nrcan_p2/data/02_intermediate/20210108/alberta...  ERCBAGS Open File Report 2011 - 09 Inorganic W...\n",
       "/nrcan_p2/data/02_intermediate/20210108/alberta...  ERCBAGS Open File Report 2011 - 13 Subsurface ...\n",
       "...                                                                                               ...\n",
       "/nrcan_p2/data/02_intermediate/20210108/ontario...   TERMS GOVERN USE DOCUMENT  use Ontario Geolog...\n",
       "/nrcan_p2/data/02_intermediate/20210108/ontario...   TERMS GOVERN USE PRODUCT  use electronic info...\n",
       "/nrcan_p2/data/02_intermediate/20210108/ontario...   TERMS GOVERN USE DOCUMENT  use Ontario Geolog...\n",
       "/nrcan_p2/data/02_intermediate/20210108/ontario...   TERMS GOVERN USE DOCUMENT  use Ontario Geolog...\n",
       "/nrcan_p2/data/02_intermediate/20210108/ontario...   TERMS GOVERN USE DOCUMENT  use Ontario Geolog...\n",
       "\n",
       "[289 rows x 1 columns]"
      ]
     },
     "execution_count": 167,
     "metadata": {},
     "output_type": "execute_result"
    }
   ],
   "source": [
    "merged_dfs"
   ]
  },
  {
   "cell_type": "code",
   "execution_count": 169,
   "id": "atmospheric-branch",
   "metadata": {},
   "outputs": [],
   "source": [
    "for i in [0]: #range(len(POSTPIPE_GLOVE)):\n",
    "    merged_dfs[f'text_POST_{i}'] = merged_dfs[f'text_POST'].apply(POSTPIPE_GLOVE[i])"
   ]
  },
  {
   "cell_type": "code",
   "execution_count": 170,
   "id": "potential-client",
   "metadata": {},
   "outputs": [],
   "source": [
    "for i in range(1,len(POSTPIPE_GLOVE)):\n",
    "    merged_dfs[f'text_POST_{i}'] = merged_dfs[f'text_POST_{i-1}'].apply(POSTPIPE_GLOVE[i])"
   ]
  },
  {
   "cell_type": "code",
   "execution_count": 176,
   "id": "frequent-accused",
   "metadata": {},
   "outputs": [
    {
     "data": {
      "text/plain": [
       "100468"
      ]
     },
     "execution_count": 176,
     "metadata": {},
     "output_type": "execute_result"
    }
   ],
   "source": [
    "len(merged_dfs.iloc[0].text_POST_2)"
   ]
  },
  {
   "cell_type": "code",
   "execution_count": 177,
   "id": "personalized-memorabilia",
   "metadata": {},
   "outputs": [
    {
     "data": {
      "text/html": [
       "<div>\n",
       "<style scoped>\n",
       "    .dataframe tbody tr th:only-of-type {\n",
       "        vertical-align: middle;\n",
       "    }\n",
       "\n",
       "    .dataframe tbody tr th {\n",
       "        vertical-align: top;\n",
       "    }\n",
       "\n",
       "    .dataframe thead th {\n",
       "        text-align: right;\n",
       "    }\n",
       "</style>\n",
       "<table border=\"1\" class=\"dataframe\">\n",
       "  <thead>\n",
       "    <tr style=\"text-align: right;\">\n",
       "      <th></th>\n",
       "      <th>text_POST</th>\n",
       "      <th>text_POST_0</th>\n",
       "      <th>text_POST_1</th>\n",
       "      <th>text_POST_2</th>\n",
       "    </tr>\n",
       "    <tr>\n",
       "      <th>file</th>\n",
       "      <th></th>\n",
       "      <th></th>\n",
       "      <th></th>\n",
       "      <th></th>\n",
       "    </tr>\n",
       "  </thead>\n",
       "  <tbody>\n",
       "    <tr>\n",
       "      <th>/nrcan_p2/data/02_intermediate/20210108/alberta__document_BUL_BUL_002.pdfminer_split.txt</th>\n",
       "      <td>PROVINCE ALBERTA RESEARCH COUNCIL ALBERTA GEOL...</td>\n",
       "      <td>PROVINCE ALBERTA RESEARCH COUNCIL ALBERTA GEOL...</td>\n",
       "      <td>province alberta research council alberta geol...</td>\n",
       "      <td>province alberta research council alberta geol...</td>\n",
       "    </tr>\n",
       "    <tr>\n",
       "      <th>/nrcan_p2/data/02_intermediate/20210108/alberta__document_ESR_ESR_2006_05.pdfminer_split.txt</th>\n",
       "      <td>EUBAGS Earth Sciences Report 2006 - 05 Subsurf...</td>\n",
       "      <td>EUBAGS Earth Sciences Report 2006 05 Subsurfac...</td>\n",
       "      <td>eubags earth sciences report 2006 05 subsurfac...</td>\n",
       "      <td>eubags earth sciences report 2006 05 subsurfac...</td>\n",
       "    </tr>\n",
       "    <tr>\n",
       "      <th>/nrcan_p2/data/02_intermediate/20210108/alberta__document_INF_INF_124.pdfminer_split.txt</th>\n",
       "      <td>Information Series 124 Alberta Geological Surv...</td>\n",
       "      <td>Information Series 124 Alberta Geological Surv...</td>\n",
       "      <td>information series 124 alberta geological surv...</td>\n",
       "      <td>information series 124 alberta geological surv...</td>\n",
       "    </tr>\n",
       "    <tr>\n",
       "      <th>/nrcan_p2/data/02_intermediate/20210108/alberta__document_OFR_OFR_2011_09.pdfminer_split.txt</th>\n",
       "      <td>ERCBAGS Open File Report 2011 - 09 Inorganic W...</td>\n",
       "      <td>ERCBAGS Open File Report 2011 09 Inorganic Wat...</td>\n",
       "      <td>ercbags open file report 2011 09 inorganic wat...</td>\n",
       "      <td>ercbags open file report 2011 09 inorganic wat...</td>\n",
       "    </tr>\n",
       "    <tr>\n",
       "      <th>/nrcan_p2/data/02_intermediate/20210108/alberta__document_OFR_OFR_2011_13.pdfminer_split.txt</th>\n",
       "      <td>ERCBAGS Open File Report 2011 - 13 Subsurface ...</td>\n",
       "      <td>ERCBAGS Open File Report 2011 13 Subsurface St...</td>\n",
       "      <td>ercbags open file report 2011 13 subsurface st...</td>\n",
       "      <td>ercbags open file report 2011 13 subsurface st...</td>\n",
       "    </tr>\n",
       "    <tr>\n",
       "      <th>...</th>\n",
       "      <td>...</td>\n",
       "      <td>...</td>\n",
       "      <td>...</td>\n",
       "      <td>...</td>\n",
       "    </tr>\n",
       "    <tr>\n",
       "      <th>/nrcan_p2/data/02_intermediate/20210108/ontario__lists__p0171.pdfminer_split.txt</th>\n",
       "      <td>TERMS GOVERN USE DOCUMENT  use Ontario Geolog...</td>\n",
       "      <td>TERMS GOVERN USE DOCUMENT use Ontario Geologi...</td>\n",
       "      <td>terms govern use document use ontario geologi...</td>\n",
       "      <td>terms govern use document use ontario geologi...</td>\n",
       "    </tr>\n",
       "    <tr>\n",
       "      <th>/nrcan_p2/data/02_intermediate/20210108/ontario__lists__p0266-rev.pdfminer_split.txt</th>\n",
       "      <td>TERMS GOVERN USE PRODUCT  use electronic info...</td>\n",
       "      <td>TERMS GOVERN USE PRODUCT use electronic infor...</td>\n",
       "      <td>terms govern use product use electronic infor...</td>\n",
       "      <td>terms govern use product use electronic infor...</td>\n",
       "    </tr>\n",
       "    <tr>\n",
       "      <th>/nrcan_p2/data/02_intermediate/20210108/ontario__lists__p0359.pdfminer_split.txt</th>\n",
       "      <td>TERMS GOVERN USE DOCUMENT  use Ontario Geolog...</td>\n",
       "      <td>TERMS GOVERN USE DOCUMENT use Ontario Geologi...</td>\n",
       "      <td>terms govern use document use ontario geologi...</td>\n",
       "      <td>terms govern use document use ontario geologi...</td>\n",
       "    </tr>\n",
       "    <tr>\n",
       "      <th>/nrcan_p2/data/02_intermediate/20210108/ontario__lists__p0366.pdfminer_split.txt</th>\n",
       "      <td>TERMS GOVERN USE DOCUMENT  use Ontario Geolog...</td>\n",
       "      <td>TERMS GOVERN USE DOCUMENT use Ontario Geologi...</td>\n",
       "      <td>terms govern use document use ontario geologi...</td>\n",
       "      <td>terms govern use document use ontario geologi...</td>\n",
       "    </tr>\n",
       "    <tr>\n",
       "      <th>/nrcan_p2/data/02_intermediate/20210108/ontario__lists__p3288.pdfminer_split.txt</th>\n",
       "      <td>TERMS GOVERN USE DOCUMENT  use Ontario Geolog...</td>\n",
       "      <td>TERMS GOVERN USE DOCUMENT use Ontario Geologi...</td>\n",
       "      <td>terms govern use document use ontario geologi...</td>\n",
       "      <td>terms govern use document use ontario geologi...</td>\n",
       "    </tr>\n",
       "  </tbody>\n",
       "</table>\n",
       "<p>289 rows × 4 columns</p>\n",
       "</div>"
      ],
      "text/plain": [
       "                                                                                            text_POST  \\\n",
       "file                                                                                                    \n",
       "/nrcan_p2/data/02_intermediate/20210108/alberta...  PROVINCE ALBERTA RESEARCH COUNCIL ALBERTA GEOL...   \n",
       "/nrcan_p2/data/02_intermediate/20210108/alberta...  EUBAGS Earth Sciences Report 2006 - 05 Subsurf...   \n",
       "/nrcan_p2/data/02_intermediate/20210108/alberta...  Information Series 124 Alberta Geological Surv...   \n",
       "/nrcan_p2/data/02_intermediate/20210108/alberta...  ERCBAGS Open File Report 2011 - 09 Inorganic W...   \n",
       "/nrcan_p2/data/02_intermediate/20210108/alberta...  ERCBAGS Open File Report 2011 - 13 Subsurface ...   \n",
       "...                                                                                               ...   \n",
       "/nrcan_p2/data/02_intermediate/20210108/ontario...   TERMS GOVERN USE DOCUMENT  use Ontario Geolog...   \n",
       "/nrcan_p2/data/02_intermediate/20210108/ontario...   TERMS GOVERN USE PRODUCT  use electronic info...   \n",
       "/nrcan_p2/data/02_intermediate/20210108/ontario...   TERMS GOVERN USE DOCUMENT  use Ontario Geolog...   \n",
       "/nrcan_p2/data/02_intermediate/20210108/ontario...   TERMS GOVERN USE DOCUMENT  use Ontario Geolog...   \n",
       "/nrcan_p2/data/02_intermediate/20210108/ontario...   TERMS GOVERN USE DOCUMENT  use Ontario Geolog...   \n",
       "\n",
       "                                                                                          text_POST_0  \\\n",
       "file                                                                                                    \n",
       "/nrcan_p2/data/02_intermediate/20210108/alberta...  PROVINCE ALBERTA RESEARCH COUNCIL ALBERTA GEOL...   \n",
       "/nrcan_p2/data/02_intermediate/20210108/alberta...  EUBAGS Earth Sciences Report 2006 05 Subsurfac...   \n",
       "/nrcan_p2/data/02_intermediate/20210108/alberta...  Information Series 124 Alberta Geological Surv...   \n",
       "/nrcan_p2/data/02_intermediate/20210108/alberta...  ERCBAGS Open File Report 2011 09 Inorganic Wat...   \n",
       "/nrcan_p2/data/02_intermediate/20210108/alberta...  ERCBAGS Open File Report 2011 13 Subsurface St...   \n",
       "...                                                                                               ...   \n",
       "/nrcan_p2/data/02_intermediate/20210108/ontario...   TERMS GOVERN USE DOCUMENT use Ontario Geologi...   \n",
       "/nrcan_p2/data/02_intermediate/20210108/ontario...   TERMS GOVERN USE PRODUCT use electronic infor...   \n",
       "/nrcan_p2/data/02_intermediate/20210108/ontario...   TERMS GOVERN USE DOCUMENT use Ontario Geologi...   \n",
       "/nrcan_p2/data/02_intermediate/20210108/ontario...   TERMS GOVERN USE DOCUMENT use Ontario Geologi...   \n",
       "/nrcan_p2/data/02_intermediate/20210108/ontario...   TERMS GOVERN USE DOCUMENT use Ontario Geologi...   \n",
       "\n",
       "                                                                                          text_POST_1  \\\n",
       "file                                                                                                    \n",
       "/nrcan_p2/data/02_intermediate/20210108/alberta...  province alberta research council alberta geol...   \n",
       "/nrcan_p2/data/02_intermediate/20210108/alberta...  eubags earth sciences report 2006 05 subsurfac...   \n",
       "/nrcan_p2/data/02_intermediate/20210108/alberta...  information series 124 alberta geological surv...   \n",
       "/nrcan_p2/data/02_intermediate/20210108/alberta...  ercbags open file report 2011 09 inorganic wat...   \n",
       "/nrcan_p2/data/02_intermediate/20210108/alberta...  ercbags open file report 2011 13 subsurface st...   \n",
       "...                                                                                               ...   \n",
       "/nrcan_p2/data/02_intermediate/20210108/ontario...   terms govern use document use ontario geologi...   \n",
       "/nrcan_p2/data/02_intermediate/20210108/ontario...   terms govern use product use electronic infor...   \n",
       "/nrcan_p2/data/02_intermediate/20210108/ontario...   terms govern use document use ontario geologi...   \n",
       "/nrcan_p2/data/02_intermediate/20210108/ontario...   terms govern use document use ontario geologi...   \n",
       "/nrcan_p2/data/02_intermediate/20210108/ontario...   terms govern use document use ontario geologi...   \n",
       "\n",
       "                                                                                          text_POST_2  \n",
       "file                                                                                                   \n",
       "/nrcan_p2/data/02_intermediate/20210108/alberta...  province alberta research council alberta geol...  \n",
       "/nrcan_p2/data/02_intermediate/20210108/alberta...  eubags earth sciences report 2006 05 subsurfac...  \n",
       "/nrcan_p2/data/02_intermediate/20210108/alberta...  information series 124 alberta geological surv...  \n",
       "/nrcan_p2/data/02_intermediate/20210108/alberta...  ercbags open file report 2011 09 inorganic wat...  \n",
       "/nrcan_p2/data/02_intermediate/20210108/alberta...  ercbags open file report 2011 13 subsurface st...  \n",
       "...                                                                                               ...  \n",
       "/nrcan_p2/data/02_intermediate/20210108/ontario...   terms govern use document use ontario geologi...  \n",
       "/nrcan_p2/data/02_intermediate/20210108/ontario...   terms govern use product use electronic infor...  \n",
       "/nrcan_p2/data/02_intermediate/20210108/ontario...   terms govern use document use ontario geologi...  \n",
       "/nrcan_p2/data/02_intermediate/20210108/ontario...   terms govern use document use ontario geologi...  \n",
       "/nrcan_p2/data/02_intermediate/20210108/ontario...   terms govern use document use ontario geologi...  \n",
       "\n",
       "[289 rows x 4 columns]"
      ]
     },
     "execution_count": 177,
     "metadata": {},
     "output_type": "execute_result"
    }
   ],
   "source": [
    "merged_dfs"
   ]
  },
  {
   "cell_type": "code",
   "execution_count": 183,
   "id": "wooden-filename",
   "metadata": {},
   "outputs": [
    {
     "data": {
      "text/plain": [
       "'PROVINCE ALBERTA RESEARCH COUNCIL ALBERTA GEOLOGICAL DIVISION BULLETIN 2   Lower Cenomanian Foraminifera Peace River Area , Western Canada University Alberta Department Geology J. H. WALL Research Council Alberta  student , University Alberta R. E. WETTER  II Lower Cenomanian Ammonoidea Pelecypoda  Peace River Area , Western Canada P. S. WARREN C. R. STELCK University Alberta Department Geol09Y PrInted L. S. WALL , Queens Printer Alberta TABLE CONTENTS Foreword Lower Cenomanian Foraminifera Peace River area , Page 4 Western Canada Abstract Introduction Stratigraphy Beatton River section Local faunal succession 5 5 7 Fort St. John group Shaftesbury formation 7 Wilder Creek section 9 Septimus Creek section upper portion 10 11 Septimus Creek section lower portion Fish - scale interval 13 St. John - Dunvegan formation contact 15 15 Dunvegan formation 16 18 21 Upper Cretaceous Lower Cretaceous boundary 21 Regional correlation 22 Ecology 24 26 Formal descriptions 26 26 27 28 29 29 30 31 32 3'"
      ]
     },
     "metadata": {},
     "output_type": "display_data"
    },
    {
     "data": {
      "text/plain": [
       "'province alberta research council alberta geological division bulletin 2 lower cenomanian foraminifera peace river area western canada university alberta department geology j h wall research council alberta student university alberta r e wetter ii lower cenomanian ammonoidea pelecypoda peace river area western canada p s warren c r stelck university alberta department geol09y printed l s wall queens printer alberta table contents foreword lower cenomanian foraminifera peace river area page 4 western canada abstract introduction stratigraphy beatton river section local faunal succession 5 5 7 fort st john group shaftesbury formation 7 wilder creek section 9 septimus creek section upper portion 10 11 septimus creek section lower portion fish scale interval 13 st john dunvegan formation contact 15 15 dunvegan formation 16 18 21 upper cretaceous lower cretaceous boundary 21 regional correlation 22 ecology 24 26 formal descriptions 26 26 27 28 29 29 30 31 32 32 33 genus ammobaculites cushma'"
      ]
     },
     "execution_count": 183,
     "metadata": {},
     "output_type": "execute_result"
    }
   ],
   "source": [
    "display(merged_dfs.iloc[0].text_POST[0:1000])\n",
    "\n",
    "merged_dfs.iloc[0].text_POST_2[0:1000]"
   ]
  },
  {
   "cell_type": "code",
   "execution_count": null,
   "id": "married-affiliate",
   "metadata": {},
   "outputs": [],
   "source": []
  },
  {
   "cell_type": "code",
   "execution_count": null,
   "id": "specialized-housing",
   "metadata": {},
   "outputs": [],
   "source": []
  }
 ],
 "metadata": {
  "kernelspec": {
   "display_name": "Python 3",
   "language": "python",
   "name": "python3"
  },
  "language_info": {
   "codemirror_mode": {
    "name": "ipython",
    "version": 3
   },
   "file_extension": ".py",
   "mimetype": "text/x-python",
   "name": "python",
   "nbconvert_exporter": "python",
   "pygments_lexer": "ipython3",
   "version": "3.8.5"
  }
 },
 "nbformat": 4,
 "nbformat_minor": 5
}