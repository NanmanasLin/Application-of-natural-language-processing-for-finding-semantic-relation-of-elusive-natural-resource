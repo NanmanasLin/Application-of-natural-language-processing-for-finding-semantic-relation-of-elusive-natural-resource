{
 "cells": [
  {
   "cell_type": "markdown",
   "id": "extra-player",
   "metadata": {},
   "source": [
    "## Preprocessing cleaning pipeline - Output Dataset Overview\n",
    "Copyright (C) 2021 ServiceNow, Inc.\n",
    "\n",
    "This notebook provides a quick overview of which datasets have already been produced using the preprocessing cleaning pipeline. "
   ]
  },
  {
   "cell_type": "code",
   "execution_count": 5,
   "id": "loose-liberal",
   "metadata": {},
   "outputs": [],
   "source": [
    "import pathlib\n",
    "import yaml\n",
    "import pandas as pd"
   ]
  },
  {
   "cell_type": "markdown",
   "id": "impaired-strain",
   "metadata": {},
   "source": [
    "## Setup"
   ]
  },
  {
   "cell_type": "code",
   "execution_count": 35,
   "id": "failing-length",
   "metadata": {},
   "outputs": [],
   "source": [
    "FOLDER = '/nrcan_p2/data/03_primary/v4'"
   ]
  },
  {
   "cell_type": "markdown",
   "id": "clinical-reducing",
   "metadata": {},
   "source": [
    "## Find all the datasets"
   ]
  },
  {
   "cell_type": "code",
   "execution_count": 42,
   "id": "large-cross",
   "metadata": {},
   "outputs": [
    {
     "data": {
      "text/plain": [
       "[PosixPath('/nrcan_p2/data/03_primary/v4/all_text_SIMPLE_PIPELINE_BERT_3_POSTPIPE_BERT_SPACY_2_dA_v1.txt'),\n",
       " PosixPath('/nrcan_p2/data/03_primary/v4/all_text_SIMPLE_PIPELINE_BERT_3_POSTPIPE_BERT_SPACY_2_v1.txt'),\n",
       " PosixPath('/nrcan_p2/data/03_primary/v4/all_text_SIMPLE_PIPELINE_GLOVE_3_POSTPIPE_GLOVE_dA_v1.txt'),\n",
       " PosixPath('/nrcan_p2/data/03_primary/v4/all_text_SIMPLE_PIPELINE_GLOVE_3_POSTPIPE_GLOVE_v1.txt'),\n",
       " PosixPath('/nrcan_p2/data/03_primary/v4/all_text_SIMPLE_PIPELINE_BERT_3_POSTPIPE_BERT_SPACY_2_dA_full_v1.txt'),\n",
       " PosixPath('/nrcan_p2/data/03_primary/v4/all_text_SIMPLE_PIPELINE_GLOVE_3_POSTPIPE_GLOVE_dA_full_v1.txt')]"
      ]
     },
     "execution_count": 42,
     "metadata": {},
     "output_type": "execute_result"
    }
   ],
   "source": [
    "DATASETS = [x for x in pathlib.Path(FOLDER).glob('*.txt')]\n",
    "\n",
    "DATASETS"
   ]
  },
  {
   "cell_type": "code",
   "execution_count": 43,
   "id": "inner-imperial",
   "metadata": {},
   "outputs": [
    {
     "name": "stdout",
     "output_type": "stream",
     "text": [
      "all_text_SIMPLE_PIPELINE_BERT_3_POSTPIPE_BERT_SPACY_2_dA_v1\n",
      "all_text_SIMPLE_PIPELINE_BERT_3_POSTPIPE_BERT_SPACY_2_v1\n",
      "all_text_SIMPLE_PIPELINE_GLOVE_3_POSTPIPE_GLOVE_dA_v1\n",
      "all_text_SIMPLE_PIPELINE_GLOVE_3_POSTPIPE_GLOVE_v1\n",
      "all_text_SIMPLE_PIPELINE_BERT_3_POSTPIPE_BERT_SPACY_2_dA_full_v1\n",
      "all_text_SIMPLE_PIPELINE_GLOVE_3_POSTPIPE_GLOVE_dA_full_v1\n"
     ]
    },
    {
     "name": "stderr",
     "output_type": "stream",
     "text": [
      "<ipython-input-43-e25dcf57e71a>:10: YAMLLoadWarning: calling yaml.load() without Loader=... is deprecated, as the default Loader is unsafe. Please read https://msg.pyyaml.org/load for full details.\n",
      "  config = yaml.load(f)\n"
     ]
    }
   ],
   "source": [
    "config_data = pd.DataFrame()\n",
    "\n",
    "for file in DATASETS:\n",
    "    filestem = file.stem\n",
    "    print(filestem)\n",
    "    CONFIG = pathlib.Path(FOLDER) / (filestem + '.config')\n",
    "    SOURCE = pathlib.Path(FOLDER) / (filestem + '_source.csv')\n",
    "    \n",
    "    with open(CONFIG, 'r') as f:\n",
    "        config = yaml.load(f)\n",
    "      \n",
    "    config['stem'] = filestem\n",
    "    \n",
    "    if SOURCE.exists():\n",
    "        source_csv = pd.read_csv(SOURCE)    \n",
    "        config['n_source_csvs'] = source_csv.shape[0]\n",
    "\n",
    "    config_data = config_data.append(config, ignore_index=True) #(config)"
   ]
  },
  {
   "cell_type": "code",
   "execution_count": 44,
   "id": "reduced-hollywood",
   "metadata": {
    "scrolled": false
   },
   "outputs": [
    {
     "data": {
      "text/html": [
       "<div>\n",
       "<style scoped>\n",
       "    .dataframe tbody tr th:only-of-type {\n",
       "        vertical-align: middle;\n",
       "    }\n",
       "\n",
       "    .dataframe tbody tr th {\n",
       "        vertical-align: top;\n",
       "    }\n",
       "\n",
       "    .dataframe thead th {\n",
       "        text-align: right;\n",
       "    }\n",
       "</style>\n",
       "<table border=\"1\" class=\"dataframe\">\n",
       "  <thead>\n",
       "    <tr style=\"text-align: right;\">\n",
       "      <th></th>\n",
       "      <th>input_dirs</th>\n",
       "      <th>n_files</th>\n",
       "      <th>n_source_csvs</th>\n",
       "      <th>output_dir</th>\n",
       "      <th>output_file</th>\n",
       "      <th>postprocessing_functions</th>\n",
       "      <th>postprocessing_functions_mapped</th>\n",
       "      <th>postprocessing_pipeline</th>\n",
       "      <th>preprocessing_functions</th>\n",
       "      <th>preprocessing_functions_mapped</th>\n",
       "      <th>preprocessing_pipeline</th>\n",
       "      <th>stem</th>\n",
       "      <th>suffix</th>\n",
       "    </tr>\n",
       "  </thead>\n",
       "  <tbody>\n",
       "    <tr>\n",
       "      <th>0</th>\n",
       "      <td>[/nrcan_p2/data/02_intermediate/20201006/geoscan/pdf/v1_all, /nrcan_p2/data/02_intermediate/20201117/geoscan/pdf/generic_pdfs_all, /nrcan_p2/data/02_intermediate/20201117/geoscan/pdf/has_pdf_dir_all, /nrcan_p2/data/02_intermediate/20201117/geoscan/pdf/of_pdf_all, /nrcan_p2/data/02_intermediate/20201117/geoscan/pdf/low_text_pdfs]</td>\n",
       "      <td>-1.0</td>\n",
       "      <td>12049.0</td>\n",
       "      <td>/nrcan_p2/data/03_primary/v4</td>\n",
       "      <td>/nrcan_p2/data/03_primary/v4/all_text_SIMPLE_PIPELINE_BERT_3_POSTPIPE_BERT_SPACY_2_dA_v1.txt</td>\n",
       "      <td>[rm_newline, sentence_tokenize_spacy_lg, add_newline]</td>\n",
       "      <td>[21, 24, 25]</td>\n",
       "      <td>POSTPIPE_BERT_SPACY_2</td>\n",
       "      <td>[rm_dbl_space, rm_cid, convert_to_ascii, rm_nonprintable, filter_no_letter, rm_word_all_punct, rm_newline_hyphenation, rm_beg_end_word_punct, rm_punct_mid_punct, strip_space, filter_l2_word, filter_l4_letter, rm_mid_word_punct, rm_non_textual_punct, rm_newline, merge_words, filter_no_real_words_g3letter]</td>\n",
       "      <td>[0, 1, 2, 3, 4, 5, 6, 7, 8, 9, 10, 11, 12, 13, 14, 15, 16]</td>\n",
       "      <td>SIMPLE_PIPELINE_BERT_3</td>\n",
       "      <td>all_text_SIMPLE_PIPELINE_BERT_3_POSTPIPE_BERT_SPACY_2_dA_v1</td>\n",
       "      <td>SIMPLE_PIPELINE_BERT_3_POSTPIPE_BERT_SPACY_2_dA_v1</td>\n",
       "    </tr>\n",
       "    <tr>\n",
       "      <th>1</th>\n",
       "      <td>[/nrcan_p2/data/02_intermediate/20201006/geoscan/pdf/v1_all, /nrcan_p2/data/02_intermediate/20201117/geoscan/pdf/generic_pdfs_all, /nrcan_p2/data/02_intermediate/20201117/geoscan/pdf/has_pdf_dir_all, /nrcan_p2/data/02_intermediate/20201117/geoscan/pdf/of_pdf_all, /nrcan_p2/data/02_intermediate/20201117/geoscan/pdf/low_text_pdfs]</td>\n",
       "      <td>-1.0</td>\n",
       "      <td>NaN</td>\n",
       "      <td>/nrcan_p2/data/03_primary/v4</td>\n",
       "      <td>/nrcan_p2/data/03_primary/v4/all_text_SIMPLE_PIPELINE_BERT_3_POSTPIPE_BERT_SPACY_2_v1.txt</td>\n",
       "      <td>[rm_newline, sentence_tokenize_spacy_lg, add_newline]</td>\n",
       "      <td>[21, 24, 25]</td>\n",
       "      <td>POSTPIPE_BERT_SPACY_2</td>\n",
       "      <td>[rm_dbl_space, rm_cid, convert_to_ascii, rm_nonprintable, filter_no_letter, rm_word_all_punct, rm_newline_hyphenation, rm_beg_end_word_punct, rm_punct_mid_punct, strip_space, filter_l2_word, filter_l4_letter, rm_mid_word_punct, rm_non_textual_punct, rm_newline, merge_words, filter_no_real_words_g3letter]</td>\n",
       "      <td>[0, 1, 2, 3, 4, 5, 6, 7, 8, 9, 10, 11, 12, 13, 14, 15, 16]</td>\n",
       "      <td>SIMPLE_PIPELINE_BERT_3</td>\n",
       "      <td>all_text_SIMPLE_PIPELINE_BERT_3_POSTPIPE_BERT_SPACY_2_v1</td>\n",
       "      <td>SIMPLE_PIPELINE_BERT_3_POSTPIPE_BERT_SPACY_2_v1</td>\n",
       "    </tr>\n",
       "    <tr>\n",
       "      <th>2</th>\n",
       "      <td>[/nrcan_p2/data/02_intermediate/20201006/geoscan/pdf/v1_all, /nrcan_p2/data/02_intermediate/20201117/geoscan/pdf/generic_pdfs_all, /nrcan_p2/data/02_intermediate/20201117/geoscan/pdf/has_pdf_dir_all, /nrcan_p2/data/02_intermediate/20201117/geoscan/pdf/of_pdf_all, /nrcan_p2/data/02_intermediate/20201117/geoscan/pdf/low_text_pdfs]</td>\n",
       "      <td>-1.0</td>\n",
       "      <td>11975.0</td>\n",
       "      <td>/nrcan_p2/data/03_primary/v4</td>\n",
       "      <td>/nrcan_p2/data/03_primary/v4/all_text_SIMPLE_PIPELINE_GLOVE_3_POSTPIPE_GLOVE_dA_v1.txt</td>\n",
       "      <td>[rm_punct, lower, rm_newline]</td>\n",
       "      <td>[17, 18, 21]</td>\n",
       "      <td>POSTPIPE_GLOVE</td>\n",
       "      <td>[rm_dbl_space, rm_cid, convert_to_ascii, rm_nonprintable, filter_no_letter, rm_word_all_punct, rm_newline_hyphenation, rm_beg_end_word_punct, rm_punct_mid_punct, strip_space, filter_l2_word, filter_l4_letter, rm_mid_word_punct, rm_non_textual_punct, rm_newline, merge_words, filter_no_real_words_g3letter, tokenize_spacy_lg, rm_stopwords_spacy]</td>\n",
       "      <td>[0, 1, 2, 3, 4, 5, 6, 7, 8, 9, 10, 11, 12, 13, 14, 15, 16, 22, 23]</td>\n",
       "      <td>SIMPLE_PIPELINE_GLOVE_3</td>\n",
       "      <td>all_text_SIMPLE_PIPELINE_GLOVE_3_POSTPIPE_GLOVE_dA_v1</td>\n",
       "      <td>SIMPLE_PIPELINE_GLOVE_3_POSTPIPE_GLOVE_dA_v1</td>\n",
       "    </tr>\n",
       "    <tr>\n",
       "      <th>3</th>\n",
       "      <td>[/nrcan_p2/data/02_intermediate/20201006/geoscan/pdf/v1_all, /nrcan_p2/data/02_intermediate/20201117/geoscan/pdf/generic_pdfs_all, /nrcan_p2/data/02_intermediate/20201117/geoscan/pdf/has_pdf_dir_all, /nrcan_p2/data/02_intermediate/20201117/geoscan/pdf/of_pdf_all, /nrcan_p2/data/02_intermediate/20201117/geoscan/pdf/low_text_pdfs]</td>\n",
       "      <td>-1.0</td>\n",
       "      <td>11975.0</td>\n",
       "      <td>/nrcan_p2/data/03_primary/v4</td>\n",
       "      <td>/nrcan_p2/data/03_primary/v4/all_text_SIMPLE_PIPELINE_GLOVE_3_POSTPIPE_GLOVE_v1.txt</td>\n",
       "      <td>[rm_punct, lower, rm_newline]</td>\n",
       "      <td>[17, 18, 21]</td>\n",
       "      <td>POSTPIPE_GLOVE</td>\n",
       "      <td>[rm_dbl_space, rm_cid, convert_to_ascii, rm_nonprintable, filter_no_letter, rm_word_all_punct, rm_newline_hyphenation, rm_beg_end_word_punct, rm_punct_mid_punct, strip_space, filter_l2_word, filter_l4_letter, rm_mid_word_punct, rm_non_textual_punct, rm_newline, merge_words, filter_no_real_words_g3letter, tokenize_spacy_lg, rm_stopwords_spacy]</td>\n",
       "      <td>[0, 1, 2, 3, 4, 5, 6, 7, 8, 9, 10, 11, 12, 13, 14, 15, 16, 22, 23]</td>\n",
       "      <td>SIMPLE_PIPELINE_GLOVE_3</td>\n",
       "      <td>all_text_SIMPLE_PIPELINE_GLOVE_3_POSTPIPE_GLOVE_v1</td>\n",
       "      <td>SIMPLE_PIPELINE_GLOVE_3_POSTPIPE_GLOVE_v1</td>\n",
       "    </tr>\n",
       "    <tr>\n",
       "      <th>4</th>\n",
       "      <td>[/nrcan_p2/data/02_intermediate/20201006/geoscan/pdf/v1_all, /nrcan_p2/data/02_intermediate/20201117/geoscan/pdf/generic_pdfs_all, /nrcan_p2/data/02_intermediate/20201117/geoscan/pdf/has_pdf_dir_all, /nrcan_p2/data/02_intermediate/20201117/geoscan/pdf/of_pdf_all, /nrcan_p2/data/02_intermediate/20201117/geoscan/pdf/low_text_pdfs, /nrcan_p2/data/02_intermediate/20201117/geoscan/txt, /nrcan_p2/data/02_intermediate/20201117/geoscan/wp_rtf]</td>\n",
       "      <td>-1.0</td>\n",
       "      <td>12092.0</td>\n",
       "      <td>/nrcan_p2/data/03_primary/v4</td>\n",
       "      <td>/nrcan_p2/data/03_primary/v4/all_text_SIMPLE_PIPELINE_BERT_3_POSTPIPE_BERT_SPACY_2_dA_full_v1.txt</td>\n",
       "      <td>[rm_newline, sentence_tokenize_spacy_lg, add_newline]</td>\n",
       "      <td>[21, 24, 25]</td>\n",
       "      <td>POSTPIPE_BERT_SPACY_2</td>\n",
       "      <td>[rm_dbl_space, rm_cid, convert_to_ascii, rm_nonprintable, filter_no_letter, rm_word_all_punct, rm_newline_hyphenation, rm_beg_end_word_punct, rm_punct_mid_punct, strip_space, filter_l2_word, filter_l4_letter, rm_mid_word_punct, rm_non_textual_punct, rm_newline, merge_words, filter_no_real_words_g3letter]</td>\n",
       "      <td>[0, 1, 2, 3, 4, 5, 6, 7, 8, 9, 10, 11, 12, 13, 14, 15, 16]</td>\n",
       "      <td>SIMPLE_PIPELINE_BERT_3</td>\n",
       "      <td>all_text_SIMPLE_PIPELINE_BERT_3_POSTPIPE_BERT_SPACY_2_dA_full_v1</td>\n",
       "      <td>SIMPLE_PIPELINE_BERT_3_POSTPIPE_BERT_SPACY_2_dA_full_v1</td>\n",
       "    </tr>\n",
       "    <tr>\n",
       "      <th>5</th>\n",
       "      <td>[/nrcan_p2/data/02_intermediate/20201006/geoscan/pdf/v1_all, /nrcan_p2/data/02_intermediate/20201117/geoscan/pdf/generic_pdfs_all, /nrcan_p2/data/02_intermediate/20201117/geoscan/pdf/has_pdf_dir_all, /nrcan_p2/data/02_intermediate/20201117/geoscan/pdf/of_pdf_all, /nrcan_p2/data/02_intermediate/20201117/geoscan/pdf/low_text_pdfs, /nrcan_p2/data/02_intermediate/20201117/geoscan/txt, /nrcan_p2/data/02_intermediate/20201117/geoscan/wp_rtf]</td>\n",
       "      <td>-1.0</td>\n",
       "      <td>12018.0</td>\n",
       "      <td>/nrcan_p2/data/03_primary/v4</td>\n",
       "      <td>/nrcan_p2/data/03_primary/v4/all_text_SIMPLE_PIPELINE_GLOVE_3_POSTPIPE_GLOVE_dA_full_v1.txt</td>\n",
       "      <td>[rm_punct, lower, rm_newline]</td>\n",
       "      <td>[17, 18, 21]</td>\n",
       "      <td>POSTPIPE_GLOVE</td>\n",
       "      <td>[rm_dbl_space, rm_cid, convert_to_ascii, rm_nonprintable, filter_no_letter, rm_word_all_punct, rm_newline_hyphenation, rm_beg_end_word_punct, rm_punct_mid_punct, strip_space, filter_l2_word, filter_l4_letter, rm_mid_word_punct, rm_non_textual_punct, rm_newline, merge_words, filter_no_real_words_g3letter, tokenize_spacy_lg, rm_stopwords_spacy]</td>\n",
       "      <td>[0, 1, 2, 3, 4, 5, 6, 7, 8, 9, 10, 11, 12, 13, 14, 15, 16, 22, 23]</td>\n",
       "      <td>SIMPLE_PIPELINE_GLOVE_3</td>\n",
       "      <td>all_text_SIMPLE_PIPELINE_GLOVE_3_POSTPIPE_GLOVE_dA_full_v1</td>\n",
       "      <td>SIMPLE_PIPELINE_GLOVE_3_POSTPIPE_GLOVE_dA_full_v1</td>\n",
       "    </tr>\n",
       "  </tbody>\n",
       "</table>\n",
       "</div>"
      ],
      "text/plain": [
       "                                                                                                                                                                                                                                                                                                                                                                                                                                                input_dirs  n_files  n_source_csvs                    output_dir                                                                                        output_file                               postprocessing_functions postprocessing_functions_mapped postprocessing_pipeline  \\\n",
       "0                                                                                                               [/nrcan_p2/data/02_intermediate/20201006/geoscan/pdf/v1_all, /nrcan_p2/data/02_intermediate/20201117/geoscan/pdf/generic_pdfs_all, /nrcan_p2/data/02_intermediate/20201117/geoscan/pdf/has_pdf_dir_all, /nrcan_p2/data/02_intermediate/20201117/geoscan/pdf/of_pdf_all, /nrcan_p2/data/02_intermediate/20201117/geoscan/pdf/low_text_pdfs]     -1.0        12049.0  /nrcan_p2/data/03_primary/v4       /nrcan_p2/data/03_primary/v4/all_text_SIMPLE_PIPELINE_BERT_3_POSTPIPE_BERT_SPACY_2_dA_v1.txt  [rm_newline, sentence_tokenize_spacy_lg, add_newline]                    [21, 24, 25]   POSTPIPE_BERT_SPACY_2   \n",
       "1                                                                                                               [/nrcan_p2/data/02_intermediate/20201006/geoscan/pdf/v1_all, /nrcan_p2/data/02_intermediate/20201117/geoscan/pdf/generic_pdfs_all, /nrcan_p2/data/02_intermediate/20201117/geoscan/pdf/has_pdf_dir_all, /nrcan_p2/data/02_intermediate/20201117/geoscan/pdf/of_pdf_all, /nrcan_p2/data/02_intermediate/20201117/geoscan/pdf/low_text_pdfs]     -1.0            NaN  /nrcan_p2/data/03_primary/v4          /nrcan_p2/data/03_primary/v4/all_text_SIMPLE_PIPELINE_BERT_3_POSTPIPE_BERT_SPACY_2_v1.txt  [rm_newline, sentence_tokenize_spacy_lg, add_newline]                    [21, 24, 25]   POSTPIPE_BERT_SPACY_2   \n",
       "2                                                                                                               [/nrcan_p2/data/02_intermediate/20201006/geoscan/pdf/v1_all, /nrcan_p2/data/02_intermediate/20201117/geoscan/pdf/generic_pdfs_all, /nrcan_p2/data/02_intermediate/20201117/geoscan/pdf/has_pdf_dir_all, /nrcan_p2/data/02_intermediate/20201117/geoscan/pdf/of_pdf_all, /nrcan_p2/data/02_intermediate/20201117/geoscan/pdf/low_text_pdfs]     -1.0        11975.0  /nrcan_p2/data/03_primary/v4             /nrcan_p2/data/03_primary/v4/all_text_SIMPLE_PIPELINE_GLOVE_3_POSTPIPE_GLOVE_dA_v1.txt                          [rm_punct, lower, rm_newline]                    [17, 18, 21]          POSTPIPE_GLOVE   \n",
       "3                                                                                                               [/nrcan_p2/data/02_intermediate/20201006/geoscan/pdf/v1_all, /nrcan_p2/data/02_intermediate/20201117/geoscan/pdf/generic_pdfs_all, /nrcan_p2/data/02_intermediate/20201117/geoscan/pdf/has_pdf_dir_all, /nrcan_p2/data/02_intermediate/20201117/geoscan/pdf/of_pdf_all, /nrcan_p2/data/02_intermediate/20201117/geoscan/pdf/low_text_pdfs]     -1.0        11975.0  /nrcan_p2/data/03_primary/v4                /nrcan_p2/data/03_primary/v4/all_text_SIMPLE_PIPELINE_GLOVE_3_POSTPIPE_GLOVE_v1.txt                          [rm_punct, lower, rm_newline]                    [17, 18, 21]          POSTPIPE_GLOVE   \n",
       "4  [/nrcan_p2/data/02_intermediate/20201006/geoscan/pdf/v1_all, /nrcan_p2/data/02_intermediate/20201117/geoscan/pdf/generic_pdfs_all, /nrcan_p2/data/02_intermediate/20201117/geoscan/pdf/has_pdf_dir_all, /nrcan_p2/data/02_intermediate/20201117/geoscan/pdf/of_pdf_all, /nrcan_p2/data/02_intermediate/20201117/geoscan/pdf/low_text_pdfs, /nrcan_p2/data/02_intermediate/20201117/geoscan/txt, /nrcan_p2/data/02_intermediate/20201117/geoscan/wp_rtf]     -1.0        12092.0  /nrcan_p2/data/03_primary/v4  /nrcan_p2/data/03_primary/v4/all_text_SIMPLE_PIPELINE_BERT_3_POSTPIPE_BERT_SPACY_2_dA_full_v1.txt  [rm_newline, sentence_tokenize_spacy_lg, add_newline]                    [21, 24, 25]   POSTPIPE_BERT_SPACY_2   \n",
       "5  [/nrcan_p2/data/02_intermediate/20201006/geoscan/pdf/v1_all, /nrcan_p2/data/02_intermediate/20201117/geoscan/pdf/generic_pdfs_all, /nrcan_p2/data/02_intermediate/20201117/geoscan/pdf/has_pdf_dir_all, /nrcan_p2/data/02_intermediate/20201117/geoscan/pdf/of_pdf_all, /nrcan_p2/data/02_intermediate/20201117/geoscan/pdf/low_text_pdfs, /nrcan_p2/data/02_intermediate/20201117/geoscan/txt, /nrcan_p2/data/02_intermediate/20201117/geoscan/wp_rtf]     -1.0        12018.0  /nrcan_p2/data/03_primary/v4        /nrcan_p2/data/03_primary/v4/all_text_SIMPLE_PIPELINE_GLOVE_3_POSTPIPE_GLOVE_dA_full_v1.txt                          [rm_punct, lower, rm_newline]                    [17, 18, 21]          POSTPIPE_GLOVE   \n",
       "\n",
       "                                                                                                                                                                                                                                                                                                                                    preprocessing_functions                                      preprocessing_functions_mapped   preprocessing_pipeline                                                              stem                                                   suffix  \n",
       "0                                         [rm_dbl_space, rm_cid, convert_to_ascii, rm_nonprintable, filter_no_letter, rm_word_all_punct, rm_newline_hyphenation, rm_beg_end_word_punct, rm_punct_mid_punct, strip_space, filter_l2_word, filter_l4_letter, rm_mid_word_punct, rm_non_textual_punct, rm_newline, merge_words, filter_no_real_words_g3letter]          [0, 1, 2, 3, 4, 5, 6, 7, 8, 9, 10, 11, 12, 13, 14, 15, 16]   SIMPLE_PIPELINE_BERT_3       all_text_SIMPLE_PIPELINE_BERT_3_POSTPIPE_BERT_SPACY_2_dA_v1       SIMPLE_PIPELINE_BERT_3_POSTPIPE_BERT_SPACY_2_dA_v1  \n",
       "1                                         [rm_dbl_space, rm_cid, convert_to_ascii, rm_nonprintable, filter_no_letter, rm_word_all_punct, rm_newline_hyphenation, rm_beg_end_word_punct, rm_punct_mid_punct, strip_space, filter_l2_word, filter_l4_letter, rm_mid_word_punct, rm_non_textual_punct, rm_newline, merge_words, filter_no_real_words_g3letter]          [0, 1, 2, 3, 4, 5, 6, 7, 8, 9, 10, 11, 12, 13, 14, 15, 16]   SIMPLE_PIPELINE_BERT_3          all_text_SIMPLE_PIPELINE_BERT_3_POSTPIPE_BERT_SPACY_2_v1          SIMPLE_PIPELINE_BERT_3_POSTPIPE_BERT_SPACY_2_v1  \n",
       "2  [rm_dbl_space, rm_cid, convert_to_ascii, rm_nonprintable, filter_no_letter, rm_word_all_punct, rm_newline_hyphenation, rm_beg_end_word_punct, rm_punct_mid_punct, strip_space, filter_l2_word, filter_l4_letter, rm_mid_word_punct, rm_non_textual_punct, rm_newline, merge_words, filter_no_real_words_g3letter, tokenize_spacy_lg, rm_stopwords_spacy]  [0, 1, 2, 3, 4, 5, 6, 7, 8, 9, 10, 11, 12, 13, 14, 15, 16, 22, 23]  SIMPLE_PIPELINE_GLOVE_3             all_text_SIMPLE_PIPELINE_GLOVE_3_POSTPIPE_GLOVE_dA_v1             SIMPLE_PIPELINE_GLOVE_3_POSTPIPE_GLOVE_dA_v1  \n",
       "3  [rm_dbl_space, rm_cid, convert_to_ascii, rm_nonprintable, filter_no_letter, rm_word_all_punct, rm_newline_hyphenation, rm_beg_end_word_punct, rm_punct_mid_punct, strip_space, filter_l2_word, filter_l4_letter, rm_mid_word_punct, rm_non_textual_punct, rm_newline, merge_words, filter_no_real_words_g3letter, tokenize_spacy_lg, rm_stopwords_spacy]  [0, 1, 2, 3, 4, 5, 6, 7, 8, 9, 10, 11, 12, 13, 14, 15, 16, 22, 23]  SIMPLE_PIPELINE_GLOVE_3                all_text_SIMPLE_PIPELINE_GLOVE_3_POSTPIPE_GLOVE_v1                SIMPLE_PIPELINE_GLOVE_3_POSTPIPE_GLOVE_v1  \n",
       "4                                         [rm_dbl_space, rm_cid, convert_to_ascii, rm_nonprintable, filter_no_letter, rm_word_all_punct, rm_newline_hyphenation, rm_beg_end_word_punct, rm_punct_mid_punct, strip_space, filter_l2_word, filter_l4_letter, rm_mid_word_punct, rm_non_textual_punct, rm_newline, merge_words, filter_no_real_words_g3letter]          [0, 1, 2, 3, 4, 5, 6, 7, 8, 9, 10, 11, 12, 13, 14, 15, 16]   SIMPLE_PIPELINE_BERT_3  all_text_SIMPLE_PIPELINE_BERT_3_POSTPIPE_BERT_SPACY_2_dA_full_v1  SIMPLE_PIPELINE_BERT_3_POSTPIPE_BERT_SPACY_2_dA_full_v1  \n",
       "5  [rm_dbl_space, rm_cid, convert_to_ascii, rm_nonprintable, filter_no_letter, rm_word_all_punct, rm_newline_hyphenation, rm_beg_end_word_punct, rm_punct_mid_punct, strip_space, filter_l2_word, filter_l4_letter, rm_mid_word_punct, rm_non_textual_punct, rm_newline, merge_words, filter_no_real_words_g3letter, tokenize_spacy_lg, rm_stopwords_spacy]  [0, 1, 2, 3, 4, 5, 6, 7, 8, 9, 10, 11, 12, 13, 14, 15, 16, 22, 23]  SIMPLE_PIPELINE_GLOVE_3        all_text_SIMPLE_PIPELINE_GLOVE_3_POSTPIPE_GLOVE_dA_full_v1        SIMPLE_PIPELINE_GLOVE_3_POSTPIPE_GLOVE_dA_full_v1  "
      ]
     },
     "metadata": {},
     "output_type": "display_data"
    }
   ],
   "source": [
    "with pd.option_context('display.width', 1000, 'display.max_colwidth', 1000):\n",
    "    display(config_data)"
   ]
  }
 ],
 "metadata": {
  "kernelspec": {
   "display_name": "Python 3",
   "language": "python",
   "name": "python3"
  },
  "language_info": {
   "codemirror_mode": {
    "name": "ipython",
    "version": 3
   },
   "file_extension": ".py",
   "mimetype": "text/x-python",
   "name": "python",
   "nbconvert_exporter": "python",
   "pygments_lexer": "ipython3",
   "version": "3.8.5"
  }
 },
 "nbformat": 4,
 "nbformat_minor": 5
}