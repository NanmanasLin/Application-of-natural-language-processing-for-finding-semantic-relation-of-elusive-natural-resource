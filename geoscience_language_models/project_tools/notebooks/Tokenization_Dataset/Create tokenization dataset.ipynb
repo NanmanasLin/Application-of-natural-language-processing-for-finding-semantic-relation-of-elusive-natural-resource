{
 "cells": [
  {
   "cell_type": "markdown",
   "id": "complete-analysis",
   "metadata": {},
   "source": [
    "# Create tokenization Dataset (from Metadata)\n",
    "Copyright (C) 2021 ServiceNow, Inc.\n",
    "\n",
    "We use the metadata to produce a clean sentence-tokenized dataset for training BERT tokenization models. "
   ]
  },
  {
   "cell_type": "markdown",
   "id": "similar-antarctica",
   "metadata": {},
   "source": [
    "## Load the metadata file"
   ]
  },
  {
   "cell_type": "code",
   "execution_count": 1,
   "id": "harmful-membrane",
   "metadata": {},
   "outputs": [],
   "source": [
    "import pandas as pd\n",
    "output_large = '/nrcan_p2/data/01_raw/20201006/geoscan/GEOSCAN-extract-20200211144755.xml_processed_Feb29.parquet'\n",
    "df_s_large = pd.read_parquet(output_large)\n",
    "\n",
    "output_small = '/nrcan_p2/data/01_raw/20201006/geoscan/EAIDown.xml_processed_Feb29.parquet'\n",
    "df_s = pd.read_parquet(output_small)"
   ]
  },
  {
   "cell_type": "code",
   "execution_count": 3,
   "id": "ultimate-humor",
   "metadata": {},
   "outputs": [
    {
     "data": {
      "text/plain": [
       "Index(['{http://purl.org/dc/elements/1.1/}contributor',\n",
       "       '{http://purl.org/dc/elements/1.1/}title_en',\n",
       "       '{http://purl.org/dc/elements/1.1/}creator',\n",
       "       '{http://purl.org/dc/elements/1.1/}subject_en',\n",
       "       '{http://purl.org/dc/elements/1.1/}subject_fr',\n",
       "       '{http://purl.org/dc/elements/1.1/}source_en',\n",
       "       '{http://purl.org/dc/elements/1.1/}source_fr',\n",
       "       '{http://purl.org/dc/elements/1.1/}description_en',\n",
       "       '{http://purl.org/dc/elements/1.1/}description_fr',\n",
       "       '{http://purl.org/dc/elements/1.1/}date',\n",
       "       '{http://purl.org/dc/elements/1.1/}type_en',\n",
       "       '{http://purl.org/dc/elements/1.1/}format',\n",
       "       '{http://purl.org/dc/elements/1.1/}identifier_geoscanid',\n",
       "       '{http://purl.org/dc/elements/1.1/}identifier_en',\n",
       "       '{http://purl.org/dc/elements/1.1/}identifier_fr',\n",
       "       '{http://purl.org/dc/elements/1.1/}language',\n",
       "       '{http://purl.org/dc/elements/1.1/}coverage_en',\n",
       "       '{http://purl.org/dc/elements/1.1/}coverage_fr',\n",
       "       '{http://purl.org/dc/elements/1.1/}publisher_en',\n",
       "       '{http://purl.org/dc/elements/1.1/}publisher_fr',\n",
       "       '{http://purl.org/dc/elements/1.1/}format_en',\n",
       "       '{http://purl.org/dc/elements/1.1/}format_fr',\n",
       "       '{http://purl.org/dc/elements/1.1/}identifier_info',\n",
       "       '{http://purl.org/dc/elements/1.1/}coverage',\n",
       "       '{http://purl.org/dc/elements/1.1/}identifier',\n",
       "       '{http://purl.org/dc/elements/1.1/}title_fr',\n",
       "       '{http://purl.org/dc/elements/1.1/}rights_en',\n",
       "       '{http://purl.org/dc/elements/1.1/}rights_fr',\n",
       "       '{http://purl.org/dc/elements/1.1/}title', 'title_en_lang',\n",
       "       'title_lang', 'title_fr_lang', 'title_en_en', 'title_fr_en',\n",
       "       'title_no_en', 'title_merged', 'desc_en', 'desc_fr', 'desc_en_lang',\n",
       "       'desc_en_en', 'desc_fr_lang', 'subject_g200', 'subject_ns200'],\n",
       "      dtype='object')"
      ]
     },
     "execution_count": 3,
     "metadata": {},
     "output_type": "execute_result"
    }
   ],
   "source": [
    "df_s_large.columns"
   ]
  },
  {
   "cell_type": "markdown",
   "id": "modified-extraction",
   "metadata": {},
   "source": [
    "## Filter to title and description columns"
   ]
  },
  {
   "cell_type": "code",
   "execution_count": 4,
   "id": "informative-efficiency",
   "metadata": {},
   "outputs": [],
   "source": [
    "DESC_COL = 'desc_en_en'\n",
    "TITLE_COL = 'title_merged'"
   ]
  },
  {
   "cell_type": "code",
   "execution_count": 6,
   "id": "super-addiction",
   "metadata": {},
   "outputs": [
    {
     "data": {
      "text/html": [
       "<div>\n",
       "<style scoped>\n",
       "    .dataframe tbody tr th:only-of-type {\n",
       "        vertical-align: middle;\n",
       "    }\n",
       "\n",
       "    .dataframe tbody tr th {\n",
       "        vertical-align: top;\n",
       "    }\n",
       "\n",
       "    .dataframe thead th {\n",
       "        text-align: right;\n",
       "    }\n",
       "</style>\n",
       "<table border=\"1\" class=\"dataframe\">\n",
       "  <thead>\n",
       "    <tr style=\"text-align: right;\">\n",
       "      <th></th>\n",
       "      <th>desc_en_en</th>\n",
       "      <th>title_merged</th>\n",
       "    </tr>\n",
       "  </thead>\n",
       "  <tbody>\n",
       "    <tr>\n",
       "      <th>0</th>\n",
       "      <td>None</td>\n",
       "      <td>Voggite, a new hydrated Na-Zr hydroxide-phosph...</td>\n",
       "    </tr>\n",
       "    <tr>\n",
       "      <th>1</th>\n",
       "      <td>Airborne electromagnetic (EM) methods were dev...</td>\n",
       "      <td>The inversion of time-domain airborne electrom...</td>\n",
       "    </tr>\n",
       "    <tr>\n",
       "      <th>2</th>\n",
       "      <td>Cornwall and Princess Margaret arches are majo...</td>\n",
       "      <td>Lithosphere folds in the Eurekan orogen, Arcti...</td>\n",
       "    </tr>\n",
       "    <tr>\n",
       "      <th>3</th>\n",
       "      <td>None</td>\n",
       "      <td>None</td>\n",
       "    </tr>\n",
       "    <tr>\n",
       "      <th>4</th>\n",
       "      <td>None</td>\n",
       "      <td>Archaean Geology; Dating Old Gold Deposits</td>\n",
       "    </tr>\n",
       "    <tr>\n",
       "      <th>...</th>\n",
       "      <td>...</td>\n",
       "      <td>...</td>\n",
       "    </tr>\n",
       "    <tr>\n",
       "      <th>92658</th>\n",
       "      <td>Clumped isotope (</td>\n",
       "      <td>Clumped isotope temperature calibration for ca...</td>\n",
       "    </tr>\n",
       "    <tr>\n",
       "      <th>92659</th>\n",
       "      <td>Climatic reconstructions based on tree-ring is...</td>\n",
       "      <td>An Overview on Isotopic Divergences - Causes f...</td>\n",
       "    </tr>\n",
       "    <tr>\n",
       "      <th>92660</th>\n",
       "      <td>None</td>\n",
       "      <td>Catalogue of Mines Branch Publications</td>\n",
       "    </tr>\n",
       "    <tr>\n",
       "      <th>92661</th>\n",
       "      <td>None</td>\n",
       "      <td>Catalogue of Mines Branch Publications, with a...</td>\n",
       "    </tr>\n",
       "    <tr>\n",
       "      <th>92662</th>\n",
       "      <td>This study examined the relationship between t...</td>\n",
       "      <td>Development of shale gas prediction models for...</td>\n",
       "    </tr>\n",
       "  </tbody>\n",
       "</table>\n",
       "<p>92663 rows × 2 columns</p>\n",
       "</div>"
      ],
      "text/plain": [
       "                                              desc_en_en  \\\n",
       "0                                                   None   \n",
       "1      Airborne electromagnetic (EM) methods were dev...   \n",
       "2      Cornwall and Princess Margaret arches are majo...   \n",
       "3                                                   None   \n",
       "4                                                   None   \n",
       "...                                                  ...   \n",
       "92658                                  Clumped isotope (   \n",
       "92659  Climatic reconstructions based on tree-ring is...   \n",
       "92660                                               None   \n",
       "92661                                               None   \n",
       "92662  This study examined the relationship between t...   \n",
       "\n",
       "                                            title_merged  \n",
       "0      Voggite, a new hydrated Na-Zr hydroxide-phosph...  \n",
       "1      The inversion of time-domain airborne electrom...  \n",
       "2      Lithosphere folds in the Eurekan orogen, Arcti...  \n",
       "3                                                   None  \n",
       "4             Archaean Geology; Dating Old Gold Deposits  \n",
       "...                                                  ...  \n",
       "92658  Clumped isotope temperature calibration for ca...  \n",
       "92659  An Overview on Isotopic Divergences - Causes f...  \n",
       "92660             Catalogue of Mines Branch Publications  \n",
       "92661  Catalogue of Mines Branch Publications, with a...  \n",
       "92662  Development of shale gas prediction models for...  \n",
       "\n",
       "[92663 rows x 2 columns]"
      ]
     },
     "execution_count": 6,
     "metadata": {},
     "output_type": "execute_result"
    }
   ],
   "source": [
    "df_s_large[[DESC_COL, TITLE_COL]]"
   ]
  },
  {
   "cell_type": "markdown",
   "id": "standing-kenya",
   "metadata": {},
   "source": [
    "## Perform sentence tokenization"
   ]
  },
  {
   "cell_type": "code",
   "execution_count": 7,
   "id": "fallen-reviewer",
   "metadata": {},
   "outputs": [],
   "source": [
    "import sys\n",
    "sys.path.append('..')"
   ]
  },
  {
   "cell_type": "code",
   "execution_count": 8,
   "id": "secure-celebrity",
   "metadata": {},
   "outputs": [],
   "source": [
    "from nrcan_p2.data_processing.preprocessing_str import sentence_tokenize_spacy_lg"
   ]
  },
  {
   "cell_type": "code",
   "execution_count": 10,
   "id": "marked-mention",
   "metadata": {},
   "outputs": [],
   "source": [
    "import tqdm\n",
    "tqdm.tqdm.pandas()"
   ]
  },
  {
   "cell_type": "code",
   "execution_count": 12,
   "id": "veterinary-faculty",
   "metadata": {},
   "outputs": [
    {
     "name": "stderr",
     "output_type": "stream",
     "text": [
      "100%|██████████| 92663/92663 [08:33<00:00, 180.29it/s]\n"
     ]
    }
   ],
   "source": [
    "df_s_large['title_merged_split'] = df_s_large.title_merged.progress_apply(lambda x: None if x is None else sentence_tokenize_spacy_lg(x))"
   ]
  },
  {
   "cell_type": "code",
   "execution_count": 13,
   "id": "supported-proceeding",
   "metadata": {},
   "outputs": [
    {
     "name": "stderr",
     "output_type": "stream",
     "text": [
      "100%|██████████| 92663/92663 [10:17<00:00, 150.07it/s] \n"
     ]
    }
   ],
   "source": [
    "df_s_large['desc_en_en_split'] = df_s_large.desc_en_en.progress_apply(lambda x: None if x is None else sentence_tokenize_spacy_lg(x))"
   ]
  },
  {
   "cell_type": "code",
   "execution_count": 15,
   "id": "virtual-warrant",
   "metadata": {},
   "outputs": [
    {
     "data": {
      "text/plain": [
       "0        Voggite, a new hydrated Na-Zr hydroxide-phosph...\n",
       "1        The inversion of time-domain airborne electrom...\n",
       "2        Lithosphere folds in the Eurekan orogen, Arcti...\n",
       "3                                                     None\n",
       "4             Archaean Geology; Dating Old Gold Deposits\\n\n",
       "                               ...                        \n",
       "92658                                  Clumped isotope (\\n\n",
       "92659    Climatic reconstructions based on tree-ring is...\n",
       "92660                                                 None\n",
       "92661                                                 None\n",
       "92662    This study examined the relationship between t...\n",
       "Length: 185326, dtype: object"
      ]
     },
     "metadata": {},
     "output_type": "display_data"
    },
    {
     "name": "stdout",
     "output_type": "stream",
     "text": [
      "(92663, 45)\n",
      "(185326,)\n"
     ]
    }
   ],
   "source": [
    "dff = pd.concat([df_s_large['title_merged_split'], df_s_large['desc_en_en_split']])\n",
    "display(dff)\n",
    "print(df_s_large.shape)\n",
    "print(dff.shape)\n",
    "dff = dff.dropna()"
   ]
  },
  {
   "cell_type": "code",
   "execution_count": 18,
   "id": "unusual-aurora",
   "metadata": {},
   "outputs": [],
   "source": [
    "dff_2 = dff.apply(lambda x: x.split('\\n'))\n",
    "dff_2 = dff_2.explode()"
   ]
  },
  {
   "cell_type": "code",
   "execution_count": 26,
   "id": "amended-plasma",
   "metadata": {},
   "outputs": [],
   "source": [
    "dff_2 = dff_2.dropna()\n",
    "dff_2 = dff_2[dff_2.str.strip() != \"\"]"
   ]
  },
  {
   "cell_type": "code",
   "execution_count": 27,
   "id": "trying-asian",
   "metadata": {},
   "outputs": [
    {
     "data": {
      "text/html": [
       "<div>\n",
       "<style scoped>\n",
       "    .dataframe tbody tr th:only-of-type {\n",
       "        vertical-align: middle;\n",
       "    }\n",
       "\n",
       "    .dataframe tbody tr th {\n",
       "        vertical-align: top;\n",
       "    }\n",
       "\n",
       "    .dataframe thead th {\n",
       "        text-align: right;\n",
       "    }\n",
       "</style>\n",
       "<table border=\"1\" class=\"dataframe\">\n",
       "  <thead>\n",
       "    <tr style=\"text-align: right;\">\n",
       "      <th></th>\n",
       "      <th>0</th>\n",
       "    </tr>\n",
       "  </thead>\n",
       "  <tbody>\n",
       "    <tr>\n",
       "      <th>88327</th>\n",
       "      <td>carboxydotrophs including Thermincola, Desulfotomaculum, Thermolithobacter, and Carboxydocella, although a few species with lower similarity to known bacteria were also found that may represent previously unconfirmed CO-oxidizers.</td>\n",
       "    </tr>\n",
       "    <tr>\n",
       "      <th>45050</th>\n",
       "      <td>Contextual Analysis of Sea Ice Types From Remotely Sensed Imagery</td>\n",
       "    </tr>\n",
       "    <tr>\n",
       "      <th>34288</th>\n",
       "      <td>northwestward from 70 m to 142 m, reflecting Laurentide loading.</td>\n",
       "    </tr>\n",
       "    <tr>\n",
       "      <th>23124</th>\n",
       "      <td>Yakoun Lake, British Columbia</td>\n",
       "    </tr>\n",
       "    <tr>\n",
       "      <th>48536</th>\n",
       "      <td>Evolution of the early Paleozoic Cordilleran margin of Laurentia: tectonic and eustatic events interpreted from sequence stratigraphy and conodont community patterns</td>\n",
       "    </tr>\n",
       "    <tr>\n",
       "      <th>80820</th>\n",
       "      <td>The heavy signature in the</td>\n",
       "    </tr>\n",
       "    <tr>\n",
       "      <th>85364</th>\n",
       "      <td>show that this is a rare event during the Quaternary; it is the largest MTD observed in the upper c. 375 m of the levee succession and among the largest and deepest in the western North Atlantic.</td>\n",
       "    </tr>\n",
       "    <tr>\n",
       "      <th>3885</th>\n",
       "      <td>The zone is</td>\n",
       "    </tr>\n",
       "    <tr>\n",
       "      <th>3794</th>\n",
       "      <td>Basin are also illustrated.</td>\n",
       "    </tr>\n",
       "    <tr>\n",
       "      <th>78352</th>\n",
       "      <td>Two-dimensional InSAR provides valuable information about slope processes and the nature of terrain movement.</td>\n",
       "    </tr>\n",
       "    <tr>\n",
       "      <th>66776</th>\n",
       "      <td>The presence of apparent oil seepage versus the past history of finding only gas-prone accumulations is a strong indicator that a second, oil-prone petroleum system exists in the Saglek Basin.</td>\n",
       "    </tr>\n",
       "    <tr>\n",
       "      <th>28479</th>\n",
       "      <td>Anomalously radioactive syenites are confined to southeastern parts of the map area.</td>\n",
       "    </tr>\n",
       "    <tr>\n",
       "      <th>77499</th>\n",
       "      <td>layer thickness generally increased between 1991 and 1998 and then generally declined until about 2004.</td>\n",
       "    </tr>\n",
       "    <tr>\n",
       "      <th>51233</th>\n",
       "      <td>Canadian groundwater inventory: hydrogeological atlas of the Annapolis Valley, Nova Scotia</td>\n",
       "    </tr>\n",
       "    <tr>\n",
       "      <th>80929</th>\n",
       "      <td>Part 1: Abstracts from world literature to end of 1957</td>\n",
       "    </tr>\n",
       "    <tr>\n",
       "      <th>79019</th>\n",
       "      <td>Some excerpts from Fenley Hunter's Diary - August 1928, on the South Nahanni River</td>\n",
       "    </tr>\n",
       "    <tr>\n",
       "      <th>79673</th>\n",
       "      <td>Preliminary map, index to rural municipalities</td>\n",
       "    </tr>\n",
       "    <tr>\n",
       "      <th>88877</th>\n",
       "      <td>The two approaches were compared in terms of feature selection and class discrimination, and the optimum subsets selected were used to perform an urban site classification</td>\n",
       "    </tr>\n",
       "    <tr>\n",
       "      <th>86541</th>\n",
       "      <td>Using this technique, a series of materials was prepared containing between zero and sixteen mole per cent calcium oxide.</td>\n",
       "    </tr>\n",
       "    <tr>\n",
       "      <th>51884</th>\n",
       "      <td>The isotopic ratios also reveal a significant enrichment in 18O and 13C through time.</td>\n",
       "    </tr>\n",
       "  </tbody>\n",
       "</table>\n",
       "</div>"
      ],
      "text/plain": [
       "                                                                                                                                                                                                                                            0\n",
       "88327  carboxydotrophs including Thermincola, Desulfotomaculum, Thermolithobacter, and Carboxydocella, although a few species with lower similarity to known bacteria were also found that may represent previously unconfirmed CO-oxidizers.\n",
       "45050                                                                                                                                                                       Contextual Analysis of Sea Ice Types From Remotely Sensed Imagery\n",
       "34288                                                                                                                                                                      northwestward from 70 m to 142 m, reflecting Laurentide loading.  \n",
       "23124                                                                                                                                                                                                           Yakoun Lake, British Columbia\n",
       "48536                                                                   Evolution of the early Paleozoic Cordilleran margin of Laurentia: tectonic and eustatic events interpreted from sequence stratigraphy and conodont community patterns\n",
       "80820                                                                                                                                                                                                              The heavy signature in the\n",
       "85364                                     show that this is a rare event during the Quaternary; it is the largest MTD observed in the upper c. 375 m of the levee succession and among the largest and deepest in the western North Atlantic.\n",
       "3885                                                                                                                                                                                                                              The zone is\n",
       "3794                                                                                                                                                                                                              Basin are also illustrated.\n",
       "78352                                                                                                                           Two-dimensional InSAR provides valuable information about slope processes and the nature of terrain movement.\n",
       "66776                                        The presence of apparent oil seepage versus the past history of finding only gas-prone accumulations is a strong indicator that a second, oil-prone petroleum system exists in the Saglek Basin.\n",
       "28479                                                                                                                                                    Anomalously radioactive syenites are confined to southeastern parts of the map area.\n",
       "77499                                                                                                                                 layer thickness generally increased between 1991 and 1998 and then generally declined until about 2004.\n",
       "51233                                                                                                                                              Canadian groundwater inventory: hydrogeological atlas of the Annapolis Valley, Nova Scotia\n",
       "80929                                                                                                                                                                                  Part 1: Abstracts from world literature to end of 1957\n",
       "79019                                                                                                                                                      Some excerpts from Fenley Hunter's Diary - August 1928, on the South Nahanni River\n",
       "79673                                                                                                                                                                                          Preliminary map, index to rural municipalities\n",
       "88877                                                             The two approaches were compared in terms of feature selection and class discrimination, and the optimum subsets selected were used to perform an urban site classification\n",
       "86541                                                                                                               Using this technique, a series of materials was prepared containing between zero and sixteen mole per cent calcium oxide.\n",
       "51884                                                                                                                                                   The isotopic ratios also reveal a significant enrichment in 18O and 13C through time."
      ]
     },
     "metadata": {},
     "output_type": "display_data"
    }
   ],
   "source": [
    "with pd.option_context('display.max_colwidth', None):\n",
    "    display(dff_2.sample(20).to_frame())"
   ]
  },
  {
   "cell_type": "markdown",
   "id": "devoted-safety",
   "metadata": {},
   "source": [
    "## Save to a file..."
   ]
  },
  {
   "cell_type": "code",
   "execution_count": 29,
   "id": "express-manor",
   "metadata": {},
   "outputs": [],
   "source": [
    "output_file = '/nrcan_p2/data/03_primary/metadata/EAIDown.xml_processed_sentences.txt'\n",
    "\n",
    "with open(output_file, 'w') as f:\n",
    "    for value in dff_2.values: #.iterrows():\n",
    "        f.write(value + \"\\n\")\n"
   ]
  },
  {
   "cell_type": "markdown",
   "id": "fancy-primary",
   "metadata": {},
   "source": [
    "## Investigate the data..."
   ]
  },
  {
   "cell_type": "code",
   "execution_count": 37,
   "id": "multiple-italic",
   "metadata": {},
   "outputs": [
    {
     "data": {
      "text/plain": [
       "0        Voggite, a new hydrated Na-Zr hydroxide-phosph...\n",
       "1        The inversion of time-domain airborne electrom...\n",
       "2        Lithosphere folds in the Eurekan orogen, Arcti...\n",
       "3                                                     None\n",
       "4               Archaean Geology; Dating Old Gold Deposits\n",
       "                               ...                        \n",
       "92658                                    Clumped isotope (\n",
       "92659    Climatic reconstructions based on tree-ring is...\n",
       "92660                                                 None\n",
       "92661                                                 None\n",
       "92662    This study examined the relationship between t...\n",
       "Length: 185326, dtype: object"
      ]
     },
     "metadata": {},
     "output_type": "display_data"
    },
    {
     "name": "stdout",
     "output_type": "stream",
     "text": [
      "(92663, 45)\n",
      "(185326,)\n"
     ]
    }
   ],
   "source": [
    "dff = pd.concat([df_s_large['title_merged'], df_s_large['desc_en_en']])\n",
    "display(dff)\n",
    "print(df_s_large.shape)\n",
    "print(dff.shape)\n",
    "dff = dff.dropna()"
   ]
  },
  {
   "cell_type": "markdown",
   "id": "adverse-logging",
   "metadata": {},
   "source": [
    "## Clean up newline hyphenation and remove null rows"
   ]
  },
  {
   "cell_type": "code",
   "execution_count": 38,
   "id": "upper-throat",
   "metadata": {},
   "outputs": [],
   "source": [
    "dff_2 = dff.str.replace(r'([a-z])(-\\s*\\n\\s*)([a-z])', r'\\1\\3', regex=True)\n",
    "dff_2 = dff.str.replace(r'\\n', ' ', regex=True)\n",
    "dff_2 = dff_2.explode()"
   ]
  },
  {
   "cell_type": "code",
   "execution_count": 39,
   "id": "critical-fourth",
   "metadata": {},
   "outputs": [],
   "source": [
    "dff_2 = dff_2.dropna()\n",
    "dff_2 = dff_2[dff_2.str.strip() != \"\"]"
   ]
  },
  {
   "cell_type": "code",
   "execution_count": 40,
   "id": "dutch-compact",
   "metadata": {},
   "outputs": [
    {
     "data": {
      "text/html": [
       "<div>\n",
       "<style scoped>\n",
       "    .dataframe tbody tr th:only-of-type {\n",
       "        vertical-align: middle;\n",
       "    }\n",
       "\n",
       "    .dataframe tbody tr th {\n",
       "        vertical-align: top;\n",
       "    }\n",
       "\n",
       "    .dataframe thead th {\n",
       "        text-align: right;\n",
       "    }\n",
       "</style>\n",
       "<table border=\"1\" class=\"dataframe\">\n",
       "  <thead>\n",
       "    <tr style=\"text-align: right;\">\n",
       "      <th></th>\n",
       "      <th>0</th>\n",
       "    </tr>\n",
       "  </thead>\n",
       "  <tbody>\n",
       "    <tr>\n",
       "      <th>9629</th>\n",
       "      <td>Waterton, west of Fourth Meridian, Alberta</td>\n",
       "    </tr>\n",
       "    <tr>\n",
       "      <th>79624</th>\n",
       "      <td>Heat pumps, as a means of achieving significant energy reductions, have attracted a great deal of attention for decades. However, the main challenge remains improving their performance in cold climates. This paper represents the first step of a larger research project for the implementation of the zeotropic refrigerant mixtures in order to increase the performance of residential air-source heat pumps in cold climates. A detailed screening heat pump model is developed and used to assess the performance of zeotropic refrigerant mixtures. A group of pure refrigerants are selected and their potential mixtures are studied. The performance of these mixtures is compared in order to find suitable zeotropic refrigerant mixtures for cold climate residential applications. The main goal of this paper is to illustrate the possibility of applying environmentally friendly zeotropic refrigerant mixtures in conventional heat pumps, with minimal changes in the components, in order to improve their performance.</td>\n",
       "    </tr>\n",
       "    <tr>\n",
       "      <th>8545</th>\n",
       "      <td>Tazin Lake Sheet, Northern Saskatchewan</td>\n",
       "    </tr>\n",
       "    <tr>\n",
       "      <th>73303</th>\n",
       "      <td>Absolute gravity and GRACE satellite data have been combined with GPS data to identify a large-scale water storage anomaly on the Canadian prairies. Monthly GRACE data for the period 2002-2011 were used to produce a gravity rate map of the northern mid-continent. This map was corrected for glacial isostatic adjustment (GIA) using a GPS-based, vertical velocity map derived from 27 continuous and over 50 campaign sites, combined over the period 1996-2010. The vertical velocity map used to correct for GIA was first converted into a virtual gravity rate map using a linear relationship between surface gravity rate and vertical velocity (-0.16 microGal/mm), empirically derived from combined annual absolute gravity and continuous GPS observations at 7 sites outside the anomalous area. The corrected GRACE gravity rate map reveals a major mass rate anomaly with a water equivalent thickness rate of around 3 cm/yr and approximate dimensions of 600 km (N-S) and 800 km (E-W) centered on the Manitoba-Saskatchewan border. The amplitude and spatial extent of the anomaly are estimated by data inversion, taking into account the effect of elastic loading on the GPS-based GIA correction. The source of the anomaly is confirmed by records from deep observation wells in Saskatchewan to be an increase in total water content from 2002 to 2011, amounting to an overall water equivalent accumulation of around 27 cm over a wide area.</td>\n",
       "    </tr>\n",
       "    <tr>\n",
       "      <th>81644</th>\n",
       "      <td>Air Carrier Routes, 2006 - Air Canada</td>\n",
       "    </tr>\n",
       "    <tr>\n",
       "      <th>71566</th>\n",
       "      <td>A lithostratigraphic transect through the Cambro - Ordovician Franklin Mountain Formation in NTS 96D  (Carcajou Canyon) and 96E (Norman Wells), Northwest Territories</td>\n",
       "    </tr>\n",
       "    <tr>\n",
       "      <th>85952</th>\n",
       "      <td>Newmarket Till is a stony, sandy (38%) silty (~47%) diamicton, which is of variable thickness (~1 - 69 m) and of widespread distribution in Southern Ontario. The Newmarket Till has unusually high densities (2.2 - 2.4 g/cm3); elevated seismic velocities (Vp ~2600 m/s) determined by downhole geophysical studies are characteristic and the Till can be traced across the region as a seismostratigraphic marker. As the Till is highly indurated and has low permeability, it forms a regional aquitard that confines underlying aquifers, and is also a basal aquitard for overlying aquifers (e.g. Oak Ridges Moraine). Given the high sand content of this diamicton, the low permeability and indurated nature is surprising, and could be resultant from over-consolidation due to glacial loading, presence of a secondary cement, or both processes. Recent observations from drill core and surficial sampling transects illustrate that Newmarket Till is not always cemented, but the observation of residual cement on pebbles indicates it was potentially formerly cemented. Our new studies indicate that the matrix of the Dummer moraine (adjacent to and south of the Shield - Paleozoic boundary and to the north of the Newmarket Till) is mineralogically and geochemically equivalent to Newmarket Till, and we thus suggest the Dummer Moraine is a very stone- to boulder-rich equivalent of the Newmarket Till. The matrix mineral assemblage of the Till (in decreasing abundance) is quartz, calcite, K-feldspar, plagioclase, dolomite, amphibole and clinopyroxene; these grains are comminuted and range in size from ~2000 ?m to ~2 ?m, leading to optimum packing, and potentially over-consolidation. The intra-grain matrix is exceptionally fine (&lt;1 ?m, typically 0.25 - 0.50 ?m) and not resolvable by optical methods. Higher resolution SEM and FE-SEM backscattered electron and secondary electron images of the intra-grain matrix reveals a complex pore filling cement. The minerals comprising the secondary cement are a challenge to analyze due to their very fine grain size and composition. Semi-quantitative EDS analyses indicate a calcite (CaCO3) cement with minor phyllosilicates, as confirmed by XRD on the clay-silt and clay fractions. The calcite cements the silt- to sand-sized mineral grains and larger clasts, and result in the Newmarket Till being highly indurated and of low permeability. The timing and process of the initial cementation event is currently being evaluated; we also note that in the vadose zone the Till becomes uncemented (i.e. the original calcite cement dissolves out).</td>\n",
       "    </tr>\n",
       "    <tr>\n",
       "      <th>32273</th>\n",
       "      <td>Geological Investigations of Proposed Pipeline Channel Crossings in the Vicinity of Taglu and Niglintgak Islands, Mackenzie Delta, Northwest Territories</td>\n",
       "    </tr>\n",
       "    <tr>\n",
       "      <th>85358</th>\n",
       "      <td>The collection of multibeam echosounder and marine seismic-reflection profiles within the San Juan Islands and Gulf Islands Archipelagos exhibit well defined fault zones and zones of deformation that cross the Cascadia forearc. Recent interpretation of these data provides a new and modified geometry of recent and past faulting within the Archipelagos. Previous structural mapping in the region was island and land based devoid of any marine data, but these new marine data and interpretations facilitate a better structural view. We present a comprehensive map of the geology that includes the Devil's Mountain and Skipjack Island fault zones, the Lopez Fracture zone, and intermediate faults that appear to facilitate rotation of the San Juan islands. In addition, the associated coastal and marine hazards of the region are presented with emphasis on local active faulting, mass wasting, and tsunami generation.</td>\n",
       "    </tr>\n",
       "    <tr>\n",
       "      <th>68223</th>\n",
       "      <td>Integrating ice-flow history, geochronology, geology, and geophysics to trace mineralized glacial erratics to their bedrock source: an example from south-central British Columbia</td>\n",
       "    </tr>\n",
       "    <tr>\n",
       "      <th>71378</th>\n",
       "      <td>Index to unpublished geological reports and maps arranged according to the National Topographic System</td>\n",
       "    </tr>\n",
       "    <tr>\n",
       "      <th>50688</th>\n",
       "      <td>Movement behaviour of landslides in permafrost soils</td>\n",
       "    </tr>\n",
       "    <tr>\n",
       "      <th>47732</th>\n",
       "      <td>Quaternary tephrochronology helps to define conditioning factors and triggering mechanisms of rock avalanches in NW Argentina</td>\n",
       "    </tr>\n",
       "    <tr>\n",
       "      <th>80981</th>\n",
       "      <td>Construction and operation of an experimental sieve-plate pulse column for solvent extraction of metals</td>\n",
       "    </tr>\n",
       "    <tr>\n",
       "      <th>71614</th>\n",
       "      <td>Figure 12. Columnar stratigraphic sections, Kane Basin and Scoresby Bay formations</td>\n",
       "    </tr>\n",
       "    <tr>\n",
       "      <th>3195</th>\n",
       "      <td>Ground-water Resources of Part of the Rural Municipality of Prairie Rose No 309, Saskatchewan</td>\n",
       "    </tr>\n",
       "    <tr>\n",
       "      <th>47939</th>\n",
       "      <td>The objectives of this study were to 1) analyze the data from a field test of thermally induced dissociation of gas hydrate in the JAPEX/JNOC/GSC et al. Mallik 5L-38 gas hydrate production research well; 2) validate and calibrate the numerical model; and 3) determine important parameters describing gas hydrate behaviour and dissociation. The initial conditions and properties of the gas hydrate deposit were determined using supporting geological and geophysical data. Direct measurements provided the necessary boundary conditions. The numerical model was calibrated against the cumulative volumes of produced gas, a process that increased confidence in the model. Two possible scenarios of thermal dissociation, using unadjusted and smoothed data, are proposed to interpret the field-test results. The parameters of the dominant physical processes are estimated by inverse modelling (history matching). Their results compare favourably with previously published data. Additionally, estimates of long-term production are made, and an alternative well configuration is proposed to substantially increase gas production.</td>\n",
       "    </tr>\n",
       "    <tr>\n",
       "      <th>41138</th>\n",
       "      <td>Stratigraphy and structure of the Aylmer Lake volcanic belt and surrounding metasedimentary rocks, Northwest Territories</td>\n",
       "    </tr>\n",
       "    <tr>\n",
       "      <th>43715</th>\n",
       "      <td>Aeromagnetic total field map, map 96-26B, 21 O/9 c,d, New Brunswick</td>\n",
       "    </tr>\n",
       "    <tr>\n",
       "      <th>76072</th>\n",
       "      <td>Assessment of potential impacts of shale gas development on surficial aquifers</td>\n",
       "    </tr>\n",
       "  </tbody>\n",
       "</table>\n",
       "</div>"
      ],
      "text/plain": [
       "                                                                                                                                                                                                                                                                                                                                                                                                                                                                                                                                                                                                                                                                                                                                                                                                                                                                                                                                                                                                                                                                                                                                                                                                                                                                                                                                                                                                                                                                                                                                                                                                                                                                                                                                                                                                                                                                                                                                                                                                                                                                                                                                                                                                                                                                                                                                                                                                                                                                                                                                                                                                                                                                                        0\n",
       "9629                                                                                                                                                                                                                                                                                                                                                                                                                                                                                                                                                                                                                                                                                                                                                                                                                                                                                                                                                                                                                                                                                                                                                                                                                                                                                                                                                                                                                                                                                                                                                                                                                                                                                                                                                                                                                                                                                                                                                                                                                                                                                                                                                                                                                                                                                                                                                                                                                                                                                                                                                                                                                                           Waterton, west of Fourth Meridian, Alberta\n",
       "79624                                                                                                                                                                                                                                                                                                                                                                                                                                                                                                                                                                                                                                                                                                                                                                                                                                                                                                                                                                                                                                                                                                                                                                                                                                                                                                                                                                                                                                                                                                                                                                                                                                     Heat pumps, as a means of achieving significant energy reductions, have attracted a great deal of attention for decades. However, the main challenge remains improving their performance in cold climates. This paper represents the first step of a larger research project for the implementation of the zeotropic refrigerant mixtures in order to increase the performance of residential air-source heat pumps in cold climates. A detailed screening heat pump model is developed and used to assess the performance of zeotropic refrigerant mixtures. A group of pure refrigerants are selected and their potential mixtures are studied. The performance of these mixtures is compared in order to find suitable zeotropic refrigerant mixtures for cold climate residential applications. The main goal of this paper is to illustrate the possibility of applying environmentally friendly zeotropic refrigerant mixtures in conventional heat pumps, with minimal changes in the components, in order to improve their performance.\n",
       "8545                                                                                                                                                                                                                                                                                                                                                                                                                                                                                                                                                                                                                                                                                                                                                                                                                                                                                                                                                                                                                                                                                                                                                                                                                                                                                                                                                                                                                                                                                                                                                                                                                                                                                                                                                                                                                                                                                                                                                                                                                                                                                                                                                                                                                                                                                                                                                                                                                                                                                                                                                                                                                                              Tazin Lake Sheet, Northern Saskatchewan\n",
       "73303                                                                                                                                                                                                                                                                                                                                                                                                                                                                                                                                                                                                                                                                                                                                                                                                                                                                                                                                                                                                                                                                                                                                                                                                Absolute gravity and GRACE satellite data have been combined with GPS data to identify a large-scale water storage anomaly on the Canadian prairies. Monthly GRACE data for the period 2002-2011 were used to produce a gravity rate map of the northern mid-continent. This map was corrected for glacial isostatic adjustment (GIA) using a GPS-based, vertical velocity map derived from 27 continuous and over 50 campaign sites, combined over the period 1996-2010. The vertical velocity map used to correct for GIA was first converted into a virtual gravity rate map using a linear relationship between surface gravity rate and vertical velocity (-0.16 microGal/mm), empirically derived from combined annual absolute gravity and continuous GPS observations at 7 sites outside the anomalous area. The corrected GRACE gravity rate map reveals a major mass rate anomaly with a water equivalent thickness rate of around 3 cm/yr and approximate dimensions of 600 km (N-S) and 800 km (E-W) centered on the Manitoba-Saskatchewan border. The amplitude and spatial extent of the anomaly are estimated by data inversion, taking into account the effect of elastic loading on the GPS-based GIA correction. The source of the anomaly is confirmed by records from deep observation wells in Saskatchewan to be an increase in total water content from 2002 to 2011, amounting to an overall water equivalent accumulation of around 27 cm over a wide area.\n",
       "81644                                                                                                                                                                                                                                                                                                                                                                                                                                                                                                                                                                                                                                                                                                                                                                                                                                                                                                                                                                                                                                                                                                                                                                                                                                                                                                                                                                                                                                                                                                                                                                                                                                                                                                                                                                                                                                                                                                                                                                                                                                                                                                                                                                                                                                                                                                                                                                                                                                                                                                                                                                                                                                               Air Carrier Routes, 2006 - Air Canada\n",
       "71566                                                                                                                                                                                                                                                                                                                                                                                                                                                                                                                                                                                                                                                                                                                                                                                                                                                                                                                                                                                                                                                                                                                                                                                                                                                                                                                                                                                                                                                                                                                                                                                                                                                                                                                                                                                                                                                                                                                                                                                                                                                                                                                                                                                                                                                                                                                                                                                                                                                                                                               A lithostratigraphic transect through the Cambro - Ordovician Franklin Mountain Formation in NTS 96D  (Carcajou Canyon) and 96E (Norman Wells), Northwest Territories\n",
       "85952  Newmarket Till is a stony, sandy (38%) silty (~47%) diamicton, which is of variable thickness (~1 - 69 m) and of widespread distribution in Southern Ontario. The Newmarket Till has unusually high densities (2.2 - 2.4 g/cm3); elevated seismic velocities (Vp ~2600 m/s) determined by downhole geophysical studies are characteristic and the Till can be traced across the region as a seismostratigraphic marker. As the Till is highly indurated and has low permeability, it forms a regional aquitard that confines underlying aquifers, and is also a basal aquitard for overlying aquifers (e.g. Oak Ridges Moraine). Given the high sand content of this diamicton, the low permeability and indurated nature is surprising, and could be resultant from over-consolidation due to glacial loading, presence of a secondary cement, or both processes. Recent observations from drill core and surficial sampling transects illustrate that Newmarket Till is not always cemented, but the observation of residual cement on pebbles indicates it was potentially formerly cemented. Our new studies indicate that the matrix of the Dummer moraine (adjacent to and south of the Shield - Paleozoic boundary and to the north of the Newmarket Till) is mineralogically and geochemically equivalent to Newmarket Till, and we thus suggest the Dummer Moraine is a very stone- to boulder-rich equivalent of the Newmarket Till. The matrix mineral assemblage of the Till (in decreasing abundance) is quartz, calcite, K-feldspar, plagioclase, dolomite, amphibole and clinopyroxene; these grains are comminuted and range in size from ~2000 ?m to ~2 ?m, leading to optimum packing, and potentially over-consolidation. The intra-grain matrix is exceptionally fine (<1 ?m, typically 0.25 - 0.50 ?m) and not resolvable by optical methods. Higher resolution SEM and FE-SEM backscattered electron and secondary electron images of the intra-grain matrix reveals a complex pore filling cement. The minerals comprising the secondary cement are a challenge to analyze due to their very fine grain size and composition. Semi-quantitative EDS analyses indicate a calcite (CaCO3) cement with minor phyllosilicates, as confirmed by XRD on the clay-silt and clay fractions. The calcite cements the silt- to sand-sized mineral grains and larger clasts, and result in the Newmarket Till being highly indurated and of low permeability. The timing and process of the initial cementation event is currently being evaluated; we also note that in the vadose zone the Till becomes uncemented (i.e. the original calcite cement dissolves out).\n",
       "32273                                                                                                                                                                                                                                                                                                                                                                                                                                                                                                                                                                                                                                                                                                                                                                                                                                                                                                                                                                                                                                                                                                                                                                                                                                                                                                                                                                                                                                                                                                                                                                                                                                                                                                                                                                                                                                                                                                                                                                                                                                                                                                                                                                                                                                                                                                                                                                                                                                                                                                                            Geological Investigations of Proposed Pipeline Channel Crossings in the Vicinity of Taglu and Niglintgak Islands, Mackenzie Delta, Northwest Territories\n",
       "85358                                                                                                                                                                                                                                                                                                                                                                                                                                                                                                                                                                                                                                                                                                                                                                                                                                                                                                                                                                                                                                                                                                                                                                                                                                                                                                                                                                                                                                                                                                                                                                                                                                                                                                                                 The collection of multibeam echosounder and marine seismic-reflection profiles within the San Juan Islands and Gulf Islands Archipelagos exhibit well defined fault zones and zones of deformation that cross the Cascadia forearc. Recent interpretation of these data provides a new and modified geometry of recent and past faulting within the Archipelagos. Previous structural mapping in the region was island and land based devoid of any marine data, but these new marine data and interpretations facilitate a better structural view. We present a comprehensive map of the geology that includes the Devil's Mountain and Skipjack Island fault zones, the Lopez Fracture zone, and intermediate faults that appear to facilitate rotation of the San Juan islands. In addition, the associated coastal and marine hazards of the region are presented with emphasis on local active faulting, mass wasting, and tsunami generation.\n",
       "68223                                                                                                                                                                                                                                                                                                                                                                                                                                                                                                                                                                                                                                                                                                                                                                                                                                                                                                                                                                                                                                                                                                                                                                                                                                                                                                                                                                                                                                                                                                                                                                                                                                                                                                                                                                                                                                                                                                                                                                                                                                                                                                                                                                                                                                                                                                                                                                                                                                                                                                  Integrating ice-flow history, geochronology, geology, and geophysics to trace mineralized glacial erratics to their bedrock source: an example from south-central British Columbia\n",
       "71378                                                                                                                                                                                                                                                                                                                                                                                                                                                                                                                                                                                                                                                                                                                                                                                                                                                                                                                                                                                                                                                                                                                                                                                                                                                                                                                                                                                                                                                                                                                                                                                                                                                                                                                                                                                                                                                                                                                                                                                                                                                                                                                                                                                                                                                                                                                                                                                                                                                                                                                                                                              Index to unpublished geological reports and maps arranged according to the National Topographic System\n",
       "50688                                                                                                                                                                                                                                                                                                                                                                                                                                                                                                                                                                                                                                                                                                                                                                                                                                                                                                                                                                                                                                                                                                                                                                                                                                                                                                                                                                                                                                                                                                                                                                                                                                                                                                                                                                                                                                                                                                                                                                                                                                                                                                                                                                                                                                                                                                                                                                                                                                                                                                                                                                                                                                Movement behaviour of landslides in permafrost soils\n",
       "47732                                                                                                                                                                                                                                                                                                                                                                                                                                                                                                                                                                                                                                                                                                                                                                                                                                                                                                                                                                                                                                                                                                                                                                                                                                                                                                                                                                                                                                                                                                                                                                                                                                                                                                                                                                                                                                                                                                                                                                                                                                                                                                                                                                                                                                                                                                                                                                                                                                                                                                                                                       Quaternary tephrochronology helps to define conditioning factors and triggering mechanisms of rock avalanches in NW Argentina\n",
       "80981                                                                                                                                                                                                                                                                                                                                                                                                                                                                                                                                                                                                                                                                                                                                                                                                                                                                                                                                                                                                                                                                                                                                                                                                                                                                                                                                                                                                                                                                                                                                                                                                                                                                                                                                                                                                                                                                                                                                                                                                                                                                                                                                                                                                                                                                                                                                                                                                                                                                                                                                                                             Construction and operation of an experimental sieve-plate pulse column for solvent extraction of metals\n",
       "71614                                                                                                                                                                                                                                                                                                                                                                                                                                                                                                                                                                                                                                                                                                                                                                                                                                                                                                                                                                                                                                                                                                                                                                                                                                                                                                                                                                                                                                                                                                                                                                                                                                                                                                                                                                                                                                                                                                                                                                                                                                                                                                                                                                                                                                                                                                                                                                                                                                                                                                                                                                                                  Figure 12. Columnar stratigraphic sections, Kane Basin and Scoresby Bay formations\n",
       "3195                                                                                                                                                                                                                                                                                                                                                                                                                                                                                                                                                                                                                                                                                                                                                                                                                                                                                                                                                                                                                                                                                                                                                                                                                                                                                                                                                                                                                                                                                                                                                                                                                                                                                                                                                                                                                                                                                                                                                                                                                                                                                                                                                                                                                                                                                                                                                                                                                                                                                                                                                                                        Ground-water Resources of Part of the Rural Municipality of Prairie Rose No 309, Saskatchewan\n",
       "47939                                                                                                                                                                                                                                                                                                                                                                                                                                                                                                                                                                                                                                                                                                                                                                                                                                                                                                                                                                                                                                                                                                                                                                                                                                                                                                                                                                                                                                                                                                                   The objectives of this study were to 1) analyze the data from a field test of thermally induced dissociation of gas hydrate in the JAPEX/JNOC/GSC et al. Mallik 5L-38 gas hydrate production research well; 2) validate and calibrate the numerical model; and 3) determine important parameters describing gas hydrate behaviour and dissociation. The initial conditions and properties of the gas hydrate deposit were determined using supporting geological and geophysical data. Direct measurements provided the necessary boundary conditions. The numerical model was calibrated against the cumulative volumes of produced gas, a process that increased confidence in the model. Two possible scenarios of thermal dissociation, using unadjusted and smoothed data, are proposed to interpret the field-test results. The parameters of the dominant physical processes are estimated by inverse modelling (history matching). Their results compare favourably with previously published data. Additionally, estimates of long-term production are made, and an alternative well configuration is proposed to substantially increase gas production.\n",
       "41138                                                                                                                                                                                                                                                                                                                                                                                                                                                                                                                                                                                                                                                                                                                                                                                                                                                                                                                                                                                                                                                                                                                                                                                                                                                                                                                                                                                                                                                                                                                                                                                                                                                                                                                                                                                                                                                                                                                                                                                                                                                                                                                                                                                                                                                                                                                                                                                                                                                                                                                                                            Stratigraphy and structure of the Aylmer Lake volcanic belt and surrounding metasedimentary rocks, Northwest Territories\n",
       "43715                                                                                                                                                                                                                                                                                                                                                                                                                                                                                                                                                                                                                                                                                                                                                                                                                                                                                                                                                                                                                                                                                                                                                                                                                                                                                                                                                                                                                                                                                                                                                                                                                                                                                                                                                                                                                                                                                                                                                                                                                                                                                                                                                                                                                                                                                                                                                                                                                                                                                                                                                                                                                 Aeromagnetic total field map, map 96-26B, 21 O/9 c,d, New Brunswick\n",
       "76072                                                                                                                                                                                                                                                                                                                                                                                                                                                                                                                                                                                                                                                                                                                                                                                                                                                                                                                                                                                                                                                                                                                                                                                                                                                                                                                                                                                                                                                                                                                                                                                                                                                                                                                                                                                                                                                                                                                                                                                                                                                                                                                                                                                                                                                                                                                                                                                                                                                                                                                                                                                                      Assessment of potential impacts of shale gas development on surficial aquifers"
      ]
     },
     "metadata": {},
     "output_type": "display_data"
    }
   ],
   "source": [
    "with pd.option_context('display.max_colwidth', None):\n",
    "    display(dff_2.sample(20).to_frame())"
   ]
  },
  {
   "cell_type": "markdown",
   "id": "wireless-percentage",
   "metadata": {},
   "source": [
    "## Save the final dataset"
   ]
  },
  {
   "cell_type": "code",
   "execution_count": 41,
   "id": "documentary-oxide",
   "metadata": {},
   "outputs": [],
   "source": [
    "output_file = '/nrcan_p2/data/03_primary/metadata/EAIDown.xml_processed_nosentences_Feb29.txt'\n",
    "\n",
    "with open(output_file, 'w') as f:\n",
    "    for value in dff_2.values: #.iterrows():\n",
    "        f.write(value + \"\\n\")"
   ]
  }
 ],
 "metadata": {
  "kernelspec": {
   "display_name": "Python 3",
   "language": "python",
   "name": "python3"
  },
  "language_info": {
   "codemirror_mode": {
    "name": "ipython",
    "version": 3
   },
   "file_extension": ".py",
   "mimetype": "text/x-python",
   "name": "python",
   "nbconvert_exporter": "python",
   "pygments_lexer": "ipython3",
   "version": "3.8.5"
  }
 },
 "nbformat": 4,
 "nbformat_minor": 5
}